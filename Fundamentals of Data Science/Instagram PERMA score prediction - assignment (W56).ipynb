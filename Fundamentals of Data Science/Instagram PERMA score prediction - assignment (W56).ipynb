{
 "cells": [
  {
   "cell_type": "markdown",
   "metadata": {},
   "source": [
    "\n",
    "Refer to the \"explore_questionnaire.pdf\" in the folder for detailed explanation of the dataset.\n",
    "\n",
    "<img src=\"./w56.png\"/>"
   ]
  },
  {
   "cell_type": "code",
   "execution_count": 276,
   "metadata": {
    "collapsed": true
   },
   "outputs": [],
   "source": [
    "import feather\n",
    "import numpy as np\n",
    "import pandas as pd\n",
    "import matplotlib.pyplot as plt\n",
    "from pandas.tools.plotting import scatter_matrix\n",
    "\n",
    "# Read feather frames to individual variables\n",
    "\n",
    "anp_df = feather.read_dataframe('data_science_case/anp.feather')\n",
    "face_df = feather.read_dataframe('data_science_case/face.feather')\n",
    "image_df = feather.read_dataframe('data_science_case/image_data.feather')\n",
    "metrics_df = feather.read_dataframe('data_science_case/image_metrics.feather')\n",
    "object_labels_df = feather.read_dataframe('data_science_case/object_labels.feather')\n",
    "survey_df = feather.read_dataframe('data_science_case/survey.feather')"
   ]
  },
  {
   "cell_type": "code",
   "execution_count": 277,
   "metadata": {
    "collapsed": true
   },
   "outputs": [],
   "source": [
    "# Merge them based on the image_id so that we have a large data frame containing all the elements\n",
    "\n",
    "image_face_frame = pd.merge(image_df, face_df, how='inner', on='image_id')\n",
    "# image_anp_frame = pd.merge(image_df, anp_df, how='inner', on='image_id')\n",
    "# im_anp_obj_frame = pd.merge(image_anp_frame, object_labels_df, how='inner', on='image_id')\n",
    "# im_anp_obj_face_frame = pd.merge(im_anp_obj_frame, face_df, how='inner', on='image_id')\n",
    "# im_anp_obj_face_frame = pd.merge(im_anp_obj_frame, face_df, how='inner', on='image_id')"
   ]
  },
  {
   "cell_type": "code",
   "execution_count": 40,
   "metadata": {},
   "outputs": [
    {
     "data": {
      "text/html": [
       "<div>\n",
       "<style>\n",
       "    .dataframe thead tr:only-child th {\n",
       "        text-align: right;\n",
       "    }\n",
       "\n",
       "    .dataframe thead th {\n",
       "        text-align: left;\n",
       "    }\n",
       "\n",
       "    .dataframe tbody tr th {\n",
       "        vertical-align: top;\n",
       "    }\n",
       "</style>\n",
       "<table border=\"1\" class=\"dataframe\">\n",
       "  <thead>\n",
       "    <tr style=\"text-align: right;\">\n",
       "      <th></th>\n",
       "      <th>id</th>\n",
       "      <th>gender</th>\n",
       "      <th>born</th>\n",
       "      <th>education</th>\n",
       "      <th>employed</th>\n",
       "      <th>income</th>\n",
       "      <th>A_2</th>\n",
       "      <th>N_1</th>\n",
       "      <th>P_1</th>\n",
       "      <th>E_1</th>\n",
       "      <th>...</th>\n",
       "      <th>P</th>\n",
       "      <th>E</th>\n",
       "      <th>R</th>\n",
       "      <th>M</th>\n",
       "      <th>A</th>\n",
       "      <th>PERMA</th>\n",
       "      <th>N_EMO</th>\n",
       "      <th>P_EMO</th>\n",
       "      <th>imagecount</th>\n",
       "      <th>private_account</th>\n",
       "    </tr>\n",
       "  </thead>\n",
       "  <tbody>\n",
       "    <tr>\n",
       "      <th>0</th>\n",
       "      <td>920bf027f7d13dbdc7b66b3d3324903c</td>\n",
       "      <td>Male</td>\n",
       "      <td>1975</td>\n",
       "      <td>College graduate</td>\n",
       "      <td>Employed for wages</td>\n",
       "      <td>$30,000 to $39,999</td>\n",
       "      <td>4</td>\n",
       "      <td>5</td>\n",
       "      <td>5</td>\n",
       "      <td>3</td>\n",
       "      <td>...</td>\n",
       "      <td>5</td>\n",
       "      <td>3.0</td>\n",
       "      <td>6.0</td>\n",
       "      <td>6.0</td>\n",
       "      <td>4.0</td>\n",
       "      <td>5</td>\n",
       "      <td>5.0</td>\n",
       "      <td>5</td>\n",
       "      <td>465.0</td>\n",
       "      <td>public</td>\n",
       "    </tr>\n",
       "    <tr>\n",
       "      <th>1</th>\n",
       "      <td>b433b2bfe49e28d0b7c45925b53084e0</td>\n",
       "      <td>Male</td>\n",
       "      <td>1978</td>\n",
       "      <td>College graduate</td>\n",
       "      <td>Employed for wages</td>\n",
       "      <td>$20,000 to $29,999</td>\n",
       "      <td>8</td>\n",
       "      <td>0</td>\n",
       "      <td>9</td>\n",
       "      <td>7</td>\n",
       "      <td>...</td>\n",
       "      <td>9</td>\n",
       "      <td>7.0</td>\n",
       "      <td>9.0</td>\n",
       "      <td>8.0</td>\n",
       "      <td>7.0</td>\n",
       "      <td>9</td>\n",
       "      <td>0.0</td>\n",
       "      <td>9</td>\n",
       "      <td>6.0</td>\n",
       "      <td>public</td>\n",
       "    </tr>\n",
       "    <tr>\n",
       "      <th>4</th>\n",
       "      <td>f4f54676f75f47c17dc434cf68845328</td>\n",
       "      <td>Female</td>\n",
       "      <td>1990</td>\n",
       "      <td>High school graduate</td>\n",
       "      <td>Employed for wages</td>\n",
       "      <td>$80,000 to $89,999</td>\n",
       "      <td>7</td>\n",
       "      <td>3</td>\n",
       "      <td>8</td>\n",
       "      <td>7</td>\n",
       "      <td>...</td>\n",
       "      <td>8</td>\n",
       "      <td>7.0</td>\n",
       "      <td>8.0</td>\n",
       "      <td>8.0</td>\n",
       "      <td>7.0</td>\n",
       "      <td>8</td>\n",
       "      <td>3.0</td>\n",
       "      <td>8</td>\n",
       "      <td>767.0</td>\n",
       "      <td>public</td>\n",
       "    </tr>\n",
       "    <tr>\n",
       "      <th>5</th>\n",
       "      <td>a27a5fc47a59f35761705330253a58e3</td>\n",
       "      <td>Male</td>\n",
       "      <td>1997</td>\n",
       "      <td>High school graduate</td>\n",
       "      <td>Employed for wages</td>\n",
       "      <td>$20,000 to $29,999</td>\n",
       "      <td>7</td>\n",
       "      <td>5</td>\n",
       "      <td>7</td>\n",
       "      <td>4</td>\n",
       "      <td>...</td>\n",
       "      <td>7</td>\n",
       "      <td>4.0</td>\n",
       "      <td>4.0</td>\n",
       "      <td>7.0</td>\n",
       "      <td>7.0</td>\n",
       "      <td>7</td>\n",
       "      <td>5.0</td>\n",
       "      <td>7</td>\n",
       "      <td>43.0</td>\n",
       "      <td>public</td>\n",
       "    </tr>\n",
       "    <tr>\n",
       "      <th>6</th>\n",
       "      <td>0a1002b2232a4ecbde604462f6d84bf9</td>\n",
       "      <td>Female</td>\n",
       "      <td>1993</td>\n",
       "      <td>College graduate</td>\n",
       "      <td>A student</td>\n",
       "      <td>$20,000 to $29,999</td>\n",
       "      <td>7</td>\n",
       "      <td>5</td>\n",
       "      <td>7</td>\n",
       "      <td>4</td>\n",
       "      <td>...</td>\n",
       "      <td>7</td>\n",
       "      <td>4.0</td>\n",
       "      <td>7.0</td>\n",
       "      <td>7.0</td>\n",
       "      <td>6.0</td>\n",
       "      <td>7</td>\n",
       "      <td>5.0</td>\n",
       "      <td>7</td>\n",
       "      <td>73.0</td>\n",
       "      <td>public</td>\n",
       "    </tr>\n",
       "  </tbody>\n",
       "</table>\n",
       "<p>5 rows × 45 columns</p>\n",
       "</div>"
      ],
      "text/plain": [
       "                                 id  gender  born             education  \\\n",
       "0  920bf027f7d13dbdc7b66b3d3324903c    Male  1975      College graduate   \n",
       "1  b433b2bfe49e28d0b7c45925b53084e0    Male  1978      College graduate   \n",
       "4  f4f54676f75f47c17dc434cf68845328  Female  1990  High school graduate   \n",
       "5  a27a5fc47a59f35761705330253a58e3    Male  1997  High school graduate   \n",
       "6  0a1002b2232a4ecbde604462f6d84bf9  Female  1993      College graduate   \n",
       "\n",
       "             employed              income  A_2  N_1  P_1  E_1  \\\n",
       "0  Employed for wages  $30,000 to $39,999    4    5    5    3   \n",
       "1  Employed for wages  $20,000 to $29,999    8    0    9    7   \n",
       "4  Employed for wages  $80,000 to $89,999    7    3    8    7   \n",
       "5  Employed for wages  $20,000 to $29,999    7    5    7    4   \n",
       "6           A student  $20,000 to $29,999    7    5    7    4   \n",
       "\n",
       "        ...         P    E    R    M    A  PERMA  N_EMO  P_EMO  imagecount  \\\n",
       "0       ...         5  3.0  6.0  6.0  4.0      5    5.0      5       465.0   \n",
       "1       ...         9  7.0  9.0  8.0  7.0      9    0.0      9         6.0   \n",
       "4       ...         8  7.0  8.0  8.0  7.0      8    3.0      8       767.0   \n",
       "5       ...         7  4.0  4.0  7.0  7.0      7    5.0      7        43.0   \n",
       "6       ...         7  4.0  7.0  7.0  6.0      7    5.0      7        73.0   \n",
       "\n",
       "   private_account  \n",
       "0           public  \n",
       "1           public  \n",
       "4           public  \n",
       "5           public  \n",
       "6           public  \n",
       "\n",
       "[5 rows x 45 columns]"
      ]
     },
     "execution_count": 40,
     "metadata": {},
     "output_type": "execute_result"
    }
   ],
   "source": [
    "survey_df = survey_df[survey_df['imagecount'] > 0]\n",
    "survey_df.head()"
   ]
  },
  {
   "cell_type": "code",
   "execution_count": 49,
   "metadata": {},
   "outputs": [
    {
     "data": {
      "text/plain": [
       "HAPPY        26311\n",
       "SAD          15624\n",
       "SURPRISED    12019\n",
       "CONFUSED     11115\n",
       "ANGRY         8960\n",
       "CALM          8460\n",
       "DISGUSTED     4388\n",
       "Name: face_emo, dtype: int64"
      ]
     },
     "execution_count": 49,
     "metadata": {},
     "output_type": "execute_result"
    }
   ],
   "source": [
    "face_df['face_emo'].value_counts()"
   ]
  },
  {
   "cell_type": "markdown",
   "metadata": {},
   "source": [
    "# Boolean vars"
   ]
  },
  {
   "cell_type": "code",
   "execution_count": 77,
   "metadata": {
    "collapsed": true
   },
   "outputs": [],
   "source": [
    "boolean_columns = ['face_beard', 'face_mustache', 'face_smile', 'eyeglasses']\n",
    "boolean_columns_df = [image_face_frame[boolean_column].astype(int) for boolean_column in boolean_columns]\n",
    "\n",
    "boolean_confidence_columns = ['face_beard_confidence', 'face_mustache_confidence', 'face_smile_confidence', 'eyeglasses_confidence']\n",
    "\n",
    "boolean_confidence_columns_df = pd.DataFrame([image_face_frame[boolean_column] * image_face_frame[boolean_column + '_confidence'] for boolean_column in boolean_columns]).T\n",
    "boolean_columns_calc = [boolean_column + '_calc' for boolean_column in boolean_columns]\n",
    "\n",
    "boolean_confidence_columns_df.columns = boolean_columns_calc"
   ]
  },
  {
   "cell_type": "code",
   "execution_count": 87,
   "metadata": {},
   "outputs": [
    {
     "data": {
      "text/html": [
       "<div>\n",
       "<style>\n",
       "    .dataframe thead tr:only-child th {\n",
       "        text-align: right;\n",
       "    }\n",
       "\n",
       "    .dataframe thead th {\n",
       "        text-align: left;\n",
       "    }\n",
       "\n",
       "    .dataframe tbody tr th {\n",
       "        vertical-align: top;\n",
       "    }\n",
       "</style>\n",
       "<table border=\"1\" class=\"dataframe\">\n",
       "  <thead>\n",
       "    <tr style=\"text-align: right;\">\n",
       "      <th></th>\n",
       "      <th>face_beard_calc</th>\n",
       "      <th>face_mustache_calc</th>\n",
       "      <th>face_smile_calc</th>\n",
       "      <th>eyeglasses_calc</th>\n",
       "    </tr>\n",
       "  </thead>\n",
       "  <tbody>\n",
       "    <tr>\n",
       "      <th>0</th>\n",
       "      <td>0.0</td>\n",
       "      <td>0.0</td>\n",
       "      <td>87.779747</td>\n",
       "      <td>0.000000</td>\n",
       "    </tr>\n",
       "    <tr>\n",
       "      <th>1</th>\n",
       "      <td>0.0</td>\n",
       "      <td>0.0</td>\n",
       "      <td>87.779747</td>\n",
       "      <td>0.000000</td>\n",
       "    </tr>\n",
       "    <tr>\n",
       "      <th>2</th>\n",
       "      <td>0.0</td>\n",
       "      <td>0.0</td>\n",
       "      <td>87.779747</td>\n",
       "      <td>0.000000</td>\n",
       "    </tr>\n",
       "    <tr>\n",
       "      <th>3</th>\n",
       "      <td>0.0</td>\n",
       "      <td>0.0</td>\n",
       "      <td>0.000000</td>\n",
       "      <td>99.999596</td>\n",
       "    </tr>\n",
       "    <tr>\n",
       "      <th>4</th>\n",
       "      <td>0.0</td>\n",
       "      <td>0.0</td>\n",
       "      <td>0.000000</td>\n",
       "      <td>99.999596</td>\n",
       "    </tr>\n",
       "  </tbody>\n",
       "</table>\n",
       "</div>"
      ],
      "text/plain": [
       "   face_beard_calc  face_mustache_calc  face_smile_calc  eyeglasses_calc\n",
       "0              0.0                 0.0        87.779747         0.000000\n",
       "1              0.0                 0.0        87.779747         0.000000\n",
       "2              0.0                 0.0        87.779747         0.000000\n",
       "3              0.0                 0.0         0.000000        99.999596\n",
       "4              0.0                 0.0         0.000000        99.999596"
      ]
     },
     "execution_count": 87,
     "metadata": {},
     "output_type": "execute_result"
    }
   ],
   "source": [
    "boolean_confidence_columns_df.head()"
   ]
  },
  {
   "cell_type": "code",
   "execution_count": 106,
   "metadata": {},
   "outputs": [
    {
     "data": {
      "text/html": [
       "<div>\n",
       "<style>\n",
       "    .dataframe thead tr:only-child th {\n",
       "        text-align: right;\n",
       "    }\n",
       "\n",
       "    .dataframe thead th {\n",
       "        text-align: left;\n",
       "    }\n",
       "\n",
       "    .dataframe tbody tr th {\n",
       "        vertical-align: top;\n",
       "    }\n",
       "</style>\n",
       "<table border=\"1\" class=\"dataframe\">\n",
       "  <thead>\n",
       "    <tr style=\"text-align: right;\">\n",
       "      <th></th>\n",
       "      <th>image_id</th>\n",
       "      <th>image_link</th>\n",
       "      <th>image_url</th>\n",
       "      <th>image_height</th>\n",
       "      <th>image_width</th>\n",
       "      <th>image_filter</th>\n",
       "      <th>image_posted_time_unix</th>\n",
       "      <th>image_posted_time</th>\n",
       "      <th>data_memorability</th>\n",
       "      <th>user_id</th>\n",
       "      <th>...</th>\n",
       "      <th>face_smile</th>\n",
       "      <th>face_smile_confidence</th>\n",
       "      <th>eyeglasses</th>\n",
       "      <th>eyeglasses_confidence</th>\n",
       "      <th>face_emo</th>\n",
       "      <th>emo_confidence</th>\n",
       "      <th>face_beard_calc</th>\n",
       "      <th>face_mustache_calc</th>\n",
       "      <th>face_smile_calc</th>\n",
       "      <th>eyeglasses_calc</th>\n",
       "    </tr>\n",
       "  </thead>\n",
       "  <tbody>\n",
       "    <tr>\n",
       "      <th>0</th>\n",
       "      <td>552382455733335946_263042348</td>\n",
       "      <td>https://www.instagram.com/p/eqdOq2JLeK/</td>\n",
       "      <td>https://scontent.cdninstagram.com/t51.2885-15/...</td>\n",
       "      <td>612.0</td>\n",
       "      <td>612.0</td>\n",
       "      <td>Normal</td>\n",
       "      <td>1380069141</td>\n",
       "      <td>25-09-2013 00:32:21</td>\n",
       "      <td>0.875568</td>\n",
       "      <td>263042348</td>\n",
       "      <td>...</td>\n",
       "      <td>1</td>\n",
       "      <td>87.779747</td>\n",
       "      <td>0</td>\n",
       "      <td>99.999870</td>\n",
       "      <td>HAPPY</td>\n",
       "      <td>96.513680</td>\n",
       "      <td>0.0</td>\n",
       "      <td>0.0</td>\n",
       "      <td>87.779747</td>\n",
       "      <td>0.000000</td>\n",
       "    </tr>\n",
       "    <tr>\n",
       "      <th>1</th>\n",
       "      <td>552382455733335946_263042348</td>\n",
       "      <td>https://www.instagram.com/p/eqdOq2JLeK/</td>\n",
       "      <td>https://scontent.cdninstagram.com/t51.2885-15/...</td>\n",
       "      <td>612.0</td>\n",
       "      <td>612.0</td>\n",
       "      <td>Normal</td>\n",
       "      <td>1380069141</td>\n",
       "      <td>25-09-2013 00:32:21</td>\n",
       "      <td>0.875568</td>\n",
       "      <td>263042348</td>\n",
       "      <td>...</td>\n",
       "      <td>1</td>\n",
       "      <td>87.779747</td>\n",
       "      <td>0</td>\n",
       "      <td>99.999870</td>\n",
       "      <td>SAD</td>\n",
       "      <td>2.520150</td>\n",
       "      <td>0.0</td>\n",
       "      <td>0.0</td>\n",
       "      <td>87.779747</td>\n",
       "      <td>0.000000</td>\n",
       "    </tr>\n",
       "    <tr>\n",
       "      <th>2</th>\n",
       "      <td>552382455733335946_263042348</td>\n",
       "      <td>https://www.instagram.com/p/eqdOq2JLeK/</td>\n",
       "      <td>https://scontent.cdninstagram.com/t51.2885-15/...</td>\n",
       "      <td>612.0</td>\n",
       "      <td>612.0</td>\n",
       "      <td>Normal</td>\n",
       "      <td>1380069141</td>\n",
       "      <td>25-09-2013 00:32:21</td>\n",
       "      <td>0.875568</td>\n",
       "      <td>263042348</td>\n",
       "      <td>...</td>\n",
       "      <td>1</td>\n",
       "      <td>87.779747</td>\n",
       "      <td>0</td>\n",
       "      <td>99.999870</td>\n",
       "      <td>SURPRISED</td>\n",
       "      <td>11.018240</td>\n",
       "      <td>0.0</td>\n",
       "      <td>0.0</td>\n",
       "      <td>87.779747</td>\n",
       "      <td>0.000000</td>\n",
       "    </tr>\n",
       "    <tr>\n",
       "      <th>3</th>\n",
       "      <td>553884883234370621_263042348</td>\n",
       "      <td>https://www.instagram.com/p/evy13fpLQ9/</td>\n",
       "      <td>https://scontent.cdninstagram.com/t51.2885-15/...</td>\n",
       "      <td>640.0</td>\n",
       "      <td>640.0</td>\n",
       "      <td>Amaro</td>\n",
       "      <td>1380248245</td>\n",
       "      <td>27-09-2013 02:17:25</td>\n",
       "      <td>0.843525</td>\n",
       "      <td>263042348</td>\n",
       "      <td>...</td>\n",
       "      <td>0</td>\n",
       "      <td>85.301117</td>\n",
       "      <td>1</td>\n",
       "      <td>99.999596</td>\n",
       "      <td>CONFUSED</td>\n",
       "      <td>41.312862</td>\n",
       "      <td>0.0</td>\n",
       "      <td>0.0</td>\n",
       "      <td>0.000000</td>\n",
       "      <td>99.999596</td>\n",
       "    </tr>\n",
       "    <tr>\n",
       "      <th>4</th>\n",
       "      <td>553884883234370621_263042348</td>\n",
       "      <td>https://www.instagram.com/p/evy13fpLQ9/</td>\n",
       "      <td>https://scontent.cdninstagram.com/t51.2885-15/...</td>\n",
       "      <td>640.0</td>\n",
       "      <td>640.0</td>\n",
       "      <td>Amaro</td>\n",
       "      <td>1380248245</td>\n",
       "      <td>27-09-2013 02:17:25</td>\n",
       "      <td>0.843525</td>\n",
       "      <td>263042348</td>\n",
       "      <td>...</td>\n",
       "      <td>0</td>\n",
       "      <td>85.301117</td>\n",
       "      <td>1</td>\n",
       "      <td>99.999596</td>\n",
       "      <td>HAPPY</td>\n",
       "      <td>11.824375</td>\n",
       "      <td>0.0</td>\n",
       "      <td>0.0</td>\n",
       "      <td>0.000000</td>\n",
       "      <td>99.999596</td>\n",
       "    </tr>\n",
       "  </tbody>\n",
       "</table>\n",
       "<p>5 rows × 38 columns</p>\n",
       "</div>"
      ],
      "text/plain": [
       "                       image_id                               image_link  \\\n",
       "0  552382455733335946_263042348  https://www.instagram.com/p/eqdOq2JLeK/   \n",
       "1  552382455733335946_263042348  https://www.instagram.com/p/eqdOq2JLeK/   \n",
       "2  552382455733335946_263042348  https://www.instagram.com/p/eqdOq2JLeK/   \n",
       "3  553884883234370621_263042348  https://www.instagram.com/p/evy13fpLQ9/   \n",
       "4  553884883234370621_263042348  https://www.instagram.com/p/evy13fpLQ9/   \n",
       "\n",
       "                                           image_url  image_height  \\\n",
       "0  https://scontent.cdninstagram.com/t51.2885-15/...         612.0   \n",
       "1  https://scontent.cdninstagram.com/t51.2885-15/...         612.0   \n",
       "2  https://scontent.cdninstagram.com/t51.2885-15/...         612.0   \n",
       "3  https://scontent.cdninstagram.com/t51.2885-15/...         640.0   \n",
       "4  https://scontent.cdninstagram.com/t51.2885-15/...         640.0   \n",
       "\n",
       "   image_width image_filter image_posted_time_unix    image_posted_time  \\\n",
       "0        612.0       Normal             1380069141  25-09-2013 00:32:21   \n",
       "1        612.0       Normal             1380069141  25-09-2013 00:32:21   \n",
       "2        612.0       Normal             1380069141  25-09-2013 00:32:21   \n",
       "3        640.0        Amaro             1380248245  27-09-2013 02:17:25   \n",
       "4        640.0        Amaro             1380248245  27-09-2013 02:17:25   \n",
       "\n",
       "   data_memorability    user_id       ...       face_smile  \\\n",
       "0           0.875568  263042348       ...                1   \n",
       "1           0.875568  263042348       ...                1   \n",
       "2           0.875568  263042348       ...                1   \n",
       "3           0.843525  263042348       ...                0   \n",
       "4           0.843525  263042348       ...                0   \n",
       "\n",
       "  face_smile_confidence eyeglasses eyeglasses_confidence   face_emo  \\\n",
       "0             87.779747          0             99.999870      HAPPY   \n",
       "1             87.779747          0             99.999870        SAD   \n",
       "2             87.779747          0             99.999870  SURPRISED   \n",
       "3             85.301117          1             99.999596   CONFUSED   \n",
       "4             85.301117          1             99.999596      HAPPY   \n",
       "\n",
       "   emo_confidence  face_beard_calc  face_mustache_calc  face_smile_calc  \\\n",
       "0       96.513680              0.0                 0.0        87.779747   \n",
       "1        2.520150              0.0                 0.0        87.779747   \n",
       "2       11.018240              0.0                 0.0        87.779747   \n",
       "3       41.312862              0.0                 0.0         0.000000   \n",
       "4       11.824375              0.0                 0.0         0.000000   \n",
       "\n",
       "  eyeglasses_calc  \n",
       "0        0.000000  \n",
       "1        0.000000  \n",
       "2        0.000000  \n",
       "3       99.999596  \n",
       "4       99.999596  \n",
       "\n",
       "[5 rows x 38 columns]"
      ]
     },
     "execution_count": 106,
     "metadata": {},
     "output_type": "execute_result"
    }
   ],
   "source": [
    "image_face_frame_bool_calc = image_face_frame.join(boolean_confidence_columns_df)\n",
    "image_face_frame_bool_calc.head()"
   ]
  },
  {
   "cell_type": "code",
   "execution_count": 123,
   "metadata": {},
   "outputs": [
    {
     "data": {
      "text/html": [
       "<div>\n",
       "<style>\n",
       "    .dataframe thead tr:only-child th {\n",
       "        text-align: right;\n",
       "    }\n",
       "\n",
       "    .dataframe thead th {\n",
       "        text-align: left;\n",
       "    }\n",
       "\n",
       "    .dataframe tbody tr th {\n",
       "        vertical-align: top;\n",
       "    }\n",
       "</style>\n",
       "<table border=\"1\" class=\"dataframe\">\n",
       "  <thead>\n",
       "    <tr style=\"text-align: right;\">\n",
       "      <th></th>\n",
       "      <th>user_id</th>\n",
       "      <th>P</th>\n",
       "    </tr>\n",
       "  </thead>\n",
       "  <tbody>\n",
       "    <tr>\n",
       "      <th>0</th>\n",
       "      <td>619868570</td>\n",
       "      <td>5</td>\n",
       "    </tr>\n",
       "    <tr>\n",
       "      <th>1</th>\n",
       "      <td>187920333</td>\n",
       "      <td>9</td>\n",
       "    </tr>\n",
       "    <tr>\n",
       "      <th>4</th>\n",
       "      <td>33420910</td>\n",
       "      <td>8</td>\n",
       "    </tr>\n",
       "    <tr>\n",
       "      <th>5</th>\n",
       "      <td>2143580844</td>\n",
       "      <td>7</td>\n",
       "    </tr>\n",
       "    <tr>\n",
       "      <th>6</th>\n",
       "      <td>263042348</td>\n",
       "      <td>7</td>\n",
       "    </tr>\n",
       "  </tbody>\n",
       "</table>\n",
       "</div>"
      ],
      "text/plain": [
       "      user_id  P\n",
       "0   619868570  5\n",
       "1   187920333  9\n",
       "4    33420910  8\n",
       "5  2143580844  7\n",
       "6   263042348  7"
      ]
     },
     "execution_count": 123,
     "metadata": {},
     "output_type": "execute_result"
    }
   ],
   "source": [
    "survey_user_with_perma_df = survey_df[['insta_user_id', 'P']]\n",
    "survey_user_with_perma_df = survey_user_with_perma_df.rename(columns={'insta_user_id': 'user_id'})\n",
    "survey_user_with_perma_df['user_id'] = survey_user_with_perma_df['user_id'].astype(int)\n",
    "survey_user_with_perma_df.head()"
   ]
  },
  {
   "cell_type": "code",
   "execution_count": 124,
   "metadata": {},
   "outputs": [
    {
     "data": {
      "text/plain": [
       "160"
      ]
     },
     "execution_count": 124,
     "metadata": {},
     "output_type": "execute_result"
    }
   ],
   "source": [
    "len(survey_user_with_perma_df['user_id'].unique())"
   ]
  },
  {
   "cell_type": "code",
   "execution_count": 127,
   "metadata": {},
   "outputs": [
    {
     "data": {
      "text/html": [
       "<div>\n",
       "<style>\n",
       "    .dataframe thead tr:only-child th {\n",
       "        text-align: right;\n",
       "    }\n",
       "\n",
       "    .dataframe thead th {\n",
       "        text-align: left;\n",
       "    }\n",
       "\n",
       "    .dataframe tbody tr th {\n",
       "        vertical-align: top;\n",
       "    }\n",
       "</style>\n",
       "<table border=\"1\" class=\"dataframe\">\n",
       "  <thead>\n",
       "    <tr style=\"text-align: right;\">\n",
       "      <th></th>\n",
       "      <th>user_id</th>\n",
       "      <th>face_beard_calc</th>\n",
       "      <th>face_mustache_calc</th>\n",
       "      <th>face_smile_calc</th>\n",
       "      <th>eyeglasses_calc</th>\n",
       "    </tr>\n",
       "  </thead>\n",
       "  <tbody>\n",
       "    <tr>\n",
       "      <th>0</th>\n",
       "      <td>1097967773</td>\n",
       "      <td>5.712069</td>\n",
       "      <td>4.950925</td>\n",
       "      <td>65.763703</td>\n",
       "      <td>9.702721</td>\n",
       "    </tr>\n",
       "    <tr>\n",
       "      <th>1</th>\n",
       "      <td>11520833</td>\n",
       "      <td>13.394744</td>\n",
       "      <td>12.166445</td>\n",
       "      <td>61.564970</td>\n",
       "      <td>20.024795</td>\n",
       "    </tr>\n",
       "    <tr>\n",
       "      <th>2</th>\n",
       "      <td>1223036636</td>\n",
       "      <td>33.588946</td>\n",
       "      <td>34.317378</td>\n",
       "      <td>57.363681</td>\n",
       "      <td>16.931880</td>\n",
       "    </tr>\n",
       "    <tr>\n",
       "      <th>3</th>\n",
       "      <td>1224423305</td>\n",
       "      <td>0.000000</td>\n",
       "      <td>0.000000</td>\n",
       "      <td>79.712158</td>\n",
       "      <td>0.000000</td>\n",
       "    </tr>\n",
       "    <tr>\n",
       "      <th>4</th>\n",
       "      <td>1249457735</td>\n",
       "      <td>12.545506</td>\n",
       "      <td>11.659811</td>\n",
       "      <td>78.139765</td>\n",
       "      <td>6.033681</td>\n",
       "    </tr>\n",
       "  </tbody>\n",
       "</table>\n",
       "</div>"
      ],
      "text/plain": [
       "      user_id  face_beard_calc  face_mustache_calc  face_smile_calc  \\\n",
       "0  1097967773         5.712069            4.950925        65.763703   \n",
       "1    11520833        13.394744           12.166445        61.564970   \n",
       "2  1223036636        33.588946           34.317378        57.363681   \n",
       "3  1224423305         0.000000            0.000000        79.712158   \n",
       "4  1249457735        12.545506           11.659811        78.139765   \n",
       "\n",
       "   eyeglasses_calc  \n",
       "0         9.702721  \n",
       "1        20.024795  \n",
       "2        16.931880  \n",
       "3         0.000000  \n",
       "4         6.033681  "
      ]
     },
     "execution_count": 127,
     "metadata": {},
     "output_type": "execute_result"
    }
   ],
   "source": [
    "face_df_boolean = image_face_frame_bool_calc.groupby('user_id')[boolean_columns_calc].mean().reset_index()\n",
    "face_df_boolean['user_id'] = face_df_boolean['user_id'].astype(int)\n",
    "face_df_boolean.head()"
   ]
  },
  {
   "cell_type": "code",
   "execution_count": 128,
   "metadata": {},
   "outputs": [
    {
     "data": {
      "text/plain": [
       "145"
      ]
     },
     "execution_count": 128,
     "metadata": {},
     "output_type": "execute_result"
    }
   ],
   "source": [
    "len(face_df_boolean['user_id'].unique())"
   ]
  },
  {
   "cell_type": "code",
   "execution_count": 130,
   "metadata": {},
   "outputs": [
    {
     "data": {
      "text/html": [
       "<div>\n",
       "<style>\n",
       "    .dataframe thead tr:only-child th {\n",
       "        text-align: right;\n",
       "    }\n",
       "\n",
       "    .dataframe thead th {\n",
       "        text-align: left;\n",
       "    }\n",
       "\n",
       "    .dataframe tbody tr th {\n",
       "        vertical-align: top;\n",
       "    }\n",
       "</style>\n",
       "<table border=\"1\" class=\"dataframe\">\n",
       "  <thead>\n",
       "    <tr style=\"text-align: right;\">\n",
       "      <th></th>\n",
       "      <th>user_id</th>\n",
       "      <th>face_beard_calc</th>\n",
       "      <th>face_mustache_calc</th>\n",
       "      <th>face_smile_calc</th>\n",
       "      <th>eyeglasses_calc</th>\n",
       "      <th>P</th>\n",
       "    </tr>\n",
       "  </thead>\n",
       "  <tbody>\n",
       "    <tr>\n",
       "      <th>0</th>\n",
       "      <td>1097967773</td>\n",
       "      <td>5.712069</td>\n",
       "      <td>4.950925</td>\n",
       "      <td>65.763703</td>\n",
       "      <td>9.702721</td>\n",
       "      <td>6</td>\n",
       "    </tr>\n",
       "    <tr>\n",
       "      <th>1</th>\n",
       "      <td>11520833</td>\n",
       "      <td>13.394744</td>\n",
       "      <td>12.166445</td>\n",
       "      <td>61.564970</td>\n",
       "      <td>20.024795</td>\n",
       "      <td>7</td>\n",
       "    </tr>\n",
       "    <tr>\n",
       "      <th>2</th>\n",
       "      <td>1223036636</td>\n",
       "      <td>33.588946</td>\n",
       "      <td>34.317378</td>\n",
       "      <td>57.363681</td>\n",
       "      <td>16.931880</td>\n",
       "      <td>8</td>\n",
       "    </tr>\n",
       "    <tr>\n",
       "      <th>3</th>\n",
       "      <td>1224423305</td>\n",
       "      <td>0.000000</td>\n",
       "      <td>0.000000</td>\n",
       "      <td>79.712158</td>\n",
       "      <td>0.000000</td>\n",
       "      <td>9</td>\n",
       "    </tr>\n",
       "    <tr>\n",
       "      <th>4</th>\n",
       "      <td>1249457735</td>\n",
       "      <td>12.545506</td>\n",
       "      <td>11.659811</td>\n",
       "      <td>78.139765</td>\n",
       "      <td>6.033681</td>\n",
       "      <td>6</td>\n",
       "    </tr>\n",
       "  </tbody>\n",
       "</table>\n",
       "</div>"
      ],
      "text/plain": [
       "      user_id  face_beard_calc  face_mustache_calc  face_smile_calc  \\\n",
       "0  1097967773         5.712069            4.950925        65.763703   \n",
       "1    11520833        13.394744           12.166445        61.564970   \n",
       "2  1223036636        33.588946           34.317378        57.363681   \n",
       "3  1224423305         0.000000            0.000000        79.712158   \n",
       "4  1249457735        12.545506           11.659811        78.139765   \n",
       "\n",
       "   eyeglasses_calc  P  \n",
       "0         9.702721  6  \n",
       "1        20.024795  7  \n",
       "2        16.931880  8  \n",
       "3         0.000000  9  \n",
       "4         6.033681  6  "
      ]
     },
     "execution_count": 130,
     "metadata": {},
     "output_type": "execute_result"
    }
   ],
   "source": [
    "face_df_boolean_with_p = pd.merge(face_df_boolean, survey_user_with_perma_df, how='left', on='user_id')\n",
    "face_df_boolean_with_p.head()"
   ]
  },
  {
   "cell_type": "code",
   "execution_count": 180,
   "metadata": {},
   "outputs": [
    {
     "data": {
      "text/html": [
       "<div>\n",
       "<style>\n",
       "    .dataframe thead tr:only-child th {\n",
       "        text-align: right;\n",
       "    }\n",
       "\n",
       "    .dataframe thead th {\n",
       "        text-align: left;\n",
       "    }\n",
       "\n",
       "    .dataframe tbody tr th {\n",
       "        vertical-align: top;\n",
       "    }\n",
       "</style>\n",
       "<table border=\"1\" class=\"dataframe\">\n",
       "  <thead>\n",
       "    <tr style=\"text-align: right;\">\n",
       "      <th></th>\n",
       "      <th>user_id</th>\n",
       "      <th>face_beard_calc</th>\n",
       "      <th>face_mustache_calc</th>\n",
       "      <th>face_smile_calc</th>\n",
       "      <th>eyeglasses_calc</th>\n",
       "      <th>P</th>\n",
       "    </tr>\n",
       "  </thead>\n",
       "  <tbody>\n",
       "    <tr>\n",
       "      <th>user_id</th>\n",
       "      <td>1.000000</td>\n",
       "      <td>0.172541</td>\n",
       "      <td>0.185834</td>\n",
       "      <td>-0.068973</td>\n",
       "      <td>0.199008</td>\n",
       "      <td>0.007775</td>\n",
       "    </tr>\n",
       "    <tr>\n",
       "      <th>face_beard_calc</th>\n",
       "      <td>0.172541</td>\n",
       "      <td>1.000000</td>\n",
       "      <td>0.923790</td>\n",
       "      <td>-0.290091</td>\n",
       "      <td>0.315100</td>\n",
       "      <td>0.151671</td>\n",
       "    </tr>\n",
       "    <tr>\n",
       "      <th>face_mustache_calc</th>\n",
       "      <td>0.185834</td>\n",
       "      <td>0.923790</td>\n",
       "      <td>1.000000</td>\n",
       "      <td>-0.240099</td>\n",
       "      <td>0.282057</td>\n",
       "      <td>0.180313</td>\n",
       "    </tr>\n",
       "    <tr>\n",
       "      <th>face_smile_calc</th>\n",
       "      <td>-0.068973</td>\n",
       "      <td>-0.290091</td>\n",
       "      <td>-0.240099</td>\n",
       "      <td>1.000000</td>\n",
       "      <td>-0.106993</td>\n",
       "      <td>0.014639</td>\n",
       "    </tr>\n",
       "    <tr>\n",
       "      <th>eyeglasses_calc</th>\n",
       "      <td>0.199008</td>\n",
       "      <td>0.315100</td>\n",
       "      <td>0.282057</td>\n",
       "      <td>-0.106993</td>\n",
       "      <td>1.000000</td>\n",
       "      <td>-0.070193</td>\n",
       "    </tr>\n",
       "    <tr>\n",
       "      <th>P</th>\n",
       "      <td>0.007775</td>\n",
       "      <td>0.151671</td>\n",
       "      <td>0.180313</td>\n",
       "      <td>0.014639</td>\n",
       "      <td>-0.070193</td>\n",
       "      <td>1.000000</td>\n",
       "    </tr>\n",
       "  </tbody>\n",
       "</table>\n",
       "</div>"
      ],
      "text/plain": [
       "                     user_id  face_beard_calc  face_mustache_calc  \\\n",
       "user_id             1.000000         0.172541            0.185834   \n",
       "face_beard_calc     0.172541         1.000000            0.923790   \n",
       "face_mustache_calc  0.185834         0.923790            1.000000   \n",
       "face_smile_calc    -0.068973        -0.290091           -0.240099   \n",
       "eyeglasses_calc     0.199008         0.315100            0.282057   \n",
       "P                   0.007775         0.151671            0.180313   \n",
       "\n",
       "                    face_smile_calc  eyeglasses_calc         P  \n",
       "user_id                   -0.068973         0.199008  0.007775  \n",
       "face_beard_calc           -0.290091         0.315100  0.151671  \n",
       "face_mustache_calc        -0.240099         0.282057  0.180313  \n",
       "face_smile_calc            1.000000        -0.106993  0.014639  \n",
       "eyeglasses_calc           -0.106993         1.000000 -0.070193  \n",
       "P                          0.014639        -0.070193  1.000000  "
      ]
     },
     "execution_count": 180,
     "metadata": {},
     "output_type": "execute_result"
    }
   ],
   "source": [
    "face_df_boolean_with_p.corr()"
   ]
  },
  {
   "cell_type": "markdown",
   "metadata": {},
   "source": [
    "# Emotion vars"
   ]
  },
  {
   "cell_type": "code",
   "execution_count": 215,
   "metadata": {},
   "outputs": [
    {
     "name": "stderr",
     "output_type": "stream",
     "text": [
      "/home/jo/anaconda3/lib/python3.5/site-packages/ipykernel/__main__.py:2: SettingWithCopyWarning: \n",
      "A value is trying to be set on a copy of a slice from a DataFrame.\n",
      "Try using .loc[row_indexer,col_indexer] = value instead\n",
      "\n",
      "See the caveats in the documentation: http://pandas.pydata.org/pandas-docs/stable/indexing.html#indexing-view-versus-copy\n",
      "  from ipykernel import kernelapp as app\n"
     ]
    },
    {
     "data": {
      "text/html": [
       "<div>\n",
       "<style>\n",
       "    .dataframe thead tr:only-child th {\n",
       "        text-align: right;\n",
       "    }\n",
       "\n",
       "    .dataframe thead th {\n",
       "        text-align: left;\n",
       "    }\n",
       "\n",
       "    .dataframe tbody tr th {\n",
       "        vertical-align: top;\n",
       "    }\n",
       "</style>\n",
       "<table border=\"1\" class=\"dataframe\">\n",
       "  <thead>\n",
       "    <tr style=\"text-align: right;\">\n",
       "      <th></th>\n",
       "      <th>user_id</th>\n",
       "      <th>face_emo</th>\n",
       "      <th>emo_confidence</th>\n",
       "    </tr>\n",
       "  </thead>\n",
       "  <tbody>\n",
       "    <tr>\n",
       "      <th>0</th>\n",
       "      <td>263042348</td>\n",
       "      <td>HAPPY</td>\n",
       "      <td>96.513680</td>\n",
       "    </tr>\n",
       "    <tr>\n",
       "      <th>1</th>\n",
       "      <td>263042348</td>\n",
       "      <td>SAD</td>\n",
       "      <td>2.520150</td>\n",
       "    </tr>\n",
       "    <tr>\n",
       "      <th>2</th>\n",
       "      <td>263042348</td>\n",
       "      <td>SURPRISED</td>\n",
       "      <td>11.018240</td>\n",
       "    </tr>\n",
       "    <tr>\n",
       "      <th>3</th>\n",
       "      <td>263042348</td>\n",
       "      <td>CONFUSED</td>\n",
       "      <td>41.312862</td>\n",
       "    </tr>\n",
       "    <tr>\n",
       "      <th>4</th>\n",
       "      <td>263042348</td>\n",
       "      <td>HAPPY</td>\n",
       "      <td>11.824375</td>\n",
       "    </tr>\n",
       "  </tbody>\n",
       "</table>\n",
       "</div>"
      ],
      "text/plain": [
       "     user_id   face_emo  emo_confidence\n",
       "0  263042348      HAPPY       96.513680\n",
       "1  263042348        SAD        2.520150\n",
       "2  263042348  SURPRISED       11.018240\n",
       "3  263042348   CONFUSED       41.312862\n",
       "4  263042348      HAPPY       11.824375"
      ]
     },
     "execution_count": 215,
     "metadata": {},
     "output_type": "execute_result"
    }
   ],
   "source": [
    "face_emotion_df = image_face_frame[['user_id', 'face_emo', 'emo_confidence']]\n",
    "face_emotion_df['user_id'] = face_emotion_df['user_id'].astype(int)\n",
    "face_emotion_df.head()"
   ]
  },
  {
   "cell_type": "code",
   "execution_count": null,
   "metadata": {
    "collapsed": true
   },
   "outputs": [],
   "source": [
    "def func(user_id):\n",
    "    df[df['user_id'] == user_id]n"
   ]
  },
  {
   "cell_type": "code",
   "execution_count": 216,
   "metadata": {
    "collapsed": true
   },
   "outputs": [],
   "source": [
    "def add_emotion(emotion):\n",
    "    face_emotion_df[emotion] = face_emotion_df.loc[face_emotion_df['face_emo'] == emotion]['emo_confidence']\n",
    "    return face_emotion_df"
   ]
  },
  {
   "cell_type": "code",
   "execution_count": 209,
   "metadata": {},
   "outputs": [
    {
     "name": "stderr",
     "output_type": "stream",
     "text": [
      "/home/jo/anaconda3/lib/python3.5/site-packages/ipykernel/__main__.py:2: SettingWithCopyWarning: \n",
      "A value is trying to be set on a copy of a slice from a DataFrame.\n",
      "Try using .loc[row_indexer,col_indexer] = value instead\n",
      "\n",
      "See the caveats in the documentation: http://pandas.pydata.org/pandas-docs/stable/indexing.html#indexing-view-versus-copy\n",
      "  from ipykernel import kernelapp as app\n"
     ]
    }
   ],
   "source": [
    "emotions = list(face_emotion_df['face_emo'].unique())\n",
    "for emotion in emotions:\n",
    "    add_emotion(emotion) "
   ]
  },
  {
   "cell_type": "code",
   "execution_count": 210,
   "metadata": {
    "collapsed": true
   },
   "outputs": [],
   "source": [
    "face_emotion_df = face_emotion_df.drop('face_emo', axis=1)\n",
    "face_emotion_df = face_emotion_df.drop('emo_confidence', axis=1)"
   ]
  },
  {
   "cell_type": "code",
   "execution_count": 211,
   "metadata": {
    "collapsed": true
   },
   "outputs": [],
   "source": [
    "face_emotion_df = face_emotion_df.groupby('user_id').mean().reset_index()\n",
    "face_df_emotion_with_p = pd.merge(face_emotion_df, survey_user_with_perma_df, how='left', on='user_id')"
   ]
  },
  {
   "cell_type": "code",
   "execution_count": 212,
   "metadata": {},
   "outputs": [
    {
     "data": {
      "text/html": [
       "<div>\n",
       "<style>\n",
       "    .dataframe thead tr:only-child th {\n",
       "        text-align: right;\n",
       "    }\n",
       "\n",
       "    .dataframe thead th {\n",
       "        text-align: left;\n",
       "    }\n",
       "\n",
       "    .dataframe tbody tr th {\n",
       "        vertical-align: top;\n",
       "    }\n",
       "</style>\n",
       "<table border=\"1\" class=\"dataframe\">\n",
       "  <thead>\n",
       "    <tr style=\"text-align: right;\">\n",
       "      <th></th>\n",
       "      <th>user_id</th>\n",
       "      <th>HAPPY</th>\n",
       "      <th>SAD</th>\n",
       "      <th>SURPRISED</th>\n",
       "      <th>CONFUSED</th>\n",
       "      <th>DISGUSTED</th>\n",
       "      <th>CALM</th>\n",
       "      <th>ANGRY</th>\n",
       "      <th>P</th>\n",
       "    </tr>\n",
       "  </thead>\n",
       "  <tbody>\n",
       "    <tr>\n",
       "      <th>0</th>\n",
       "      <td>1619510</td>\n",
       "      <td>79.068926</td>\n",
       "      <td>14.074866</td>\n",
       "      <td>15.982254</td>\n",
       "      <td>7.837656</td>\n",
       "      <td>6.705342</td>\n",
       "      <td>5.726233</td>\n",
       "      <td>7.628984</td>\n",
       "      <td>4</td>\n",
       "    </tr>\n",
       "    <tr>\n",
       "      <th>1</th>\n",
       "      <td>2829661</td>\n",
       "      <td>85.288618</td>\n",
       "      <td>9.776246</td>\n",
       "      <td>9.865642</td>\n",
       "      <td>7.531726</td>\n",
       "      <td>4.862966</td>\n",
       "      <td>12.795863</td>\n",
       "      <td>7.609650</td>\n",
       "      <td>8</td>\n",
       "    </tr>\n",
       "    <tr>\n",
       "      <th>2</th>\n",
       "      <td>3069744</td>\n",
       "      <td>66.214778</td>\n",
       "      <td>17.333437</td>\n",
       "      <td>16.365114</td>\n",
       "      <td>10.465252</td>\n",
       "      <td>7.019021</td>\n",
       "      <td>11.662080</td>\n",
       "      <td>9.263856</td>\n",
       "      <td>7</td>\n",
       "    </tr>\n",
       "    <tr>\n",
       "      <th>3</th>\n",
       "      <td>3988856</td>\n",
       "      <td>68.290256</td>\n",
       "      <td>13.829991</td>\n",
       "      <td>20.473020</td>\n",
       "      <td>12.530977</td>\n",
       "      <td>14.028244</td>\n",
       "      <td>9.419956</td>\n",
       "      <td>7.004244</td>\n",
       "      <td>10</td>\n",
       "    </tr>\n",
       "    <tr>\n",
       "      <th>4</th>\n",
       "      <td>4185084</td>\n",
       "      <td>44.498180</td>\n",
       "      <td>19.884296</td>\n",
       "      <td>13.353562</td>\n",
       "      <td>12.232074</td>\n",
       "      <td>24.420738</td>\n",
       "      <td>57.014982</td>\n",
       "      <td>17.123119</td>\n",
       "      <td>6</td>\n",
       "    </tr>\n",
       "  </tbody>\n",
       "</table>\n",
       "</div>"
      ],
      "text/plain": [
       "   user_id      HAPPY        SAD  SURPRISED   CONFUSED  DISGUSTED       CALM  \\\n",
       "0  1619510  79.068926  14.074866  15.982254   7.837656   6.705342   5.726233   \n",
       "1  2829661  85.288618   9.776246   9.865642   7.531726   4.862966  12.795863   \n",
       "2  3069744  66.214778  17.333437  16.365114  10.465252   7.019021  11.662080   \n",
       "3  3988856  68.290256  13.829991  20.473020  12.530977  14.028244   9.419956   \n",
       "4  4185084  44.498180  19.884296  13.353562  12.232074  24.420738  57.014982   \n",
       "\n",
       "       ANGRY   P  \n",
       "0   7.628984   4  \n",
       "1   7.609650   8  \n",
       "2   9.263856   7  \n",
       "3   7.004244  10  \n",
       "4  17.123119   6  "
      ]
     },
     "execution_count": 212,
     "metadata": {},
     "output_type": "execute_result"
    }
   ],
   "source": [
    "face_df_emotion_with_p.head()"
   ]
  },
  {
   "cell_type": "code",
   "execution_count": 222,
   "metadata": {},
   "outputs": [
    {
     "data": {
      "text/plain": [
       "P            1.000000\n",
       "ANGRY        0.179434\n",
       "DISGUSTED    0.156660\n",
       "SURPRISED    0.083714\n",
       "user_id      0.007775\n",
       "CONFUSED    -0.055372\n",
       "CALM        -0.087090\n",
       "HAPPY       -0.098879\n",
       "SAD         -0.211301\n",
       "Name: P, dtype: float64"
      ]
     },
     "execution_count": 222,
     "metadata": {},
     "output_type": "execute_result"
    }
   ],
   "source": [
    "face_df_emotion_with_p.corr()['P'].sort_values(ascending=False)"
   ]
  },
  {
   "cell_type": "markdown",
   "metadata": {
    "collapsed": true
   },
   "source": [
    "# Face dataframe"
   ]
  },
  {
   "cell_type": "code",
   "execution_count": 368,
   "metadata": {},
   "outputs": [],
   "source": [
    "face_final_df = pd.merge(face_df_boolean_with_p, face_df_emotion_with_p, on='user_id')\n",
    "face_final_df.drop(['P_y'], axis=1, inplace=True)\n",
    "face_final_df = face_final_df.rename(columns={'P_x': 'P'})\n",
    "face_final_df = face_final_df.astype(np.float64, copy=False)\n",
    "face_final_df['user_id'] = face_final_df['user_id'].astype(int)"
   ]
  },
  {
   "cell_type": "code",
   "execution_count": 369,
   "metadata": {},
   "outputs": [],
   "source": [
    "face_final_df = face_final_df.fillna(method='ffill')"
   ]
  },
  {
   "cell_type": "code",
   "execution_count": 370,
   "metadata": {},
   "outputs": [
    {
     "data": {
      "text/html": [
       "<div>\n",
       "<style>\n",
       "    .dataframe thead tr:only-child th {\n",
       "        text-align: right;\n",
       "    }\n",
       "\n",
       "    .dataframe thead th {\n",
       "        text-align: left;\n",
       "    }\n",
       "\n",
       "    .dataframe tbody tr th {\n",
       "        vertical-align: top;\n",
       "    }\n",
       "</style>\n",
       "<table border=\"1\" class=\"dataframe\">\n",
       "  <thead>\n",
       "    <tr style=\"text-align: right;\">\n",
       "      <th></th>\n",
       "      <th>user_id</th>\n",
       "      <th>face_beard_calc</th>\n",
       "      <th>face_mustache_calc</th>\n",
       "      <th>face_smile_calc</th>\n",
       "      <th>eyeglasses_calc</th>\n",
       "      <th>P</th>\n",
       "      <th>HAPPY</th>\n",
       "      <th>SAD</th>\n",
       "      <th>SURPRISED</th>\n",
       "      <th>CONFUSED</th>\n",
       "      <th>DISGUSTED</th>\n",
       "      <th>CALM</th>\n",
       "      <th>ANGRY</th>\n",
       "    </tr>\n",
       "  </thead>\n",
       "  <tbody>\n",
       "    <tr>\n",
       "      <th>0</th>\n",
       "      <td>1097967773</td>\n",
       "      <td>5.712069</td>\n",
       "      <td>4.950925</td>\n",
       "      <td>65.763703</td>\n",
       "      <td>9.702721</td>\n",
       "      <td>6.0</td>\n",
       "      <td>67.133565</td>\n",
       "      <td>14.129781</td>\n",
       "      <td>20.193410</td>\n",
       "      <td>8.965610</td>\n",
       "      <td>7.976685</td>\n",
       "      <td>5.412451</td>\n",
       "      <td>11.887474</td>\n",
       "    </tr>\n",
       "    <tr>\n",
       "      <th>1</th>\n",
       "      <td>11520833</td>\n",
       "      <td>13.394744</td>\n",
       "      <td>12.166445</td>\n",
       "      <td>61.564970</td>\n",
       "      <td>20.024795</td>\n",
       "      <td>7.0</td>\n",
       "      <td>69.369407</td>\n",
       "      <td>20.072799</td>\n",
       "      <td>17.624535</td>\n",
       "      <td>12.654190</td>\n",
       "      <td>11.357404</td>\n",
       "      <td>8.042111</td>\n",
       "      <td>9.383317</td>\n",
       "    </tr>\n",
       "    <tr>\n",
       "      <th>2</th>\n",
       "      <td>1223036636</td>\n",
       "      <td>33.588946</td>\n",
       "      <td>34.317378</td>\n",
       "      <td>57.363681</td>\n",
       "      <td>16.931880</td>\n",
       "      <td>8.0</td>\n",
       "      <td>65.370106</td>\n",
       "      <td>10.918731</td>\n",
       "      <td>13.652699</td>\n",
       "      <td>6.442891</td>\n",
       "      <td>25.830939</td>\n",
       "      <td>15.435058</td>\n",
       "      <td>26.030851</td>\n",
       "    </tr>\n",
       "    <tr>\n",
       "      <th>3</th>\n",
       "      <td>1224423305</td>\n",
       "      <td>0.000000</td>\n",
       "      <td>0.000000</td>\n",
       "      <td>79.712158</td>\n",
       "      <td>0.000000</td>\n",
       "      <td>9.0</td>\n",
       "      <td>7.883594</td>\n",
       "      <td>6.800479</td>\n",
       "      <td>13.652699</td>\n",
       "      <td>26.318949</td>\n",
       "      <td>25.830939</td>\n",
       "      <td>15.435058</td>\n",
       "      <td>26.030851</td>\n",
       "    </tr>\n",
       "    <tr>\n",
       "      <th>4</th>\n",
       "      <td>1249457735</td>\n",
       "      <td>12.545506</td>\n",
       "      <td>11.659811</td>\n",
       "      <td>78.139765</td>\n",
       "      <td>6.033681</td>\n",
       "      <td>6.0</td>\n",
       "      <td>77.297940</td>\n",
       "      <td>14.779954</td>\n",
       "      <td>29.972588</td>\n",
       "      <td>10.627847</td>\n",
       "      <td>0.293577</td>\n",
       "      <td>2.607133</td>\n",
       "      <td>12.053385</td>\n",
       "    </tr>\n",
       "  </tbody>\n",
       "</table>\n",
       "</div>"
      ],
      "text/plain": [
       "      user_id  face_beard_calc  face_mustache_calc  face_smile_calc  \\\n",
       "0  1097967773         5.712069            4.950925        65.763703   \n",
       "1    11520833        13.394744           12.166445        61.564970   \n",
       "2  1223036636        33.588946           34.317378        57.363681   \n",
       "3  1224423305         0.000000            0.000000        79.712158   \n",
       "4  1249457735        12.545506           11.659811        78.139765   \n",
       "\n",
       "   eyeglasses_calc    P      HAPPY        SAD  SURPRISED   CONFUSED  \\\n",
       "0         9.702721  6.0  67.133565  14.129781  20.193410   8.965610   \n",
       "1        20.024795  7.0  69.369407  20.072799  17.624535  12.654190   \n",
       "2        16.931880  8.0  65.370106  10.918731  13.652699   6.442891   \n",
       "3         0.000000  9.0   7.883594   6.800479  13.652699  26.318949   \n",
       "4         6.033681  6.0  77.297940  14.779954  29.972588  10.627847   \n",
       "\n",
       "   DISGUSTED       CALM      ANGRY  \n",
       "0   7.976685   5.412451  11.887474  \n",
       "1  11.357404   8.042111   9.383317  \n",
       "2  25.830939  15.435058  26.030851  \n",
       "3  25.830939  15.435058  26.030851  \n",
       "4   0.293577   2.607133  12.053385  "
      ]
     },
     "execution_count": 370,
     "metadata": {},
     "output_type": "execute_result"
    }
   ],
   "source": [
    "face_final_df.head()"
   ]
  },
  {
   "cell_type": "code",
   "execution_count": 373,
   "metadata": {},
   "outputs": [
    {
     "name": "stderr",
     "output_type": "stream",
     "text": [
      "/home/jo/anaconda3/lib/python3.5/site-packages/ipykernel/__main__.py:4: SettingWithCopyWarning: \n",
      "A value is trying to be set on a copy of a slice from a DataFrame\n",
      "\n",
      "See the caveats in the documentation: http://pandas.pydata.org/pandas-docs/stable/indexing.html#indexing-view-versus-copy\n",
      "/home/jo/anaconda3/lib/python3.5/site-packages/ipykernel/__main__.py:5: SettingWithCopyWarning: \n",
      "A value is trying to be set on a copy of a slice from a DataFrame\n",
      "\n",
      "See the caveats in the documentation: http://pandas.pydata.org/pandas-docs/stable/indexing.html#indexing-view-versus-copy\n"
     ]
    }
   ],
   "source": [
    "X_train = face_final_df[:90]\n",
    "X_test = face_final_df[91:]\n",
    "\n",
    "X_train.drop(['P'], axis=1, inplace=True)\n",
    "X_test.drop(['P'], axis=1, inplace=True)\n",
    "\n",
    "Y_train = face_final_df[:90]['P']\n",
    "Y_test = face_final_df[91:]['P']"
   ]
  },
  {
   "cell_type": "code",
   "execution_count": 374,
   "metadata": {},
   "outputs": [
    {
     "data": {
      "text/html": [
       "<div>\n",
       "<style>\n",
       "    .dataframe thead tr:only-child th {\n",
       "        text-align: right;\n",
       "    }\n",
       "\n",
       "    .dataframe thead th {\n",
       "        text-align: left;\n",
       "    }\n",
       "\n",
       "    .dataframe tbody tr th {\n",
       "        vertical-align: top;\n",
       "    }\n",
       "</style>\n",
       "<table border=\"1\" class=\"dataframe\">\n",
       "  <thead>\n",
       "    <tr style=\"text-align: right;\">\n",
       "      <th></th>\n",
       "      <th>user_id</th>\n",
       "      <th>face_beard_calc</th>\n",
       "      <th>face_mustache_calc</th>\n",
       "      <th>face_smile_calc</th>\n",
       "      <th>eyeglasses_calc</th>\n",
       "      <th>HAPPY</th>\n",
       "      <th>SAD</th>\n",
       "      <th>SURPRISED</th>\n",
       "      <th>CONFUSED</th>\n",
       "      <th>DISGUSTED</th>\n",
       "      <th>CALM</th>\n",
       "      <th>ANGRY</th>\n",
       "    </tr>\n",
       "  </thead>\n",
       "  <tbody>\n",
       "    <tr>\n",
       "      <th>0</th>\n",
       "      <td>1097967773</td>\n",
       "      <td>5.712069</td>\n",
       "      <td>4.950925</td>\n",
       "      <td>65.763703</td>\n",
       "      <td>9.702721</td>\n",
       "      <td>67.133565</td>\n",
       "      <td>14.129781</td>\n",
       "      <td>20.193410</td>\n",
       "      <td>8.965610</td>\n",
       "      <td>7.976685</td>\n",
       "      <td>5.412451</td>\n",
       "      <td>11.887474</td>\n",
       "    </tr>\n",
       "    <tr>\n",
       "      <th>1</th>\n",
       "      <td>11520833</td>\n",
       "      <td>13.394744</td>\n",
       "      <td>12.166445</td>\n",
       "      <td>61.564970</td>\n",
       "      <td>20.024795</td>\n",
       "      <td>69.369407</td>\n",
       "      <td>20.072799</td>\n",
       "      <td>17.624535</td>\n",
       "      <td>12.654190</td>\n",
       "      <td>11.357404</td>\n",
       "      <td>8.042111</td>\n",
       "      <td>9.383317</td>\n",
       "    </tr>\n",
       "    <tr>\n",
       "      <th>2</th>\n",
       "      <td>1223036636</td>\n",
       "      <td>33.588946</td>\n",
       "      <td>34.317378</td>\n",
       "      <td>57.363681</td>\n",
       "      <td>16.931880</td>\n",
       "      <td>65.370106</td>\n",
       "      <td>10.918731</td>\n",
       "      <td>13.652699</td>\n",
       "      <td>6.442891</td>\n",
       "      <td>25.830939</td>\n",
       "      <td>15.435058</td>\n",
       "      <td>26.030851</td>\n",
       "    </tr>\n",
       "    <tr>\n",
       "      <th>3</th>\n",
       "      <td>1224423305</td>\n",
       "      <td>0.000000</td>\n",
       "      <td>0.000000</td>\n",
       "      <td>79.712158</td>\n",
       "      <td>0.000000</td>\n",
       "      <td>7.883594</td>\n",
       "      <td>6.800479</td>\n",
       "      <td>13.652699</td>\n",
       "      <td>26.318949</td>\n",
       "      <td>25.830939</td>\n",
       "      <td>15.435058</td>\n",
       "      <td>26.030851</td>\n",
       "    </tr>\n",
       "    <tr>\n",
       "      <th>4</th>\n",
       "      <td>1249457735</td>\n",
       "      <td>12.545506</td>\n",
       "      <td>11.659811</td>\n",
       "      <td>78.139765</td>\n",
       "      <td>6.033681</td>\n",
       "      <td>77.297940</td>\n",
       "      <td>14.779954</td>\n",
       "      <td>29.972588</td>\n",
       "      <td>10.627847</td>\n",
       "      <td>0.293577</td>\n",
       "      <td>2.607133</td>\n",
       "      <td>12.053385</td>\n",
       "    </tr>\n",
       "  </tbody>\n",
       "</table>\n",
       "</div>"
      ],
      "text/plain": [
       "      user_id  face_beard_calc  face_mustache_calc  face_smile_calc  \\\n",
       "0  1097967773         5.712069            4.950925        65.763703   \n",
       "1    11520833        13.394744           12.166445        61.564970   \n",
       "2  1223036636        33.588946           34.317378        57.363681   \n",
       "3  1224423305         0.000000            0.000000        79.712158   \n",
       "4  1249457735        12.545506           11.659811        78.139765   \n",
       "\n",
       "   eyeglasses_calc      HAPPY        SAD  SURPRISED   CONFUSED  DISGUSTED  \\\n",
       "0         9.702721  67.133565  14.129781  20.193410   8.965610   7.976685   \n",
       "1        20.024795  69.369407  20.072799  17.624535  12.654190  11.357404   \n",
       "2        16.931880  65.370106  10.918731  13.652699   6.442891  25.830939   \n",
       "3         0.000000   7.883594   6.800479  13.652699  26.318949  25.830939   \n",
       "4         6.033681  77.297940  14.779954  29.972588  10.627847   0.293577   \n",
       "\n",
       "        CALM      ANGRY  \n",
       "0   5.412451  11.887474  \n",
       "1   8.042111   9.383317  \n",
       "2  15.435058  26.030851  \n",
       "3  15.435058  26.030851  \n",
       "4   2.607133  12.053385  "
      ]
     },
     "execution_count": 374,
     "metadata": {},
     "output_type": "execute_result"
    }
   ],
   "source": [
    "X_train.head()"
   ]
  },
  {
   "cell_type": "code",
   "execution_count": 375,
   "metadata": {},
   "outputs": [
    {
     "data": {
      "text/plain": [
       "0    6.0\n",
       "1    7.0\n",
       "2    8.0\n",
       "3    9.0\n",
       "4    6.0\n",
       "Name: P, dtype: float64"
      ]
     },
     "execution_count": 375,
     "metadata": {},
     "output_type": "execute_result"
    }
   ],
   "source": [
    "Y_train.head()"
   ]
  },
  {
   "cell_type": "markdown",
   "metadata": {},
   "source": [
    "#### Fitting the linear model"
   ]
  },
  {
   "cell_type": "code",
   "execution_count": 376,
   "metadata": {},
   "outputs": [],
   "source": [
    "from sklearn.linear_model import LinearRegression\n",
    "from sklearn import datasets, linear_model\n",
    "from sklearn.metrics import mean_squared_error, r2_score"
   ]
  },
  {
   "cell_type": "code",
   "execution_count": 387,
   "metadata": {
    "collapsed": true
   },
   "outputs": [],
   "source": [
    "# Create linear regression object\n",
    "regr = linear_model.LinearRegression()"
   ]
  },
  {
   "cell_type": "code",
   "execution_count": 388,
   "metadata": {},
   "outputs": [
    {
     "data": {
      "text/plain": [
       "LinearRegression(copy_X=True, fit_intercept=True, n_jobs=1, normalize=False)"
      ]
     },
     "execution_count": 388,
     "metadata": {},
     "output_type": "execute_result"
    }
   ],
   "source": [
    "# Train the model using the training sets\n",
    "regr.fit(X_train, Y_train)"
   ]
  },
  {
   "cell_type": "code",
   "execution_count": 389,
   "metadata": {
    "collapsed": true
   },
   "outputs": [],
   "source": [
    "# Make predictions using the testing set\n",
    "Y_pred = regr.predict(X_test)"
   ]
  },
  {
   "cell_type": "code",
   "execution_count": 390,
   "metadata": {},
   "outputs": [
    {
     "data": {
      "text/plain": [
       "(60, 60)"
      ]
     },
     "execution_count": 390,
     "metadata": {},
     "output_type": "execute_result"
    }
   ],
   "source": [
    "len(Y_test), len(X_test)"
   ]
  },
  {
   "cell_type": "code",
   "execution_count": 391,
   "metadata": {},
   "outputs": [
    {
     "data": {
      "text/plain": [
       "array([ 5.92052767,  6.70157349,  7.14395718,  6.64873255,  6.39952208,\n",
       "        6.13244034,  6.21594484,  6.59756735,  7.00583819,  6.98723506,\n",
       "        7.59043559,  6.05450277,  6.27144403,  6.13029253,  4.66270625,\n",
       "        6.64834023,  6.10130259,  6.33617254,  6.99215267,  6.23354485,\n",
       "        5.38961252,  6.37179065,  5.76147933,  8.03230121,  7.92693189,\n",
       "        6.0816802 ,  5.56162882,  6.27089846,  6.60939852,  6.33917426,\n",
       "        6.52253052,  6.73399127,  6.69402653,  7.01650046,  6.29126332,\n",
       "        7.94963531,  6.74778723,  6.82835838,  6.95504596,  6.36633941,\n",
       "        6.58838541,  6.56980423,  6.5569625 ,  6.40402139,  6.58693048,\n",
       "        6.68080986,  6.6164224 ,  6.13587947,  8.19709173,  6.39587825,\n",
       "        6.06891359,  6.74315724,  6.24215143,  6.24215143,  6.24215143,\n",
       "        6.24215143,  6.90463441,  6.5133362 ,  6.45650219,  7.68214797])"
      ]
     },
     "execution_count": 391,
     "metadata": {},
     "output_type": "execute_result"
    }
   ],
   "source": [
    "Y_pred"
   ]
  },
  {
   "cell_type": "code",
   "execution_count": 392,
   "metadata": {},
   "outputs": [
    {
     "data": {
      "image/png": "[encoded data removed]",
      "text/plain": [
       "<matplotlib.figure.Figure at 0x7fef3b1a98d0>"
      ]
     },
     "metadata": {},
     "output_type": "display_data"
    }
   ],
   "source": [
    "plt.scatter(Y_pred, Y_test)\n",
    "plt.show()"
   ]
  },
  {
   "cell_type": "code",
   "execution_count": 402,
   "metadata": {},
   "outputs": [
    {
     "name": "stdout",
     "output_type": "stream",
     "text": [
      "Coefficients: \n",
      " [ -8.48011763e-11  -7.61238903e-04   3.63659089e-03   1.32191205e-02\n",
      "  -1.53536575e-02  -1.25283371e-02  -4.22996005e-02   1.71573586e-03\n",
      "  -1.61240371e-02   6.58604392e-02  -2.75686408e-02   3.34875283e-02]\n",
      "Mean squared error: 3.38\n",
      "Variance score: 0.10\n"
     ]
    }
   ],
   "source": [
    "# The coefficients\n",
    "print('Coefficients: \\n', regr.coef_)\n",
    "# The mean squared error\n",
    "print(\"Mean squared error: %.2f\"\n",
    "      % mean_squared_error(Y_test, Y_pred))\n",
    "# Explained variance score: 1 is perfect prediction\n",
    "print('Variance score: %.2f' % r2_score(Y_test, Y_pred))"
   ]
  },
  {
   "cell_type": "code",
   "execution_count": 394,
   "metadata": {},
   "outputs": [
    {
     "data": {
      "image/png": "[encoded data removed]",
      "text/plain": [
       "<matplotlib.figure.Figure at 0x7fef3b103518>"
      ]
     },
     "metadata": {},
     "output_type": "display_data"
    }
   ],
   "source": [
    "plt.scatter(X_train['HAPPY'], Y_train)\n",
    "plt.xlabel(\"Disgusted\")\n",
    "plt.ylabel(\"PERMA score\")\n",
    "plt.title(\"Relationship between Disgusted and PERMA score\")\n",
    "plt.show()\n",
    "# As can be seen that there is a positive correlation between RM and housing prices."
   ]
  },
  {
   "cell_type": "code",
   "execution_count": 395,
   "metadata": {},
   "outputs": [
    {
     "data": {
      "text/plain": [
       "array([ 5.92052767,  6.70157349,  7.14395718,  6.64873255,  6.39952208])"
      ]
     },
     "execution_count": 395,
     "metadata": {},
     "output_type": "execute_result"
    }
   ],
   "source": [
    "lm.predict(X_test)[0:5]"
   ]
  },
  {
   "cell_type": "code",
   "execution_count": 406,
   "metadata": {},
   "outputs": [
    {
     "data": {
      "image/png": "[encoded data removed]",
      "text/plain": [
       "<matplotlib.figure.Figure at 0x7fef3b1605f8>"
      ]
     },
     "metadata": {},
     "output_type": "display_data"
    }
   ],
   "source": [
    "plt.scatter(Y_train, lm.predict(X_train))\n",
    "plt.xlabel(\"PERMA: $Y_i$\")\n",
    "plt.ylabel(\"Predicted PERMA: $\\hat{Y}_i$\")\n",
    "plt.title(\"PERMA vs Predicted PERMA: $Y_i$ vs $\\hat{Y}_i$\")\n",
    "plt.show()"
   ]
  },
  {
   "cell_type": "code",
   "execution_count": 407,
   "metadata": {},
   "outputs": [
    {
     "name": "stdout",
     "output_type": "stream",
     "text": [
      "-37.93042961746988\n"
     ]
    }
   ],
   "source": [
    "#We can notice that there is some error in  the prediction as the housing prices increase.\n",
    "#Lets calculate the mean squared error.\n",
    "mseFull = np.mean(Y_train - lm.predict(X_train)** 2)\n",
    "print(mseFull)"
   ]
  },
  {
   "cell_type": "code",
   "execution_count": null,
   "metadata": {
    "collapsed": true
   },
   "outputs": [],
   "source": []
  }
 ],
 "metadata": {
  "kernelspec": {
   "display_name": "Python [default]",
   "language": "python",
   "name": "python3"
  },
  "language_info": {
   "codemirror_mode": {
    "name": "ipython",
    "version": 3
   },
   "file_extension": ".py",
   "mimetype": "text/x-python",
   "name": "python",
   "nbconvert_exporter": "python",
   "pygments_lexer": "ipython3",
   "version": "3.5.3"
  }
 },
 "nbformat": 4,
 "nbformat_minor": 2
}
