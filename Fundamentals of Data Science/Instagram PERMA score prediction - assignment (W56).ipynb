{
 "cells": [
  {
   "cell_type": "markdown",
   "metadata": {},
   "source": [
    "\n",
    "Refer to the \"explore_questionnaire.pdf\" in the folder for detailed explanation of the dataset.\n",
    "\n",
    "<img src=\"./w56.png\"/>"
   ]
  },
  {
   "cell_type": "code",
   "execution_count": 1,
   "metadata": {
    "collapsed": true
   },
   "outputs": [],
   "source": [
    "import feather\n",
    "import numpy as np\n",
    "import pandas as pd\n",
    "import matplotlib.pyplot as plt\n",
    "from pandas.tools.plotting import scatter_matrix\n",
    "%matplotlib inline\n",
    "\n",
    "# Read feather frames to individual variables\n",
    "\n",
    "anp_df = feather.read_dataframe('data_science_case/anp.feather')\n",
    "face_df = feather.read_dataframe('data_science_case/face.feather')\n",
    "# image_df = feather.read_dataframe('data_science_case/image_data.feather')\n",
    "image_df = pd.read_csv('new_image_df.csv')\n",
    "del image_df['Unnamed: 0']\n",
    "metrics_df = feather.read_dataframe('data_science_case/image_metrics.feather')\n",
    "object_labels_df = feather.read_dataframe('data_science_case/object_labels.feather')\n",
    "survey_df = feather.read_dataframe('data_science_case/survey.feather')"
   ]
  },
  {
   "cell_type": "code",
   "execution_count": 2,
   "metadata": {
    "collapsed": true
   },
   "outputs": [],
   "source": [
    "images_per_user_id = pd.DataFrame(image_df.groupby('user_id').count()['user_posted_photos']).reset_index()"
   ]
  },
  {
   "cell_type": "code",
   "execution_count": 3,
   "metadata": {
    "collapsed": true
   },
   "outputs": [],
   "source": [
    "# Merge them based on the image_id so that we have a large data frame containing all the elements\n",
    "image_face_frame = pd.merge(image_df, face_df, how='inner', on='image_id')\n",
    "# image_anp_frame = pd.merge(image_df, anp_df, how='inner', on='image_id')\n",
    "# im_anp_obj_frame = pd.merge(image_anp_frame, object_labels_df, how='inner', on='image_id')\n",
    "# im_anp_obj_face_frame = pd.merge(im_anp_obj_frame, face_df, how='inner', on='image_id')\n",
    "# im_anp_obj_face_frame = pd.merge(im_anp_obj_frame, face_df, how='inner', on='image_id')"
   ]
  },
  {
   "cell_type": "code",
   "execution_count": 4,
   "metadata": {},
   "outputs": [
    {
     "data": {
      "text/plain": [
       "137"
      ]
     },
     "execution_count": 4,
     "metadata": {},
     "output_type": "execute_result"
    }
   ],
   "source": [
    "len(image_df['user_id'].unique())"
   ]
  },
  {
   "cell_type": "code",
   "execution_count": 5,
   "metadata": {},
   "outputs": [
    {
     "data": {
      "text/plain": [
       "123"
      ]
     },
     "execution_count": 5,
     "metadata": {},
     "output_type": "execute_result"
    }
   ],
   "source": [
    "len(image_face_frame['user_id'].unique())"
   ]
  },
  {
   "cell_type": "code",
   "execution_count": 6,
   "metadata": {},
   "outputs": [
    {
     "data": {
      "text/html": [
       "<div>\n",
       "<style>\n",
       "    .dataframe thead tr:only-child th {\n",
       "        text-align: right;\n",
       "    }\n",
       "\n",
       "    .dataframe thead th {\n",
       "        text-align: left;\n",
       "    }\n",
       "\n",
       "    .dataframe tbody tr th {\n",
       "        vertical-align: top;\n",
       "    }\n",
       "</style>\n",
       "<table border=\"1\" class=\"dataframe\">\n",
       "  <thead>\n",
       "    <tr style=\"text-align: right;\">\n",
       "      <th></th>\n",
       "      <th>id</th>\n",
       "      <th>gender</th>\n",
       "      <th>born</th>\n",
       "      <th>education</th>\n",
       "      <th>employed</th>\n",
       "      <th>income</th>\n",
       "      <th>A_2</th>\n",
       "      <th>N_1</th>\n",
       "      <th>P_1</th>\n",
       "      <th>E_1</th>\n",
       "      <th>...</th>\n",
       "      <th>P</th>\n",
       "      <th>E</th>\n",
       "      <th>R</th>\n",
       "      <th>M</th>\n",
       "      <th>A</th>\n",
       "      <th>PERMA</th>\n",
       "      <th>N_EMO</th>\n",
       "      <th>P_EMO</th>\n",
       "      <th>imagecount</th>\n",
       "      <th>private_account</th>\n",
       "    </tr>\n",
       "  </thead>\n",
       "  <tbody>\n",
       "    <tr>\n",
       "      <th>0</th>\n",
       "      <td>920bf027f7d13dbdc7b66b3d3324903c</td>\n",
       "      <td>Male</td>\n",
       "      <td>1975</td>\n",
       "      <td>College graduate</td>\n",
       "      <td>Employed for wages</td>\n",
       "      <td>$30,000 to $39,999</td>\n",
       "      <td>4</td>\n",
       "      <td>5</td>\n",
       "      <td>5</td>\n",
       "      <td>3</td>\n",
       "      <td>...</td>\n",
       "      <td>4</td>\n",
       "      <td>4</td>\n",
       "      <td>5</td>\n",
       "      <td>5</td>\n",
       "      <td>4</td>\n",
       "      <td>4</td>\n",
       "      <td>4</td>\n",
       "      <td>4</td>\n",
       "      <td>465</td>\n",
       "      <td>public</td>\n",
       "    </tr>\n",
       "    <tr>\n",
       "      <th>1</th>\n",
       "      <td>b433b2bfe49e28d0b7c45925b53084e0</td>\n",
       "      <td>Male</td>\n",
       "      <td>1978</td>\n",
       "      <td>College graduate</td>\n",
       "      <td>Employed for wages</td>\n",
       "      <td>$20,000 to $29,999</td>\n",
       "      <td>8</td>\n",
       "      <td>0</td>\n",
       "      <td>9</td>\n",
       "      <td>7</td>\n",
       "      <td>...</td>\n",
       "      <td>9</td>\n",
       "      <td>7</td>\n",
       "      <td>9</td>\n",
       "      <td>8</td>\n",
       "      <td>8</td>\n",
       "      <td>8</td>\n",
       "      <td>0</td>\n",
       "      <td>8</td>\n",
       "      <td>6</td>\n",
       "      <td>public</td>\n",
       "    </tr>\n",
       "    <tr>\n",
       "      <th>2</th>\n",
       "      <td>f4f54676f75f47c17dc434cf68845328</td>\n",
       "      <td>Female</td>\n",
       "      <td>1990</td>\n",
       "      <td>High school graduate</td>\n",
       "      <td>Employed for wages</td>\n",
       "      <td>$80,000 to $89,999</td>\n",
       "      <td>7</td>\n",
       "      <td>3</td>\n",
       "      <td>8</td>\n",
       "      <td>7</td>\n",
       "      <td>...</td>\n",
       "      <td>8</td>\n",
       "      <td>7</td>\n",
       "      <td>8</td>\n",
       "      <td>8</td>\n",
       "      <td>7</td>\n",
       "      <td>7</td>\n",
       "      <td>3</td>\n",
       "      <td>7</td>\n",
       "      <td>767</td>\n",
       "      <td>public</td>\n",
       "    </tr>\n",
       "    <tr>\n",
       "      <th>3</th>\n",
       "      <td>a27a5fc47a59f35761705330253a58e3</td>\n",
       "      <td>Male</td>\n",
       "      <td>1997</td>\n",
       "      <td>High school graduate</td>\n",
       "      <td>Employed for wages</td>\n",
       "      <td>$20,000 to $29,999</td>\n",
       "      <td>7</td>\n",
       "      <td>5</td>\n",
       "      <td>7</td>\n",
       "      <td>4</td>\n",
       "      <td>...</td>\n",
       "      <td>6</td>\n",
       "      <td>5</td>\n",
       "      <td>4</td>\n",
       "      <td>7</td>\n",
       "      <td>6</td>\n",
       "      <td>5</td>\n",
       "      <td>6</td>\n",
       "      <td>6</td>\n",
       "      <td>43</td>\n",
       "      <td>public</td>\n",
       "    </tr>\n",
       "    <tr>\n",
       "      <th>4</th>\n",
       "      <td>0a1002b2232a4ecbde604462f6d84bf9</td>\n",
       "      <td>Female</td>\n",
       "      <td>1993</td>\n",
       "      <td>College graduate</td>\n",
       "      <td>A student</td>\n",
       "      <td>$20,000 to $29,999</td>\n",
       "      <td>7</td>\n",
       "      <td>5</td>\n",
       "      <td>7</td>\n",
       "      <td>4</td>\n",
       "      <td>...</td>\n",
       "      <td>6</td>\n",
       "      <td>6</td>\n",
       "      <td>6</td>\n",
       "      <td>7</td>\n",
       "      <td>7</td>\n",
       "      <td>6</td>\n",
       "      <td>3</td>\n",
       "      <td>7</td>\n",
       "      <td>73</td>\n",
       "      <td>public</td>\n",
       "    </tr>\n",
       "  </tbody>\n",
       "</table>\n",
       "<p>5 rows × 45 columns</p>\n",
       "</div>"
      ],
      "text/plain": [
       "                                 id  gender  born             education  \\\n",
       "0  920bf027f7d13dbdc7b66b3d3324903c    Male  1975      College graduate   \n",
       "1  b433b2bfe49e28d0b7c45925b53084e0    Male  1978      College graduate   \n",
       "2  f4f54676f75f47c17dc434cf68845328  Female  1990  High school graduate   \n",
       "3  a27a5fc47a59f35761705330253a58e3    Male  1997  High school graduate   \n",
       "4  0a1002b2232a4ecbde604462f6d84bf9  Female  1993      College graduate   \n",
       "\n",
       "             employed              income  A_2  N_1  P_1  E_1  \\\n",
       "0  Employed for wages  $30,000 to $39,999    4    5    5    3   \n",
       "1  Employed for wages  $20,000 to $29,999    8    0    9    7   \n",
       "2  Employed for wages  $80,000 to $89,999    7    3    8    7   \n",
       "3  Employed for wages  $20,000 to $29,999    7    5    7    4   \n",
       "4           A student  $20,000 to $29,999    7    5    7    4   \n",
       "\n",
       "        ...         P  E  R  M  A  PERMA  N_EMO  P_EMO  imagecount  \\\n",
       "0       ...         4  4  5  5  4      4      4      4         465   \n",
       "1       ...         9  7  9  8  8      8      0      8           6   \n",
       "2       ...         8  7  8  8  7      7      3      7         767   \n",
       "3       ...         6  5  4  7  6      5      6      6          43   \n",
       "4       ...         6  6  6  7  7      6      3      7          73   \n",
       "\n",
       "   private_account  \n",
       "0           public  \n",
       "1           public  \n",
       "2           public  \n",
       "3           public  \n",
       "4           public  \n",
       "\n",
       "[5 rows x 45 columns]"
      ]
     },
     "execution_count": 6,
     "metadata": {},
     "output_type": "execute_result"
    }
   ],
   "source": [
    "# survey_df = survey_df[survey_df['imagecount'] > 0]\n",
    "survey_df = pd.read_csv('perma.csv')\n",
    "del survey_df['Unnamed: 0']\n",
    "survey_df.head()"
   ]
  },
  {
   "cell_type": "code",
   "execution_count": 7,
   "metadata": {},
   "outputs": [
    {
     "data": {
      "text/plain": [
       "HAPPY        26311\n",
       "SAD          15624\n",
       "SURPRISED    12019\n",
       "CONFUSED     11115\n",
       "ANGRY         8960\n",
       "CALM          8460\n",
       "DISGUSTED     4388\n",
       "Name: face_emo, dtype: int64"
      ]
     },
     "execution_count": 7,
     "metadata": {},
     "output_type": "execute_result"
    }
   ],
   "source": [
    "face_df['face_emo'].value_counts()"
   ]
  },
  {
   "cell_type": "markdown",
   "metadata": {},
   "source": [
    "# Boolean vars"
   ]
  },
  {
   "cell_type": "code",
   "execution_count": 8,
   "metadata": {},
   "outputs": [
    {
     "data": {
      "text/plain": [
       "<matplotlib.axes._subplots.AxesSubplot at 0x7f7ad2429da0>"
      ]
     },
     "execution_count": 8,
     "metadata": {},
     "output_type": "execute_result"
    },
    {
     "data": {
      "image/png": "[encoded data removed]",
      "text/plain": [
       "<matplotlib.figure.Figure at 0x7f7ad243c6a0>"
      ]
     },
     "metadata": {},
     "output_type": "display_data"
    }
   ],
   "source": [
    "face_df['face_mustache_confidence'].plot(kind='hist')"
   ]
  },
  {
   "cell_type": "code",
   "execution_count": 9,
   "metadata": {},
   "outputs": [
    {
     "data": {
      "text/plain": [
       "0.082910321489001695"
      ]
     },
     "execution_count": 9,
     "metadata": {},
     "output_type": "execute_result"
    }
   ],
   "source": [
    "(face_df['face_mustache_confidence'] < 75).sum() / len(face_df['face_mustache_confidence'])"
   ]
  },
  {
   "cell_type": "code",
   "execution_count": 10,
   "metadata": {},
   "outputs": [
    {
     "data": {
      "text/plain": [
       "0.074173831969335954"
      ]
     },
     "execution_count": 10,
     "metadata": {},
     "output_type": "execute_result"
    }
   ],
   "source": [
    "(face_df['eyeglasses_confidence'] < 75).sum() / len(face_df['eyeglasses_confidence'])"
   ]
  },
  {
   "cell_type": "code",
   "execution_count": 11,
   "metadata": {},
   "outputs": [
    {
     "data": {
      "text/plain": [
       "0.09475465313028765"
      ]
     },
     "execution_count": 11,
     "metadata": {},
     "output_type": "execute_result"
    }
   ],
   "source": [
    "(face_df['face_beard_confidence'] < 75).sum() / len(face_df['face_beard_confidence'])"
   ]
  },
  {
   "cell_type": "code",
   "execution_count": 12,
   "metadata": {
    "collapsed": true
   },
   "outputs": [],
   "source": [
    "boolean_columns = ['face_beard', 'face_mustache', 'face_smile', 'eyeglasses']"
   ]
  },
  {
   "cell_type": "code",
   "execution_count": 13,
   "metadata": {
    "collapsed": true
   },
   "outputs": [],
   "source": [
    "image_face_frame[boolean_columns] =  image_face_frame[boolean_columns].astype(int)"
   ]
  },
  {
   "cell_type": "code",
   "execution_count": 14,
   "metadata": {},
   "outputs": [
    {
     "data": {
      "text/html": [
       "<div>\n",
       "<style>\n",
       "    .dataframe thead tr:only-child th {\n",
       "        text-align: right;\n",
       "    }\n",
       "\n",
       "    .dataframe thead th {\n",
       "        text-align: left;\n",
       "    }\n",
       "\n",
       "    .dataframe tbody tr th {\n",
       "        vertical-align: top;\n",
       "    }\n",
       "</style>\n",
       "<table border=\"1\" class=\"dataframe\">\n",
       "  <thead>\n",
       "    <tr style=\"text-align: right;\">\n",
       "      <th></th>\n",
       "      <th>face_beard</th>\n",
       "      <th>face_mustache</th>\n",
       "      <th>face_smile</th>\n",
       "      <th>eyeglasses</th>\n",
       "    </tr>\n",
       "  </thead>\n",
       "  <tbody>\n",
       "    <tr>\n",
       "      <th>0</th>\n",
       "      <td>0</td>\n",
       "      <td>0</td>\n",
       "      <td>1</td>\n",
       "      <td>0</td>\n",
       "    </tr>\n",
       "    <tr>\n",
       "      <th>1</th>\n",
       "      <td>0</td>\n",
       "      <td>0</td>\n",
       "      <td>1</td>\n",
       "      <td>0</td>\n",
       "    </tr>\n",
       "    <tr>\n",
       "      <th>2</th>\n",
       "      <td>0</td>\n",
       "      <td>0</td>\n",
       "      <td>1</td>\n",
       "      <td>0</td>\n",
       "    </tr>\n",
       "    <tr>\n",
       "      <th>3</th>\n",
       "      <td>0</td>\n",
       "      <td>0</td>\n",
       "      <td>1</td>\n",
       "      <td>0</td>\n",
       "    </tr>\n",
       "    <tr>\n",
       "      <th>4</th>\n",
       "      <td>0</td>\n",
       "      <td>0</td>\n",
       "      <td>1</td>\n",
       "      <td>0</td>\n",
       "    </tr>\n",
       "  </tbody>\n",
       "</table>\n",
       "</div>"
      ],
      "text/plain": [
       "   face_beard  face_mustache  face_smile  eyeglasses\n",
       "0           0              0           1           0\n",
       "1           0              0           1           0\n",
       "2           0              0           1           0\n",
       "3           0              0           1           0\n",
       "4           0              0           1           0"
      ]
     },
     "execution_count": 14,
     "metadata": {},
     "output_type": "execute_result"
    }
   ],
   "source": [
    "image_face_frame[boolean_columns].head()"
   ]
  },
  {
   "cell_type": "code",
   "execution_count": 15,
   "metadata": {},
   "outputs": [
    {
     "data": {
      "text/html": [
       "<div>\n",
       "<style>\n",
       "    .dataframe thead tr:only-child th {\n",
       "        text-align: right;\n",
       "    }\n",
       "\n",
       "    .dataframe thead th {\n",
       "        text-align: left;\n",
       "    }\n",
       "\n",
       "    .dataframe tbody tr th {\n",
       "        vertical-align: top;\n",
       "    }\n",
       "</style>\n",
       "<table border=\"1\" class=\"dataframe\">\n",
       "  <thead>\n",
       "    <tr style=\"text-align: right;\">\n",
       "      <th></th>\n",
       "      <th>user_id</th>\n",
       "      <th>P</th>\n",
       "    </tr>\n",
       "  </thead>\n",
       "  <tbody>\n",
       "    <tr>\n",
       "      <th>0</th>\n",
       "      <td>619868570</td>\n",
       "      <td>4</td>\n",
       "    </tr>\n",
       "    <tr>\n",
       "      <th>1</th>\n",
       "      <td>187920333</td>\n",
       "      <td>9</td>\n",
       "    </tr>\n",
       "    <tr>\n",
       "      <th>2</th>\n",
       "      <td>33420910</td>\n",
       "      <td>8</td>\n",
       "    </tr>\n",
       "    <tr>\n",
       "      <th>3</th>\n",
       "      <td>2143580844</td>\n",
       "      <td>6</td>\n",
       "    </tr>\n",
       "    <tr>\n",
       "      <th>4</th>\n",
       "      <td>263042348</td>\n",
       "      <td>6</td>\n",
       "    </tr>\n",
       "  </tbody>\n",
       "</table>\n",
       "</div>"
      ],
      "text/plain": [
       "      user_id  P\n",
       "0   619868570  4\n",
       "1   187920333  9\n",
       "2    33420910  8\n",
       "3  2143580844  6\n",
       "4   263042348  6"
      ]
     },
     "execution_count": 15,
     "metadata": {},
     "output_type": "execute_result"
    }
   ],
   "source": [
    "survey_user_with_perma_df = survey_df[['insta_user_id', 'P']]\n",
    "survey_user_with_perma_df = survey_user_with_perma_df.rename(columns={'insta_user_id': 'user_id'})\n",
    "survey_user_with_perma_df['user_id'] = survey_user_with_perma_df['user_id'].astype(int)\n",
    "survey_user_with_perma_df.head()"
   ]
  },
  {
   "cell_type": "code",
   "execution_count": 16,
   "metadata": {},
   "outputs": [
    {
     "data": {
      "text/plain": [
       "160"
      ]
     },
     "execution_count": 16,
     "metadata": {},
     "output_type": "execute_result"
    }
   ],
   "source": [
    "len(survey_user_with_perma_df['user_id'].unique())"
   ]
  },
  {
   "cell_type": "code",
   "execution_count": 17,
   "metadata": {},
   "outputs": [
    {
     "data": {
      "text/html": [
       "<div>\n",
       "<style>\n",
       "    .dataframe thead tr:only-child th {\n",
       "        text-align: right;\n",
       "    }\n",
       "\n",
       "    .dataframe thead th {\n",
       "        text-align: left;\n",
       "    }\n",
       "\n",
       "    .dataframe tbody tr th {\n",
       "        vertical-align: top;\n",
       "    }\n",
       "</style>\n",
       "<table border=\"1\" class=\"dataframe\">\n",
       "  <thead>\n",
       "    <tr style=\"text-align: right;\">\n",
       "      <th></th>\n",
       "      <th>user_id</th>\n",
       "      <th>face_beard</th>\n",
       "      <th>face_mustache</th>\n",
       "      <th>face_smile</th>\n",
       "      <th>eyeglasses</th>\n",
       "    </tr>\n",
       "  </thead>\n",
       "  <tbody>\n",
       "    <tr>\n",
       "      <th>0</th>\n",
       "      <td>1619510</td>\n",
       "      <td>0.166667</td>\n",
       "      <td>0.155556</td>\n",
       "      <td>0.788889</td>\n",
       "      <td>0.666667</td>\n",
       "    </tr>\n",
       "    <tr>\n",
       "      <th>1</th>\n",
       "      <td>2829661</td>\n",
       "      <td>1.000000</td>\n",
       "      <td>1.000000</td>\n",
       "      <td>0.000000</td>\n",
       "      <td>0.000000</td>\n",
       "    </tr>\n",
       "    <tr>\n",
       "      <th>2</th>\n",
       "      <td>3069744</td>\n",
       "      <td>0.714286</td>\n",
       "      <td>0.142857</td>\n",
       "      <td>0.714286</td>\n",
       "      <td>0.285714</td>\n",
       "    </tr>\n",
       "    <tr>\n",
       "      <th>3</th>\n",
       "      <td>3988856</td>\n",
       "      <td>0.192308</td>\n",
       "      <td>0.230769</td>\n",
       "      <td>0.653846</td>\n",
       "      <td>0.153846</td>\n",
       "    </tr>\n",
       "    <tr>\n",
       "      <th>4</th>\n",
       "      <td>6734387</td>\n",
       "      <td>0.200000</td>\n",
       "      <td>0.171429</td>\n",
       "      <td>0.742857</td>\n",
       "      <td>0.457143</td>\n",
       "    </tr>\n",
       "  </tbody>\n",
       "</table>\n",
       "</div>"
      ],
      "text/plain": [
       "   user_id  face_beard  face_mustache  face_smile  eyeglasses\n",
       "0  1619510    0.166667       0.155556    0.788889    0.666667\n",
       "1  2829661    1.000000       1.000000    0.000000    0.000000\n",
       "2  3069744    0.714286       0.142857    0.714286    0.285714\n",
       "3  3988856    0.192308       0.230769    0.653846    0.153846\n",
       "4  6734387    0.200000       0.171429    0.742857    0.457143"
      ]
     },
     "execution_count": 17,
     "metadata": {},
     "output_type": "execute_result"
    }
   ],
   "source": [
    "face_df_boolean = image_face_frame.groupby('user_id')[boolean_columns].mean().reset_index()\n",
    "face_df_boolean['user_id'] = face_df_boolean['user_id'].astype(int)\n",
    "face_df_boolean.head()"
   ]
  },
  {
   "cell_type": "code",
   "execution_count": 18,
   "metadata": {},
   "outputs": [
    {
     "data": {
      "text/plain": [
       "123"
      ]
     },
     "execution_count": 18,
     "metadata": {},
     "output_type": "execute_result"
    }
   ],
   "source": [
    "len(face_df_boolean['user_id'].unique())"
   ]
  },
  {
   "cell_type": "code",
   "execution_count": 19,
   "metadata": {},
   "outputs": [
    {
     "data": {
      "text/html": [
       "<div>\n",
       "<style>\n",
       "    .dataframe thead tr:only-child th {\n",
       "        text-align: right;\n",
       "    }\n",
       "\n",
       "    .dataframe thead th {\n",
       "        text-align: left;\n",
       "    }\n",
       "\n",
       "    .dataframe tbody tr th {\n",
       "        vertical-align: top;\n",
       "    }\n",
       "</style>\n",
       "<table border=\"1\" class=\"dataframe\">\n",
       "  <thead>\n",
       "    <tr style=\"text-align: right;\">\n",
       "      <th></th>\n",
       "      <th>user_id</th>\n",
       "      <th>face_beard</th>\n",
       "      <th>face_mustache</th>\n",
       "      <th>face_smile</th>\n",
       "      <th>eyeglasses</th>\n",
       "      <th>P</th>\n",
       "    </tr>\n",
       "  </thead>\n",
       "  <tbody>\n",
       "    <tr>\n",
       "      <th>0</th>\n",
       "      <td>1619510</td>\n",
       "      <td>0.166667</td>\n",
       "      <td>0.155556</td>\n",
       "      <td>0.788889</td>\n",
       "      <td>0.666667</td>\n",
       "      <td>3</td>\n",
       "    </tr>\n",
       "    <tr>\n",
       "      <th>1</th>\n",
       "      <td>2829661</td>\n",
       "      <td>1.000000</td>\n",
       "      <td>1.000000</td>\n",
       "      <td>0.000000</td>\n",
       "      <td>0.000000</td>\n",
       "      <td>8</td>\n",
       "    </tr>\n",
       "    <tr>\n",
       "      <th>2</th>\n",
       "      <td>3069744</td>\n",
       "      <td>0.714286</td>\n",
       "      <td>0.142857</td>\n",
       "      <td>0.714286</td>\n",
       "      <td>0.285714</td>\n",
       "      <td>5</td>\n",
       "    </tr>\n",
       "    <tr>\n",
       "      <th>3</th>\n",
       "      <td>3988856</td>\n",
       "      <td>0.192308</td>\n",
       "      <td>0.230769</td>\n",
       "      <td>0.653846</td>\n",
       "      <td>0.153846</td>\n",
       "      <td>10</td>\n",
       "    </tr>\n",
       "    <tr>\n",
       "      <th>4</th>\n",
       "      <td>6734387</td>\n",
       "      <td>0.200000</td>\n",
       "      <td>0.171429</td>\n",
       "      <td>0.742857</td>\n",
       "      <td>0.457143</td>\n",
       "      <td>6</td>\n",
       "    </tr>\n",
       "  </tbody>\n",
       "</table>\n",
       "</div>"
      ],
      "text/plain": [
       "   user_id  face_beard  face_mustache  face_smile  eyeglasses   P\n",
       "0  1619510    0.166667       0.155556    0.788889    0.666667   3\n",
       "1  2829661    1.000000       1.000000    0.000000    0.000000   8\n",
       "2  3069744    0.714286       0.142857    0.714286    0.285714   5\n",
       "3  3988856    0.192308       0.230769    0.653846    0.153846  10\n",
       "4  6734387    0.200000       0.171429    0.742857    0.457143   6"
      ]
     },
     "execution_count": 19,
     "metadata": {},
     "output_type": "execute_result"
    }
   ],
   "source": [
    "face_df_boolean_with_p = pd.merge(face_df_boolean, survey_user_with_perma_df, how='left', on='user_id')\n",
    "face_df_boolean_with_p.head()"
   ]
  },
  {
   "cell_type": "code",
   "execution_count": 20,
   "metadata": {},
   "outputs": [
    {
     "data": {
      "text/html": [
       "<div>\n",
       "<style>\n",
       "    .dataframe thead tr:only-child th {\n",
       "        text-align: right;\n",
       "    }\n",
       "\n",
       "    .dataframe thead th {\n",
       "        text-align: left;\n",
       "    }\n",
       "\n",
       "    .dataframe tbody tr th {\n",
       "        vertical-align: top;\n",
       "    }\n",
       "</style>\n",
       "<table border=\"1\" class=\"dataframe\">\n",
       "  <thead>\n",
       "    <tr style=\"text-align: right;\">\n",
       "      <th></th>\n",
       "      <th>user_id</th>\n",
       "      <th>face_beard</th>\n",
       "      <th>face_mustache</th>\n",
       "      <th>face_smile</th>\n",
       "      <th>eyeglasses</th>\n",
       "      <th>P</th>\n",
       "    </tr>\n",
       "  </thead>\n",
       "  <tbody>\n",
       "    <tr>\n",
       "      <th>user_id</th>\n",
       "      <td>1.000000</td>\n",
       "      <td>0.051900</td>\n",
       "      <td>0.028617</td>\n",
       "      <td>0.026484</td>\n",
       "      <td>0.210351</td>\n",
       "      <td>0.033954</td>\n",
       "    </tr>\n",
       "    <tr>\n",
       "      <th>face_beard</th>\n",
       "      <td>0.051900</td>\n",
       "      <td>1.000000</td>\n",
       "      <td>0.886453</td>\n",
       "      <td>-0.112683</td>\n",
       "      <td>0.405870</td>\n",
       "      <td>0.051272</td>\n",
       "    </tr>\n",
       "    <tr>\n",
       "      <th>face_mustache</th>\n",
       "      <td>0.028617</td>\n",
       "      <td>0.886453</td>\n",
       "      <td>1.000000</td>\n",
       "      <td>-0.096967</td>\n",
       "      <td>0.377825</td>\n",
       "      <td>0.077155</td>\n",
       "    </tr>\n",
       "    <tr>\n",
       "      <th>face_smile</th>\n",
       "      <td>0.026484</td>\n",
       "      <td>-0.112683</td>\n",
       "      <td>-0.096967</td>\n",
       "      <td>1.000000</td>\n",
       "      <td>0.089211</td>\n",
       "      <td>0.065684</td>\n",
       "    </tr>\n",
       "    <tr>\n",
       "      <th>eyeglasses</th>\n",
       "      <td>0.210351</td>\n",
       "      <td>0.405870</td>\n",
       "      <td>0.377825</td>\n",
       "      <td>0.089211</td>\n",
       "      <td>1.000000</td>\n",
       "      <td>-0.124785</td>\n",
       "    </tr>\n",
       "    <tr>\n",
       "      <th>P</th>\n",
       "      <td>0.033954</td>\n",
       "      <td>0.051272</td>\n",
       "      <td>0.077155</td>\n",
       "      <td>0.065684</td>\n",
       "      <td>-0.124785</td>\n",
       "      <td>1.000000</td>\n",
       "    </tr>\n",
       "  </tbody>\n",
       "</table>\n",
       "</div>"
      ],
      "text/plain": [
       "                user_id  face_beard  face_mustache  face_smile  eyeglasses  \\\n",
       "user_id        1.000000    0.051900       0.028617    0.026484    0.210351   \n",
       "face_beard     0.051900    1.000000       0.886453   -0.112683    0.405870   \n",
       "face_mustache  0.028617    0.886453       1.000000   -0.096967    0.377825   \n",
       "face_smile     0.026484   -0.112683      -0.096967    1.000000    0.089211   \n",
       "eyeglasses     0.210351    0.405870       0.377825    0.089211    1.000000   \n",
       "P              0.033954    0.051272       0.077155    0.065684   -0.124785   \n",
       "\n",
       "                      P  \n",
       "user_id        0.033954  \n",
       "face_beard     0.051272  \n",
       "face_mustache  0.077155  \n",
       "face_smile     0.065684  \n",
       "eyeglasses    -0.124785  \n",
       "P              1.000000  "
      ]
     },
     "execution_count": 20,
     "metadata": {},
     "output_type": "execute_result"
    }
   ],
   "source": [
    "face_df_boolean_with_p.corr()"
   ]
  },
  {
   "cell_type": "markdown",
   "metadata": {},
   "source": [
    "# Emotion vars"
   ]
  },
  {
   "cell_type": "code",
   "execution_count": 21,
   "metadata": {},
   "outputs": [
    {
     "name": "stderr",
     "output_type": "stream",
     "text": [
      "/home/jo/anaconda3/lib/python3.5/site-packages/ipykernel/__main__.py:2: SettingWithCopyWarning: \n",
      "A value is trying to be set on a copy of a slice from a DataFrame.\n",
      "Try using .loc[row_indexer,col_indexer] = value instead\n",
      "\n",
      "See the caveats in the documentation: http://pandas.pydata.org/pandas-docs/stable/indexing.html#indexing-view-versus-copy\n",
      "  from ipykernel import kernelapp as app\n"
     ]
    },
    {
     "data": {
      "text/html": [
       "<div>\n",
       "<style>\n",
       "    .dataframe thead tr:only-child th {\n",
       "        text-align: right;\n",
       "    }\n",
       "\n",
       "    .dataframe thead th {\n",
       "        text-align: left;\n",
       "    }\n",
       "\n",
       "    .dataframe tbody tr th {\n",
       "        vertical-align: top;\n",
       "    }\n",
       "</style>\n",
       "<table border=\"1\" class=\"dataframe\">\n",
       "  <thead>\n",
       "    <tr style=\"text-align: right;\">\n",
       "      <th></th>\n",
       "      <th>user_id</th>\n",
       "      <th>face_emo</th>\n",
       "    </tr>\n",
       "  </thead>\n",
       "  <tbody>\n",
       "    <tr>\n",
       "      <th>0</th>\n",
       "      <td>263042348</td>\n",
       "      <td>HAPPY</td>\n",
       "    </tr>\n",
       "    <tr>\n",
       "      <th>1</th>\n",
       "      <td>263042348</td>\n",
       "      <td>ANGRY</td>\n",
       "    </tr>\n",
       "    <tr>\n",
       "      <th>2</th>\n",
       "      <td>263042348</td>\n",
       "      <td>SAD</td>\n",
       "    </tr>\n",
       "    <tr>\n",
       "      <th>3</th>\n",
       "      <td>263042348</td>\n",
       "      <td>ANGRY</td>\n",
       "    </tr>\n",
       "    <tr>\n",
       "      <th>4</th>\n",
       "      <td>263042348</td>\n",
       "      <td>HAPPY</td>\n",
       "    </tr>\n",
       "  </tbody>\n",
       "</table>\n",
       "</div>"
      ],
      "text/plain": [
       "     user_id face_emo\n",
       "0  263042348    HAPPY\n",
       "1  263042348    ANGRY\n",
       "2  263042348      SAD\n",
       "3  263042348    ANGRY\n",
       "4  263042348    HAPPY"
      ]
     },
     "execution_count": 21,
     "metadata": {},
     "output_type": "execute_result"
    }
   ],
   "source": [
    "face_emotion_df = image_face_frame[['user_id', 'face_emo']]\n",
    "face_emotion_df['user_id'] = face_emotion_df['user_id'].astype(int)\n",
    "face_emotion_df.head()"
   ]
  },
  {
   "cell_type": "code",
   "execution_count": 22,
   "metadata": {},
   "outputs": [
    {
     "name": "stderr",
     "output_type": "stream",
     "text": [
      "/home/jo/anaconda3/lib/python3.5/site-packages/ipykernel/__main__.py:2: SettingWithCopyWarning: \n",
      "A value is trying to be set on a copy of a slice from a DataFrame.\n",
      "Try using .loc[row_indexer,col_indexer] = value instead\n",
      "\n",
      "See the caveats in the documentation: http://pandas.pydata.org/pandas-docs/stable/indexing.html#indexing-view-versus-copy\n",
      "  from ipykernel import kernelapp as app\n"
     ]
    },
    {
     "data": {
      "text/html": [
       "<div>\n",
       "<style>\n",
       "    .dataframe thead tr:only-child th {\n",
       "        text-align: right;\n",
       "    }\n",
       "\n",
       "    .dataframe thead th {\n",
       "        text-align: left;\n",
       "    }\n",
       "\n",
       "    .dataframe tbody tr th {\n",
       "        vertical-align: top;\n",
       "    }\n",
       "</style>\n",
       "<table border=\"1\" class=\"dataframe\">\n",
       "  <thead>\n",
       "    <tr style=\"text-align: right;\">\n",
       "      <th></th>\n",
       "      <th>user_id</th>\n",
       "      <th>face_emo</th>\n",
       "      <th>HAPPY</th>\n",
       "    </tr>\n",
       "  </thead>\n",
       "  <tbody>\n",
       "    <tr>\n",
       "      <th>0</th>\n",
       "      <td>263042348</td>\n",
       "      <td>HAPPY</td>\n",
       "      <td>1</td>\n",
       "    </tr>\n",
       "    <tr>\n",
       "      <th>4</th>\n",
       "      <td>263042348</td>\n",
       "      <td>HAPPY</td>\n",
       "      <td>1</td>\n",
       "    </tr>\n",
       "    <tr>\n",
       "      <th>6</th>\n",
       "      <td>263042348</td>\n",
       "      <td>HAPPY</td>\n",
       "      <td>1</td>\n",
       "    </tr>\n",
       "    <tr>\n",
       "      <th>11</th>\n",
       "      <td>263042348</td>\n",
       "      <td>HAPPY</td>\n",
       "      <td>1</td>\n",
       "    </tr>\n",
       "    <tr>\n",
       "      <th>13</th>\n",
       "      <td>263042348</td>\n",
       "      <td>HAPPY</td>\n",
       "      <td>1</td>\n",
       "    </tr>\n",
       "  </tbody>\n",
       "</table>\n",
       "</div>"
      ],
      "text/plain": [
       "      user_id face_emo  HAPPY\n",
       "0   263042348    HAPPY      1\n",
       "4   263042348    HAPPY      1\n",
       "6   263042348    HAPPY      1\n",
       "11  263042348    HAPPY      1\n",
       "13  263042348    HAPPY      1"
      ]
     },
     "execution_count": 22,
     "metadata": {},
     "output_type": "execute_result"
    }
   ],
   "source": [
    "df_subset = face_emotion_df[face_emotion_df['face_emo'] == 'HAPPY']\n",
    "df_subset['HAPPY'] = 1\n",
    "df_subset.head()"
   ]
  },
  {
   "cell_type": "code",
   "execution_count": 23,
   "metadata": {
    "collapsed": true
   },
   "outputs": [],
   "source": [
    "emotions = pd.Series(face_emotion_df['face_emo'].unique())"
   ]
  },
  {
   "cell_type": "code",
   "execution_count": 24,
   "metadata": {},
   "outputs": [
    {
     "data": {
      "text/plain": [
       "0        HAPPY\n",
       "1        ANGRY\n",
       "2          SAD\n",
       "3         CALM\n",
       "4     CONFUSED\n",
       "5    DISGUSTED\n",
       "6    SURPRISED\n",
       "dtype: object"
      ]
     },
     "execution_count": 24,
     "metadata": {},
     "output_type": "execute_result"
    }
   ],
   "source": [
    "emotions"
   ]
  },
  {
   "cell_type": "code",
   "execution_count": 25,
   "metadata": {},
   "outputs": [
    {
     "name": "stderr",
     "output_type": "stream",
     "text": [
      "/home/jo/anaconda3/lib/python3.5/site-packages/ipykernel/__main__.py:2: SettingWithCopyWarning: \n",
      "A value is trying to be set on a copy of a slice from a DataFrame.\n",
      "Try using .loc[row_indexer,col_indexer] = value instead\n",
      "\n",
      "See the caveats in the documentation: http://pandas.pydata.org/pandas-docs/stable/indexing.html#indexing-view-versus-copy\n",
      "  from ipykernel import kernelapp as app\n"
     ]
    }
   ],
   "source": [
    "for emotion in emotions:\n",
    "    face_emotion_df[emotion] = 0"
   ]
  },
  {
   "cell_type": "code",
   "execution_count": 26,
   "metadata": {},
   "outputs": [
    {
     "data": {
      "text/html": [
       "<div>\n",
       "<style>\n",
       "    .dataframe thead tr:only-child th {\n",
       "        text-align: right;\n",
       "    }\n",
       "\n",
       "    .dataframe thead th {\n",
       "        text-align: left;\n",
       "    }\n",
       "\n",
       "    .dataframe tbody tr th {\n",
       "        vertical-align: top;\n",
       "    }\n",
       "</style>\n",
       "<table border=\"1\" class=\"dataframe\">\n",
       "  <thead>\n",
       "    <tr style=\"text-align: right;\">\n",
       "      <th></th>\n",
       "      <th>user_id</th>\n",
       "      <th>face_emo</th>\n",
       "      <th>HAPPY</th>\n",
       "      <th>ANGRY</th>\n",
       "      <th>SAD</th>\n",
       "      <th>CALM</th>\n",
       "      <th>CONFUSED</th>\n",
       "      <th>DISGUSTED</th>\n",
       "      <th>SURPRISED</th>\n",
       "    </tr>\n",
       "  </thead>\n",
       "  <tbody>\n",
       "    <tr>\n",
       "      <th>0</th>\n",
       "      <td>263042348</td>\n",
       "      <td>HAPPY</td>\n",
       "      <td>0</td>\n",
       "      <td>0</td>\n",
       "      <td>0</td>\n",
       "      <td>0</td>\n",
       "      <td>0</td>\n",
       "      <td>0</td>\n",
       "      <td>0</td>\n",
       "    </tr>\n",
       "    <tr>\n",
       "      <th>1</th>\n",
       "      <td>263042348</td>\n",
       "      <td>ANGRY</td>\n",
       "      <td>0</td>\n",
       "      <td>0</td>\n",
       "      <td>0</td>\n",
       "      <td>0</td>\n",
       "      <td>0</td>\n",
       "      <td>0</td>\n",
       "      <td>0</td>\n",
       "    </tr>\n",
       "    <tr>\n",
       "      <th>2</th>\n",
       "      <td>263042348</td>\n",
       "      <td>SAD</td>\n",
       "      <td>0</td>\n",
       "      <td>0</td>\n",
       "      <td>0</td>\n",
       "      <td>0</td>\n",
       "      <td>0</td>\n",
       "      <td>0</td>\n",
       "      <td>0</td>\n",
       "    </tr>\n",
       "    <tr>\n",
       "      <th>3</th>\n",
       "      <td>263042348</td>\n",
       "      <td>ANGRY</td>\n",
       "      <td>0</td>\n",
       "      <td>0</td>\n",
       "      <td>0</td>\n",
       "      <td>0</td>\n",
       "      <td>0</td>\n",
       "      <td>0</td>\n",
       "      <td>0</td>\n",
       "    </tr>\n",
       "    <tr>\n",
       "      <th>4</th>\n",
       "      <td>263042348</td>\n",
       "      <td>HAPPY</td>\n",
       "      <td>0</td>\n",
       "      <td>0</td>\n",
       "      <td>0</td>\n",
       "      <td>0</td>\n",
       "      <td>0</td>\n",
       "      <td>0</td>\n",
       "      <td>0</td>\n",
       "    </tr>\n",
       "  </tbody>\n",
       "</table>\n",
       "</div>"
      ],
      "text/plain": [
       "     user_id face_emo  HAPPY  ANGRY  SAD  CALM  CONFUSED  DISGUSTED  SURPRISED\n",
       "0  263042348    HAPPY      0      0    0     0         0          0          0\n",
       "1  263042348    ANGRY      0      0    0     0         0          0          0\n",
       "2  263042348      SAD      0      0    0     0         0          0          0\n",
       "3  263042348    ANGRY      0      0    0     0         0          0          0\n",
       "4  263042348    HAPPY      0      0    0     0         0          0          0"
      ]
     },
     "execution_count": 26,
     "metadata": {},
     "output_type": "execute_result"
    }
   ],
   "source": [
    "face_emotion_df.head()"
   ]
  },
  {
   "cell_type": "code",
   "execution_count": 27,
   "metadata": {
    "collapsed": true
   },
   "outputs": [],
   "source": [
    "def create_emotion_feature(emotion):\n",
    "    df_subset = face_emotion_df[face_emotion_df['face_emo'] == emotion]\n",
    "    df_subset[emotion] = 1\n",
    "    return df_subset"
   ]
  },
  {
   "cell_type": "code",
   "execution_count": 28,
   "metadata": {
    "collapsed": true
   },
   "outputs": [],
   "source": [
    "def df_series_to_df(df_series):\n",
    "    df = pd.concat([df for df in df_series], ignore_index=True)\n",
    "    return(df)"
   ]
  },
  {
   "cell_type": "code",
   "execution_count": 29,
   "metadata": {},
   "outputs": [
    {
     "name": "stderr",
     "output_type": "stream",
     "text": [
      "/home/jo/anaconda3/lib/python3.5/site-packages/ipykernel/__main__.py:3: SettingWithCopyWarning: \n",
      "A value is trying to be set on a copy of a slice from a DataFrame.\n",
      "Try using .loc[row_indexer,col_indexer] = value instead\n",
      "\n",
      "See the caveats in the documentation: http://pandas.pydata.org/pandas-docs/stable/indexing.html#indexing-view-versus-copy\n",
      "  app.launch_new_instance()\n"
     ]
    },
    {
     "data": {
      "text/html": [
       "<div>\n",
       "<style>\n",
       "    .dataframe thead tr:only-child th {\n",
       "        text-align: right;\n",
       "    }\n",
       "\n",
       "    .dataframe thead th {\n",
       "        text-align: left;\n",
       "    }\n",
       "\n",
       "    .dataframe tbody tr th {\n",
       "        vertical-align: top;\n",
       "    }\n",
       "</style>\n",
       "<table border=\"1\" class=\"dataframe\">\n",
       "  <thead>\n",
       "    <tr style=\"text-align: right;\">\n",
       "      <th></th>\n",
       "      <th>user_id</th>\n",
       "      <th>face_emo</th>\n",
       "      <th>HAPPY</th>\n",
       "      <th>ANGRY</th>\n",
       "      <th>SAD</th>\n",
       "      <th>CALM</th>\n",
       "      <th>CONFUSED</th>\n",
       "      <th>DISGUSTED</th>\n",
       "      <th>SURPRISED</th>\n",
       "    </tr>\n",
       "  </thead>\n",
       "  <tbody>\n",
       "    <tr>\n",
       "      <th>0</th>\n",
       "      <td>263042348</td>\n",
       "      <td>HAPPY</td>\n",
       "      <td>1</td>\n",
       "      <td>0</td>\n",
       "      <td>0</td>\n",
       "      <td>0</td>\n",
       "      <td>0</td>\n",
       "      <td>0</td>\n",
       "      <td>0</td>\n",
       "    </tr>\n",
       "    <tr>\n",
       "      <th>1</th>\n",
       "      <td>263042348</td>\n",
       "      <td>HAPPY</td>\n",
       "      <td>1</td>\n",
       "      <td>0</td>\n",
       "      <td>0</td>\n",
       "      <td>0</td>\n",
       "      <td>0</td>\n",
       "      <td>0</td>\n",
       "      <td>0</td>\n",
       "    </tr>\n",
       "    <tr>\n",
       "      <th>2</th>\n",
       "      <td>263042348</td>\n",
       "      <td>HAPPY</td>\n",
       "      <td>1</td>\n",
       "      <td>0</td>\n",
       "      <td>0</td>\n",
       "      <td>0</td>\n",
       "      <td>0</td>\n",
       "      <td>0</td>\n",
       "      <td>0</td>\n",
       "    </tr>\n",
       "    <tr>\n",
       "      <th>3</th>\n",
       "      <td>263042348</td>\n",
       "      <td>HAPPY</td>\n",
       "      <td>1</td>\n",
       "      <td>0</td>\n",
       "      <td>0</td>\n",
       "      <td>0</td>\n",
       "      <td>0</td>\n",
       "      <td>0</td>\n",
       "      <td>0</td>\n",
       "    </tr>\n",
       "    <tr>\n",
       "      <th>4</th>\n",
       "      <td>263042348</td>\n",
       "      <td>HAPPY</td>\n",
       "      <td>1</td>\n",
       "      <td>0</td>\n",
       "      <td>0</td>\n",
       "      <td>0</td>\n",
       "      <td>0</td>\n",
       "      <td>0</td>\n",
       "      <td>0</td>\n",
       "    </tr>\n",
       "  </tbody>\n",
       "</table>\n",
       "</div>"
      ],
      "text/plain": [
       "     user_id face_emo  HAPPY  ANGRY  SAD  CALM  CONFUSED  DISGUSTED  SURPRISED\n",
       "0  263042348    HAPPY      1      0    0     0         0          0          0\n",
       "1  263042348    HAPPY      1      0    0     0         0          0          0\n",
       "2  263042348    HAPPY      1      0    0     0         0          0          0\n",
       "3  263042348    HAPPY      1      0    0     0         0          0          0\n",
       "4  263042348    HAPPY      1      0    0     0         0          0          0"
      ]
     },
     "execution_count": 29,
     "metadata": {},
     "output_type": "execute_result"
    }
   ],
   "source": [
    "face_emotion_features_df = df_series_to_df(emotions.apply(create_emotion_feature))\n",
    "face_emotion_features_df.head()"
   ]
  },
  {
   "cell_type": "code",
   "execution_count": null,
   "metadata": {
    "collapsed": true
   },
   "outputs": [],
   "source": []
  },
  {
   "cell_type": "code",
   "execution_count": null,
   "metadata": {
    "collapsed": true
   },
   "outputs": [],
   "source": []
  },
  {
   "cell_type": "code",
   "execution_count": 30,
   "metadata": {
    "collapsed": true
   },
   "outputs": [],
   "source": [
    "face_emotion_features_df = face_emotion_features_df.groupby('user_id').mean().reset_index()\n",
    "face_df_emotion_with_p = pd.merge(face_emotion_features_df, survey_user_with_perma_df, how='left', on='user_id')"
   ]
  },
  {
   "cell_type": "code",
   "execution_count": 31,
   "metadata": {},
   "outputs": [
    {
     "data": {
      "text/html": [
       "<div>\n",
       "<style>\n",
       "    .dataframe thead tr:only-child th {\n",
       "        text-align: right;\n",
       "    }\n",
       "\n",
       "    .dataframe thead th {\n",
       "        text-align: left;\n",
       "    }\n",
       "\n",
       "    .dataframe tbody tr th {\n",
       "        vertical-align: top;\n",
       "    }\n",
       "</style>\n",
       "<table border=\"1\" class=\"dataframe\">\n",
       "  <thead>\n",
       "    <tr style=\"text-align: right;\">\n",
       "      <th></th>\n",
       "      <th>user_id</th>\n",
       "      <th>HAPPY</th>\n",
       "      <th>ANGRY</th>\n",
       "      <th>SAD</th>\n",
       "      <th>CALM</th>\n",
       "      <th>CONFUSED</th>\n",
       "      <th>DISGUSTED</th>\n",
       "      <th>SURPRISED</th>\n",
       "      <th>P</th>\n",
       "    </tr>\n",
       "  </thead>\n",
       "  <tbody>\n",
       "    <tr>\n",
       "      <th>0</th>\n",
       "      <td>1619510</td>\n",
       "      <td>0.307407</td>\n",
       "      <td>0.077778</td>\n",
       "      <td>0.174074</td>\n",
       "      <td>0.137037</td>\n",
       "      <td>0.192593</td>\n",
       "      <td>0.025926</td>\n",
       "      <td>0.085185</td>\n",
       "      <td>3</td>\n",
       "    </tr>\n",
       "    <tr>\n",
       "      <th>1</th>\n",
       "      <td>2829661</td>\n",
       "      <td>0.000000</td>\n",
       "      <td>0.333333</td>\n",
       "      <td>0.333333</td>\n",
       "      <td>0.000000</td>\n",
       "      <td>0.000000</td>\n",
       "      <td>0.000000</td>\n",
       "      <td>0.333333</td>\n",
       "      <td>8</td>\n",
       "    </tr>\n",
       "    <tr>\n",
       "      <th>2</th>\n",
       "      <td>3069744</td>\n",
       "      <td>0.333333</td>\n",
       "      <td>0.095238</td>\n",
       "      <td>0.238095</td>\n",
       "      <td>0.142857</td>\n",
       "      <td>0.047619</td>\n",
       "      <td>0.047619</td>\n",
       "      <td>0.095238</td>\n",
       "      <td>5</td>\n",
       "    </tr>\n",
       "    <tr>\n",
       "      <th>3</th>\n",
       "      <td>3988856</td>\n",
       "      <td>0.307692</td>\n",
       "      <td>0.076923</td>\n",
       "      <td>0.243590</td>\n",
       "      <td>0.089744</td>\n",
       "      <td>0.089744</td>\n",
       "      <td>0.051282</td>\n",
       "      <td>0.141026</td>\n",
       "      <td>10</td>\n",
       "    </tr>\n",
       "    <tr>\n",
       "      <th>4</th>\n",
       "      <td>6734387</td>\n",
       "      <td>0.333333</td>\n",
       "      <td>0.114286</td>\n",
       "      <td>0.180952</td>\n",
       "      <td>0.123810</td>\n",
       "      <td>0.114286</td>\n",
       "      <td>0.076190</td>\n",
       "      <td>0.057143</td>\n",
       "      <td>6</td>\n",
       "    </tr>\n",
       "  </tbody>\n",
       "</table>\n",
       "</div>"
      ],
      "text/plain": [
       "   user_id     HAPPY     ANGRY       SAD      CALM  CONFUSED  DISGUSTED  \\\n",
       "0  1619510  0.307407  0.077778  0.174074  0.137037  0.192593   0.025926   \n",
       "1  2829661  0.000000  0.333333  0.333333  0.000000  0.000000   0.000000   \n",
       "2  3069744  0.333333  0.095238  0.238095  0.142857  0.047619   0.047619   \n",
       "3  3988856  0.307692  0.076923  0.243590  0.089744  0.089744   0.051282   \n",
       "4  6734387  0.333333  0.114286  0.180952  0.123810  0.114286   0.076190   \n",
       "\n",
       "   SURPRISED   P  \n",
       "0   0.085185   3  \n",
       "1   0.333333   8  \n",
       "2   0.095238   5  \n",
       "3   0.141026  10  \n",
       "4   0.057143   6  "
      ]
     },
     "execution_count": 31,
     "metadata": {},
     "output_type": "execute_result"
    }
   ],
   "source": [
    "face_df_emotion_with_p.head()"
   ]
  },
  {
   "cell_type": "code",
   "execution_count": 32,
   "metadata": {},
   "outputs": [
    {
     "data": {
      "text/plain": [
       "P            1.000000\n",
       "ANGRY        0.094321\n",
       "CONFUSED     0.076377\n",
       "user_id      0.033954\n",
       "SAD          0.019247\n",
       "DISGUSTED   -0.005404\n",
       "HAPPY       -0.020807\n",
       "SURPRISED   -0.066868\n",
       "CALM        -0.117360\n",
       "Name: P, dtype: float64"
      ]
     },
     "execution_count": 32,
     "metadata": {},
     "output_type": "execute_result"
    }
   ],
   "source": [
    "face_df_emotion_with_p.corr()['P'].sort_values(ascending=False)"
   ]
  },
  {
   "cell_type": "markdown",
   "metadata": {
    "collapsed": true
   },
   "source": [
    "# Face dataframe"
   ]
  },
  {
   "cell_type": "code",
   "execution_count": 33,
   "metadata": {},
   "outputs": [
    {
     "data": {
      "text/plain": [
       "123"
      ]
     },
     "execution_count": 33,
     "metadata": {},
     "output_type": "execute_result"
    }
   ],
   "source": [
    "len(face_df_emotion_with_p)"
   ]
  },
  {
   "cell_type": "code",
   "execution_count": 34,
   "metadata": {},
   "outputs": [
    {
     "data": {
      "text/plain": [
       "123"
      ]
     },
     "execution_count": 34,
     "metadata": {},
     "output_type": "execute_result"
    }
   ],
   "source": [
    "len(face_df_boolean_with_p)"
   ]
  },
  {
   "cell_type": "code",
   "execution_count": 35,
   "metadata": {
    "collapsed": true
   },
   "outputs": [],
   "source": [
    "face_final_df = pd.merge(face_df_boolean_with_p, face_df_emotion_with_p, on='user_id')\n",
    "face_final_df.drop(['P_y'], axis=1, inplace=True)\n",
    "face_final_df = face_final_df.rename(columns={'P_x': 'P'})\n",
    "face_final_df = face_final_df.astype(np.float64, copy=False)\n",
    "face_final_df['user_id'] = face_final_df['user_id'].astype(int)"
   ]
  },
  {
   "cell_type": "code",
   "execution_count": 36,
   "metadata": {
    "collapsed": true
   },
   "outputs": [],
   "source": [
    "face_final_df = face_final_df.fillna(0)"
   ]
  },
  {
   "cell_type": "code",
   "execution_count": 37,
   "metadata": {},
   "outputs": [
    {
     "data": {
      "text/html": [
       "<div>\n",
       "<style>\n",
       "    .dataframe thead tr:only-child th {\n",
       "        text-align: right;\n",
       "    }\n",
       "\n",
       "    .dataframe thead th {\n",
       "        text-align: left;\n",
       "    }\n",
       "\n",
       "    .dataframe tbody tr th {\n",
       "        vertical-align: top;\n",
       "    }\n",
       "</style>\n",
       "<table border=\"1\" class=\"dataframe\">\n",
       "  <thead>\n",
       "    <tr style=\"text-align: right;\">\n",
       "      <th></th>\n",
       "      <th>user_id</th>\n",
       "      <th>face_beard</th>\n",
       "      <th>face_mustache</th>\n",
       "      <th>face_smile</th>\n",
       "      <th>eyeglasses</th>\n",
       "      <th>P</th>\n",
       "      <th>HAPPY</th>\n",
       "      <th>ANGRY</th>\n",
       "      <th>SAD</th>\n",
       "      <th>CALM</th>\n",
       "      <th>CONFUSED</th>\n",
       "      <th>DISGUSTED</th>\n",
       "      <th>SURPRISED</th>\n",
       "    </tr>\n",
       "  </thead>\n",
       "  <tbody>\n",
       "    <tr>\n",
       "      <th>0</th>\n",
       "      <td>1619510</td>\n",
       "      <td>0.166667</td>\n",
       "      <td>0.155556</td>\n",
       "      <td>0.788889</td>\n",
       "      <td>0.666667</td>\n",
       "      <td>3.0</td>\n",
       "      <td>0.307407</td>\n",
       "      <td>0.077778</td>\n",
       "      <td>0.174074</td>\n",
       "      <td>0.137037</td>\n",
       "      <td>0.192593</td>\n",
       "      <td>0.025926</td>\n",
       "      <td>0.085185</td>\n",
       "    </tr>\n",
       "    <tr>\n",
       "      <th>1</th>\n",
       "      <td>2829661</td>\n",
       "      <td>1.000000</td>\n",
       "      <td>1.000000</td>\n",
       "      <td>0.000000</td>\n",
       "      <td>0.000000</td>\n",
       "      <td>8.0</td>\n",
       "      <td>0.000000</td>\n",
       "      <td>0.333333</td>\n",
       "      <td>0.333333</td>\n",
       "      <td>0.000000</td>\n",
       "      <td>0.000000</td>\n",
       "      <td>0.000000</td>\n",
       "      <td>0.333333</td>\n",
       "    </tr>\n",
       "    <tr>\n",
       "      <th>2</th>\n",
       "      <td>3069744</td>\n",
       "      <td>0.714286</td>\n",
       "      <td>0.142857</td>\n",
       "      <td>0.714286</td>\n",
       "      <td>0.285714</td>\n",
       "      <td>5.0</td>\n",
       "      <td>0.333333</td>\n",
       "      <td>0.095238</td>\n",
       "      <td>0.238095</td>\n",
       "      <td>0.142857</td>\n",
       "      <td>0.047619</td>\n",
       "      <td>0.047619</td>\n",
       "      <td>0.095238</td>\n",
       "    </tr>\n",
       "    <tr>\n",
       "      <th>3</th>\n",
       "      <td>3988856</td>\n",
       "      <td>0.192308</td>\n",
       "      <td>0.230769</td>\n",
       "      <td>0.653846</td>\n",
       "      <td>0.153846</td>\n",
       "      <td>10.0</td>\n",
       "      <td>0.307692</td>\n",
       "      <td>0.076923</td>\n",
       "      <td>0.243590</td>\n",
       "      <td>0.089744</td>\n",
       "      <td>0.089744</td>\n",
       "      <td>0.051282</td>\n",
       "      <td>0.141026</td>\n",
       "    </tr>\n",
       "    <tr>\n",
       "      <th>4</th>\n",
       "      <td>6734387</td>\n",
       "      <td>0.200000</td>\n",
       "      <td>0.171429</td>\n",
       "      <td>0.742857</td>\n",
       "      <td>0.457143</td>\n",
       "      <td>6.0</td>\n",
       "      <td>0.333333</td>\n",
       "      <td>0.114286</td>\n",
       "      <td>0.180952</td>\n",
       "      <td>0.123810</td>\n",
       "      <td>0.114286</td>\n",
       "      <td>0.076190</td>\n",
       "      <td>0.057143</td>\n",
       "    </tr>\n",
       "  </tbody>\n",
       "</table>\n",
       "</div>"
      ],
      "text/plain": [
       "   user_id  face_beard  face_mustache  face_smile  eyeglasses     P     HAPPY  \\\n",
       "0  1619510    0.166667       0.155556    0.788889    0.666667   3.0  0.307407   \n",
       "1  2829661    1.000000       1.000000    0.000000    0.000000   8.0  0.000000   \n",
       "2  3069744    0.714286       0.142857    0.714286    0.285714   5.0  0.333333   \n",
       "3  3988856    0.192308       0.230769    0.653846    0.153846  10.0  0.307692   \n",
       "4  6734387    0.200000       0.171429    0.742857    0.457143   6.0  0.333333   \n",
       "\n",
       "      ANGRY       SAD      CALM  CONFUSED  DISGUSTED  SURPRISED  \n",
       "0  0.077778  0.174074  0.137037  0.192593   0.025926   0.085185  \n",
       "1  0.333333  0.333333  0.000000  0.000000   0.000000   0.333333  \n",
       "2  0.095238  0.238095  0.142857  0.047619   0.047619   0.095238  \n",
       "3  0.076923  0.243590  0.089744  0.089744   0.051282   0.141026  \n",
       "4  0.114286  0.180952  0.123810  0.114286   0.076190   0.057143  "
      ]
     },
     "execution_count": 37,
     "metadata": {},
     "output_type": "execute_result"
    }
   ],
   "source": [
    "face_final_df.head()"
   ]
  },
  {
   "cell_type": "code",
   "execution_count": 38,
   "metadata": {
    "collapsed": true
   },
   "outputs": [],
   "source": [
    "face_final_df.to_csv('face_features.csv')"
   ]
  },
  {
   "cell_type": "code",
   "execution_count": 39,
   "metadata": {},
   "outputs": [
    {
     "data": {
      "text/html": [
       "<div>\n",
       "<style>\n",
       "    .dataframe thead tr:only-child th {\n",
       "        text-align: right;\n",
       "    }\n",
       "\n",
       "    .dataframe thead th {\n",
       "        text-align: left;\n",
       "    }\n",
       "\n",
       "    .dataframe tbody tr th {\n",
       "        vertical-align: top;\n",
       "    }\n",
       "</style>\n",
       "<table border=\"1\" class=\"dataframe\">\n",
       "  <thead>\n",
       "    <tr style=\"text-align: right;\">\n",
       "      <th></th>\n",
       "      <th>user_id</th>\n",
       "      <th>user_posted_photos</th>\n",
       "    </tr>\n",
       "  </thead>\n",
       "  <tbody>\n",
       "    <tr>\n",
       "      <th>0</th>\n",
       "      <td>1619510</td>\n",
       "      <td>142</td>\n",
       "    </tr>\n",
       "    <tr>\n",
       "      <th>1</th>\n",
       "      <td>2829661</td>\n",
       "      <td>12</td>\n",
       "    </tr>\n",
       "    <tr>\n",
       "      <th>2</th>\n",
       "      <td>3069744</td>\n",
       "      <td>3</td>\n",
       "    </tr>\n",
       "    <tr>\n",
       "      <th>3</th>\n",
       "      <td>3988856</td>\n",
       "      <td>49</td>\n",
       "    </tr>\n",
       "    <tr>\n",
       "      <th>4</th>\n",
       "      <td>4185084</td>\n",
       "      <td>6</td>\n",
       "    </tr>\n",
       "  </tbody>\n",
       "</table>\n",
       "</div>"
      ],
      "text/plain": [
       "   user_id  user_posted_photos\n",
       "0  1619510                 142\n",
       "1  2829661                  12\n",
       "2  3069744                   3\n",
       "3  3988856                  49\n",
       "4  4185084                   6"
      ]
     },
     "execution_count": 39,
     "metadata": {},
     "output_type": "execute_result"
    }
   ],
   "source": [
    "images_per_user_id.head()"
   ]
  },
  {
   "cell_type": "code",
   "execution_count": 40,
   "metadata": {
    "collapsed": true
   },
   "outputs": [],
   "source": [
    "face_final_df = face_final_df.fillna(method='ffill')\n",
    "face_final_df = pd.merge(face_final_df, images_per_user_id, on='user_id')"
   ]
  },
  {
   "cell_type": "code",
   "execution_count": 41,
   "metadata": {},
   "outputs": [
    {
     "data": {
      "text/html": [
       "<div>\n",
       "<style>\n",
       "    .dataframe thead tr:only-child th {\n",
       "        text-align: right;\n",
       "    }\n",
       "\n",
       "    .dataframe thead th {\n",
       "        text-align: left;\n",
       "    }\n",
       "\n",
       "    .dataframe tbody tr th {\n",
       "        vertical-align: top;\n",
       "    }\n",
       "</style>\n",
       "<table border=\"1\" class=\"dataframe\">\n",
       "  <thead>\n",
       "    <tr style=\"text-align: right;\">\n",
       "      <th></th>\n",
       "      <th>user_id</th>\n",
       "      <th>P</th>\n",
       "    </tr>\n",
       "  </thead>\n",
       "  <tbody>\n",
       "    <tr>\n",
       "      <th>0</th>\n",
       "      <td>1619510</td>\n",
       "      <td>3.0</td>\n",
       "    </tr>\n",
       "    <tr>\n",
       "      <th>1</th>\n",
       "      <td>2829661</td>\n",
       "      <td>8.0</td>\n",
       "    </tr>\n",
       "    <tr>\n",
       "      <th>2</th>\n",
       "      <td>3069744</td>\n",
       "      <td>5.0</td>\n",
       "    </tr>\n",
       "    <tr>\n",
       "      <th>3</th>\n",
       "      <td>3988856</td>\n",
       "      <td>10.0</td>\n",
       "    </tr>\n",
       "    <tr>\n",
       "      <th>4</th>\n",
       "      <td>6734387</td>\n",
       "      <td>6.0</td>\n",
       "    </tr>\n",
       "  </tbody>\n",
       "</table>\n",
       "</div>"
      ],
      "text/plain": [
       "   user_id     P\n",
       "0  1619510   3.0\n",
       "1  2829661   8.0\n",
       "2  3069744   5.0\n",
       "3  3988856  10.0\n",
       "4  6734387   6.0"
      ]
     },
     "execution_count": 41,
     "metadata": {},
     "output_type": "execute_result"
    }
   ],
   "source": [
    "p_values_df = face_final_df[['user_id', 'P']]\n",
    "p_values_df[0:5]"
   ]
  },
  {
   "cell_type": "code",
   "execution_count": 42,
   "metadata": {
    "collapsed": true
   },
   "outputs": [],
   "source": [
    "del face_final_df['P']"
   ]
  },
  {
   "cell_type": "code",
   "execution_count": 43,
   "metadata": {
    "collapsed": true
   },
   "outputs": [],
   "source": [
    "# 9 = 60 * 0.15"
   ]
  },
  {
   "cell_type": "markdown",
   "metadata": {},
   "source": [
    "## Checking multicollinearity"
   ]
  },
  {
   "cell_type": "code",
   "execution_count": 44,
   "metadata": {
    "collapsed": true
   },
   "outputs": [],
   "source": [
    "face_features = list(face_final_df.iloc[:,1:-1].columns)"
   ]
  },
  {
   "cell_type": "code",
   "execution_count": 45,
   "metadata": {
    "collapsed": true
   },
   "outputs": [],
   "source": [
    "from scipy.stats.stats import pearsonr\n",
    "import itertools"
   ]
  },
  {
   "cell_type": "code",
   "execution_count": 46,
   "metadata": {},
   "outputs": [
    {
     "data": {
      "text/html": [
       "<div>\n",
       "<style>\n",
       "    .dataframe thead tr:only-child th {\n",
       "        text-align: right;\n",
       "    }\n",
       "\n",
       "    .dataframe thead th {\n",
       "        text-align: left;\n",
       "    }\n",
       "\n",
       "    .dataframe tbody tr th {\n",
       "        vertical-align: top;\n",
       "    }\n",
       "</style>\n",
       "<table border=\"1\" class=\"dataframe\">\n",
       "  <thead>\n",
       "    <tr style=\"text-align: right;\">\n",
       "      <th></th>\n",
       "      <th>user_id</th>\n",
       "      <th>face_beard</th>\n",
       "      <th>face_mustache</th>\n",
       "      <th>face_smile</th>\n",
       "      <th>eyeglasses</th>\n",
       "      <th>HAPPY</th>\n",
       "      <th>ANGRY</th>\n",
       "      <th>SAD</th>\n",
       "      <th>CALM</th>\n",
       "      <th>CONFUSED</th>\n",
       "      <th>DISGUSTED</th>\n",
       "      <th>SURPRISED</th>\n",
       "      <th>user_posted_photos</th>\n",
       "    </tr>\n",
       "  </thead>\n",
       "  <tbody>\n",
       "    <tr>\n",
       "      <th>0</th>\n",
       "      <td>1619510</td>\n",
       "      <td>0.166667</td>\n",
       "      <td>0.155556</td>\n",
       "      <td>0.788889</td>\n",
       "      <td>0.666667</td>\n",
       "      <td>0.307407</td>\n",
       "      <td>0.077778</td>\n",
       "      <td>0.174074</td>\n",
       "      <td>0.137037</td>\n",
       "      <td>0.192593</td>\n",
       "      <td>0.025926</td>\n",
       "      <td>0.085185</td>\n",
       "      <td>142</td>\n",
       "    </tr>\n",
       "    <tr>\n",
       "      <th>1</th>\n",
       "      <td>2829661</td>\n",
       "      <td>1.000000</td>\n",
       "      <td>1.000000</td>\n",
       "      <td>0.000000</td>\n",
       "      <td>0.000000</td>\n",
       "      <td>0.000000</td>\n",
       "      <td>0.333333</td>\n",
       "      <td>0.333333</td>\n",
       "      <td>0.000000</td>\n",
       "      <td>0.000000</td>\n",
       "      <td>0.000000</td>\n",
       "      <td>0.333333</td>\n",
       "      <td>12</td>\n",
       "    </tr>\n",
       "    <tr>\n",
       "      <th>2</th>\n",
       "      <td>3069744</td>\n",
       "      <td>0.714286</td>\n",
       "      <td>0.142857</td>\n",
       "      <td>0.714286</td>\n",
       "      <td>0.285714</td>\n",
       "      <td>0.333333</td>\n",
       "      <td>0.095238</td>\n",
       "      <td>0.238095</td>\n",
       "      <td>0.142857</td>\n",
       "      <td>0.047619</td>\n",
       "      <td>0.047619</td>\n",
       "      <td>0.095238</td>\n",
       "      <td>3</td>\n",
       "    </tr>\n",
       "    <tr>\n",
       "      <th>3</th>\n",
       "      <td>3988856</td>\n",
       "      <td>0.192308</td>\n",
       "      <td>0.230769</td>\n",
       "      <td>0.653846</td>\n",
       "      <td>0.153846</td>\n",
       "      <td>0.307692</td>\n",
       "      <td>0.076923</td>\n",
       "      <td>0.243590</td>\n",
       "      <td>0.089744</td>\n",
       "      <td>0.089744</td>\n",
       "      <td>0.051282</td>\n",
       "      <td>0.141026</td>\n",
       "      <td>49</td>\n",
       "    </tr>\n",
       "    <tr>\n",
       "      <th>4</th>\n",
       "      <td>6734387</td>\n",
       "      <td>0.200000</td>\n",
       "      <td>0.171429</td>\n",
       "      <td>0.742857</td>\n",
       "      <td>0.457143</td>\n",
       "      <td>0.333333</td>\n",
       "      <td>0.114286</td>\n",
       "      <td>0.180952</td>\n",
       "      <td>0.123810</td>\n",
       "      <td>0.114286</td>\n",
       "      <td>0.076190</td>\n",
       "      <td>0.057143</td>\n",
       "      <td>35</td>\n",
       "    </tr>\n",
       "  </tbody>\n",
       "</table>\n",
       "</div>"
      ],
      "text/plain": [
       "   user_id  face_beard  face_mustache  face_smile  eyeglasses     HAPPY  \\\n",
       "0  1619510    0.166667       0.155556    0.788889    0.666667  0.307407   \n",
       "1  2829661    1.000000       1.000000    0.000000    0.000000  0.000000   \n",
       "2  3069744    0.714286       0.142857    0.714286    0.285714  0.333333   \n",
       "3  3988856    0.192308       0.230769    0.653846    0.153846  0.307692   \n",
       "4  6734387    0.200000       0.171429    0.742857    0.457143  0.333333   \n",
       "\n",
       "      ANGRY       SAD      CALM  CONFUSED  DISGUSTED  SURPRISED  \\\n",
       "0  0.077778  0.174074  0.137037  0.192593   0.025926   0.085185   \n",
       "1  0.333333  0.333333  0.000000  0.000000   0.000000   0.333333   \n",
       "2  0.095238  0.238095  0.142857  0.047619   0.047619   0.095238   \n",
       "3  0.076923  0.243590  0.089744  0.089744   0.051282   0.141026   \n",
       "4  0.114286  0.180952  0.123810  0.114286   0.076190   0.057143   \n",
       "\n",
       "   user_posted_photos  \n",
       "0                 142  \n",
       "1                  12  \n",
       "2                   3  \n",
       "3                  49  \n",
       "4                  35  "
      ]
     },
     "execution_count": 46,
     "metadata": {},
     "output_type": "execute_result"
    }
   ],
   "source": [
    "face_final_df.head()"
   ]
  },
  {
   "cell_type": "code",
   "execution_count": 47,
   "metadata": {},
   "outputs": [],
   "source": [
    "correlations = {}\n",
    "\n",
    "for col_a, col_b in itertools.combinations(face_features, 2):\n",
    "    correlations[col_a + '__' + col_b] = pearsonr(face_final_df.loc[:, col_a], face_final_df.loc[:, col_b])"
   ]
  },
  {
   "cell_type": "code",
   "execution_count": 48,
   "metadata": {
    "collapsed": true
   },
   "outputs": [],
   "source": [
    "result = pd.DataFrame.from_dict(correlations, orient='index')\n",
    "result.columns = ['PCC', 'p-value']"
   ]
  },
  {
   "cell_type": "markdown",
   "metadata": {},
   "source": [
    "#### Correlated features"
   ]
  },
  {
   "cell_type": "code",
   "execution_count": 49,
   "metadata": {},
   "outputs": [
    {
     "data": {
      "text/plain": [
       "21"
      ]
     },
     "execution_count": 49,
     "metadata": {},
     "output_type": "execute_result"
    }
   ],
   "source": [
    "len(result[result['p-value'] < 0.05].sort_values(by='p-value'))"
   ]
  },
  {
   "cell_type": "code",
   "execution_count": 50,
   "metadata": {},
   "outputs": [
    {
     "data": {
      "text/html": [
       "<div>\n",
       "<style>\n",
       "    .dataframe thead tr:only-child th {\n",
       "        text-align: right;\n",
       "    }\n",
       "\n",
       "    .dataframe thead th {\n",
       "        text-align: left;\n",
       "    }\n",
       "\n",
       "    .dataframe tbody tr th {\n",
       "        vertical-align: top;\n",
       "    }\n",
       "</style>\n",
       "<table border=\"1\" class=\"dataframe\">\n",
       "  <thead>\n",
       "    <tr style=\"text-align: right;\">\n",
       "      <th></th>\n",
       "      <th>PCC</th>\n",
       "      <th>p-value</th>\n",
       "    </tr>\n",
       "  </thead>\n",
       "  <tbody>\n",
       "    <tr>\n",
       "      <th>face_beard__face_mustache</th>\n",
       "      <td>0.886453</td>\n",
       "      <td>2.665193e-42</td>\n",
       "    </tr>\n",
       "    <tr>\n",
       "      <th>face_smile__HAPPY</th>\n",
       "      <td>0.641057</td>\n",
       "      <td>1.386309e-15</td>\n",
       "    </tr>\n",
       "    <tr>\n",
       "      <th>CONFUSED__SURPRISED</th>\n",
       "      <td>-0.527597</td>\n",
       "      <td>3.606289e-10</td>\n",
       "    </tr>\n",
       "    <tr>\n",
       "      <th>face_beard__eyeglasses</th>\n",
       "      <td>0.405870</td>\n",
       "      <td>3.201861e-06</td>\n",
       "    </tr>\n",
       "    <tr>\n",
       "      <th>face_mustache__eyeglasses</th>\n",
       "      <td>0.377825</td>\n",
       "      <td>1.645127e-05</td>\n",
       "    </tr>\n",
       "  </tbody>\n",
       "</table>\n",
       "</div>"
      ],
      "text/plain": [
       "                                PCC       p-value\n",
       "face_beard__face_mustache  0.886453  2.665193e-42\n",
       "face_smile__HAPPY          0.641057  1.386309e-15\n",
       "CONFUSED__SURPRISED       -0.527597  3.606289e-10\n",
       "face_beard__eyeglasses     0.405870  3.201861e-06\n",
       "face_mustache__eyeglasses  0.377825  1.645127e-05"
      ]
     },
     "execution_count": 50,
     "metadata": {},
     "output_type": "execute_result"
    }
   ],
   "source": [
    "result[result['p-value'] < 0.05].sort_values(by='p-value', ascending=True)[0:5]"
   ]
  },
  {
   "cell_type": "markdown",
   "metadata": {},
   "source": [
    "#### The most uncorrelated features"
   ]
  },
  {
   "cell_type": "code",
   "execution_count": 51,
   "metadata": {},
   "outputs": [
    {
     "data": {
      "text/plain": [
       "34"
      ]
     },
     "execution_count": 51,
     "metadata": {},
     "output_type": "execute_result"
    }
   ],
   "source": [
    "len(result[result['p-value'] > 0.05].sort_values(by='p-value'))"
   ]
  },
  {
   "cell_type": "code",
   "execution_count": 52,
   "metadata": {},
   "outputs": [
    {
     "data": {
      "text/html": [
       "<div>\n",
       "<style>\n",
       "    .dataframe thead tr:only-child th {\n",
       "        text-align: right;\n",
       "    }\n",
       "\n",
       "    .dataframe thead th {\n",
       "        text-align: left;\n",
       "    }\n",
       "\n",
       "    .dataframe tbody tr th {\n",
       "        vertical-align: top;\n",
       "    }\n",
       "</style>\n",
       "<table border=\"1\" class=\"dataframe\">\n",
       "  <thead>\n",
       "    <tr style=\"text-align: right;\">\n",
       "      <th></th>\n",
       "      <th>PCC</th>\n",
       "      <th>p-value</th>\n",
       "    </tr>\n",
       "  </thead>\n",
       "  <tbody>\n",
       "    <tr>\n",
       "      <th>face_beard__SURPRISED</th>\n",
       "      <td>0.014732</td>\n",
       "      <td>0.871520</td>\n",
       "    </tr>\n",
       "    <tr>\n",
       "      <th>DISGUSTED__SURPRISED</th>\n",
       "      <td>-0.021020</td>\n",
       "      <td>0.817492</td>\n",
       "    </tr>\n",
       "    <tr>\n",
       "      <th>eyeglasses__SAD</th>\n",
       "      <td>-0.029964</td>\n",
       "      <td>0.742153</td>\n",
       "    </tr>\n",
       "    <tr>\n",
       "      <th>face_smile__CONFUSED</th>\n",
       "      <td>0.031153</td>\n",
       "      <td>0.732306</td>\n",
       "    </tr>\n",
       "    <tr>\n",
       "      <th>HAPPY__DISGUSTED</th>\n",
       "      <td>0.032892</td>\n",
       "      <td>0.717980</td>\n",
       "    </tr>\n",
       "  </tbody>\n",
       "</table>\n",
       "</div>"
      ],
      "text/plain": [
       "                            PCC   p-value\n",
       "face_beard__SURPRISED  0.014732  0.871520\n",
       "DISGUSTED__SURPRISED  -0.021020  0.817492\n",
       "eyeglasses__SAD       -0.029964  0.742153\n",
       "face_smile__CONFUSED   0.031153  0.732306\n",
       "HAPPY__DISGUSTED       0.032892  0.717980"
      ]
     },
     "execution_count": 52,
     "metadata": {},
     "output_type": "execute_result"
    }
   ],
   "source": [
    "result[result['p-value'] > 0.05].sort_values(by='p-value', ascending=False)[0:5]"
   ]
  },
  {
   "cell_type": "code",
   "execution_count": 53,
   "metadata": {},
   "outputs": [
    {
     "data": {
      "image/png": "[encoded data removed]",
      "text/plain": [
       "<matplotlib.figure.Figure at 0x7f7ac76f86a0>"
      ]
     },
     "metadata": {},
     "output_type": "display_data"
    }
   ],
   "source": [
    "face_final_df['user_posted_photos'].plot(kind='hist');"
   ]
  },
  {
   "cell_type": "code",
   "execution_count": 54,
   "metadata": {},
   "outputs": [
    {
     "data": {
      "image/png": "[encoded data removed]",
      "text/plain": [
       "<matplotlib.figure.Figure at 0x7f7ac7724198>"
      ]
     },
     "metadata": {},
     "output_type": "display_data"
    }
   ],
   "source": [
    "np.log(face_final_df['user_posted_photos']).plot(kind='hist');"
   ]
  },
  {
   "cell_type": "markdown",
   "metadata": {},
   "source": [
    "### Dropping mustache and face_smile features (high Pearson correlation coefficient)"
   ]
  },
  {
   "cell_type": "code",
   "execution_count": 55,
   "metadata": {},
   "outputs": [
    {
     "data": {
      "text/html": [
       "<div>\n",
       "<style>\n",
       "    .dataframe thead tr:only-child th {\n",
       "        text-align: right;\n",
       "    }\n",
       "\n",
       "    .dataframe thead th {\n",
       "        text-align: left;\n",
       "    }\n",
       "\n",
       "    .dataframe tbody tr th {\n",
       "        vertical-align: top;\n",
       "    }\n",
       "</style>\n",
       "<table border=\"1\" class=\"dataframe\">\n",
       "  <thead>\n",
       "    <tr style=\"text-align: right;\">\n",
       "      <th></th>\n",
       "      <th>user_id</th>\n",
       "      <th>face_beard</th>\n",
       "      <th>face_mustache</th>\n",
       "      <th>face_smile</th>\n",
       "      <th>eyeglasses</th>\n",
       "      <th>HAPPY</th>\n",
       "      <th>ANGRY</th>\n",
       "      <th>SAD</th>\n",
       "      <th>CALM</th>\n",
       "      <th>CONFUSED</th>\n",
       "      <th>DISGUSTED</th>\n",
       "      <th>SURPRISED</th>\n",
       "      <th>user_posted_photos</th>\n",
       "    </tr>\n",
       "  </thead>\n",
       "  <tbody>\n",
       "    <tr>\n",
       "      <th>0</th>\n",
       "      <td>1619510</td>\n",
       "      <td>0.166667</td>\n",
       "      <td>0.155556</td>\n",
       "      <td>0.788889</td>\n",
       "      <td>0.666667</td>\n",
       "      <td>0.307407</td>\n",
       "      <td>0.077778</td>\n",
       "      <td>0.174074</td>\n",
       "      <td>0.137037</td>\n",
       "      <td>0.192593</td>\n",
       "      <td>0.025926</td>\n",
       "      <td>0.085185</td>\n",
       "      <td>142</td>\n",
       "    </tr>\n",
       "    <tr>\n",
       "      <th>1</th>\n",
       "      <td>2829661</td>\n",
       "      <td>1.000000</td>\n",
       "      <td>1.000000</td>\n",
       "      <td>0.000000</td>\n",
       "      <td>0.000000</td>\n",
       "      <td>0.000000</td>\n",
       "      <td>0.333333</td>\n",
       "      <td>0.333333</td>\n",
       "      <td>0.000000</td>\n",
       "      <td>0.000000</td>\n",
       "      <td>0.000000</td>\n",
       "      <td>0.333333</td>\n",
       "      <td>12</td>\n",
       "    </tr>\n",
       "    <tr>\n",
       "      <th>2</th>\n",
       "      <td>3069744</td>\n",
       "      <td>0.714286</td>\n",
       "      <td>0.142857</td>\n",
       "      <td>0.714286</td>\n",
       "      <td>0.285714</td>\n",
       "      <td>0.333333</td>\n",
       "      <td>0.095238</td>\n",
       "      <td>0.238095</td>\n",
       "      <td>0.142857</td>\n",
       "      <td>0.047619</td>\n",
       "      <td>0.047619</td>\n",
       "      <td>0.095238</td>\n",
       "      <td>3</td>\n",
       "    </tr>\n",
       "    <tr>\n",
       "      <th>3</th>\n",
       "      <td>3988856</td>\n",
       "      <td>0.192308</td>\n",
       "      <td>0.230769</td>\n",
       "      <td>0.653846</td>\n",
       "      <td>0.153846</td>\n",
       "      <td>0.307692</td>\n",
       "      <td>0.076923</td>\n",
       "      <td>0.243590</td>\n",
       "      <td>0.089744</td>\n",
       "      <td>0.089744</td>\n",
       "      <td>0.051282</td>\n",
       "      <td>0.141026</td>\n",
       "      <td>49</td>\n",
       "    </tr>\n",
       "    <tr>\n",
       "      <th>4</th>\n",
       "      <td>6734387</td>\n",
       "      <td>0.200000</td>\n",
       "      <td>0.171429</td>\n",
       "      <td>0.742857</td>\n",
       "      <td>0.457143</td>\n",
       "      <td>0.333333</td>\n",
       "      <td>0.114286</td>\n",
       "      <td>0.180952</td>\n",
       "      <td>0.123810</td>\n",
       "      <td>0.114286</td>\n",
       "      <td>0.076190</td>\n",
       "      <td>0.057143</td>\n",
       "      <td>35</td>\n",
       "    </tr>\n",
       "  </tbody>\n",
       "</table>\n",
       "</div>"
      ],
      "text/plain": [
       "   user_id  face_beard  face_mustache  face_smile  eyeglasses     HAPPY  \\\n",
       "0  1619510    0.166667       0.155556    0.788889    0.666667  0.307407   \n",
       "1  2829661    1.000000       1.000000    0.000000    0.000000  0.000000   \n",
       "2  3069744    0.714286       0.142857    0.714286    0.285714  0.333333   \n",
       "3  3988856    0.192308       0.230769    0.653846    0.153846  0.307692   \n",
       "4  6734387    0.200000       0.171429    0.742857    0.457143  0.333333   \n",
       "\n",
       "      ANGRY       SAD      CALM  CONFUSED  DISGUSTED  SURPRISED  \\\n",
       "0  0.077778  0.174074  0.137037  0.192593   0.025926   0.085185   \n",
       "1  0.333333  0.333333  0.000000  0.000000   0.000000   0.333333   \n",
       "2  0.095238  0.238095  0.142857  0.047619   0.047619   0.095238   \n",
       "3  0.076923  0.243590  0.089744  0.089744   0.051282   0.141026   \n",
       "4  0.114286  0.180952  0.123810  0.114286   0.076190   0.057143   \n",
       "\n",
       "   user_posted_photos  \n",
       "0                 142  \n",
       "1                  12  \n",
       "2                   3  \n",
       "3                  49  \n",
       "4                  35  "
      ]
     },
     "execution_count": 55,
     "metadata": {},
     "output_type": "execute_result"
    }
   ],
   "source": [
    "face_final_df.head()"
   ]
  },
  {
   "cell_type": "code",
   "execution_count": 56,
   "metadata": {},
   "outputs": [],
   "source": [
    "del face_final_df['face_mustache']\n",
    "del face_final_df['face_smile']"
   ]
  },
  {
   "cell_type": "code",
   "execution_count": 57,
   "metadata": {
    "collapsed": true
   },
   "outputs": [],
   "source": [
    "face_features = list(face_final_df.iloc[:,1:-1].columns)"
   ]
  },
  {
   "cell_type": "code",
   "execution_count": 58,
   "metadata": {},
   "outputs": [
    {
     "data": {
      "text/plain": [
       "['face_beard',\n",
       " 'eyeglasses',\n",
       " 'HAPPY',\n",
       " 'ANGRY',\n",
       " 'SAD',\n",
       " 'CALM',\n",
       " 'CONFUSED',\n",
       " 'DISGUSTED',\n",
       " 'SURPRISED']"
      ]
     },
     "execution_count": 58,
     "metadata": {},
     "output_type": "execute_result"
    }
   ],
   "source": [
    "face_features"
   ]
  },
  {
   "cell_type": "markdown",
   "metadata": {},
   "source": [
    "### No weighing"
   ]
  },
  {
   "cell_type": "code",
   "execution_count": 59,
   "metadata": {
    "collapsed": true
   },
   "outputs": [],
   "source": [
    "face_features_no_weighing_df = face_final_df.copy()\n",
    "del face_features_no_weighing_df['user_posted_photos']\n",
    "face_features_no_weighing_df.to_csv('face_features_with_no_weighing_df.csv')"
   ]
  },
  {
   "cell_type": "code",
   "execution_count": 60,
   "metadata": {},
   "outputs": [
    {
     "data": {
      "text/html": [
       "<div>\n",
       "<style>\n",
       "    .dataframe thead tr:only-child th {\n",
       "        text-align: right;\n",
       "    }\n",
       "\n",
       "    .dataframe thead th {\n",
       "        text-align: left;\n",
       "    }\n",
       "\n",
       "    .dataframe tbody tr th {\n",
       "        vertical-align: top;\n",
       "    }\n",
       "</style>\n",
       "<table border=\"1\" class=\"dataframe\">\n",
       "  <thead>\n",
       "    <tr style=\"text-align: right;\">\n",
       "      <th></th>\n",
       "      <th>user_id</th>\n",
       "      <th>face_beard</th>\n",
       "      <th>eyeglasses</th>\n",
       "      <th>HAPPY</th>\n",
       "      <th>ANGRY</th>\n",
       "      <th>SAD</th>\n",
       "      <th>CALM</th>\n",
       "      <th>CONFUSED</th>\n",
       "      <th>DISGUSTED</th>\n",
       "      <th>SURPRISED</th>\n",
       "    </tr>\n",
       "  </thead>\n",
       "  <tbody>\n",
       "    <tr>\n",
       "      <th>0</th>\n",
       "      <td>1619510</td>\n",
       "      <td>0.166667</td>\n",
       "      <td>0.666667</td>\n",
       "      <td>0.307407</td>\n",
       "      <td>0.077778</td>\n",
       "      <td>0.174074</td>\n",
       "      <td>0.137037</td>\n",
       "      <td>0.192593</td>\n",
       "      <td>0.025926</td>\n",
       "      <td>0.085185</td>\n",
       "    </tr>\n",
       "    <tr>\n",
       "      <th>1</th>\n",
       "      <td>2829661</td>\n",
       "      <td>1.000000</td>\n",
       "      <td>0.000000</td>\n",
       "      <td>0.000000</td>\n",
       "      <td>0.333333</td>\n",
       "      <td>0.333333</td>\n",
       "      <td>0.000000</td>\n",
       "      <td>0.000000</td>\n",
       "      <td>0.000000</td>\n",
       "      <td>0.333333</td>\n",
       "    </tr>\n",
       "    <tr>\n",
       "      <th>2</th>\n",
       "      <td>3069744</td>\n",
       "      <td>0.714286</td>\n",
       "      <td>0.285714</td>\n",
       "      <td>0.333333</td>\n",
       "      <td>0.095238</td>\n",
       "      <td>0.238095</td>\n",
       "      <td>0.142857</td>\n",
       "      <td>0.047619</td>\n",
       "      <td>0.047619</td>\n",
       "      <td>0.095238</td>\n",
       "    </tr>\n",
       "    <tr>\n",
       "      <th>3</th>\n",
       "      <td>3988856</td>\n",
       "      <td>0.192308</td>\n",
       "      <td>0.153846</td>\n",
       "      <td>0.307692</td>\n",
       "      <td>0.076923</td>\n",
       "      <td>0.243590</td>\n",
       "      <td>0.089744</td>\n",
       "      <td>0.089744</td>\n",
       "      <td>0.051282</td>\n",
       "      <td>0.141026</td>\n",
       "    </tr>\n",
       "    <tr>\n",
       "      <th>4</th>\n",
       "      <td>6734387</td>\n",
       "      <td>0.200000</td>\n",
       "      <td>0.457143</td>\n",
       "      <td>0.333333</td>\n",
       "      <td>0.114286</td>\n",
       "      <td>0.180952</td>\n",
       "      <td>0.123810</td>\n",
       "      <td>0.114286</td>\n",
       "      <td>0.076190</td>\n",
       "      <td>0.057143</td>\n",
       "    </tr>\n",
       "  </tbody>\n",
       "</table>\n",
       "</div>"
      ],
      "text/plain": [
       "   user_id  face_beard  eyeglasses     HAPPY     ANGRY       SAD      CALM  \\\n",
       "0  1619510    0.166667    0.666667  0.307407  0.077778  0.174074  0.137037   \n",
       "1  2829661    1.000000    0.000000  0.000000  0.333333  0.333333  0.000000   \n",
       "2  3069744    0.714286    0.285714  0.333333  0.095238  0.238095  0.142857   \n",
       "3  3988856    0.192308    0.153846  0.307692  0.076923  0.243590  0.089744   \n",
       "4  6734387    0.200000    0.457143  0.333333  0.114286  0.180952  0.123810   \n",
       "\n",
       "   CONFUSED  DISGUSTED  SURPRISED  \n",
       "0  0.192593   0.025926   0.085185  \n",
       "1  0.000000   0.000000   0.333333  \n",
       "2  0.047619   0.047619   0.095238  \n",
       "3  0.089744   0.051282   0.141026  \n",
       "4  0.114286   0.076190   0.057143  "
      ]
     },
     "execution_count": 60,
     "metadata": {},
     "output_type": "execute_result"
    }
   ],
   "source": [
    "face_features_no_weighing_df.head()"
   ]
  },
  {
   "cell_type": "markdown",
   "metadata": {},
   "source": [
    "### Weighing (No transformation)"
   ]
  },
  {
   "cell_type": "code",
   "execution_count": 61,
   "metadata": {
    "collapsed": true
   },
   "outputs": [],
   "source": [
    "face_features_with_weighing_df = pd.DataFrame()\n",
    "\n",
    "def face_features_weighing(feature_name):\n",
    "    face_features_with_weighing_df['user_id'] = face_final_df['user_id']\n",
    "    face_features_with_weighing_df[feature_name] = face_final_df[feature_name] * face_final_df['user_posted_photos']\n",
    "    return face_features_with_weighing_df"
   ]
  },
  {
   "cell_type": "code",
   "execution_count": 62,
   "metadata": {},
   "outputs": [],
   "source": [
    "for feature in face_features:\n",
    "    face_features_weighing(feature)"
   ]
  },
  {
   "cell_type": "code",
   "execution_count": 63,
   "metadata": {},
   "outputs": [
    {
     "data": {
      "text/html": [
       "<div>\n",
       "<style>\n",
       "    .dataframe thead tr:only-child th {\n",
       "        text-align: right;\n",
       "    }\n",
       "\n",
       "    .dataframe thead th {\n",
       "        text-align: left;\n",
       "    }\n",
       "\n",
       "    .dataframe tbody tr th {\n",
       "        vertical-align: top;\n",
       "    }\n",
       "</style>\n",
       "<table border=\"1\" class=\"dataframe\">\n",
       "  <thead>\n",
       "    <tr style=\"text-align: right;\">\n",
       "      <th></th>\n",
       "      <th>user_id</th>\n",
       "      <th>face_beard</th>\n",
       "      <th>eyeglasses</th>\n",
       "      <th>HAPPY</th>\n",
       "      <th>ANGRY</th>\n",
       "      <th>SAD</th>\n",
       "      <th>CALM</th>\n",
       "      <th>CONFUSED</th>\n",
       "      <th>DISGUSTED</th>\n",
       "      <th>SURPRISED</th>\n",
       "    </tr>\n",
       "  </thead>\n",
       "  <tbody>\n",
       "    <tr>\n",
       "      <th>0</th>\n",
       "      <td>1619510</td>\n",
       "      <td>23.666667</td>\n",
       "      <td>94.666667</td>\n",
       "      <td>43.651852</td>\n",
       "      <td>11.044444</td>\n",
       "      <td>24.718519</td>\n",
       "      <td>19.459259</td>\n",
       "      <td>27.348148</td>\n",
       "      <td>3.681481</td>\n",
       "      <td>12.096296</td>\n",
       "    </tr>\n",
       "    <tr>\n",
       "      <th>1</th>\n",
       "      <td>2829661</td>\n",
       "      <td>12.000000</td>\n",
       "      <td>0.000000</td>\n",
       "      <td>0.000000</td>\n",
       "      <td>4.000000</td>\n",
       "      <td>4.000000</td>\n",
       "      <td>0.000000</td>\n",
       "      <td>0.000000</td>\n",
       "      <td>0.000000</td>\n",
       "      <td>4.000000</td>\n",
       "    </tr>\n",
       "    <tr>\n",
       "      <th>2</th>\n",
       "      <td>3069744</td>\n",
       "      <td>2.142857</td>\n",
       "      <td>0.857143</td>\n",
       "      <td>1.000000</td>\n",
       "      <td>0.285714</td>\n",
       "      <td>0.714286</td>\n",
       "      <td>0.428571</td>\n",
       "      <td>0.142857</td>\n",
       "      <td>0.142857</td>\n",
       "      <td>0.285714</td>\n",
       "    </tr>\n",
       "    <tr>\n",
       "      <th>3</th>\n",
       "      <td>3988856</td>\n",
       "      <td>9.423077</td>\n",
       "      <td>7.538462</td>\n",
       "      <td>15.076923</td>\n",
       "      <td>3.769231</td>\n",
       "      <td>11.935897</td>\n",
       "      <td>4.397436</td>\n",
       "      <td>4.397436</td>\n",
       "      <td>2.512821</td>\n",
       "      <td>6.910256</td>\n",
       "    </tr>\n",
       "    <tr>\n",
       "      <th>4</th>\n",
       "      <td>6734387</td>\n",
       "      <td>7.000000</td>\n",
       "      <td>16.000000</td>\n",
       "      <td>11.666667</td>\n",
       "      <td>4.000000</td>\n",
       "      <td>6.333333</td>\n",
       "      <td>4.333333</td>\n",
       "      <td>4.000000</td>\n",
       "      <td>2.666667</td>\n",
       "      <td>2.000000</td>\n",
       "    </tr>\n",
       "  </tbody>\n",
       "</table>\n",
       "</div>"
      ],
      "text/plain": [
       "   user_id  face_beard  eyeglasses      HAPPY      ANGRY        SAD  \\\n",
       "0  1619510   23.666667   94.666667  43.651852  11.044444  24.718519   \n",
       "1  2829661   12.000000    0.000000   0.000000   4.000000   4.000000   \n",
       "2  3069744    2.142857    0.857143   1.000000   0.285714   0.714286   \n",
       "3  3988856    9.423077    7.538462  15.076923   3.769231  11.935897   \n",
       "4  6734387    7.000000   16.000000  11.666667   4.000000   6.333333   \n",
       "\n",
       "        CALM   CONFUSED  DISGUSTED  SURPRISED  \n",
       "0  19.459259  27.348148   3.681481  12.096296  \n",
       "1   0.000000   0.000000   0.000000   4.000000  \n",
       "2   0.428571   0.142857   0.142857   0.285714  \n",
       "3   4.397436   4.397436   2.512821   6.910256  \n",
       "4   4.333333   4.000000   2.666667   2.000000  "
      ]
     },
     "execution_count": 63,
     "metadata": {},
     "output_type": "execute_result"
    }
   ],
   "source": [
    "face_features_with_weighing_df.head()"
   ]
  },
  {
   "cell_type": "code",
   "execution_count": 64,
   "metadata": {
    "collapsed": true
   },
   "outputs": [],
   "source": [
    "face_features_with_weighing_df.to_csv('face_features_with_weighing_df.csv')"
   ]
  },
  {
   "cell_type": "markdown",
   "metadata": {},
   "source": [
    "### Weighing (Log transformation)"
   ]
  },
  {
   "cell_type": "code",
   "execution_count": 65,
   "metadata": {
    "collapsed": true
   },
   "outputs": [],
   "source": [
    "face_features_with_log_weighing_df = pd.DataFrame()\n",
    "\n",
    "def face_features_log_weighing(feature_name):\n",
    "    face_features_with_log_weighing_df['user_id'] = face_final_df['user_id']\n",
    "    face_features_with_log_weighing_df[feature_name] = face_final_df[feature_name] * np.log(face_final_df['user_posted_photos'])\n",
    "    return face_features_with_log_weighing_df"
   ]
  },
  {
   "cell_type": "code",
   "execution_count": 66,
   "metadata": {},
   "outputs": [],
   "source": [
    "for feature in face_features:\n",
    "    face_features_log_weighing(feature)"
   ]
  },
  {
   "cell_type": "code",
   "execution_count": 67,
   "metadata": {
    "collapsed": true
   },
   "outputs": [],
   "source": [
    "face_features_with_log_weighing_df.to_csv('face_features_with_log_weighing_df.csv')"
   ]
  },
  {
   "cell_type": "code",
   "execution_count": 68,
   "metadata": {},
   "outputs": [
    {
     "data": {
      "text/html": [
       "<div>\n",
       "<style>\n",
       "    .dataframe thead tr:only-child th {\n",
       "        text-align: right;\n",
       "    }\n",
       "\n",
       "    .dataframe thead th {\n",
       "        text-align: left;\n",
       "    }\n",
       "\n",
       "    .dataframe tbody tr th {\n",
       "        vertical-align: top;\n",
       "    }\n",
       "</style>\n",
       "<table border=\"1\" class=\"dataframe\">\n",
       "  <thead>\n",
       "    <tr style=\"text-align: right;\">\n",
       "      <th></th>\n",
       "      <th>user_id</th>\n",
       "      <th>face_beard</th>\n",
       "      <th>eyeglasses</th>\n",
       "      <th>HAPPY</th>\n",
       "      <th>ANGRY</th>\n",
       "      <th>SAD</th>\n",
       "      <th>CALM</th>\n",
       "      <th>CONFUSED</th>\n",
       "      <th>DISGUSTED</th>\n",
       "      <th>SURPRISED</th>\n",
       "    </tr>\n",
       "  </thead>\n",
       "  <tbody>\n",
       "    <tr>\n",
       "      <th>0</th>\n",
       "      <td>1619510</td>\n",
       "      <td>0.825971</td>\n",
       "      <td>3.303885</td>\n",
       "      <td>1.523458</td>\n",
       "      <td>0.385453</td>\n",
       "      <td>0.862681</td>\n",
       "      <td>0.679132</td>\n",
       "      <td>0.954456</td>\n",
       "      <td>0.128484</td>\n",
       "      <td>0.422163</td>\n",
       "    </tr>\n",
       "    <tr>\n",
       "      <th>1</th>\n",
       "      <td>2829661</td>\n",
       "      <td>2.484907</td>\n",
       "      <td>0.000000</td>\n",
       "      <td>0.000000</td>\n",
       "      <td>0.828302</td>\n",
       "      <td>0.828302</td>\n",
       "      <td>0.000000</td>\n",
       "      <td>0.000000</td>\n",
       "      <td>0.000000</td>\n",
       "      <td>0.828302</td>\n",
       "    </tr>\n",
       "    <tr>\n",
       "      <th>2</th>\n",
       "      <td>3069744</td>\n",
       "      <td>0.784723</td>\n",
       "      <td>0.313889</td>\n",
       "      <td>0.366204</td>\n",
       "      <td>0.104630</td>\n",
       "      <td>0.261574</td>\n",
       "      <td>0.156945</td>\n",
       "      <td>0.052315</td>\n",
       "      <td>0.052315</td>\n",
       "      <td>0.104630</td>\n",
       "    </tr>\n",
       "    <tr>\n",
       "      <th>3</th>\n",
       "      <td>3988856</td>\n",
       "      <td>0.748427</td>\n",
       "      <td>0.598742</td>\n",
       "      <td>1.197483</td>\n",
       "      <td>0.299371</td>\n",
       "      <td>0.948008</td>\n",
       "      <td>0.349266</td>\n",
       "      <td>0.349266</td>\n",
       "      <td>0.199581</td>\n",
       "      <td>0.548846</td>\n",
       "    </tr>\n",
       "    <tr>\n",
       "      <th>4</th>\n",
       "      <td>6734387</td>\n",
       "      <td>0.711070</td>\n",
       "      <td>1.625302</td>\n",
       "      <td>1.185116</td>\n",
       "      <td>0.406325</td>\n",
       "      <td>0.643349</td>\n",
       "      <td>0.440186</td>\n",
       "      <td>0.406325</td>\n",
       "      <td>0.270884</td>\n",
       "      <td>0.203163</td>\n",
       "    </tr>\n",
       "  </tbody>\n",
       "</table>\n",
       "</div>"
      ],
      "text/plain": [
       "   user_id  face_beard  eyeglasses     HAPPY     ANGRY       SAD      CALM  \\\n",
       "0  1619510    0.825971    3.303885  1.523458  0.385453  0.862681  0.679132   \n",
       "1  2829661    2.484907    0.000000  0.000000  0.828302  0.828302  0.000000   \n",
       "2  3069744    0.784723    0.313889  0.366204  0.104630  0.261574  0.156945   \n",
       "3  3988856    0.748427    0.598742  1.197483  0.299371  0.948008  0.349266   \n",
       "4  6734387    0.711070    1.625302  1.185116  0.406325  0.643349  0.440186   \n",
       "\n",
       "   CONFUSED  DISGUSTED  SURPRISED  \n",
       "0  0.954456   0.128484   0.422163  \n",
       "1  0.000000   0.000000   0.828302  \n",
       "2  0.052315   0.052315   0.104630  \n",
       "3  0.349266   0.199581   0.548846  \n",
       "4  0.406325   0.270884   0.203163  "
      ]
     },
     "execution_count": 68,
     "metadata": {},
     "output_type": "execute_result"
    }
   ],
   "source": [
    "face_features_with_log_weighing_df.head()"
   ]
  },
  {
   "cell_type": "code",
   "execution_count": null,
   "metadata": {
    "collapsed": true
   },
   "outputs": [],
   "source": []
  },
  {
   "cell_type": "code",
   "execution_count": null,
   "metadata": {
    "collapsed": true
   },
   "outputs": [],
   "source": []
  },
  {
   "cell_type": "code",
   "execution_count": null,
   "metadata": {
    "collapsed": true
   },
   "outputs": [],
   "source": []
  },
  {
   "cell_type": "code",
   "execution_count": null,
   "metadata": {
    "collapsed": true
   },
   "outputs": [],
   "source": []
  },
  {
   "cell_type": "code",
   "execution_count": null,
   "metadata": {
    "collapsed": true
   },
   "outputs": [],
   "source": []
  },
  {
   "cell_type": "code",
   "execution_count": null,
   "metadata": {
    "collapsed": true
   },
   "outputs": [],
   "source": []
  },
  {
   "cell_type": "code",
   "execution_count": null,
   "metadata": {
    "collapsed": true
   },
   "outputs": [],
   "source": []
  },
  {
   "cell_type": "markdown",
   "metadata": {},
   "source": [
    "# Modeling"
   ]
  },
  {
   "cell_type": "code",
   "execution_count": 79,
   "metadata": {},
   "outputs": [
    {
     "ename": "ValueError",
     "evalue": "labels ['P'] not contained in axis",
     "output_type": "error",
     "traceback": [
      "\u001b[0;31m---------------------------------------------------------------------------\u001b[0m",
      "\u001b[0;31mValueError\u001b[0m                                Traceback (most recent call last)",
      "\u001b[0;32m<ipython-input-79-83d5b5e9d89b>\u001b[0m in \u001b[0;36m<module>\u001b[0;34m()\u001b[0m\n\u001b[1;32m      2\u001b[0m \u001b[0mX_test\u001b[0m \u001b[0;34m=\u001b[0m \u001b[0mface_final_df\u001b[0m\u001b[0;34m[\u001b[0m\u001b[0;36m91\u001b[0m\u001b[0;34m:\u001b[0m\u001b[0;34m]\u001b[0m\u001b[0;34m\u001b[0m\u001b[0m\n\u001b[1;32m      3\u001b[0m \u001b[0;34m\u001b[0m\u001b[0m\n\u001b[0;32m----> 4\u001b[0;31m \u001b[0mX_train\u001b[0m\u001b[0;34m.\u001b[0m\u001b[0mdrop\u001b[0m\u001b[0;34m(\u001b[0m\u001b[0;34m[\u001b[0m\u001b[0;34m'P'\u001b[0m\u001b[0;34m]\u001b[0m\u001b[0;34m,\u001b[0m \u001b[0maxis\u001b[0m\u001b[0;34m=\u001b[0m\u001b[0;36m1\u001b[0m\u001b[0;34m,\u001b[0m \u001b[0minplace\u001b[0m\u001b[0;34m=\u001b[0m\u001b[0;32mTrue\u001b[0m\u001b[0;34m)\u001b[0m\u001b[0;34m\u001b[0m\u001b[0m\n\u001b[0m\u001b[1;32m      5\u001b[0m \u001b[0mX_test\u001b[0m\u001b[0;34m.\u001b[0m\u001b[0mdrop\u001b[0m\u001b[0;34m(\u001b[0m\u001b[0;34m[\u001b[0m\u001b[0;34m'P'\u001b[0m\u001b[0;34m]\u001b[0m\u001b[0;34m,\u001b[0m \u001b[0maxis\u001b[0m\u001b[0;34m=\u001b[0m\u001b[0;36m1\u001b[0m\u001b[0;34m,\u001b[0m \u001b[0minplace\u001b[0m\u001b[0;34m=\u001b[0m\u001b[0;32mTrue\u001b[0m\u001b[0;34m)\u001b[0m\u001b[0;34m\u001b[0m\u001b[0m\n\u001b[1;32m      6\u001b[0m \u001b[0;34m\u001b[0m\u001b[0m\n",
      "\u001b[0;32m/home/jo/anaconda3/lib/python3.5/site-packages/pandas/core/generic.py\u001b[0m in \u001b[0;36mdrop\u001b[0;34m(self, labels, axis, level, inplace, errors)\u001b[0m\n\u001b[1;32m   2048\u001b[0m                 \u001b[0mnew_axis\u001b[0m \u001b[0;34m=\u001b[0m \u001b[0maxis\u001b[0m\u001b[0;34m.\u001b[0m\u001b[0mdrop\u001b[0m\u001b[0;34m(\u001b[0m\u001b[0mlabels\u001b[0m\u001b[0;34m,\u001b[0m \u001b[0mlevel\u001b[0m\u001b[0;34m=\u001b[0m\u001b[0mlevel\u001b[0m\u001b[0;34m,\u001b[0m \u001b[0merrors\u001b[0m\u001b[0;34m=\u001b[0m\u001b[0merrors\u001b[0m\u001b[0;34m)\u001b[0m\u001b[0;34m\u001b[0m\u001b[0m\n\u001b[1;32m   2049\u001b[0m             \u001b[0;32melse\u001b[0m\u001b[0;34m:\u001b[0m\u001b[0;34m\u001b[0m\u001b[0m\n\u001b[0;32m-> 2050\u001b[0;31m                 \u001b[0mnew_axis\u001b[0m \u001b[0;34m=\u001b[0m \u001b[0maxis\u001b[0m\u001b[0;34m.\u001b[0m\u001b[0mdrop\u001b[0m\u001b[0;34m(\u001b[0m\u001b[0mlabels\u001b[0m\u001b[0;34m,\u001b[0m \u001b[0merrors\u001b[0m\u001b[0;34m=\u001b[0m\u001b[0merrors\u001b[0m\u001b[0;34m)\u001b[0m\u001b[0;34m\u001b[0m\u001b[0m\n\u001b[0m\u001b[1;32m   2051\u001b[0m             \u001b[0mdropped\u001b[0m \u001b[0;34m=\u001b[0m \u001b[0mself\u001b[0m\u001b[0;34m.\u001b[0m\u001b[0mreindex\u001b[0m\u001b[0;34m(\u001b[0m\u001b[0;34m**\u001b[0m\u001b[0;34m{\u001b[0m\u001b[0maxis_name\u001b[0m\u001b[0;34m:\u001b[0m \u001b[0mnew_axis\u001b[0m\u001b[0;34m}\u001b[0m\u001b[0;34m)\u001b[0m\u001b[0;34m\u001b[0m\u001b[0m\n\u001b[1;32m   2052\u001b[0m             \u001b[0;32mtry\u001b[0m\u001b[0;34m:\u001b[0m\u001b[0;34m\u001b[0m\u001b[0m\n",
      "\u001b[0;32m/home/jo/anaconda3/lib/python3.5/site-packages/pandas/core/indexes/base.py\u001b[0m in \u001b[0;36mdrop\u001b[0;34m(self, labels, errors)\u001b[0m\n\u001b[1;32m   3573\u001b[0m             \u001b[0;32mif\u001b[0m \u001b[0merrors\u001b[0m \u001b[0;34m!=\u001b[0m \u001b[0;34m'ignore'\u001b[0m\u001b[0;34m:\u001b[0m\u001b[0;34m\u001b[0m\u001b[0m\n\u001b[1;32m   3574\u001b[0m                 raise ValueError('labels %s not contained in axis' %\n\u001b[0;32m-> 3575\u001b[0;31m                                  labels[mask])\n\u001b[0m\u001b[1;32m   3576\u001b[0m             \u001b[0mindexer\u001b[0m \u001b[0;34m=\u001b[0m \u001b[0mindexer\u001b[0m\u001b[0;34m[\u001b[0m\u001b[0;34m~\u001b[0m\u001b[0mmask\u001b[0m\u001b[0;34m]\u001b[0m\u001b[0;34m\u001b[0m\u001b[0m\n\u001b[1;32m   3577\u001b[0m         \u001b[0;32mreturn\u001b[0m \u001b[0mself\u001b[0m\u001b[0;34m.\u001b[0m\u001b[0mdelete\u001b[0m\u001b[0;34m(\u001b[0m\u001b[0mindexer\u001b[0m\u001b[0;34m)\u001b[0m\u001b[0;34m\u001b[0m\u001b[0m\n",
      "\u001b[0;31mValueError\u001b[0m: labels ['P'] not contained in axis"
     ]
    }
   ],
   "source": [
    "X_train = face_final_df[:90]\n",
    "X_test = face_final_df[91:]\n",
    "\n",
    "X_train.drop(['P'], axis=1, inplace=True)\n",
    "X_test.drop(['P'], axis=1, inplace=True)\n",
    "\n",
    "Y_train = face_final_df[:90]['P']\n",
    "Y_test = face_final_df[91:]['P']"
   ]
  },
  {
   "cell_type": "code",
   "execution_count": null,
   "metadata": {},
   "outputs": [],
   "source": [
    "X_train.head()"
   ]
  },
  {
   "cell_type": "code",
   "execution_count": null,
   "metadata": {},
   "outputs": [],
   "source": [
    "Y_train.head()"
   ]
  },
  {
   "cell_type": "markdown",
   "metadata": {},
   "source": [
    "#### Fitting the linear model"
   ]
  },
  {
   "cell_type": "code",
   "execution_count": null,
   "metadata": {
    "collapsed": true
   },
   "outputs": [],
   "source": [
    "from sklearn.linear_model import LinearRegression\n",
    "from sklearn import datasets, linear_model\n",
    "from sklearn.metrics import mean_squared_error, r2_score"
   ]
  },
  {
   "cell_type": "code",
   "execution_count": null,
   "metadata": {
    "collapsed": true
   },
   "outputs": [],
   "source": [
    "# Create linear regression object\n",
    "regr = linear_model.LinearRegression()"
   ]
  },
  {
   "cell_type": "code",
   "execution_count": null,
   "metadata": {},
   "outputs": [],
   "source": [
    "# Train the model using the training sets\n",
    "regr.fit(X_train, Y_train)"
   ]
  },
  {
   "cell_type": "code",
   "execution_count": null,
   "metadata": {
    "collapsed": true
   },
   "outputs": [],
   "source": [
    "# Make predictions using the testing set\n",
    "Y_pred = regr.predict(X_test)"
   ]
  },
  {
   "cell_type": "code",
   "execution_count": null,
   "metadata": {},
   "outputs": [],
   "source": [
    "len(Y_test), len(X_test)"
   ]
  },
  {
   "cell_type": "code",
   "execution_count": null,
   "metadata": {},
   "outputs": [],
   "source": [
    "Y_pred"
   ]
  },
  {
   "cell_type": "code",
   "execution_count": null,
   "metadata": {},
   "outputs": [],
   "source": [
    "plt.scatter(Y_pred, Y_test)\n",
    "plt.show()"
   ]
  },
  {
   "cell_type": "code",
   "execution_count": null,
   "metadata": {},
   "outputs": [],
   "source": [
    "# The coefficients\n",
    "print('Coefficients: \\n', regr.coef_)\n",
    "# The mean squared error\n",
    "print(\"Mean squared error: %.2f\"\n",
    "      % mean_squared_error(Y_test, Y_pred))\n",
    "# Explained variance score: 1 is perfect prediction\n",
    "print('Variance score: %.2f' % r2_score(Y_test, Y_pred))"
   ]
  },
  {
   "cell_type": "code",
   "execution_count": null,
   "metadata": {},
   "outputs": [],
   "source": [
    "plt.scatter(X_train['HAPPY'], Y_train)\n",
    "plt.xlabel(\"Disgusted\")\n",
    "plt.ylabel(\"PERMA score\")\n",
    "plt.title(\"Relationship between Disgusted and PERMA score\")\n",
    "plt.show()\n",
    "# As can be seen that there is a positive correlation between RM and housing prices."
   ]
  },
  {
   "cell_type": "code",
   "execution_count": null,
   "metadata": {},
   "outputs": [],
   "source": [
    "plt.scatter(Y_test, Y_pred)\n",
    "plt.xlabel(\"PERMA: $Y_i$\")\n",
    "plt.ylabel(\"Predicted PERMA: $\\hat{Y}_i$\")\n",
    "plt.title(\"PERMA vs Predicted PERMA: $Y_i$ vs $\\hat{Y}_i$\")\n",
    "plt.show()"
   ]
  },
  {
   "cell_type": "code",
   "execution_count": null,
   "metadata": {},
   "outputs": [],
   "source": [
    "r2_score(Y_test, Y_pred)"
   ]
  },
  {
   "cell_type": "code",
   "execution_count": null,
   "metadata": {
    "collapsed": true
   },
   "outputs": [],
   "source": [
    "#We can notice that there is some error in  the prediction as the housing prices increase.\n",
    "#Lets calculate the mean squared error.\n",
    "mseFull = np.mean(Y_train - lm.predict(X_train)** 2)\n",
    "print(mseFull)"
   ]
  },
  {
   "cell_type": "code",
   "execution_count": null,
   "metadata": {
    "collapsed": true
   },
   "outputs": [],
   "source": []
  }
 ],
 "metadata": {
  "kernelspec": {
   "display_name": "Python [default]",
   "language": "python",
   "name": "python3"
  },
  "language_info": {
   "codemirror_mode": {
    "name": "ipython",
    "version": 3
   },
   "file_extension": ".py",
   "mimetype": "text/x-python",
   "name": "python",
   "nbconvert_exporter": "python",
   "pygments_lexer": "ipython3",
   "version": "3.5.3"
  }
 },
 "nbformat": 4,
 "nbformat_minor": 2
}
