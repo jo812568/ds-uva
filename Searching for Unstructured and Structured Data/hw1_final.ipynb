{
 "cells": [
  {
   "cell_type": "markdown",
   "metadata": {
    "deletable": true,
    "editable": true
   },
   "source": [
    "# Searching Unstructured and Structured Data #\n",
    "## Assignment 1: Retrieval models [100 points] ##\n",
    "**TA**: Nikos Voskarides (n.voskarides@uva.nl)"
   ]
  },
  {
   "cell_type": "markdown",
   "metadata": {
    "deletable": true,
    "editable": true
   },
   "source": [
    "In this assignment you will get familiar with basic information retrieval concepts. You will implement and evaluate different information retrieval ranking models and evaluate their performance.\n",
    "\n",
    "We provide you with a Indri index. To query the index, you'll use a Python package ([pyndri](https://github.com/cvangysel/pyndri)) that allows easy access to the underlying document statistics.\n",
    "\n",
    "For evaluation you'll use the [TREC Eval](https://github.com/usnistgov/trec_eval) utility, provided by the National Institute of Standards and Technology of the United States. TREC Eval is the de facto standard way to compute Information Retrieval measures and is frequently referenced in scientific papers.\n",
    "\n",
    "This is a **groups-of-three assignment**, the deadline is **Monday, 22/1, at 23:59**. Code quality, informative comments and convincing analysis of the results will be considered when grading. Submission should be done through blackboard, questions can be asked on the course [Piazza](https://piazza.com/class/ixoz63p156g1ts).\n",
    "\n",
    "### Technicalities (must-read!) ###\n",
    "\n",
    "The assignment directory is organized as follows:\n",
    "   * `./assignment.ipynb` (this file): the description of the assignment.\n",
    "   * `./index/`: the index we prepared for you.\n",
    "   * `./ap_88_90/`: directory with ground-truth and evaluation sets:\n",
    "      * `qrel_test`: test query relevance collection (**test set**).\n",
    "      * `qrel_validation`: validation query relevance collection (**validation set**).\n",
    "      * `topics_title`: semicolon-separated file with query identifiers and terms.\n",
    "\n",
    "You will need the following software packages (tested with Python 3.5 inside [Anaconda](https://conda.io/docs/user-guide/install/index.html)):\n",
    "   * Python 3.5 and Jupyter\n",
    "   * Indri + Pyndri (Follow the installation instructions [here](https://github.com/nickvosk/pyndri/blob/master/README.md))\n",
    "   * gensim [link](https://radimrehurek.com/gensim/install.html)\n",
    "   * TREC Eval [link](https://github.com/usnistgov/trec_eval)"
   ]
  },
  {
   "cell_type": "markdown",
   "metadata": {
    "deletable": true,
    "editable": true
   },
   "source": [
    "### TREC Eval primer ###\n",
    "The TREC Eval utility can be downloaded and compiled as follows:\n",
    "\n",
    "    git clone https://github.com/usnistgov/trec_eval.git\n",
    "    cd trec_eval\n",
    "    make\n",
    "\n",
    "TREC Eval computes evaluation scores given two files: ground-truth information regarding relevant documents, named *query relevance* or *qrel*, and a ranking of documents for a set of queries, referred to as a *run*. The *qrel* will be supplied by us and should not be changed. For every retrieval model (or combinations thereof) you will generate a run of the top-1000 documents for every query. The format of the *run* file is as follows:\n",
    "\n",
    "    $query_identifier Q0 $document_identifier $rank_of_document_for_query $query_document_similarity $run_identifier\n",
    "    \n",
    "where\n",
    "   * `$query_identifier` is the unique identifier corresponding to a query (usually this follows a sequential numbering).\n",
    "   * `Q0` is a legacy field that you can ignore.\n",
    "   * `$document_identifier` corresponds to the unique identifier of a document (e.g., APXXXXXXX where AP denotes the collection and the Xs correspond to a unique numerical identifier).\n",
    "   * `$rank_of_document_for_query` denotes the rank of the document for the particular query. This field is ignored by TREC Eval and is only maintained for legacy support. The ranks are computed by TREC Eval itself using the `$query_document_similarity` field (see next). However, it remains good practice to correctly compute this field.\n",
    "   * `$query_document_similarity` is a score indicating the similarity between query and document where a higher score denotes greater similarity.\n",
    "   * `$run_identifier` is an identifier of the run. This field is for your own convenience and has no purpose beyond bookkeeping.\n",
    "   \n",
    "For example, say we have two queries: `Q1` and `Q2` and we rank three documents (`DOC1`, `DOC2`, `DOC3`). For query `Q1`, we find the following similarity scores `score(Q1, DOC1) = 1.0`, `score(Q1, DOC2) = 0.5`, `score(Q1, DOC3) = 0.75`; and for `Q2`: `score(Q2, DOC1) = -0.1`, `score(Q2, DOC2) = 1.25`, `score(Q1, DOC3) = 0.0`. We can generate run using the following snippet:"
   ]
  },
  {
   "cell_type": "code",
   "execution_count": 19,
   "metadata": {
    "collapsed": true
   },
   "outputs": [],
   "source": [
    "import time\n",
    "import numpy as np\n",
    "%matplotlib inline\n",
    "import pandas as pd\n",
    "import logging\n",
    "import os\n",
    "import pyndri\n",
    "import collections\n",
    "import io\n",
    "import sys\n",
    "from scipy import spatial\n",
    "import copy\n",
    "import gensim\n",
    "from scipy import stats\n",
    "from itertools import combinations\n",
    "from statsmodels.sandbox.stats.multicomp import multipletests"
   ]
  },
  {
   "cell_type": "code",
   "execution_count": 20,
   "metadata": {
    "collapsed": false,
    "deletable": true,
    "editable": true,
    "scrolled": true
   },
   "outputs": [
    {
     "name": "stdout",
     "output_type": "stream",
     "text": [
      "Q1 Q0 DOC1 1 1.0 example\n",
      "Q1 Q0 DOC3 2 0.75 example\n",
      "Q1 Q0 DOC2 3 0.5 example\n",
      "Q2 Q0 DOC2 1 1.25 example\n",
      "Q2 Q0 DOC3 2 0.0 example\n",
      "Q2 Q0 DOC1 3 -0.1 example\n",
      "We got 0 empty rankings in total\n"
     ]
    }
   ],
   "source": [
    "def write_run(model_name, data, out_f,\n",
    "              max_objects_per_query=sys.maxsize,\n",
    "              skip_sorting=False):\n",
    "    \"\"\"\n",
    "    Write a run to an output file.\n",
    "    Parameters:\n",
    "        - model_name: identifier of run.\n",
    "        - data: dictionary mapping topic_id to object_assesments;\n",
    "            object_assesments is an iterable (list or tuple) of\n",
    "            (relevance, object_id) pairs.\n",
    "            The object_assesments iterable is sorted by decreasing order.\n",
    "        - out_f: output file stream.\n",
    "        - max_objects_per_query: cut-off for number of objects per query.\n",
    "    \"\"\"\n",
    "    empty_rankings = 0\n",
    "    \n",
    "    for subject_id, object_assesments in data.items():\n",
    "        if not object_assesments:\n",
    "            empty_rankings = empty_rankings+1\n",
    "            logging.warning('Received empty ranking for %s; ignoring.',\n",
    "                            subject_id)\n",
    "            continue\n",
    "\n",
    "\n",
    "        # Probe types, to make sure everything goes alright.\n",
    "        # assert isinstance(object_assesments[0][0], float) or \\\n",
    "        #     isinstance(object_assesments[0][0], np.float32)\n",
    "        #print(\"object_assesments[0][1] is \")\n",
    "        #print(object_assesments[0][1])\n",
    "        if (not(isinstance(object_assesments[0][1], str) or \\\n",
    "            isinstance(object_assesments[0][1], bytes))):\n",
    "            print(object_assesments[0][1])\n",
    "        \n",
    "        assert isinstance(object_assesments[0][1], str) or \\\n",
    "            isinstance(object_assesments[0][1], bytes)\n",
    "\n",
    "        if not skip_sorting:\n",
    "            object_assesments = sorted(object_assesments, reverse=True)\n",
    "\n",
    "        if max_objects_per_query < sys.maxsize:\n",
    "            object_assesments = object_assesments[:max_objects_per_query]\n",
    "\n",
    "        if isinstance(subject_id, bytes):\n",
    "            subject_id = subject_id.decode('utf8')\n",
    "\n",
    "        for rank, (relevance, object_id) in enumerate(object_assesments):\n",
    "            if isinstance(object_id, bytes):\n",
    "                object_id = object_id.decode('utf8')\n",
    "\n",
    "            out_f.write(\n",
    "                '{subject} Q0 {object} {rank} {relevance} '\n",
    "                '{model_name}\\n'.format(\n",
    "                    subject=subject_id,\n",
    "                    object=object_id,\n",
    "                    rank=rank + 1,\n",
    "                    relevance=relevance,\n",
    "                    model_name=model_name))\n",
    "            \n",
    "            \n",
    "    print(\"We got \"+str(empty_rankings)+\" empty rankings in total\")\n",
    "        #print(\"Just_finished write_run\")\n",
    "# The following writes the run to standard output.\n",
    "# In your code, you should write the runs to local\n",
    "# storage in order to pass them to trec_eval.\n",
    "write_run(\n",
    "    model_name='example',\n",
    "    data={\n",
    "        'Q1': ((1.0, 'DOC1'), (0.5, 'DOC2'), (0.75, 'DOC3')),\n",
    "        'Q2': ((-0.1, 'DOC1'), (1.25, 'DOC2'), (0.0, 'DOC3')),\n",
    "    },\n",
    "    out_f=sys.stdout,\n",
    "    max_objects_per_query=1000)"
   ]
  },
  {
   "cell_type": "markdown",
   "metadata": {
    "deletable": true,
    "editable": true
   },
   "source": [
    "### Pyndri primer ###\n",
    "For this assignment you will use [Pyndri](https://github.com/cvangysel/pyndri) [[1](https://arxiv.org/abs/1701.00749)], a python interface for [Indri](https://www.lemurproject.org/indri.php). We have indexed the document collection and you can query the index using Pyndri. We will start by giving you some examples of what Pyndri can do:\n",
    "\n",
    "First we read the document collection index with Pyndri:"
   ]
  },
  {
   "cell_type": "code",
   "execution_count": 21,
   "metadata": {
    "collapsed": false,
    "deletable": true,
    "editable": true,
    "scrolled": true
   },
   "outputs": [
    {
     "name": "stdout",
     "output_type": "stream",
     "text": [
      "There are 164597 documents in this collection.\n"
     ]
    }
   ],
   "source": [
    "index = pyndri.Index('index/')\n",
    "doc_no = index.maximum_document() - index.document_base()\n",
    "token2id, id2token, _ = index.get_dictionary()\n",
    "print(\"There are %d documents in this collection.\" % (index.maximum_document() - index.document_base()))"
   ]
  },
  {
   "cell_type": "code",
   "execution_count": 22,
   "metadata": {
    "collapsed": false,
    "scrolled": true
   },
   "outputs": [
    {
     "name": "stdout",
     "output_type": "stream",
     "text": [
      "OrderedDict([('51', 'Airbus Subsidies'), ('52', 'South African Sanctions'), ('53', 'Leveraged Buyouts'), ('54', 'Satellite Launch Contracts'), ('55', 'Insider Trading'), ('56', 'Prime (Lending) Rate Moves, Predictions'), ('57', 'MCI'), ('58', 'Rail Strikes'), ('59', 'Weather Related Fatalities'), ('60', 'Merit-Pay vs. Seniority'), ('61', 'Israeli Role in Iran-Contra Affair'), ('62', \"Military Coups D'etat\"), ('63', 'Machine Translation'), ('64', 'Hostage-Taking'), ('65', 'Information Retrieval Systems'), ('66', 'Natural Language Processing'), ('67', 'Politically Motivated Civil Disturbances'), ('68', 'Health Hazards from Fine-Diameter Fibers'), ('69', 'Attempts to Revive the SALT II Treaty'), ('70', 'Surrogate Motherhood'), ('71', 'Border Incursions'), ('72', 'Demographic Shifts in the U.S.'), ('73', 'Demographic Shifts across National Boundaries'), ('74', 'Conflicting Policy'), ('75', 'Automation'), ('76', 'U.S. Constitution - Original Intent'), ('77', 'Poaching'), ('78', 'Greenpeace'), ('79', 'FRG Political Party Positions'), ('80', '1988 Presidential Candidates Platforms'), ('81', 'Financial crunch for televangelists in the wake of the PTL scandal'), ('82', 'Genetic Engineering'), ('83', 'Measures to Protect the Atmosphere'), ('84', 'Alternative/renewable Energy Plant & Equipment Installation'), ('85', 'Official Corruption'), ('86', 'Bank Failures'), ('87', 'Criminal Actions Against Officers of Failed Financial Institutions'), ('88', 'Crude Oil Price Trends'), ('89', '\"Downstream\" Investments by OPEC Member States'), ('90', 'Data on Proven Reserves of Oil & Natural Gas Producers'), ('91', 'U.S. Army Acquisition of Advanced Weapons Systems'), ('92', 'International Military Equipment Sales'), ('93', 'What Backing Does the National Rifle Association Have?'), ('94', 'Computer-aided Crime'), ('95', 'Computer-aided Crime Detection'), ('96', 'Computer-Aided Medical Diagnosis'), ('97', 'Fiber Optics Applications'), ('98', 'Fiber Optics Equipment Manufacturers'), ('99', 'Iran-Contra Affair'), ('100', 'Controlling the Transfer of High Technology'), ('101', 'Design of the \"Star Wars\" Anti-missile Defense System'), ('102', \"Laser Research Applicable to the U.S.'s Strategic Defense Initiative\"), ('103', 'Welfare Reform'), ('104', 'Catastrophic Health Insurance'), ('105', '\"Black Monday\"'), ('106', 'U.S. Control of Insider Trading'), ('107', 'Japanese Regulation of Insider Trading'), ('108', 'Japanese Protectionist Measures'), ('109', 'Find Innovative Companies'), ('110', 'Black Resistance Against the South African Government'), ('111', 'Nuclear Proliferation'), ('112', 'Funding Biotechnology'), ('113', 'New Space Satellite Applications'), ('114', 'Non-commercial Satellite Launches'), ('115', 'Impact of the 1986 Immigration Law'), ('116', 'Generic Drug Substitutions'), ('117', 'Capacity of the U.S. Cellular Telephone Network'), ('118', 'International Terrorists'), ('119', 'Actions Against International Terrorists'), ('120', 'Economic Impact of International Terrorism'), ('121', 'Death from Cancer'), ('122', 'RDT&E of New Cancer Fighting Drugs'), ('123', 'Research into & Control of Carcinogens'), ('124', 'Alternatives to Traditional Cancer Therapies'), ('125', 'Anti-smoking Actions by Government'), ('126', 'Medical Ethics and Modern Technology'), ('127', 'U.S.-U.S.S.R. Arms Control Agreements'), ('128', 'Privatization of State Assets'), ('129', 'Soviet Spying on the U.S.'), ('130', 'Jewish Emigration and U.S.-USSR Relations'), ('131', 'McDonnell Douglas Contracts for Military Aircraft'), ('132', '\"Stealth\" Aircraft'), ('133', 'Hubble Space Telescope'), ('134', 'The Human Genome Project'), ('135', 'Possible Contributions of Gene Mapping to Medicine'), ('136', 'Diversification by Pacific Telesis'), ('137', 'Expansion in the U.S. Theme Park Industry'), ('138', 'Iranian Support for Lebanese Hostage-takers'), ('139', \"Iran's Islamic Revolution - Domestic and Foreign Social Consequences\"), ('140', 'Political Impact of Islamic Fundamentalism'), ('141', \"Japan's Handling of its Trade Surplus with the U.S.\"), ('142', 'Impact of Government Regulated Grain Farming on International Relations'), ('143', 'Why Protect U.S. Farmers?'), ('144', 'Management Problems at the United Nations'), ('145', 'Influence of the \"Pro-Israel Lobby\"'), ('146', 'Negotiating an End to the Nicaraguan Civil War'), ('147', 'Productivity Trends in the U.S. Economy'), ('148', 'Conflict in the Horn of Africa'), ('149', 'Industrial Espionage'), ('150', 'U.S. Political Campaign Financing'), ('151', 'Coping with overcrowded prisons'), ('152', 'Accusations of Cheating by Contractors on U.S. Defense Projects'), ('153', 'Insurance Coverage which pays for Long Term Care'), ('154', 'Oil Spills'), ('155', 'Right Wing Christian Fundamentalism in U.S.'), ('156', 'Efforts to enact Gun Control Legislation'), ('157', 'Causes and treatments of multiple sclerosis (MS)'), ('158', 'Term limitations for members of the U.S. Congress'), ('159', 'Electric Car Development'), ('160', 'Vitamins - The Cure for or Cause of Human Ailments'), ('161', 'Acid Rain'), ('162', 'Automobile Recalls'), ('163', 'Vietnam Veterans and Agent Orange'), ('164', 'Generic Drugs - Illegal Activities by Manufacturers'), ('165', 'Tobacco company advertising and the young'), ('166', 'Standardized testing and cultural bias'), ('167', 'Regulation of the showing of violence and explicit sex in motion picture theaters, on television, and on video cassettes.'), ('168', 'Financing AMTRAK'), ('169', 'Cost of Garbage/Trash Removal'), ('170', 'The Consequences of Implantation of Silicone Gel Breast Devices'), ('171', \"Use of Mutual Funds in an Individual's Retirement Strategy\"), ('172', 'The Effectiveness of Medical Products and Related Programs Utilized in the Cessation of Smoking.'), ('173', 'Smoking Bans'), ('174', 'Hazardous Waste Cleanup'), ('175', 'NRA Prevention of Gun Control Legislation'), ('176', 'Real-life private investigators'), ('177', 'English as the Official Language in U.S.'), ('178', 'Dog Maulings'), ('179', 'U. S. Restaurants in Foreign Lands'), ('180', 'Ineffectiveness of U.S. Embargoes/Sanctions'), ('181', 'Abuse of the Elderly by Family Members, and Medical and Nonmedical Personnel, and Initiatives Being Taken to Minimize This Mistreatment'), ('182', 'Commercial Overfishing Creates Food Fish Deficit'), ('183', 'Asbestos Related Lawsuits'), ('184', 'Corporate Pension Plans/Funds'), ('185', 'Reform of the U.S. Welfare System'), ('186', 'Difference of Learning Levels Among Inner City and More Suburban School Students'), ('187', 'Signs of the Demise of Independent Publishing'), ('188', 'Beachfront Erosion'), ('189', 'Real Motives for Murder'), ('190', 'Instances of Fraud Involving the Use of a Computer'), ('191', 'Efforts to Improve U.S. Schooling'), ('192', 'Oil Spill Cleanup'), ('193', 'Toys R Dangerous'), ('194', 'The Amount of Money Earned by Writers'), ('195', 'Stock Market Perturbations Attributable to Computer Initiated Trading'), ('196', 'School Choice Voucher System and its effects upon the entire U.S. educational program'), ('197', 'Reform of the jurisprudence system to stop juries from granting unreasonable monetary awards'), ('198', 'Gene Therapy and Its Benefits to Humankind'), ('199', 'Legality of Medically Assisted Suicides'), ('200', 'Impact of foreign textile imports on U.S. textile industry')])\n"
     ]
    }
   ],
   "source": [
    "def parse_topics(file_or_files,\n",
    "                 max_topics=sys.maxsize, delimiter=';'):\n",
    "    assert max_topics >= 0 or max_topics is None\n",
    "\n",
    "    topics = collections.OrderedDict()\n",
    "\n",
    "    if not isinstance(file_or_files, list) and \\\n",
    "            not isinstance(file_or_files, tuple):\n",
    "        if hasattr(file_or_files, '__iter__'):\n",
    "            file_or_files = list(file_or_files)\n",
    "        else:\n",
    "            file_or_files = [file_or_files]\n",
    "\n",
    "    for f in file_or_files:\n",
    "        assert isinstance(f, io.IOBase)\n",
    "\n",
    "        for line in f:\n",
    "            assert(isinstance(line, str))\n",
    "\n",
    "            line = line.strip()\n",
    "\n",
    "            if not line:\n",
    "                continue\n",
    "\n",
    "            topic_id, terms = line.split(delimiter, 1)\n",
    "\n",
    "            if topic_id in topics and (topics[topic_id] != terms):\n",
    "                    logging.error('Duplicate topic \"%s\" (%s vs. %s).',\n",
    "                                  topic_id,\n",
    "                                  topics[topic_id],\n",
    "                                  terms)\n",
    "\n",
    "            topics[topic_id] = terms\n",
    "\n",
    "            if max_topics > 0 and len(topics) >= max_topics:\n",
    "                break\n",
    "\n",
    "    return topics\n",
    "\n",
    "with open('./ap_88_89/topics_title', 'r') as f_topics:\n",
    "    print(parse_topics([f_topics]))"
   ]
  },
  {
   "cell_type": "markdown",
   "metadata": {
    "deletable": true,
    "editable": true
   },
   "source": [
    "### Task 1: Implement and compare lexical IR methods [40 points] ### \n",
    "\n",
    "In this task you will implement a number of lexical methods for IR using the **Pyndri** framework. Then you will evaluate these methods on the dataset we have provided using **TREC Eval**.\n",
    "\n",
    "Use the **Pyndri** framework to get statistics of the documents (term frequency, document frequency, collection frequency; **you are not allowed to use the query functionality of Pyndri**) and implement the following scoring methods in **Python**:\n",
    "\n",
    "- [TF-IDF](http://nlp.stanford.edu/IR-book/html/htmledition/tf-idf-weighting-1.html). **[5 points]**\n",
    "- [BM25](http://nlp.stanford.edu/IR-book/html/htmledition/okapi-bm25-a-non-binary-model-1.html) with k1=1.2 and b=0.75. **[5 points]**\n",
    "- Language models ([survey](https://drive.google.com/file/d/0B-zklbckv9CHc0c3b245UW90NE0/view))\n",
    "    - Jelinek-Mercer (explore different values of 𝛌 in the range [0.1, 0.5, 0.9]). **[10 points]**\n",
    "    - Dirichlet Prior (explore different values of 𝛍 [500, 1000, 1500]). **[5 points]**\n",
    "    - Absolute discounting (explore different values of 𝛅 in the range [0.1, 0.5, 0.9]). **[5 points]**\n",
    "    \n",
    "Implement the above methods and report evaluation measures (on the test set) using the hyper parameter values you optimized on the validation set (also report the values of the hyper parameters). Use TREC Eval to obtain the results and report on `NDCG@10`, Mean Average Precision (`MAP@1000`), `Precision@5` and `Recall@1000`.\n",
    "\n",
    "For the language models, create plots showing `NDCG@10` with varying values of the parameters. You can do this by chaining small scripts using shell scripting (preferred) or execute trec_eval using Python's `subprocess`.\n",
    "\n",
    "Compute significance of the results using a [two-tailed paired Student t-test](https://docs.scipy.org/doc/scipy/reference/generated/scipy.stats.ttest_rel.html) **[10 points]**. Be wary of false rejection of the null hypothesis caused by the [multiple comparisons problem](https://en.wikipedia.org/wiki/Multiple_comparisons_problem). There are multiple ways to mitigate this problem and it is up to you to choose one.\n",
    "\n",
    "Analyse the results by identifying specific queries where different methods succeed or fail and discuss possible reasons that cause these differences. This is *very important* in order to understand how the different retrieval functions behave.\n",
    "\n",
    "**NOTE**: Don’t forget to use log computations in your calculations to avoid underflows. "
   ]
  },
  {
   "cell_type": "markdown",
   "metadata": {
    "deletable": true,
    "editable": true
   },
   "source": [
    "**IMPORTANT**: You should structure your code around the helper functions we provide below."
   ]
  },
  {
   "cell_type": "markdown",
   "metadata": {},
   "source": [
    "### Building run files"
   ]
  },
  {
   "cell_type": "code",
   "execution_count": 23,
   "metadata": {
    "collapsed": true,
    "deletable": true,
    "editable": true
   },
   "outputs": [],
   "source": [
    "def run_retrieval(model_name, score_fn):                 #from global dictionary of results\n",
    "    \"\"\"\n",
    "    Runs a retrieval method for all the queries and writes the TREC-friendly results in a file.\n",
    "    \n",
    "    :param model_name: the name of the model (a string)\n",
    "    :param score_fn: the scoring function (a function - see below for an example) \n",
    "    \"\"\"\n",
    "    #print(scores_tuple)\n",
    "    \n",
    "    column = get_column(score_fn)\n",
    "    if column==-1:\n",
    "        print(\"Run retrieval: cannot identify score function \"+str(score_fn))\n",
    "        return\n",
    "    else:\n",
    "        print(\"Yey, column is \"+str(column))\n",
    "    run_out_path = './run_files/{}.run'.format(model_name) \n",
    "\n",
    "    if os.path.exists(run_out_path):\n",
    "        print(\"File \"+str(run_out_path)+\" already exists, operation aborted\")\n",
    "        return\n",
    "\n",
    "    retrieval_start_time = time.time()\n",
    "\n",
    "    print('Retrieving using', model_name)\n",
    "    data = {} \n",
    "    noq=0    \n",
    "    for query_id in tokenized_queries: \n",
    "        noq = noq + 1\n",
    "        temp_list = []\n",
    "        #print(\"Query \"+str(query_id)+\" no \"+str(noq)+\": got \"+str(len(rel_docs[str(query_id)]))+\" rel_docs\")\n",
    "        for rel_doc2 in rel_docs[str(query_id)]:\n",
    "            rel_doc2=int(rel_doc2)\n",
    "            #print(rel_doc2)\n",
    "            temp_list.append((scores_tuple[str(query_id), rel_doc2][column], index.document(rel_doc2)[0]))\n",
    "            data[query_id] = temp_list\n",
    "        print(\"Query no \"+str(noq)+\" is finished\")\n",
    "    \n",
    "    ##################################################\n",
    "          \n",
    "    # The dictionary data has the form: query_id --> (document_score, external_doc_id)\n",
    "    \n",
    "        \n",
    "    with open(run_out_path, 'w') as f_out:\n",
    "        write_run(\n",
    "            model_name=model_name,\n",
    "            data=data,\n",
    "            out_f=f_out,\n",
    "            max_objects_per_query=1000)     "
   ]
  },
  {
   "cell_type": "code",
   "execution_count": 24,
   "metadata": {
    "collapsed": false
   },
   "outputs": [
    {
     "name": "stdout",
     "output_type": "stream",
     "text": [
      "Number of documents:  164597\n",
      "Length of tokenized queries:  150\n",
      "Length of query term ids:  456\n",
      "Average document length:  256.4381975370147\n"
     ]
    }
   ],
   "source": [
    "with open('./ap_88_89/topics_title', 'r') as f_topics:\n",
    "    queries = parse_topics([f_topics])\n",
    "\n",
    "index = pyndri.Index('index/')\n",
    "\n",
    "num_documents = index.maximum_document() - index.document_base()\n",
    "print(\"Number of documents: \", num_documents)\n",
    "\n",
    "dictionary = pyndri.extract_dictionary(index)\n",
    "\n",
    "tokenized_queries = {\n",
    "    query_id: [dictionary.translate_token(token)\n",
    "               for token in index.tokenize(query_string)\n",
    "               if dictionary.has_token(token)]\n",
    "    for query_id, query_string in queries.items()}\n",
    " \n",
    "print(\"Length of tokenized queries: \", len(tokenized_queries))\n",
    "\n",
    "query_term_ids = set(\n",
    "    query_term_id\n",
    "    for query_term_ids in tokenized_queries.values()\n",
    "    for query_term_id in query_term_ids)\n",
    "\n",
    "print(\"Length of query term ids: \", len(query_term_ids))\n",
    "\n",
    "# print('Gathering statistics about', len(query_term_ids), 'terms.')\n",
    "\n",
    "# inverted index creation\n",
    "\n",
    "document_lengths = {}\n",
    "unique_terms_per_document = {}\n",
    "\n",
    "inverted_index = collections.defaultdict(dict)\n",
    "collection_frequencies = collections.defaultdict(int)\n",
    "\n",
    "total_terms = 0\n",
    "\n",
    "for int_doc_id in range(index.document_base(), index.maximum_document()):\n",
    "    ext_doc_id, doc_token_ids = index.document(int_doc_id)\n",
    "\n",
    "    document_bow = collections.Counter(\n",
    "        token_id for token_id in doc_token_ids\n",
    "        if token_id > 0)\n",
    "    document_length = sum(document_bow.values())\n",
    "\n",
    "    document_lengths[int_doc_id] = document_length\n",
    "    total_terms += document_length\n",
    "\n",
    "    unique_terms_per_document[int_doc_id] = len(document_bow)\n",
    "\n",
    "    for query_term_id in query_term_ids:\n",
    "        assert query_term_id is not None\n",
    "\n",
    "        document_term_frequency = document_bow.get(query_term_id, 0)\n",
    "\n",
    "        if document_term_frequency == 0:\n",
    "            continue\n",
    "\n",
    "        # frequency of a term in all documents\n",
    "        collection_frequencies[query_term_id] += document_term_frequency\n",
    "        # frequency of a term in a particcollections.defaultdict(dict)ular document\n",
    "        inverted_index[query_term_id][int_doc_id] = document_term_frequency\n",
    "\n",
    "avg_doc_length = total_terms / num_documents\n",
    "print(\"Average document length: \", avg_doc_length)"
   ]
  },
  {
   "cell_type": "markdown",
   "metadata": {},
   "source": [
    "### Retrieval models"
   ]
  },
  {
   "cell_type": "code",
   "execution_count": 25,
   "metadata": {
    "collapsed": false,
    "deletable": true,
    "editable": true
   },
   "outputs": [],
   "source": [
    "# scoring functions\n",
    "\n",
    "def tfidf(int_document_id, query_term_id, document_term_freq):\n",
    "    \"\"\"\n",
    "    Scoring function for a document and a query term\n",
    "    :param int_document_id: the document id\n",
    "    :param query_token_id: the query term id (assuming you have split the query to tokens)\n",
    "    :param document_term_freq: the document term frequency of the query term \n",
    "    \"\"\" \n",
    "    # TODO implement the function\n",
    "    \n",
    "    idf = np.log(num_documents / collection_frequencies[query_term_id])\n",
    "    tf = np.log(1 + document_term_freq)\n",
    "    score = tf*idf\n",
    "    return score\n",
    "\n",
    "\n",
    "#idf = math.log(num_documents) - math.log(df)\n",
    "\n",
    "def word2vec_similarity(query_id, doc_id, mode):\n",
    "    if mode=='avg':\n",
    "        result = 1 - spatial.distance.cosine(vec_query(query_id), vec_doc(doc_id))\n",
    "        return result\n",
    "         \n",
    "def jelinek_mercer(int_document_id, query_term_id, document_term_freq, l):\n",
    "    base = (l*document_term_freq)/document_lengths[int_document_id] \n",
    "    smooth = ((1-l)*collection_frequencies[query_term_id]/ total_terms)\n",
    "    return np.logaddexp(base, smooth)\n",
    "\n",
    "def bm25(int_document_id, query_term_id, document_term_freq):\n",
    "    k1 = 1.2\n",
    "    b = 0.75\n",
    "    ld = document_lengths[int_document_id]\n",
    "    lavg = avg_doc_length\n",
    "    tf = document_term_freq\n",
    "    df = collection_frequencies[query_term_id]\n",
    "    # +\n",
    "    idf = np.log(num_documents / collection_frequencies[query_term_id])\n",
    "    # +\n",
    "    score = (k1+1)*tf*idf/(k1*((1-b)+b*(ld/lavg))+tf)\n",
    "    return score\n",
    "\n",
    "def abs_discounting(int_document_id, query_term_id, tf, d):\n",
    "    #d = 0.1, 0.5, 0.9\n",
    "    df =  collection_frequencies[query_term_id]\n",
    "    pwc = df/doc_no  # ( tf(w;C)/|C| )\n",
    "    doc_length = document_lengths[int_document_id]\n",
    "    doc_length_unique = unique_terms_per_document[int_document_id]\n",
    "    base = np.maximum(tf-d, 0)/doc_length\n",
    "    smooth = (d*doc_length_unique/doc_length)*pwc\n",
    "    return np.logaddexp(base, smooth) \n",
    "\n",
    "def dirichlet_prior(int_document_id, query_term_id, tf, mu):\n",
    "#     base = (document_term_freq)/(document_lengths[int_document_id] + mu)\n",
    "#     smooth = (mu*collection_frequencies[query_term_id])/(document_lengths[int_document_id] + mu) \n",
    "    df = collection_frequencies[query_term_id]\n",
    "    pwc = df/doc_no\n",
    "    #collection_frequencies[query_term_id] instead of pwc\n",
    "    doc_length = document_lengths[int_document_id] \n",
    "    base = ((doc_length)/(doc_length + mu))*(tf/doc_length)\n",
    "    smooth = (mu*(pwc))/(doc_length + mu)\n",
    "    return np.logaddexp(base, smooth) \n",
    "\n",
    "def vec_query_lsm(query_id, model):\n",
    "    query_tokens = [id2token[int(word_id)] for word_id in tokenized_queries[str(query_id)] if word_id > 0]\n",
    "    query_bow = dictionary.doc2bow(query_tokens)\n",
    "    # infer topic distributions on new, unseen documents\n",
    "    query_vec = [x[1] for x in model[query_bow]]\n",
    "    return query_vec\n",
    "\n",
    "def vec_doc_lsm(int_document_id, model):\n",
    "    doc_tokens = [word_id for word_id in index.document(int(int_document_id))[1] if word_id > 0]\n",
    "    # infer topic distributions on new, unseen documents\n",
    "    doc_bow = dictionary.doc2bow(doc_tokens)\n",
    "    doc_vec = [x[1] for x in model[doc_bow]]\n",
    "    return doc_vec\n",
    "\n",
    "def lsi(int_document_id, query_id):\n",
    "    result = 1 - spatial.distance.cosine(vec_query_lsm(int(query_id), lsi_model), vec_doc_lsm(int_document_id, lsi_model))\n",
    "    return result\n",
    "\n",
    "def lda(int_document_id, query_id):\n",
    "    result = 1 - spatial.distance.cosine(vec_query_lsm(int(query_id), lda_model), vec_doc_lsm(int_document_id, lda_model))\n",
    "    return result"
   ]
  },
  {
   "cell_type": "code",
   "execution_count": 26,
   "metadata": {
    "collapsed": false
   },
   "outputs": [
    {
     "name": "stdout",
     "output_type": "stream",
     "text": [
      "Query 1 of 150\n",
      "Query 2 of 150\n",
      "Query 3 of 150\n",
      "Query 4 of 150\n",
      "Query 5 of 150\n",
      "Query 6 of 150\n",
      "Query 7 of 150\n",
      "Query 8 of 150\n",
      "Query 9 of 150\n",
      "Query 10 of 150\n",
      "Query 11 of 150\n",
      "Query 12 of 150\n",
      "Query 13 of 150\n",
      "Query 14 of 150\n",
      "Query 15 of 150\n",
      "Query 16 of 150\n",
      "Query 17 of 150\n",
      "Query 18 of 150\n",
      "Query 19 of 150\n",
      "Query 20 of 150\n",
      "Query 21 of 150\n",
      "Query 22 of 150\n",
      "Query 23 of 150\n",
      "Query 24 of 150\n",
      "Query 25 of 150\n",
      "Query 26 of 150\n",
      "Query 27 of 150\n",
      "Query 28 of 150\n",
      "Query 29 of 150\n",
      "Query 30 of 150\n",
      "Query 31 of 150\n",
      "Query 32 of 150\n",
      "Query 33 of 150\n",
      "Query 34 of 150\n",
      "Query 35 of 150\n",
      "Query 36 of 150\n",
      "Query 37 of 150\n",
      "Query 38 of 150\n",
      "Query 39 of 150\n",
      "Query 40 of 150\n",
      "Query 41 of 150\n",
      "Query 42 of 150\n",
      "Query 43 of 150\n",
      "Query 44 of 150\n",
      "Query 45 of 150\n",
      "Query 46 of 150\n",
      "Query 47 of 150\n",
      "Query 48 of 150\n",
      "Query 49 of 150\n",
      "Query 50 of 150\n",
      "Query 51 of 150\n",
      "Query 52 of 150\n",
      "Query 53 of 150\n",
      "Query 54 of 150\n",
      "Query 55 of 150\n",
      "Query 56 of 150\n",
      "Query 57 of 150\n",
      "Query 58 of 150\n",
      "Query 59 of 150\n",
      "Query 60 of 150\n",
      "Query 61 of 150\n",
      "Query 62 of 150\n",
      "Query 63 of 150\n",
      "Query 64 of 150\n",
      "Query 65 of 150\n",
      "Query 66 of 150\n",
      "Query 67 of 150\n",
      "Query 68 of 150\n",
      "Query 69 of 150\n",
      "Query 70 of 150\n",
      "Query 71 of 150\n",
      "Query 72 of 150\n",
      "Query 73 of 150\n",
      "Query 74 of 150\n",
      "Query 75 of 150\n",
      "Query 76 of 150\n",
      "Query 77 of 150\n",
      "Query 78 of 150\n",
      "Query 79 of 150\n",
      "Query 80 of 150\n",
      "Query 81 of 150\n",
      "Query 82 of 150\n",
      "Query 83 of 150\n",
      "Query 84 of 150\n",
      "Query 85 of 150\n",
      "Query 86 of 150\n",
      "Query 87 of 150\n",
      "Query 88 of 150\n",
      "Query 89 of 150\n",
      "Query 90 of 150\n",
      "Query 91 of 150\n",
      "Query 92 of 150\n",
      "Query 93 of 150\n",
      "Query 94 of 150\n",
      "Query 95 of 150\n",
      "Query 96 of 150\n",
      "Query 97 of 150\n",
      "Query 98 of 150\n",
      "Query 99 of 150\n",
      "Query 100 of 150\n",
      "Query 101 of 150\n",
      "Query 102 of 150\n",
      "Query 103 of 150\n",
      "Query 104 of 150\n",
      "Query 105 of 150\n",
      "Query 106 of 150\n",
      "Query 107 of 150\n",
      "Query 108 of 150\n",
      "Query 109 of 150\n",
      "Query 110 of 150\n",
      "Query 111 of 150\n",
      "Query 112 of 150\n",
      "Query 113 of 150\n",
      "Query 114 of 150\n",
      "Query 115 of 150\n",
      "Query 116 of 150\n",
      "Query 117 of 150\n",
      "Query 118 of 150\n",
      "Query 119 of 150\n",
      "Query 120 of 150\n",
      "Query 121 of 150\n",
      "Query 122 of 150\n",
      "Query 123 of 150\n",
      "Query 124 of 150\n",
      "Query 125 of 150\n",
      "Query 126 of 150\n",
      "Query 127 of 150\n",
      "Query 128 of 150\n",
      "Query 129 of 150\n",
      "Query 130 of 150\n",
      "Query 131 of 150\n",
      "Query 132 of 150\n",
      "Query 133 of 150\n",
      "Query 134 of 150\n",
      "Query 135 of 150\n",
      "Query 136 of 150\n",
      "Query 137 of 150\n",
      "Query 138 of 150\n",
      "Query 139 of 150\n",
      "Query 140 of 150\n",
      "Query 141 of 150\n",
      "Query 142 of 150\n",
      "Query 143 of 150\n",
      "Query 144 of 150\n",
      "Query 145 of 150\n",
      "Query 146 of 150\n",
      "Query 147 of 150\n",
      "Query 148 of 150\n",
      "Query 149 of 150\n",
      "Query 150 of 150\n"
     ]
    }
   ],
   "source": [
    "# part 1 (scores tuple)\n",
    "\n",
    "mode='avg'\n",
    "no=0\n",
    "scores_tuple = collections.defaultdict(dict)\n",
    "rel_docs = collections.defaultdict(dict)\n",
    "\n",
    "for query_id in tokenized_queries: \n",
    "    no+=1\n",
    "    print(\"Query \"+str(no)+\" of 150\")\n",
    "    temp_rel_docs = set()\n",
    "    for query_term_id in tokenized_queries[query_id]:\n",
    "        part2 = inverted_index[query_term_id]\n",
    "        for rel_doc in part2:\n",
    "            temp_rel_docs.add(str(rel_doc))\n",
    "            tf = inverted_index[query_term_id][rel_doc]\n",
    "            if not (scores_tuple[query_id, rel_doc]):                #empty list - not yet initialized\n",
    "                scores_tuple[query_id, rel_doc] = list(np.zeros(13))   #13 dims     \n",
    "            scores_tuple[query_id, rel_doc][0] += tfidf(rel_doc, query_term_id, tf)\n",
    "            scores_tuple[query_id, rel_doc][1] += dirichlet_prior(rel_doc, query_term_id, tf, mu=500)\n",
    "            scores_tuple[query_id, rel_doc][2] += dirichlet_prior(rel_doc, query_term_id, tf, mu=1000)\n",
    "            scores_tuple[query_id, rel_doc][3] += dirichlet_prior(rel_doc, query_term_id, tf, mu=1500)\n",
    "            scores_tuple[query_id, rel_doc][4] += bm25(rel_doc, query_term_id, tf)\n",
    "            scores_tuple[query_id, rel_doc][5] += abs_discounting(rel_doc, query_term_id, tf, d=0.1)\n",
    "            scores_tuple[query_id, rel_doc][6] += abs_discounting(rel_doc, query_term_id, tf, d=0.5)\n",
    "            scores_tuple[query_id, rel_doc][7] += abs_discounting(rel_doc, query_term_id, tf, d=0.9)\n",
    "            scores_tuple[query_id, rel_doc][8] += jelinek_mercer(rel_doc, query_term_id, tf, l=0.1)\n",
    "            scores_tuple[query_id, rel_doc][9] += jelinek_mercer(rel_doc, query_term_id, tf, l=0.5)\n",
    "            scores_tuple[query_id, rel_doc][10] += jelinek_mercer(rel_doc, query_term_id, tf, l=0.9)\n",
    "    rel_docs[query_id] = temp_rel_docs"
   ]
  },
  {
   "cell_type": "code",
   "execution_count": 29,
   "metadata": {
    "collapsed": false
   },
   "outputs": [],
   "source": [
    "no=0\n",
    "for query_id in tokenized_queries: \n",
    "    no+=1\n",
    "    print(\"Query (\"+str(query_id)+\"), no\"+str(no)+\" of 150\")\n",
    "    for rel_doc in rel_docs[query_id]:\n",
    "        #print(\"Rel_doc \"+str(rel_doc))\n",
    "        rel_doc = int(rel_doc)\n",
    "        scores_tuple[query_id, rel_doc][11] = lsi(rel_doc, query_id)"
   ]
  },
  {
   "cell_type": "code",
   "execution_count": 28,
   "metadata": {
    "collapsed": false
   },
   "outputs": [],
   "source": [
    "no=0\n",
    "for query_id in tokenized_queries: \n",
    "    no+=1\n",
    "    print(\"Query (\"+str(query_id)+\"), no\"+str(no)+\" of 150\")\n",
    "    for rel_doc in rel_docs[query_id]:\n",
    "        #print(\"Rel_doc \"+str(rel_doc))\n",
    "        rel_doc = int(rel_doc)\n",
    "        scores_tuple[query_id, rel_doc][11] = lda(rel_doc, query_id)"
   ]
  },
  {
   "cell_type": "code",
   "execution_count": 27,
   "metadata": {
    "collapsed": false
   },
   "outputs": [],
   "source": [
    "w2v_model = gensim.models.Word2Vec.load('model_20')\n",
    "qno=0\n",
    "\n",
    "for query_id in tokenized_queries: \n",
    "    qno+=1\n",
    "    for rel_doc in rel_docs[query_id]:\n",
    "        rel_doc = int(rel_doc)\n",
    "        scores_tuple[query_id, rel_doc][12] = word2vec_similarity(query_id, rel_doc, \"avg\")\n",
    "        \n",
    "#    print(\"Query (\"+str(query_id)+\"), no\"+str(qno)+\" of 150, last rel_doc was \"+str(rel_doc))"
   ]
  },
  {
   "cell_type": "code",
   "execution_count": 30,
   "metadata": {
    "collapsed": true
   },
   "outputs": [],
   "source": [
    "def get_column(scorefn_name):\n",
    "    if scorefn_name==\"tfidf\":\n",
    "        print(\"get_col: tfidf\")\n",
    "        return 0\n",
    "    elif scorefn_name==\"d500\":\n",
    "        print(\"get_col: d500\")\n",
    "        return 1\n",
    "    elif scorefn_name==\"d1000\":\n",
    "        print(\"get_col: d1000\")\n",
    "        return 2\n",
    "    elif scorefn_name==\"d1500\":\n",
    "        print(\"get_col: d1500\")\n",
    "        return 3\n",
    "    elif scorefn_name==\"bm25\":\n",
    "        print(\"get_col: bm25\")\n",
    "        return 4\n",
    "    elif scorefn_name==\"abs01\":\n",
    "        print(\"get_col: abs01\")\n",
    "        return 5\n",
    "    elif scorefn_name==\"abs05\":\n",
    "        print(\"get_col: abs05\")\n",
    "        return 6\n",
    "    elif scorefn_name==\"abs09\":\n",
    "        print(\"get_col: abs09\")\n",
    "        return 7 \n",
    "    elif scorefn_name==\"jm01\":\n",
    "        print(\"get_col: jm01\")\n",
    "        return 8\n",
    "    elif scorefn_name==\"jm05\":\n",
    "        print(\"get_col: jm05\")\n",
    "        return 9\n",
    "    elif scorefn_name==\"jm09\":\n",
    "        print(\"get_col: jm09\")\n",
    "        return 10\n",
    "    elif scorefn_name==\"lsi\":\n",
    "        print(\"get_col: lsi\")\n",
    "        return 11\n",
    "    elif scorefn_name==\"w2vavg\":\n",
    "        print(\"get_col: w2vavg\")\n",
    "        return 12\n",
    "    else:\n",
    "        return -1"
   ]
  },
  {
   "cell_type": "code",
   "execution_count": 31,
   "metadata": {
    "collapsed": true
   },
   "outputs": [],
   "source": [
    "# run_retrieval('lsi','lsi')"
   ]
  },
  {
   "cell_type": "code",
   "execution_count": 32,
   "metadata": {
    "collapsed": false
   },
   "outputs": [],
   "source": [
    "# Top 1000 docs per query (based on tf-idf)\n",
    "\n",
    "retrieval_start_time = time.time()\n",
    "\n",
    "max_objects_per_query = 1000\n",
    "data2 = {}\n",
    "noq=0    \n",
    "\n",
    "for query_id in tokenized_queries: \n",
    "    noq = noq + 1\n",
    "    temp_list = []\n",
    "    for rel_doc2 in rel_docs[str(query_id)]:\n",
    "        rel_doc2=int(rel_doc2)\n",
    "        scores = scores_tuple[str(query_id), rel_doc2]\n",
    "        zip_tuple = (rel_doc2, scores)\n",
    "        temp_list.append(zip_tuple)\n",
    "        temp_list = temp_list[:max_objects_per_query]\n",
    "        data2[query_id] = temp_list\n",
    "    print(\"Query (\"+str(query_id)+\"), \"+str(noq)+\"/150 is finished\")\n",
    "    \n",
    "# print('Data2 creation took', time.time() - retrieval_start_time, 'seconds.')"
   ]
  },
  {
   "cell_type": "code",
   "execution_count": 33,
   "metadata": {
    "collapsed": false
   },
   "outputs": [],
   "source": [
    "#Construct data2: (q_id, ext_doc_id) -> score list: [tdidf_score, bm25_scrore, etc]\n",
    "\n",
    "q_doc_scores = collections.defaultdict(dict)\n",
    "qno=0\n",
    "\n",
    "for query_id in tokenized_queries:\n",
    "    qno+=1\n",
    "    for zip_tupple in data2[query_id]:\n",
    "        doc_id = zip_tupple[0]\n",
    "        doc_name = index.document(doc_id)[0]\n",
    "        q_doc_scores[(query_id, doc_name)] = [item for item in zip_tupple[1:][0]]\n",
    "#    print(\"Query (\"+str(query_id)+\"), \"+str(qno)+\" of 150 finished\")"
   ]
  },
  {
   "cell_type": "code",
   "execution_count": 34,
   "metadata": {
    "collapsed": false
   },
   "outputs": [
    {
     "data": {
      "text/plain": [
       "(1.7597835986283581, 2.1153633380955119)"
      ]
     },
     "execution_count": 34,
     "metadata": {},
     "output_type": "execute_result"
    }
   ],
   "source": [
    "scores_dict = {}\n",
    "\n",
    "scores_dict['tfidf'] = [v[0] for k, v in scores_tuple.items()]\n",
    "scores_dict['dirichlet500'] = [v[1] for k, v in scores_tuple.items()]\n",
    "scores_dict['dirichlet1000'] = [v[2] for k, v in scores_tuple.items()]\n",
    "scores_dict['dirichlet1500'] = [v[3] for k, v in scores_tuple.items()]\n",
    "scores_dict['bm25']  = [v[4] for k, v in scores_tuple.items()]\n",
    "scores_dict['abs_discounting01'] = [v[5] for k, v in scores_tuple.items()]\n",
    "scores_dict['abs_discounting05'] = [v[6] for k, v in scores_tuple.items()]\n",
    "scores_dict['abs_discounting09'] = [v[7] for k, v in scores_tuple.items()]\n",
    "scores_dict['jelinek01'] = [v[8] for k, v in scores_tuple.items()]\n",
    "scores_dict['jelinek05'] = [v[9] for k, v in scores_tuple.items()]\n",
    "scores_dict['jelinek09'] = [v[10] for k, v in scores_tuple.items()]\n",
    "# scores_dict['lsi'] = [v[11] for k, v in scores_tuple.items()]\n",
    "# scores_dict['lda'] = [v[12] for k, v in scores_tuple.items()]\n",
    "# scores_dict['word2vec'] = [v[13] for k, v in scores_tuple.items()]\n",
    "\n",
    "\n",
    "scores_dict['tfidf'][5], scores_dict['bm25'][5]"
   ]
  },
  {
   "cell_type": "code",
   "execution_count": 35,
   "metadata": {
    "collapsed": false
   },
   "outputs": [
    {
     "data": {
      "text/plain": [
       "11"
      ]
     },
     "execution_count": 35,
     "metadata": {},
     "output_type": "execute_result"
    }
   ],
   "source": [
    "len(scores_dict)"
   ]
  },
  {
   "cell_type": "markdown",
   "metadata": {},
   "source": [
    "### Validation: Which parameters to include (determine with t-tests on MAP per query)"
   ]
  },
  {
   "cell_type": "code",
   "execution_count": 36,
   "metadata": {
    "collapsed": false
   },
   "outputs": [],
   "source": [
    "# scores = pd.DataFrame()\n",
    "scores_val_df = pd.DataFrame()\n",
    "score_names = ['d1000', 'abs09', 'd1500', 'abs01', 'abs05', 'd500', 'jm01', 'jm05', 'jm09', 'w2vavg', 'w2vavg_window20', 'lsi', 'lsi_topics100']\n",
    "\n",
    "\n",
    "for score in score_names:\n",
    "    score_file = 'scores/val/' + score + '_val.txt'\n",
    "    if score == 'd1000':\n",
    "        scores_val_df['score'] = pd.read_csv(score_file, sep='\\t', header=None)[0]\n",
    "        scores_val_df['query_id'] = pd.read_csv(score_file, sep='\\t', header=None)[1]\n",
    "    scores_val_df[score] = pd.read_csv(score_file, sep='\\t', header=None)[2]\n",
    "    \n",
    "scores_val_df.rename({'w2vavg': 'w2vavg_window5'}, axis='columns', inplace=True)\n",
    "scores_val_df.rename({'lsi': 'lsi_topics20'}, axis='columns', inplace=True)"
   ]
  },
  {
   "cell_type": "code",
   "execution_count": 37,
   "metadata": {
    "collapsed": false,
    "scrolled": true
   },
   "outputs": [
    {
     "data": {
      "text/html": [
       "<div>\n",
       "<style scoped>\n",
       "    .dataframe tbody tr th:only-of-type {\n",
       "        vertical-align: middle;\n",
       "    }\n",
       "\n",
       "    .dataframe tbody tr th {\n",
       "        vertical-align: top;\n",
       "    }\n",
       "\n",
       "    .dataframe thead th {\n",
       "        text-align: right;\n",
       "    }\n",
       "</style>\n",
       "<table border=\"1\" class=\"dataframe\">\n",
       "  <thead>\n",
       "    <tr style=\"text-align: right;\">\n",
       "      <th></th>\n",
       "      <th>score</th>\n",
       "      <th>query_id</th>\n",
       "      <th>d1000</th>\n",
       "      <th>abs09</th>\n",
       "      <th>d1500</th>\n",
       "      <th>abs01</th>\n",
       "      <th>abs05</th>\n",
       "      <th>d500</th>\n",
       "      <th>jm01</th>\n",
       "      <th>jm05</th>\n",
       "      <th>jm09</th>\n",
       "      <th>w2vavg_window5</th>\n",
       "      <th>w2vavg_window20</th>\n",
       "      <th>lsi_topics20</th>\n",
       "      <th>lsi_topics100</th>\n",
       "    </tr>\n",
       "  </thead>\n",
       "  <tbody>\n",
       "    <tr>\n",
       "      <th>0</th>\n",
       "      <td>map</td>\n",
       "      <td>103</td>\n",
       "      <td>0.0754</td>\n",
       "      <td>0.1446</td>\n",
       "      <td>0.0732</td>\n",
       "      <td>0.1654</td>\n",
       "      <td>0.1555</td>\n",
       "      <td>0.0836</td>\n",
       "      <td>0.1643</td>\n",
       "      <td>0.1655</td>\n",
       "      <td>0.1656</td>\n",
       "      <td>0.0394</td>\n",
       "      <td>0.0383</td>\n",
       "      <td>0.0</td>\n",
       "      <td>0.0003</td>\n",
       "    </tr>\n",
       "    <tr>\n",
       "      <th>1</th>\n",
       "      <td>P_5</td>\n",
       "      <td>103</td>\n",
       "      <td>0.2000</td>\n",
       "      <td>0.4000</td>\n",
       "      <td>0.2000</td>\n",
       "      <td>0.4000</td>\n",
       "      <td>0.4000</td>\n",
       "      <td>0.4000</td>\n",
       "      <td>0.4000</td>\n",
       "      <td>0.4000</td>\n",
       "      <td>0.4000</td>\n",
       "      <td>0.0000</td>\n",
       "      <td>0.0000</td>\n",
       "      <td>0.0</td>\n",
       "      <td>0.0000</td>\n",
       "    </tr>\n",
       "    <tr>\n",
       "      <th>2</th>\n",
       "      <td>P_500</td>\n",
       "      <td>103</td>\n",
       "      <td>0.0360</td>\n",
       "      <td>0.0380</td>\n",
       "      <td>0.0360</td>\n",
       "      <td>0.0660</td>\n",
       "      <td>0.0600</td>\n",
       "      <td>0.0360</td>\n",
       "      <td>0.0680</td>\n",
       "      <td>0.0680</td>\n",
       "      <td>0.0680</td>\n",
       "      <td>0.0540</td>\n",
       "      <td>0.0480</td>\n",
       "      <td>0.0</td>\n",
       "      <td>0.0000</td>\n",
       "    </tr>\n",
       "    <tr>\n",
       "      <th>3</th>\n",
       "      <td>recall_1000</td>\n",
       "      <td>103</td>\n",
       "      <td>0.3273</td>\n",
       "      <td>0.4364</td>\n",
       "      <td>0.3273</td>\n",
       "      <td>0.6364</td>\n",
       "      <td>0.5818</td>\n",
       "      <td>0.3273</td>\n",
       "      <td>0.6364</td>\n",
       "      <td>0.6545</td>\n",
       "      <td>0.6545</td>\n",
       "      <td>0.5818</td>\n",
       "      <td>0.6000</td>\n",
       "      <td>0.0</td>\n",
       "      <td>0.0909</td>\n",
       "    </tr>\n",
       "    <tr>\n",
       "      <th>4</th>\n",
       "      <td>ndcg_cut_10</td>\n",
       "      <td>103</td>\n",
       "      <td>0.2466</td>\n",
       "      <td>0.3882</td>\n",
       "      <td>0.2466</td>\n",
       "      <td>0.3882</td>\n",
       "      <td>0.3882</td>\n",
       "      <td>0.2583</td>\n",
       "      <td>0.3882</td>\n",
       "      <td>0.3882</td>\n",
       "      <td>0.3882</td>\n",
       "      <td>0.0694</td>\n",
       "      <td>0.0000</td>\n",
       "      <td>0.0</td>\n",
       "      <td>0.0000</td>\n",
       "    </tr>\n",
       "  </tbody>\n",
       "</table>\n",
       "</div>"
      ],
      "text/plain": [
       "                    score query_id   d1000   abs09   d1500   abs01   abs05  \\\n",
       "0  map                         103  0.0754  0.1446  0.0732  0.1654  0.1555   \n",
       "1  P_5                         103  0.2000  0.4000  0.2000  0.4000  0.4000   \n",
       "2  P_500                       103  0.0360  0.0380  0.0360  0.0660  0.0600   \n",
       "3  recall_1000                 103  0.3273  0.4364  0.3273  0.6364  0.5818   \n",
       "4  ndcg_cut_10                 103  0.2466  0.3882  0.2466  0.3882  0.3882   \n",
       "\n",
       "     d500    jm01    jm05    jm09  w2vavg_window5  w2vavg_window20  \\\n",
       "0  0.0836  0.1643  0.1655  0.1656          0.0394           0.0383   \n",
       "1  0.4000  0.4000  0.4000  0.4000          0.0000           0.0000   \n",
       "2  0.0360  0.0680  0.0680  0.0680          0.0540           0.0480   \n",
       "3  0.3273  0.6364  0.6545  0.6545          0.5818           0.6000   \n",
       "4  0.2583  0.3882  0.3882  0.3882          0.0694           0.0000   \n",
       "\n",
       "   lsi_topics20  lsi_topics100  \n",
       "0           0.0         0.0003  \n",
       "1           0.0         0.0000  \n",
       "2           0.0         0.0000  \n",
       "3           0.0         0.0909  \n",
       "4           0.0         0.0000  "
      ]
     },
     "execution_count": 37,
     "metadata": {},
     "output_type": "execute_result"
    }
   ],
   "source": [
    "scores_val_df.head()"
   ]
  },
  {
   "cell_type": "code",
   "execution_count": 38,
   "metadata": {
    "collapsed": false
   },
   "outputs": [
    {
     "data": {
      "text/plain": [
       "array(['map                   ', 'P_5                   ',\n",
       "       'P_500                 ', 'recall_1000           ',\n",
       "       'ndcg_cut_10           ', 'ndcg_cut_100          ',\n",
       "       'ndcg_cut_1000         ', 'map_cut_1000          ',\n",
       "       'relative_P_5          ', 'relative_P_500        '], dtype=object)"
      ]
     },
     "execution_count": 38,
     "metadata": {},
     "output_type": "execute_result"
    }
   ],
   "source": [
    "scores_val_df['score'].unique()"
   ]
  },
  {
   "cell_type": "code",
   "execution_count": 41,
   "metadata": {
    "collapsed": false
   },
   "outputs": [
    {
     "data": {
      "text/html": [
       "<div>\n",
       "<style scoped>\n",
       "    .dataframe tbody tr th:only-of-type {\n",
       "        vertical-align: middle;\n",
       "    }\n",
       "\n",
       "    .dataframe tbody tr th {\n",
       "        vertical-align: top;\n",
       "    }\n",
       "\n",
       "    .dataframe thead th {\n",
       "        text-align: right;\n",
       "    }\n",
       "</style>\n",
       "<table border=\"1\" class=\"dataframe\">\n",
       "  <thead>\n",
       "    <tr style=\"text-align: right;\">\n",
       "      <th></th>\n",
       "      <th>score</th>\n",
       "      <th>query_id</th>\n",
       "      <th>d1000</th>\n",
       "      <th>abs09</th>\n",
       "      <th>d1500</th>\n",
       "      <th>abs01</th>\n",
       "      <th>abs05</th>\n",
       "      <th>d500</th>\n",
       "      <th>jm01</th>\n",
       "      <th>jm05</th>\n",
       "      <th>jm09</th>\n",
       "      <th>w2vavg_window5</th>\n",
       "      <th>w2vavg_window20</th>\n",
       "      <th>lsi_topics20</th>\n",
       "      <th>lsi_topics100</th>\n",
       "    </tr>\n",
       "  </thead>\n",
       "  <tbody>\n",
       "    <tr>\n",
       "      <th>0</th>\n",
       "      <td>map</td>\n",
       "      <td>103</td>\n",
       "      <td>0.0754</td>\n",
       "      <td>0.1446</td>\n",
       "      <td>0.0732</td>\n",
       "      <td>0.1654</td>\n",
       "      <td>0.1555</td>\n",
       "      <td>0.0836</td>\n",
       "      <td>0.1643</td>\n",
       "      <td>0.1655</td>\n",
       "      <td>0.1656</td>\n",
       "      <td>0.0394</td>\n",
       "      <td>0.0383</td>\n",
       "      <td>0.0000</td>\n",
       "      <td>0.0003</td>\n",
       "    </tr>\n",
       "    <tr>\n",
       "      <th>10</th>\n",
       "      <td>map</td>\n",
       "      <td>111</td>\n",
       "      <td>0.4820</td>\n",
       "      <td>0.5894</td>\n",
       "      <td>0.4762</td>\n",
       "      <td>0.6181</td>\n",
       "      <td>0.6083</td>\n",
       "      <td>0.4953</td>\n",
       "      <td>0.6177</td>\n",
       "      <td>0.6177</td>\n",
       "      <td>0.6177</td>\n",
       "      <td>0.0659</td>\n",
       "      <td>0.0480</td>\n",
       "      <td>0.0017</td>\n",
       "      <td>0.0679</td>\n",
       "    </tr>\n",
       "    <tr>\n",
       "      <th>20</th>\n",
       "      <td>map</td>\n",
       "      <td>114</td>\n",
       "      <td>0.0072</td>\n",
       "      <td>0.0078</td>\n",
       "      <td>0.0071</td>\n",
       "      <td>0.0412</td>\n",
       "      <td>0.0115</td>\n",
       "      <td>0.0077</td>\n",
       "      <td>0.0484</td>\n",
       "      <td>0.0532</td>\n",
       "      <td>0.0537</td>\n",
       "      <td>0.1472</td>\n",
       "      <td>0.1572</td>\n",
       "      <td>0.0001</td>\n",
       "      <td>0.1314</td>\n",
       "    </tr>\n",
       "    <tr>\n",
       "      <th>30</th>\n",
       "      <td>map</td>\n",
       "      <td>120</td>\n",
       "      <td>0.0081</td>\n",
       "      <td>0.0010</td>\n",
       "      <td>0.0069</td>\n",
       "      <td>0.0056</td>\n",
       "      <td>0.0021</td>\n",
       "      <td>0.0090</td>\n",
       "      <td>0.0066</td>\n",
       "      <td>0.0067</td>\n",
       "      <td>0.0067</td>\n",
       "      <td>0.0005</td>\n",
       "      <td>0.0010</td>\n",
       "      <td>0.0000</td>\n",
       "      <td>0.0000</td>\n",
       "    </tr>\n",
       "  </tbody>\n",
       "</table>\n",
       "</div>"
      ],
      "text/plain": [
       "   score query_id   d1000   abs09   d1500   abs01   abs05    d500    jm01  \\\n",
       "0    map      103  0.0754  0.1446  0.0732  0.1654  0.1555  0.0836  0.1643   \n",
       "10   map      111  0.4820  0.5894  0.4762  0.6181  0.6083  0.4953  0.6177   \n",
       "20   map      114  0.0072  0.0078  0.0071  0.0412  0.0115  0.0077  0.0484   \n",
       "30   map      120  0.0081  0.0010  0.0069  0.0056  0.0021  0.0090  0.0066   \n",
       "\n",
       "      jm05    jm09  w2vavg_window5  w2vavg_window20  lsi_topics20  \\\n",
       "0   0.1655  0.1656          0.0394           0.0383        0.0000   \n",
       "10  0.6177  0.6177          0.0659           0.0480        0.0017   \n",
       "20  0.0532  0.0537          0.1472           0.1572        0.0001   \n",
       "30  0.0067  0.0067          0.0005           0.0010        0.0000   \n",
       "\n",
       "    lsi_topics100  \n",
       "0          0.0003  \n",
       "10         0.0679  \n",
       "20         0.1314  \n",
       "30         0.0000  "
      ]
     },
     "execution_count": 41,
     "metadata": {},
     "output_type": "execute_result"
    }
   ],
   "source": [
    "scores_val_df['score'] = pd.Series([score .strip() for score in scores_val_df['score']])\n",
    "scores_val_df = scores_val_df[scores_val_df['score'] == 'map']\n",
    "scores_val_df.head()"
   ]
  },
  {
   "cell_type": "code",
   "execution_count": 42,
   "metadata": {
    "collapsed": false
   },
   "outputs": [
    {
     "data": {
      "text/plain": [
       "4"
      ]
     },
     "execution_count": 42,
     "metadata": {},
     "output_type": "execute_result"
    }
   ],
   "source": [
    "len(scores_val_df)"
   ]
  },
  {
   "cell_type": "code",
   "execution_count": 43,
   "metadata": {
    "collapsed": false
   },
   "outputs": [],
   "source": [
    "scores_val_df.drop(['score', 'query_id'], axis=1, inplace=True)"
   ]
  },
  {
   "cell_type": "code",
   "execution_count": 44,
   "metadata": {
    "collapsed": false
   },
   "outputs": [
    {
     "data": {
      "text/html": [
       "<div>\n",
       "<style scoped>\n",
       "    .dataframe tbody tr th:only-of-type {\n",
       "        vertical-align: middle;\n",
       "    }\n",
       "\n",
       "    .dataframe tbody tr th {\n",
       "        vertical-align: top;\n",
       "    }\n",
       "\n",
       "    .dataframe thead th {\n",
       "        text-align: right;\n",
       "    }\n",
       "</style>\n",
       "<table border=\"1\" class=\"dataframe\">\n",
       "  <thead>\n",
       "    <tr style=\"text-align: right;\">\n",
       "      <th></th>\n",
       "      <th>d1000</th>\n",
       "      <th>abs09</th>\n",
       "      <th>d1500</th>\n",
       "      <th>abs01</th>\n",
       "      <th>abs05</th>\n",
       "      <th>d500</th>\n",
       "      <th>jm01</th>\n",
       "      <th>jm05</th>\n",
       "      <th>jm09</th>\n",
       "      <th>w2vavg_window5</th>\n",
       "      <th>w2vavg_window20</th>\n",
       "      <th>lsi_topics20</th>\n",
       "      <th>lsi_topics100</th>\n",
       "    </tr>\n",
       "  </thead>\n",
       "  <tbody>\n",
       "    <tr>\n",
       "      <th>0</th>\n",
       "      <td>0.0754</td>\n",
       "      <td>0.1446</td>\n",
       "      <td>0.0732</td>\n",
       "      <td>0.1654</td>\n",
       "      <td>0.1555</td>\n",
       "      <td>0.0836</td>\n",
       "      <td>0.1643</td>\n",
       "      <td>0.1655</td>\n",
       "      <td>0.1656</td>\n",
       "      <td>0.0394</td>\n",
       "      <td>0.0383</td>\n",
       "      <td>0.0000</td>\n",
       "      <td>0.0003</td>\n",
       "    </tr>\n",
       "    <tr>\n",
       "      <th>1</th>\n",
       "      <td>0.4820</td>\n",
       "      <td>0.5894</td>\n",
       "      <td>0.4762</td>\n",
       "      <td>0.6181</td>\n",
       "      <td>0.6083</td>\n",
       "      <td>0.4953</td>\n",
       "      <td>0.6177</td>\n",
       "      <td>0.6177</td>\n",
       "      <td>0.6177</td>\n",
       "      <td>0.0659</td>\n",
       "      <td>0.0480</td>\n",
       "      <td>0.0017</td>\n",
       "      <td>0.0679</td>\n",
       "    </tr>\n",
       "    <tr>\n",
       "      <th>2</th>\n",
       "      <td>0.0072</td>\n",
       "      <td>0.0078</td>\n",
       "      <td>0.0071</td>\n",
       "      <td>0.0412</td>\n",
       "      <td>0.0115</td>\n",
       "      <td>0.0077</td>\n",
       "      <td>0.0484</td>\n",
       "      <td>0.0532</td>\n",
       "      <td>0.0537</td>\n",
       "      <td>0.1472</td>\n",
       "      <td>0.1572</td>\n",
       "      <td>0.0001</td>\n",
       "      <td>0.1314</td>\n",
       "    </tr>\n",
       "    <tr>\n",
       "      <th>3</th>\n",
       "      <td>0.0081</td>\n",
       "      <td>0.0010</td>\n",
       "      <td>0.0069</td>\n",
       "      <td>0.0056</td>\n",
       "      <td>0.0021</td>\n",
       "      <td>0.0090</td>\n",
       "      <td>0.0066</td>\n",
       "      <td>0.0067</td>\n",
       "      <td>0.0067</td>\n",
       "      <td>0.0005</td>\n",
       "      <td>0.0010</td>\n",
       "      <td>0.0000</td>\n",
       "      <td>0.0000</td>\n",
       "    </tr>\n",
       "  </tbody>\n",
       "</table>\n",
       "</div>"
      ],
      "text/plain": [
       "    d1000   abs09   d1500   abs01   abs05    d500    jm01    jm05    jm09  \\\n",
       "0  0.0754  0.1446  0.0732  0.1654  0.1555  0.0836  0.1643  0.1655  0.1656   \n",
       "1  0.4820  0.5894  0.4762  0.6181  0.6083  0.4953  0.6177  0.6177  0.6177   \n",
       "2  0.0072  0.0078  0.0071  0.0412  0.0115  0.0077  0.0484  0.0532  0.0537   \n",
       "3  0.0081  0.0010  0.0069  0.0056  0.0021  0.0090  0.0066  0.0067  0.0067   \n",
       "\n",
       "   w2vavg_window5  w2vavg_window20  lsi_topics20  lsi_topics100  \n",
       "0          0.0394           0.0383        0.0000         0.0003  \n",
       "1          0.0659           0.0480        0.0017         0.0679  \n",
       "2          0.1472           0.1572        0.0001         0.1314  \n",
       "3          0.0005           0.0010        0.0000         0.0000  "
      ]
     },
     "execution_count": 44,
     "metadata": {},
     "output_type": "execute_result"
    }
   ],
   "source": [
    "scores_val_df.reset_index(inplace=True, drop=True)\n",
    "scores_val_df.head()"
   ]
  },
  {
   "cell_type": "code",
   "execution_count": 45,
   "metadata": {
    "collapsed": false
   },
   "outputs": [
    {
     "data": {
      "text/plain": [
       "(0.00045, 0.0499)"
      ]
     },
     "execution_count": 45,
     "metadata": {},
     "output_type": "execute_result"
    }
   ],
   "source": [
    "scores_val_df['lsi_topics20'].mean(), scores_val_df['lsi_topics100'].mean()  "
   ]
  },
  {
   "cell_type": "code",
   "execution_count": 46,
   "metadata": {
    "collapsed": true
   },
   "outputs": [],
   "source": [
    "abs_scores_df = scores_val_df[['abs01', 'abs05', 'abs09']].reset_index(drop=True)\n",
    "abs_scores_dict = abs_scores_df.to_dict()\n",
    "\n",
    "jm_scores_df = scores_val_df[['jm01', 'jm05', 'jm09']]\n",
    "jm_scores_dict = jm_scores_df.to_dict()\n",
    "\n",
    "d_scores_df = scores_val_df[['d500', 'd1000', 'd1500']]\n",
    "d_scores_dict = d_scores_df.to_dict()\n",
    "\n",
    "word2vec_scores_df = scores_val_df[['w2vavg_window5', 'w2vavg_window20']]\n",
    "word2vec_scores_dict = word2vec_scores_df.to_dict()\n",
    "\n",
    "lsi_scores_df = scores_val_df[['lsi_topics20', 'lsi_topics100']]\n",
    "lsi_scores_dict = lsi_scores_df.to_dict()"
   ]
  },
  {
   "cell_type": "code",
   "execution_count": 47,
   "metadata": {
    "collapsed": false
   },
   "outputs": [],
   "source": [
    "def ttest_corr(df_v, dict_v):\n",
    "    \n",
    "    p_values = {}\n",
    "\n",
    "    # scores_dict.keys()\n",
    "    for list1, list2 in combinations(dict_v.keys(), 2):\n",
    "        t, p = stats.ttest_rel(df_v[list1], df_v[list2])\n",
    "\n",
    "        comp_name = str(list1) + \"_\" + str(list2)\n",
    "        p_values[comp_name] = [p]\n",
    "        \n",
    "    p_values_df = pd.DataFrame(data=p_values).T.reset_index()\n",
    "    p_values_df.columns = ['models_compared', 'p-value']\n",
    "\n",
    "    p_values_corr = multipletests(list(p_values_df['p-value']), alpha=0.05, method='bonferroni')\n",
    "    p_values_df['p_values_corr'] = p_values_corr[1]\n",
    "    p_values_df['h0_rejected'] = p_values_corr[0]\n",
    "    # p_values_df['p_values_corr'] = p_values_df['p_values'] / len(p_values_df)\n",
    "    p_values_df = p_values_df.sort_values(by='p_values_corr', ascending=True)\n",
    "    p_values_df.reset_index(inplace=True, drop=True)\n",
    "    return p_values_df"
   ]
  },
  {
   "cell_type": "code",
   "execution_count": 48,
   "metadata": {
    "collapsed": false
   },
   "outputs": [
    {
     "data": {
      "text/html": [
       "<div>\n",
       "<style scoped>\n",
       "    .dataframe tbody tr th:only-of-type {\n",
       "        vertical-align: middle;\n",
       "    }\n",
       "\n",
       "    .dataframe tbody tr th {\n",
       "        vertical-align: top;\n",
       "    }\n",
       "\n",
       "    .dataframe thead th {\n",
       "        text-align: right;\n",
       "    }\n",
       "</style>\n",
       "<table border=\"1\" class=\"dataframe\">\n",
       "  <thead>\n",
       "    <tr style=\"text-align: right;\">\n",
       "      <th></th>\n",
       "      <th>models_compared</th>\n",
       "      <th>p-value</th>\n",
       "      <th>p_values_corr</th>\n",
       "      <th>h0_rejected</th>\n",
       "    </tr>\n",
       "  </thead>\n",
       "  <tbody>\n",
       "    <tr>\n",
       "      <th>0</th>\n",
       "      <td>abs01_abs09</td>\n",
       "      <td>0.040570</td>\n",
       "      <td>0.121709</td>\n",
       "      <td>False</td>\n",
       "    </tr>\n",
       "    <tr>\n",
       "      <th>1</th>\n",
       "      <td>abs01_abs05</td>\n",
       "      <td>0.102762</td>\n",
       "      <td>0.308285</td>\n",
       "      <td>False</td>\n",
       "    </tr>\n",
       "    <tr>\n",
       "      <th>2</th>\n",
       "      <td>abs09_abs05</td>\n",
       "      <td>0.119061</td>\n",
       "      <td>0.357182</td>\n",
       "      <td>False</td>\n",
       "    </tr>\n",
       "  </tbody>\n",
       "</table>\n",
       "</div>"
      ],
      "text/plain": [
       "  models_compared   p-value  p_values_corr  h0_rejected\n",
       "0     abs01_abs09  0.040570       0.121709        False\n",
       "1     abs01_abs05  0.102762       0.308285        False\n",
       "2     abs09_abs05  0.119061       0.357182        False"
      ]
     },
     "execution_count": 48,
     "metadata": {},
     "output_type": "execute_result"
    }
   ],
   "source": [
    "t_test_abs = ttest_corr(abs_scores_df, abs_scores_dict)\n",
    "t_test_abs"
   ]
  },
  {
   "cell_type": "code",
   "execution_count": 49,
   "metadata": {
    "collapsed": false
   },
   "outputs": [
    {
     "data": {
      "text/html": [
       "<div>\n",
       "<style scoped>\n",
       "    .dataframe tbody tr th:only-of-type {\n",
       "        vertical-align: middle;\n",
       "    }\n",
       "\n",
       "    .dataframe tbody tr th {\n",
       "        vertical-align: top;\n",
       "    }\n",
       "\n",
       "    .dataframe thead th {\n",
       "        text-align: right;\n",
       "    }\n",
       "</style>\n",
       "<table border=\"1\" class=\"dataframe\">\n",
       "  <thead>\n",
       "    <tr style=\"text-align: right;\">\n",
       "      <th></th>\n",
       "      <th>models_compared</th>\n",
       "      <th>p-value</th>\n",
       "      <th>p_values_corr</th>\n",
       "      <th>h0_rejected</th>\n",
       "    </tr>\n",
       "  </thead>\n",
       "  <tbody>\n",
       "    <tr>\n",
       "      <th>0</th>\n",
       "      <td>jm01_jm05</td>\n",
       "      <td>0.268264</td>\n",
       "      <td>0.804791</td>\n",
       "      <td>False</td>\n",
       "    </tr>\n",
       "    <tr>\n",
       "      <th>1</th>\n",
       "      <td>jm01_jm09</td>\n",
       "      <td>0.270817</td>\n",
       "      <td>0.812451</td>\n",
       "      <td>False</td>\n",
       "    </tr>\n",
       "    <tr>\n",
       "      <th>2</th>\n",
       "      <td>jm09_jm05</td>\n",
       "      <td>0.296689</td>\n",
       "      <td>0.890068</td>\n",
       "      <td>False</td>\n",
       "    </tr>\n",
       "  </tbody>\n",
       "</table>\n",
       "</div>"
      ],
      "text/plain": [
       "  models_compared   p-value  p_values_corr  h0_rejected\n",
       "0       jm01_jm05  0.268264       0.804791        False\n",
       "1       jm01_jm09  0.270817       0.812451        False\n",
       "2       jm09_jm05  0.296689       0.890068        False"
      ]
     },
     "execution_count": 49,
     "metadata": {},
     "output_type": "execute_result"
    }
   ],
   "source": [
    "t_test_jm = ttest_corr(jm_scores_df, jm_scores_dict)\n",
    "t_test_jm"
   ]
  },
  {
   "cell_type": "code",
   "execution_count": 50,
   "metadata": {
    "collapsed": false
   },
   "outputs": [
    {
     "data": {
      "text/html": [
       "<div>\n",
       "<style scoped>\n",
       "    .dataframe tbody tr th:only-of-type {\n",
       "        vertical-align: middle;\n",
       "    }\n",
       "\n",
       "    .dataframe tbody tr th {\n",
       "        vertical-align: top;\n",
       "    }\n",
       "\n",
       "    .dataframe thead th {\n",
       "        text-align: right;\n",
       "    }\n",
       "</style>\n",
       "<table border=\"1\" class=\"dataframe\">\n",
       "  <thead>\n",
       "    <tr style=\"text-align: right;\">\n",
       "      <th></th>\n",
       "      <th>models_compared</th>\n",
       "      <th>p-value</th>\n",
       "      <th>p_values_corr</th>\n",
       "      <th>h0_rejected</th>\n",
       "    </tr>\n",
       "  </thead>\n",
       "  <tbody>\n",
       "    <tr>\n",
       "      <th>0</th>\n",
       "      <td>d500_d1500</td>\n",
       "      <td>0.155709</td>\n",
       "      <td>0.467127</td>\n",
       "      <td>False</td>\n",
       "    </tr>\n",
       "    <tr>\n",
       "      <th>1</th>\n",
       "      <td>d1000_d1500</td>\n",
       "      <td>0.156332</td>\n",
       "      <td>0.468997</td>\n",
       "      <td>False</td>\n",
       "    </tr>\n",
       "    <tr>\n",
       "      <th>2</th>\n",
       "      <td>d500_d1000</td>\n",
       "      <td>0.160351</td>\n",
       "      <td>0.481052</td>\n",
       "      <td>False</td>\n",
       "    </tr>\n",
       "  </tbody>\n",
       "</table>\n",
       "</div>"
      ],
      "text/plain": [
       "  models_compared   p-value  p_values_corr  h0_rejected\n",
       "0      d500_d1500  0.155709       0.467127        False\n",
       "1     d1000_d1500  0.156332       0.468997        False\n",
       "2      d500_d1000  0.160351       0.481052        False"
      ]
     },
     "execution_count": 50,
     "metadata": {},
     "output_type": "execute_result"
    }
   ],
   "source": [
    "t_test_dp = ttest_corr(d_scores_df, d_scores_dict)\n",
    "t_test_dp"
   ]
  },
  {
   "cell_type": "code",
   "execution_count": 51,
   "metadata": {
    "collapsed": false
   },
   "outputs": [
    {
     "data": {
      "text/html": [
       "<div>\n",
       "<style scoped>\n",
       "    .dataframe tbody tr th:only-of-type {\n",
       "        vertical-align: middle;\n",
       "    }\n",
       "\n",
       "    .dataframe tbody tr th {\n",
       "        vertical-align: top;\n",
       "    }\n",
       "\n",
       "    .dataframe thead th {\n",
       "        text-align: right;\n",
       "    }\n",
       "</style>\n",
       "<table border=\"1\" class=\"dataframe\">\n",
       "  <thead>\n",
       "    <tr style=\"text-align: right;\">\n",
       "      <th></th>\n",
       "      <th>models_compared</th>\n",
       "      <th>p-value</th>\n",
       "      <th>h0_rejected</th>\n",
       "    </tr>\n",
       "  </thead>\n",
       "  <tbody>\n",
       "    <tr>\n",
       "      <th>0</th>\n",
       "      <td>w2vavg_window5_w2vavg_window20</td>\n",
       "      <td>0.738435</td>\n",
       "      <td>False</td>\n",
       "    </tr>\n",
       "  </tbody>\n",
       "</table>\n",
       "</div>"
      ],
      "text/plain": [
       "                  models_compared   p-value  h0_rejected\n",
       "0  w2vavg_window5_w2vavg_window20  0.738435        False"
      ]
     },
     "execution_count": 51,
     "metadata": {},
     "output_type": "execute_result"
    }
   ],
   "source": [
    "t_test_word2vec = ttest_corr(word2vec_scores_df, word2vec_scores_dict).drop(columns=['p_values_corr'])\n",
    "t_test_word2vec"
   ]
  },
  {
   "cell_type": "code",
   "execution_count": 52,
   "metadata": {
    "collapsed": false
   },
   "outputs": [
    {
     "data": {
      "text/html": [
       "<div>\n",
       "<style scoped>\n",
       "    .dataframe tbody tr th:only-of-type {\n",
       "        vertical-align: middle;\n",
       "    }\n",
       "\n",
       "    .dataframe tbody tr th {\n",
       "        vertical-align: top;\n",
       "    }\n",
       "\n",
       "    .dataframe thead th {\n",
       "        text-align: right;\n",
       "    }\n",
       "</style>\n",
       "<table border=\"1\" class=\"dataframe\">\n",
       "  <thead>\n",
       "    <tr style=\"text-align: right;\">\n",
       "      <th></th>\n",
       "      <th>models_compared</th>\n",
       "      <th>p-value</th>\n",
       "      <th>h0_rejected</th>\n",
       "    </tr>\n",
       "  </thead>\n",
       "  <tbody>\n",
       "    <tr>\n",
       "      <th>0</th>\n",
       "      <td>lsi_topics100_lsi_topics20</td>\n",
       "      <td>0.213507</td>\n",
       "      <td>False</td>\n",
       "    </tr>\n",
       "  </tbody>\n",
       "</table>\n",
       "</div>"
      ],
      "text/plain": [
       "              models_compared   p-value  h0_rejected\n",
       "0  lsi_topics100_lsi_topics20  0.213507        False"
      ]
     },
     "execution_count": 52,
     "metadata": {},
     "output_type": "execute_result"
    }
   ],
   "source": [
    "t_test_lsi = ttest_corr(lsi_scores_df, lsi_scores_dict).drop(columns=['p_values_corr'])\n",
    "t_test_lsi"
   ]
  },
  {
   "cell_type": "markdown",
   "metadata": {},
   "source": [
    "### For Absolute discounting language model the null hypothesis is rejected that the sample mean that the MAP for hyper-parameter value 0.1 is the same as MAP for hyper-parameter value 0.5. We decide to use 0.5 as a hyper-parameter as it has the higher sample mean and the lowest variance."
   ]
  },
  {
   "cell_type": "markdown",
   "metadata": {},
   "source": [
    "### For Jelenik-Mercer language model  the hyper-parameter with the value of 0.9 is chosen as is performs with the lowest variance even though we cannot reject none of the hypothesis after the Bonferroni correction."
   ]
  },
  {
   "cell_type": "markdown",
   "metadata": {},
   "source": [
    "### For Dirichlet Prior language model all hypothesis are rejected based on the corrected p-values, the hyper-parameter chosen is 1500 as it has the lowest sample variance."
   ]
  },
  {
   "cell_type": "code",
   "execution_count": 53,
   "metadata": {
    "collapsed": false
   },
   "outputs": [
    {
     "data": {
      "text/plain": [
       "(0.07859721666666665, 0.07803808916666666, 0.0779826025)"
      ]
     },
     "execution_count": 53,
     "metadata": {},
     "output_type": "execute_result"
    }
   ],
   "source": [
    "scores_val_df['jm01'].var(), scores_val_df['jm05'].var(), scores_val_df['jm09'].var()"
   ]
  },
  {
   "cell_type": "code",
   "execution_count": 54,
   "metadata": {
    "collapsed": false
   },
   "outputs": [
    {
     "data": {
      "text/plain": [
       "(0.07859721666666665, 0.07803808916666666, 0.0779826025)"
      ]
     },
     "execution_count": 54,
     "metadata": {},
     "output_type": "execute_result"
    }
   ],
   "source": [
    "scores_val_df['jm01'].var(), scores_val_df['jm05'].var(), scores_val_df['jm09'].var()"
   ]
  },
  {
   "cell_type": "code",
   "execution_count": 55,
   "metadata": {
    "collapsed": false
   },
   "outputs": [
    {
     "data": {
      "text/plain": [
       "(0.054588833333333336, 0.05204342916666666, 0.05095593666666668)"
      ]
     },
     "execution_count": 55,
     "metadata": {},
     "output_type": "execute_result"
    }
   ],
   "source": [
    "scores_val_df['d500'].var(), scores_val_df['d1000'].var(), scores_val_df['d1500'].var()"
   ]
  },
  {
   "cell_type": "code",
   "execution_count": 56,
   "metadata": {
    "collapsed": false,
    "scrolled": true
   },
   "outputs": [
    {
     "data": {
      "text/plain": [
       "(0.1489, 0.143175, 0.14085)"
      ]
     },
     "execution_count": 56,
     "metadata": {},
     "output_type": "execute_result"
    }
   ],
   "source": [
    "scores_val_df['d500'].mean(), scores_val_df['d1000'].mean(), scores_val_df['d1500'].mean()"
   ]
  },
  {
   "cell_type": "code",
   "execution_count": 57,
   "metadata": {
    "collapsed": false
   },
   "outputs": [
    {
     "data": {
      "text/plain": [
       "(0.207575, 0.19434999999999997, 0.1857)"
      ]
     },
     "execution_count": 57,
     "metadata": {},
     "output_type": "execute_result"
    }
   ],
   "source": [
    "scores_val_df['abs01'].mean(), scores_val_df['abs05'].mean(), scores_val_df['abs09'].mean()"
   ]
  },
  {
   "cell_type": "code",
   "execution_count": 58,
   "metadata": {
    "collapsed": false
   },
   "outputs": [
    {
     "data": {
      "text/plain": [
       "(0.0795946825, 0.08108603666666665, 0.07680846666666669)"
      ]
     },
     "execution_count": 58,
     "metadata": {},
     "output_type": "execute_result"
    }
   ],
   "source": [
    "scores_val_df['abs01'].var(), scores_val_df['abs05'].var(), scores_val_df['abs09'].var()"
   ]
  },
  {
   "cell_type": "markdown",
   "metadata": {},
   "source": [
    "### On testing:"
   ]
  },
  {
   "cell_type": "markdown",
   "metadata": {},
   "source": [
    "### Reporting scores (NDCG@10, MAP@1000, Precision@5, Recall@1000)"
   ]
  },
  {
   "cell_type": "code",
   "execution_count": 62,
   "metadata": {
    "collapsed": false
   },
   "outputs": [],
   "source": [
    "# scores = pd.DataFrame()\n",
    "scores_test_df = pd.DataFrame()\n",
    "# TODO: JM, LSI, LDA, word2vec\n",
    "score_names = ['d1000', 'tfidf', 'abs09', 'd1500', 'bm25', 'abs01', 'abs05', 'd500', 'lsi', 'jm01', 'jm05', 'jm09', 'w2vavg', 'w2vavg_window20', 'lsi_topics100']\n",
    "\n",
    "\n",
    "for score in score_names:\n",
    "    score_file = 'scores/test/' + score + '_test.txt'\n",
    "    if score == 'tfidf':\n",
    "        scores_test_df['score'] = pd.read_csv(score_file, sep='\\t', header=None)[0]\n",
    "        scores_test_df['query_id'] = pd.read_csv(score_file, sep='\\t', header=None)[1]\n",
    "    scores_test_df[score] = pd.read_csv(score_file, sep='\\t', header=None)[2]"
   ]
  },
  {
   "cell_type": "code",
   "execution_count": 63,
   "metadata": {
    "collapsed": false
   },
   "outputs": [
    {
     "data": {
      "text/plain": [
       "'map'"
      ]
     },
     "execution_count": 63,
     "metadata": {},
     "output_type": "execute_result"
    }
   ],
   "source": [
    "list(scores_test_df['score'].unique())[0].strip()"
   ]
  },
  {
   "cell_type": "code",
   "execution_count": 64,
   "metadata": {
    "collapsed": false
   },
   "outputs": [
    {
     "data": {
      "text/plain": [
       "['map',\n",
       " 'P_5',\n",
       " 'P_500',\n",
       " 'recall_1000',\n",
       " 'ndcg_cut_10',\n",
       " 'ndcg_cut_100',\n",
       " 'ndcg_cut_1000',\n",
       " 'map_cut_1000',\n",
       " 'relative_P_5',\n",
       " 'relative_P_500']"
      ]
     },
     "execution_count": 64,
     "metadata": {},
     "output_type": "execute_result"
    }
   ],
   "source": [
    "scores_test_df['score'] = [str(score).strip() for score in scores_test_df['score']]\n",
    "scores_test_df = scores_test_df[scores_test_df['score'] != 'nan']\n",
    "list(scores_test_df['score'].unique())"
   ]
  },
  {
   "cell_type": "code",
   "execution_count": 65,
   "metadata": {
    "collapsed": false,
    "scrolled": true
   },
   "outputs": [
    {
     "data": {
      "text/plain": [
       "121"
      ]
     },
     "execution_count": 65,
     "metadata": {},
     "output_type": "execute_result"
    }
   ],
   "source": [
    "len(scores_test_df['query_id'].unique())"
   ]
  },
  {
   "cell_type": "code",
   "execution_count": 66,
   "metadata": {
    "collapsed": false
   },
   "outputs": [
    {
     "data": {
      "text/plain": [
       "0       0.0474\n",
       "1       0.0000\n",
       "2       0.0260\n",
       "3       0.4186\n",
       "4       0.1370\n",
       "5       0.1897\n",
       "6       0.2655\n",
       "7       0.0474\n",
       "8       0.0000\n",
       "9       0.3023\n",
       "10      0.1236\n",
       "11      0.4000\n",
       "12      0.0400\n",
       "13      1.0000\n",
       "14      0.3301\n",
       "15      0.3005\n",
       "16      0.5697\n",
       "17      0.1236\n",
       "18      0.4000\n",
       "19      0.7407\n",
       "20      0.0161\n",
       "21      0.0000\n",
       "22      0.0140\n",
       "23      0.7895\n",
       "24      0.0000\n",
       "25      0.0397\n",
       "26      0.2724\n",
       "27      0.0161\n",
       "28      0.0000\n",
       "29      0.3684\n",
       "         ...  \n",
       "1180    0.0361\n",
       "1181    0.2000\n",
       "1182    0.0140\n",
       "1183    0.4444\n",
       "1184    0.1795\n",
       "1185    0.1239\n",
       "1186    0.2260\n",
       "1187    0.0361\n",
       "1188    0.2000\n",
       "1189    0.3889\n",
       "1190    0.0921\n",
       "1191    0.0000\n",
       "1192    0.0980\n",
       "1193    0.7861\n",
       "1194    0.0663\n",
       "1195    0.1155\n",
       "1196    0.5147\n",
       "1197    0.0921\n",
       "1198    0.0000\n",
       "1199    0.2832\n",
       "1200    0.1137\n",
       "1201    0.2450\n",
       "1202    0.0648\n",
       "1203    0.4617\n",
       "1204    0.2479\n",
       "1205    0.2188\n",
       "1206    0.3203\n",
       "1207    0.1137\n",
       "1208    0.2450\n",
       "1209    0.3957\n",
       "Name: d500, Length: 1210, dtype: float64"
      ]
     },
     "execution_count": 66,
     "metadata": {},
     "output_type": "execute_result"
    }
   ],
   "source": [
    "scores_test_df['d500']"
   ]
  },
  {
   "cell_type": "code",
   "execution_count": 67,
   "metadata": {
    "collapsed": false
   },
   "outputs": [
    {
     "data": {
      "text/plain": [
       "[196, 39]"
      ]
     },
     "execution_count": 67,
     "metadata": {},
     "output_type": "execute_result"
    }
   ],
   "source": [
    "# 105, 111, 118 -> small\n",
    "tokenized_queries['105']"
   ]
  },
  {
   "cell_type": "code",
   "execution_count": 68,
   "metadata": {
    "collapsed": false
   },
   "outputs": [
    {
     "data": {
      "text/html": [
       "<div>\n",
       "<style scoped>\n",
       "    .dataframe tbody tr th:only-of-type {\n",
       "        vertical-align: middle;\n",
       "    }\n",
       "\n",
       "    .dataframe tbody tr th {\n",
       "        vertical-align: top;\n",
       "    }\n",
       "\n",
       "    .dataframe thead th {\n",
       "        text-align: right;\n",
       "    }\n",
       "</style>\n",
       "<table border=\"1\" class=\"dataframe\">\n",
       "  <thead>\n",
       "    <tr style=\"text-align: right;\">\n",
       "      <th></th>\n",
       "      <th>d1000</th>\n",
       "      <th>score</th>\n",
       "      <th>query_id</th>\n",
       "      <th>tfidf</th>\n",
       "      <th>abs09</th>\n",
       "      <th>d1500</th>\n",
       "      <th>bm25</th>\n",
       "      <th>abs01</th>\n",
       "      <th>abs05</th>\n",
       "      <th>d500</th>\n",
       "      <th>lsi</th>\n",
       "      <th>jm01</th>\n",
       "      <th>jm05</th>\n",
       "      <th>jm09</th>\n",
       "      <th>w2vavg</th>\n",
       "      <th>w2vavg_window20</th>\n",
       "      <th>lsi_topics100</th>\n",
       "    </tr>\n",
       "  </thead>\n",
       "  <tbody>\n",
       "    <tr>\n",
       "      <th>150</th>\n",
       "      <td>0.0495</td>\n",
       "      <td>map</td>\n",
       "      <td>118</td>\n",
       "      <td>0.0932</td>\n",
       "      <td>0.0342</td>\n",
       "      <td>0.0494</td>\n",
       "      <td>0.1006</td>\n",
       "      <td>0.0341</td>\n",
       "      <td>0.0342</td>\n",
       "      <td>0.0495</td>\n",
       "      <td>0.0006</td>\n",
       "      <td>0.0614</td>\n",
       "      <td>0.0635</td>\n",
       "      <td>0.0637</td>\n",
       "      <td>0.1171</td>\n",
       "      <td>0.1129</td>\n",
       "      <td>0.0003</td>\n",
       "    </tr>\n",
       "    <tr>\n",
       "      <th>151</th>\n",
       "      <td>0.4000</td>\n",
       "      <td>P_5</td>\n",
       "      <td>118</td>\n",
       "      <td>0.4000</td>\n",
       "      <td>0.4000</td>\n",
       "      <td>0.4000</td>\n",
       "      <td>0.6000</td>\n",
       "      <td>0.4000</td>\n",
       "      <td>0.4000</td>\n",
       "      <td>0.4000</td>\n",
       "      <td>0.0000</td>\n",
       "      <td>0.2000</td>\n",
       "      <td>0.2000</td>\n",
       "      <td>0.2000</td>\n",
       "      <td>0.8000</td>\n",
       "      <td>0.6000</td>\n",
       "      <td>0.0000</td>\n",
       "    </tr>\n",
       "    <tr>\n",
       "      <th>152</th>\n",
       "      <td>0.1100</td>\n",
       "      <td>P_500</td>\n",
       "      <td>118</td>\n",
       "      <td>0.1220</td>\n",
       "      <td>0.0740</td>\n",
       "      <td>0.1100</td>\n",
       "      <td>0.1320</td>\n",
       "      <td>0.0740</td>\n",
       "      <td>0.0740</td>\n",
       "      <td>0.1100</td>\n",
       "      <td>0.0100</td>\n",
       "      <td>0.1100</td>\n",
       "      <td>0.1100</td>\n",
       "      <td>0.1100</td>\n",
       "      <td>0.1360</td>\n",
       "      <td>0.1340</td>\n",
       "      <td>0.0000</td>\n",
       "    </tr>\n",
       "    <tr>\n",
       "      <th>153</th>\n",
       "      <td>0.2828</td>\n",
       "      <td>recall_1000</td>\n",
       "      <td>118</td>\n",
       "      <td>0.4242</td>\n",
       "      <td>0.2121</td>\n",
       "      <td>0.2828</td>\n",
       "      <td>0.4293</td>\n",
       "      <td>0.2121</td>\n",
       "      <td>0.2121</td>\n",
       "      <td>0.2828</td>\n",
       "      <td>0.0556</td>\n",
       "      <td>0.2980</td>\n",
       "      <td>0.3232</td>\n",
       "      <td>0.3232</td>\n",
       "      <td>0.4697</td>\n",
       "      <td>0.5354</td>\n",
       "      <td>0.0455</td>\n",
       "    </tr>\n",
       "    <tr>\n",
       "      <th>154</th>\n",
       "      <td>0.2337</td>\n",
       "      <td>ndcg_cut_10</td>\n",
       "      <td>118</td>\n",
       "      <td>0.2832</td>\n",
       "      <td>0.2337</td>\n",
       "      <td>0.2337</td>\n",
       "      <td>0.4697</td>\n",
       "      <td>0.2337</td>\n",
       "      <td>0.2337</td>\n",
       "      <td>0.2337</td>\n",
       "      <td>0.0000</td>\n",
       "      <td>0.3005</td>\n",
       "      <td>0.3005</td>\n",
       "      <td>0.3005</td>\n",
       "      <td>0.6325</td>\n",
       "      <td>0.6313</td>\n",
       "      <td>0.0000</td>\n",
       "    </tr>\n",
       "    <tr>\n",
       "      <th>155</th>\n",
       "      <td>0.1943</td>\n",
       "      <td>ndcg_cut_100</td>\n",
       "      <td>118</td>\n",
       "      <td>0.2823</td>\n",
       "      <td>0.1938</td>\n",
       "      <td>0.1943</td>\n",
       "      <td>0.3198</td>\n",
       "      <td>0.1938</td>\n",
       "      <td>0.1938</td>\n",
       "      <td>0.1943</td>\n",
       "      <td>0.0000</td>\n",
       "      <td>0.2198</td>\n",
       "      <td>0.2198</td>\n",
       "      <td>0.2200</td>\n",
       "      <td>0.3171</td>\n",
       "      <td>0.3102</td>\n",
       "      <td>0.0000</td>\n",
       "    </tr>\n",
       "    <tr>\n",
       "      <th>156</th>\n",
       "      <td>0.2561</td>\n",
       "      <td>ndcg_cut_1000</td>\n",
       "      <td>118</td>\n",
       "      <td>0.3657</td>\n",
       "      <td>0.2022</td>\n",
       "      <td>0.2560</td>\n",
       "      <td>0.3805</td>\n",
       "      <td>0.2021</td>\n",
       "      <td>0.2021</td>\n",
       "      <td>0.2561</td>\n",
       "      <td>0.0365</td>\n",
       "      <td>0.2698</td>\n",
       "      <td>0.2849</td>\n",
       "      <td>0.2851</td>\n",
       "      <td>0.4296</td>\n",
       "      <td>0.4545</td>\n",
       "      <td>0.0273</td>\n",
       "    </tr>\n",
       "    <tr>\n",
       "      <th>157</th>\n",
       "      <td>0.0495</td>\n",
       "      <td>map_cut_1000</td>\n",
       "      <td>118</td>\n",
       "      <td>0.0932</td>\n",
       "      <td>0.0342</td>\n",
       "      <td>0.0494</td>\n",
       "      <td>0.1006</td>\n",
       "      <td>0.0341</td>\n",
       "      <td>0.0342</td>\n",
       "      <td>0.0495</td>\n",
       "      <td>0.0006</td>\n",
       "      <td>0.0614</td>\n",
       "      <td>0.0635</td>\n",
       "      <td>0.0637</td>\n",
       "      <td>0.1171</td>\n",
       "      <td>0.1129</td>\n",
       "      <td>0.0003</td>\n",
       "    </tr>\n",
       "    <tr>\n",
       "      <th>158</th>\n",
       "      <td>0.4000</td>\n",
       "      <td>relative_P_5</td>\n",
       "      <td>118</td>\n",
       "      <td>0.4000</td>\n",
       "      <td>0.4000</td>\n",
       "      <td>0.4000</td>\n",
       "      <td>0.6000</td>\n",
       "      <td>0.4000</td>\n",
       "      <td>0.4000</td>\n",
       "      <td>0.4000</td>\n",
       "      <td>0.0000</td>\n",
       "      <td>0.2000</td>\n",
       "      <td>0.2000</td>\n",
       "      <td>0.2000</td>\n",
       "      <td>0.8000</td>\n",
       "      <td>0.6000</td>\n",
       "      <td>0.0000</td>\n",
       "    </tr>\n",
       "    <tr>\n",
       "      <th>159</th>\n",
       "      <td>0.2778</td>\n",
       "      <td>relative_P_500</td>\n",
       "      <td>118</td>\n",
       "      <td>0.3081</td>\n",
       "      <td>0.1869</td>\n",
       "      <td>0.2778</td>\n",
       "      <td>0.3333</td>\n",
       "      <td>0.1869</td>\n",
       "      <td>0.1869</td>\n",
       "      <td>0.2778</td>\n",
       "      <td>0.0253</td>\n",
       "      <td>0.2778</td>\n",
       "      <td>0.2778</td>\n",
       "      <td>0.2778</td>\n",
       "      <td>0.3434</td>\n",
       "      <td>0.3384</td>\n",
       "      <td>0.0000</td>\n",
       "    </tr>\n",
       "  </tbody>\n",
       "</table>\n",
       "</div>"
      ],
      "text/plain": [
       "      d1000           score query_id   tfidf   abs09   d1500    bm25   abs01  \\\n",
       "150  0.0495             map      118  0.0932  0.0342  0.0494  0.1006  0.0341   \n",
       "151  0.4000             P_5      118  0.4000  0.4000  0.4000  0.6000  0.4000   \n",
       "152  0.1100           P_500      118  0.1220  0.0740  0.1100  0.1320  0.0740   \n",
       "153  0.2828     recall_1000      118  0.4242  0.2121  0.2828  0.4293  0.2121   \n",
       "154  0.2337     ndcg_cut_10      118  0.2832  0.2337  0.2337  0.4697  0.2337   \n",
       "155  0.1943    ndcg_cut_100      118  0.2823  0.1938  0.1943  0.3198  0.1938   \n",
       "156  0.2561   ndcg_cut_1000      118  0.3657  0.2022  0.2560  0.3805  0.2021   \n",
       "157  0.0495    map_cut_1000      118  0.0932  0.0342  0.0494  0.1006  0.0341   \n",
       "158  0.4000    relative_P_5      118  0.4000  0.4000  0.4000  0.6000  0.4000   \n",
       "159  0.2778  relative_P_500      118  0.3081  0.1869  0.2778  0.3333  0.1869   \n",
       "\n",
       "      abs05    d500     lsi    jm01    jm05    jm09  w2vavg  w2vavg_window20  \\\n",
       "150  0.0342  0.0495  0.0006  0.0614  0.0635  0.0637  0.1171           0.1129   \n",
       "151  0.4000  0.4000  0.0000  0.2000  0.2000  0.2000  0.8000           0.6000   \n",
       "152  0.0740  0.1100  0.0100  0.1100  0.1100  0.1100  0.1360           0.1340   \n",
       "153  0.2121  0.2828  0.0556  0.2980  0.3232  0.3232  0.4697           0.5354   \n",
       "154  0.2337  0.2337  0.0000  0.3005  0.3005  0.3005  0.6325           0.6313   \n",
       "155  0.1938  0.1943  0.0000  0.2198  0.2198  0.2200  0.3171           0.3102   \n",
       "156  0.2021  0.2561  0.0365  0.2698  0.2849  0.2851  0.4296           0.4545   \n",
       "157  0.0342  0.0495  0.0006  0.0614  0.0635  0.0637  0.1171           0.1129   \n",
       "158  0.4000  0.4000  0.0000  0.2000  0.2000  0.2000  0.8000           0.6000   \n",
       "159  0.1869  0.2778  0.0253  0.2778  0.2778  0.2778  0.3434           0.3384   \n",
       "\n",
       "     lsi_topics100  \n",
       "150         0.0003  \n",
       "151         0.0000  \n",
       "152         0.0000  \n",
       "153         0.0455  \n",
       "154         0.0000  \n",
       "155         0.0000  \n",
       "156         0.0273  \n",
       "157         0.0003  \n",
       "158         0.0000  \n",
       "159         0.0000  "
      ]
     },
     "execution_count": 68,
     "metadata": {},
     "output_type": "execute_result"
    }
   ],
   "source": [
    "scores_test_df[scores_test_df['query_id'] == '118']"
   ]
  },
  {
   "cell_type": "code",
   "execution_count": 69,
   "metadata": {
    "collapsed": false
   },
   "outputs": [
    {
     "data": {
      "text/html": [
       "<div>\n",
       "<style scoped>\n",
       "    .dataframe tbody tr th:only-of-type {\n",
       "        vertical-align: middle;\n",
       "    }\n",
       "\n",
       "    .dataframe tbody tr th {\n",
       "        vertical-align: top;\n",
       "    }\n",
       "\n",
       "    .dataframe thead th {\n",
       "        text-align: right;\n",
       "    }\n",
       "</style>\n",
       "<table border=\"1\" class=\"dataframe\">\n",
       "  <thead>\n",
       "    <tr style=\"text-align: right;\">\n",
       "      <th></th>\n",
       "      <th>d1000</th>\n",
       "      <th>score</th>\n",
       "      <th>query_id</th>\n",
       "      <th>tfidf</th>\n",
       "      <th>abs09</th>\n",
       "      <th>d1500</th>\n",
       "      <th>bm25</th>\n",
       "      <th>abs01</th>\n",
       "      <th>abs05</th>\n",
       "      <th>d500</th>\n",
       "      <th>lsi</th>\n",
       "      <th>jm01</th>\n",
       "      <th>jm05</th>\n",
       "      <th>jm09</th>\n",
       "      <th>w2vavg</th>\n",
       "      <th>w2vavg_window20</th>\n",
       "      <th>lsi_topics100</th>\n",
       "    </tr>\n",
       "  </thead>\n",
       "  <tbody>\n",
       "    <tr>\n",
       "      <th>40</th>\n",
       "      <td>0.0001</td>\n",
       "      <td>map</td>\n",
       "      <td>105</td>\n",
       "      <td>0.0000</td>\n",
       "      <td>0.0001</td>\n",
       "      <td>0.0001</td>\n",
       "      <td>0.0001</td>\n",
       "      <td>0.0001</td>\n",
       "      <td>0.0001</td>\n",
       "      <td>0.0001</td>\n",
       "      <td>0.0</td>\n",
       "      <td>0.0001</td>\n",
       "      <td>0.0001</td>\n",
       "      <td>0.0001</td>\n",
       "      <td>0.0</td>\n",
       "      <td>0.0</td>\n",
       "      <td>0.0</td>\n",
       "    </tr>\n",
       "    <tr>\n",
       "      <th>41</th>\n",
       "      <td>0.0000</td>\n",
       "      <td>P_5</td>\n",
       "      <td>105</td>\n",
       "      <td>0.0000</td>\n",
       "      <td>0.0000</td>\n",
       "      <td>0.0000</td>\n",
       "      <td>0.0000</td>\n",
       "      <td>0.0000</td>\n",
       "      <td>0.0000</td>\n",
       "      <td>0.0000</td>\n",
       "      <td>0.0</td>\n",
       "      <td>0.0000</td>\n",
       "      <td>0.0000</td>\n",
       "      <td>0.0000</td>\n",
       "      <td>0.0</td>\n",
       "      <td>0.0</td>\n",
       "      <td>0.0</td>\n",
       "    </tr>\n",
       "    <tr>\n",
       "      <th>42</th>\n",
       "      <td>0.0020</td>\n",
       "      <td>P_500</td>\n",
       "      <td>105</td>\n",
       "      <td>0.0000</td>\n",
       "      <td>0.0020</td>\n",
       "      <td>0.0020</td>\n",
       "      <td>0.0000</td>\n",
       "      <td>0.0020</td>\n",
       "      <td>0.0020</td>\n",
       "      <td>0.0020</td>\n",
       "      <td>0.0</td>\n",
       "      <td>0.0000</td>\n",
       "      <td>0.0000</td>\n",
       "      <td>0.0000</td>\n",
       "      <td>0.0</td>\n",
       "      <td>0.0</td>\n",
       "      <td>0.0</td>\n",
       "    </tr>\n",
       "    <tr>\n",
       "      <th>43</th>\n",
       "      <td>0.0303</td>\n",
       "      <td>recall_1000</td>\n",
       "      <td>105</td>\n",
       "      <td>0.0303</td>\n",
       "      <td>0.0303</td>\n",
       "      <td>0.0303</td>\n",
       "      <td>0.0606</td>\n",
       "      <td>0.0303</td>\n",
       "      <td>0.0303</td>\n",
       "      <td>0.0303</td>\n",
       "      <td>0.0</td>\n",
       "      <td>0.0303</td>\n",
       "      <td>0.0303</td>\n",
       "      <td>0.0303</td>\n",
       "      <td>0.0</td>\n",
       "      <td>0.0</td>\n",
       "      <td>0.0</td>\n",
       "    </tr>\n",
       "    <tr>\n",
       "      <th>44</th>\n",
       "      <td>0.0000</td>\n",
       "      <td>ndcg_cut_10</td>\n",
       "      <td>105</td>\n",
       "      <td>0.0000</td>\n",
       "      <td>0.0000</td>\n",
       "      <td>0.0000</td>\n",
       "      <td>0.0000</td>\n",
       "      <td>0.0000</td>\n",
       "      <td>0.0000</td>\n",
       "      <td>0.0000</td>\n",
       "      <td>0.0</td>\n",
       "      <td>0.0000</td>\n",
       "      <td>0.0000</td>\n",
       "      <td>0.0000</td>\n",
       "      <td>0.0</td>\n",
       "      <td>0.0</td>\n",
       "      <td>0.0</td>\n",
       "    </tr>\n",
       "    <tr>\n",
       "      <th>45</th>\n",
       "      <td>0.0000</td>\n",
       "      <td>ndcg_cut_100</td>\n",
       "      <td>105</td>\n",
       "      <td>0.0000</td>\n",
       "      <td>0.0000</td>\n",
       "      <td>0.0000</td>\n",
       "      <td>0.0000</td>\n",
       "      <td>0.0000</td>\n",
       "      <td>0.0000</td>\n",
       "      <td>0.0000</td>\n",
       "      <td>0.0</td>\n",
       "      <td>0.0000</td>\n",
       "      <td>0.0000</td>\n",
       "      <td>0.0000</td>\n",
       "      <td>0.0</td>\n",
       "      <td>0.0</td>\n",
       "      <td>0.0</td>\n",
       "    </tr>\n",
       "    <tr>\n",
       "      <th>46</th>\n",
       "      <td>0.0129</td>\n",
       "      <td>ndcg_cut_1000</td>\n",
       "      <td>105</td>\n",
       "      <td>0.0108</td>\n",
       "      <td>0.0128</td>\n",
       "      <td>0.0129</td>\n",
       "      <td>0.0221</td>\n",
       "      <td>0.0128</td>\n",
       "      <td>0.0128</td>\n",
       "      <td>0.0129</td>\n",
       "      <td>0.0</td>\n",
       "      <td>0.0114</td>\n",
       "      <td>0.0114</td>\n",
       "      <td>0.0114</td>\n",
       "      <td>0.0</td>\n",
       "      <td>0.0</td>\n",
       "      <td>0.0</td>\n",
       "    </tr>\n",
       "    <tr>\n",
       "      <th>47</th>\n",
       "      <td>0.0001</td>\n",
       "      <td>map_cut_1000</td>\n",
       "      <td>105</td>\n",
       "      <td>0.0000</td>\n",
       "      <td>0.0001</td>\n",
       "      <td>0.0001</td>\n",
       "      <td>0.0001</td>\n",
       "      <td>0.0001</td>\n",
       "      <td>0.0001</td>\n",
       "      <td>0.0001</td>\n",
       "      <td>0.0</td>\n",
       "      <td>0.0001</td>\n",
       "      <td>0.0001</td>\n",
       "      <td>0.0001</td>\n",
       "      <td>0.0</td>\n",
       "      <td>0.0</td>\n",
       "      <td>0.0</td>\n",
       "    </tr>\n",
       "    <tr>\n",
       "      <th>48</th>\n",
       "      <td>0.0000</td>\n",
       "      <td>relative_P_5</td>\n",
       "      <td>105</td>\n",
       "      <td>0.0000</td>\n",
       "      <td>0.0000</td>\n",
       "      <td>0.0000</td>\n",
       "      <td>0.0000</td>\n",
       "      <td>0.0000</td>\n",
       "      <td>0.0000</td>\n",
       "      <td>0.0000</td>\n",
       "      <td>0.0</td>\n",
       "      <td>0.0000</td>\n",
       "      <td>0.0000</td>\n",
       "      <td>0.0000</td>\n",
       "      <td>0.0</td>\n",
       "      <td>0.0</td>\n",
       "      <td>0.0</td>\n",
       "    </tr>\n",
       "    <tr>\n",
       "      <th>49</th>\n",
       "      <td>0.0303</td>\n",
       "      <td>relative_P_500</td>\n",
       "      <td>105</td>\n",
       "      <td>0.0000</td>\n",
       "      <td>0.0303</td>\n",
       "      <td>0.0303</td>\n",
       "      <td>0.0000</td>\n",
       "      <td>0.0303</td>\n",
       "      <td>0.0303</td>\n",
       "      <td>0.0303</td>\n",
       "      <td>0.0</td>\n",
       "      <td>0.0000</td>\n",
       "      <td>0.0000</td>\n",
       "      <td>0.0000</td>\n",
       "      <td>0.0</td>\n",
       "      <td>0.0</td>\n",
       "      <td>0.0</td>\n",
       "    </tr>\n",
       "  </tbody>\n",
       "</table>\n",
       "</div>"
      ],
      "text/plain": [
       "     d1000           score query_id   tfidf   abs09   d1500    bm25   abs01  \\\n",
       "40  0.0001             map      105  0.0000  0.0001  0.0001  0.0001  0.0001   \n",
       "41  0.0000             P_5      105  0.0000  0.0000  0.0000  0.0000  0.0000   \n",
       "42  0.0020           P_500      105  0.0000  0.0020  0.0020  0.0000  0.0020   \n",
       "43  0.0303     recall_1000      105  0.0303  0.0303  0.0303  0.0606  0.0303   \n",
       "44  0.0000     ndcg_cut_10      105  0.0000  0.0000  0.0000  0.0000  0.0000   \n",
       "45  0.0000    ndcg_cut_100      105  0.0000  0.0000  0.0000  0.0000  0.0000   \n",
       "46  0.0129   ndcg_cut_1000      105  0.0108  0.0128  0.0129  0.0221  0.0128   \n",
       "47  0.0001    map_cut_1000      105  0.0000  0.0001  0.0001  0.0001  0.0001   \n",
       "48  0.0000    relative_P_5      105  0.0000  0.0000  0.0000  0.0000  0.0000   \n",
       "49  0.0303  relative_P_500      105  0.0000  0.0303  0.0303  0.0000  0.0303   \n",
       "\n",
       "     abs05    d500  lsi    jm01    jm05    jm09  w2vavg  w2vavg_window20  \\\n",
       "40  0.0001  0.0001  0.0  0.0001  0.0001  0.0001     0.0              0.0   \n",
       "41  0.0000  0.0000  0.0  0.0000  0.0000  0.0000     0.0              0.0   \n",
       "42  0.0020  0.0020  0.0  0.0000  0.0000  0.0000     0.0              0.0   \n",
       "43  0.0303  0.0303  0.0  0.0303  0.0303  0.0303     0.0              0.0   \n",
       "44  0.0000  0.0000  0.0  0.0000  0.0000  0.0000     0.0              0.0   \n",
       "45  0.0000  0.0000  0.0  0.0000  0.0000  0.0000     0.0              0.0   \n",
       "46  0.0128  0.0129  0.0  0.0114  0.0114  0.0114     0.0              0.0   \n",
       "47  0.0001  0.0001  0.0  0.0001  0.0001  0.0001     0.0              0.0   \n",
       "48  0.0000  0.0000  0.0  0.0000  0.0000  0.0000     0.0              0.0   \n",
       "49  0.0303  0.0303  0.0  0.0000  0.0000  0.0000     0.0              0.0   \n",
       "\n",
       "    lsi_topics100  \n",
       "40            0.0  \n",
       "41            0.0  \n",
       "42            0.0  \n",
       "43            0.0  \n",
       "44            0.0  \n",
       "45            0.0  \n",
       "46            0.0  \n",
       "47            0.0  \n",
       "48            0.0  \n",
       "49            0.0  "
      ]
     },
     "execution_count": 69,
     "metadata": {},
     "output_type": "execute_result"
    }
   ],
   "source": [
    "scores_test_df[scores_test_df['query_id'] == '105']"
   ]
  },
  {
   "cell_type": "code",
   "execution_count": 70,
   "metadata": {
    "collapsed": false
   },
   "outputs": [
    {
     "data": {
      "text/plain": [
       "['black', 'monday']"
      ]
     },
     "execution_count": 70,
     "metadata": {},
     "output_type": "execute_result"
    }
   ],
   "source": [
    "[id2token[token] for token in tokenized_queries['105']]"
   ]
  },
  {
   "cell_type": "code",
   "execution_count": 71,
   "metadata": {
    "collapsed": false
   },
   "outputs": [
    {
     "data": {
      "text/plain": [
       "['international', 'terrorists']"
      ]
     },
     "execution_count": 71,
     "metadata": {},
     "output_type": "execute_result"
    }
   ],
   "source": [
    "[id2token[token] for token in tokenized_queries['118']]"
   ]
  },
  {
   "cell_type": "code",
   "execution_count": 72,
   "metadata": {
    "collapsed": true
   },
   "outputs": [],
   "source": [
    "# 102, 196, 197 -> large"
   ]
  },
  {
   "cell_type": "code",
   "execution_count": 73,
   "metadata": {
    "collapsed": false
   },
   "outputs": [
    {
     "data": {
      "text/plain": [
       "[114, 1268, 254885, 191, 2183, 1622, 5465, 276, 3579, 119]"
      ]
     },
     "execution_count": 73,
     "metadata": {},
     "output_type": "execute_result"
    }
   ],
   "source": [
    "tokenized_queries['196']"
   ]
  },
  {
   "cell_type": "code",
   "execution_count": 74,
   "metadata": {
    "collapsed": false
   },
   "outputs": [
    {
     "data": {
      "text/html": [
       "<div>\n",
       "<style scoped>\n",
       "    .dataframe tbody tr th:only-of-type {\n",
       "        vertical-align: middle;\n",
       "    }\n",
       "\n",
       "    .dataframe tbody tr th {\n",
       "        vertical-align: top;\n",
       "    }\n",
       "\n",
       "    .dataframe thead th {\n",
       "        text-align: right;\n",
       "    }\n",
       "</style>\n",
       "<table border=\"1\" class=\"dataframe\">\n",
       "  <thead>\n",
       "    <tr style=\"text-align: right;\">\n",
       "      <th></th>\n",
       "      <th>d1000</th>\n",
       "      <th>score</th>\n",
       "      <th>query_id</th>\n",
       "      <th>tfidf</th>\n",
       "      <th>abs09</th>\n",
       "      <th>d1500</th>\n",
       "      <th>bm25</th>\n",
       "      <th>abs01</th>\n",
       "      <th>abs05</th>\n",
       "      <th>d500</th>\n",
       "      <th>lsi</th>\n",
       "      <th>jm01</th>\n",
       "      <th>jm05</th>\n",
       "      <th>jm09</th>\n",
       "      <th>w2vavg</th>\n",
       "      <th>w2vavg_window20</th>\n",
       "      <th>lsi_topics100</th>\n",
       "    </tr>\n",
       "  </thead>\n",
       "  <tbody>\n",
       "    <tr>\n",
       "      <th>780</th>\n",
       "      <td>0.0336</td>\n",
       "      <td>map</td>\n",
       "      <td>196</td>\n",
       "      <td>0.2183</td>\n",
       "      <td>0.0235</td>\n",
       "      <td>0.0337</td>\n",
       "      <td>0.1726</td>\n",
       "      <td>0.0235</td>\n",
       "      <td>0.0235</td>\n",
       "      <td>0.0356</td>\n",
       "      <td>0.0002</td>\n",
       "      <td>0.1264</td>\n",
       "      <td>0.1289</td>\n",
       "      <td>0.1291</td>\n",
       "      <td>0.0132</td>\n",
       "      <td>0.0243</td>\n",
       "      <td>0.0334</td>\n",
       "    </tr>\n",
       "    <tr>\n",
       "      <th>781</th>\n",
       "      <td>0.0000</td>\n",
       "      <td>P_5</td>\n",
       "      <td>196</td>\n",
       "      <td>0.6000</td>\n",
       "      <td>0.2000</td>\n",
       "      <td>0.0000</td>\n",
       "      <td>0.4000</td>\n",
       "      <td>0.2000</td>\n",
       "      <td>0.2000</td>\n",
       "      <td>0.0000</td>\n",
       "      <td>0.0000</td>\n",
       "      <td>0.4000</td>\n",
       "      <td>0.4000</td>\n",
       "      <td>0.4000</td>\n",
       "      <td>0.0000</td>\n",
       "      <td>0.0000</td>\n",
       "      <td>0.0000</td>\n",
       "    </tr>\n",
       "    <tr>\n",
       "      <th>782</th>\n",
       "      <td>0.0200</td>\n",
       "      <td>P_500</td>\n",
       "      <td>196</td>\n",
       "      <td>0.0400</td>\n",
       "      <td>0.0200</td>\n",
       "      <td>0.0200</td>\n",
       "      <td>0.0440</td>\n",
       "      <td>0.0200</td>\n",
       "      <td>0.0200</td>\n",
       "      <td>0.0200</td>\n",
       "      <td>0.0020</td>\n",
       "      <td>0.0240</td>\n",
       "      <td>0.0240</td>\n",
       "      <td>0.0240</td>\n",
       "      <td>0.0240</td>\n",
       "      <td>0.0300</td>\n",
       "      <td>0.0280</td>\n",
       "    </tr>\n",
       "    <tr>\n",
       "      <th>783</th>\n",
       "      <td>0.4286</td>\n",
       "      <td>recall_1000</td>\n",
       "      <td>196</td>\n",
       "      <td>0.8214</td>\n",
       "      <td>0.3929</td>\n",
       "      <td>0.4286</td>\n",
       "      <td>0.8214</td>\n",
       "      <td>0.3929</td>\n",
       "      <td>0.3929</td>\n",
       "      <td>0.4286</td>\n",
       "      <td>0.0714</td>\n",
       "      <td>0.6786</td>\n",
       "      <td>0.7500</td>\n",
       "      <td>0.7500</td>\n",
       "      <td>0.5714</td>\n",
       "      <td>0.7500</td>\n",
       "      <td>0.6429</td>\n",
       "    </tr>\n",
       "    <tr>\n",
       "      <th>784</th>\n",
       "      <td>0.1357</td>\n",
       "      <td>ndcg_cut_10</td>\n",
       "      <td>196</td>\n",
       "      <td>0.4690</td>\n",
       "      <td>0.0948</td>\n",
       "      <td>0.1357</td>\n",
       "      <td>0.4448</td>\n",
       "      <td>0.0948</td>\n",
       "      <td>0.0948</td>\n",
       "      <td>0.1357</td>\n",
       "      <td>0.0000</td>\n",
       "      <td>0.3590</td>\n",
       "      <td>0.3590</td>\n",
       "      <td>0.3590</td>\n",
       "      <td>0.0000</td>\n",
       "      <td>0.0000</td>\n",
       "      <td>0.0000</td>\n",
       "    </tr>\n",
       "    <tr>\n",
       "      <th>785</th>\n",
       "      <td>0.1557</td>\n",
       "      <td>ndcg_cut_100</td>\n",
       "      <td>196</td>\n",
       "      <td>0.4710</td>\n",
       "      <td>0.1284</td>\n",
       "      <td>0.1558</td>\n",
       "      <td>0.4065</td>\n",
       "      <td>0.1282</td>\n",
       "      <td>0.1283</td>\n",
       "      <td>0.1590</td>\n",
       "      <td>0.0000</td>\n",
       "      <td>0.3273</td>\n",
       "      <td>0.3445</td>\n",
       "      <td>0.3446</td>\n",
       "      <td>0.0000</td>\n",
       "      <td>0.0000</td>\n",
       "      <td>0.1399</td>\n",
       "    </tr>\n",
       "    <tr>\n",
       "      <th>786</th>\n",
       "      <td>0.2367</td>\n",
       "      <td>ndcg_cut_1000</td>\n",
       "      <td>196</td>\n",
       "      <td>0.6137</td>\n",
       "      <td>0.2116</td>\n",
       "      <td>0.2369</td>\n",
       "      <td>0.5656</td>\n",
       "      <td>0.2115</td>\n",
       "      <td>0.2116</td>\n",
       "      <td>0.2402</td>\n",
       "      <td>0.0260</td>\n",
       "      <td>0.4763</td>\n",
       "      <td>0.5009</td>\n",
       "      <td>0.5011</td>\n",
       "      <td>0.2243</td>\n",
       "      <td>0.2985</td>\n",
       "      <td>0.3002</td>\n",
       "    </tr>\n",
       "    <tr>\n",
       "      <th>787</th>\n",
       "      <td>0.0336</td>\n",
       "      <td>map_cut_1000</td>\n",
       "      <td>196</td>\n",
       "      <td>0.2183</td>\n",
       "      <td>0.0235</td>\n",
       "      <td>0.0337</td>\n",
       "      <td>0.1726</td>\n",
       "      <td>0.0235</td>\n",
       "      <td>0.0235</td>\n",
       "      <td>0.0356</td>\n",
       "      <td>0.0002</td>\n",
       "      <td>0.1264</td>\n",
       "      <td>0.1289</td>\n",
       "      <td>0.1291</td>\n",
       "      <td>0.0132</td>\n",
       "      <td>0.0243</td>\n",
       "      <td>0.0334</td>\n",
       "    </tr>\n",
       "    <tr>\n",
       "      <th>788</th>\n",
       "      <td>0.0000</td>\n",
       "      <td>relative_P_5</td>\n",
       "      <td>196</td>\n",
       "      <td>0.6000</td>\n",
       "      <td>0.2000</td>\n",
       "      <td>0.0000</td>\n",
       "      <td>0.4000</td>\n",
       "      <td>0.2000</td>\n",
       "      <td>0.2000</td>\n",
       "      <td>0.0000</td>\n",
       "      <td>0.0000</td>\n",
       "      <td>0.4000</td>\n",
       "      <td>0.4000</td>\n",
       "      <td>0.4000</td>\n",
       "      <td>0.0000</td>\n",
       "      <td>0.0000</td>\n",
       "      <td>0.0000</td>\n",
       "    </tr>\n",
       "    <tr>\n",
       "      <th>789</th>\n",
       "      <td>0.3571</td>\n",
       "      <td>relative_P_500</td>\n",
       "      <td>196</td>\n",
       "      <td>0.7143</td>\n",
       "      <td>0.3571</td>\n",
       "      <td>0.3571</td>\n",
       "      <td>0.7857</td>\n",
       "      <td>0.3571</td>\n",
       "      <td>0.3571</td>\n",
       "      <td>0.3571</td>\n",
       "      <td>0.0357</td>\n",
       "      <td>0.4286</td>\n",
       "      <td>0.4286</td>\n",
       "      <td>0.4286</td>\n",
       "      <td>0.4286</td>\n",
       "      <td>0.5357</td>\n",
       "      <td>0.5000</td>\n",
       "    </tr>\n",
       "  </tbody>\n",
       "</table>\n",
       "</div>"
      ],
      "text/plain": [
       "      d1000           score query_id   tfidf   abs09   d1500    bm25   abs01  \\\n",
       "780  0.0336             map      196  0.2183  0.0235  0.0337  0.1726  0.0235   \n",
       "781  0.0000             P_5      196  0.6000  0.2000  0.0000  0.4000  0.2000   \n",
       "782  0.0200           P_500      196  0.0400  0.0200  0.0200  0.0440  0.0200   \n",
       "783  0.4286     recall_1000      196  0.8214  0.3929  0.4286  0.8214  0.3929   \n",
       "784  0.1357     ndcg_cut_10      196  0.4690  0.0948  0.1357  0.4448  0.0948   \n",
       "785  0.1557    ndcg_cut_100      196  0.4710  0.1284  0.1558  0.4065  0.1282   \n",
       "786  0.2367   ndcg_cut_1000      196  0.6137  0.2116  0.2369  0.5656  0.2115   \n",
       "787  0.0336    map_cut_1000      196  0.2183  0.0235  0.0337  0.1726  0.0235   \n",
       "788  0.0000    relative_P_5      196  0.6000  0.2000  0.0000  0.4000  0.2000   \n",
       "789  0.3571  relative_P_500      196  0.7143  0.3571  0.3571  0.7857  0.3571   \n",
       "\n",
       "      abs05    d500     lsi    jm01    jm05    jm09  w2vavg  w2vavg_window20  \\\n",
       "780  0.0235  0.0356  0.0002  0.1264  0.1289  0.1291  0.0132           0.0243   \n",
       "781  0.2000  0.0000  0.0000  0.4000  0.4000  0.4000  0.0000           0.0000   \n",
       "782  0.0200  0.0200  0.0020  0.0240  0.0240  0.0240  0.0240           0.0300   \n",
       "783  0.3929  0.4286  0.0714  0.6786  0.7500  0.7500  0.5714           0.7500   \n",
       "784  0.0948  0.1357  0.0000  0.3590  0.3590  0.3590  0.0000           0.0000   \n",
       "785  0.1283  0.1590  0.0000  0.3273  0.3445  0.3446  0.0000           0.0000   \n",
       "786  0.2116  0.2402  0.0260  0.4763  0.5009  0.5011  0.2243           0.2985   \n",
       "787  0.0235  0.0356  0.0002  0.1264  0.1289  0.1291  0.0132           0.0243   \n",
       "788  0.2000  0.0000  0.0000  0.4000  0.4000  0.4000  0.0000           0.0000   \n",
       "789  0.3571  0.3571  0.0357  0.4286  0.4286  0.4286  0.4286           0.5357   \n",
       "\n",
       "     lsi_topics100  \n",
       "780         0.0334  \n",
       "781         0.0000  \n",
       "782         0.0280  \n",
       "783         0.6429  \n",
       "784         0.0000  \n",
       "785         0.1399  \n",
       "786         0.3002  \n",
       "787         0.0334  \n",
       "788         0.0000  \n",
       "789         0.5000  "
      ]
     },
     "execution_count": 74,
     "metadata": {},
     "output_type": "execute_result"
    }
   ],
   "source": [
    "scores_test_df[scores_test_df['query_id'] == '196']"
   ]
  },
  {
   "cell_type": "code",
   "execution_count": 75,
   "metadata": {
    "collapsed": false
   },
   "outputs": [
    {
     "data": {
      "text/html": [
       "<div>\n",
       "<style scoped>\n",
       "    .dataframe tbody tr th:only-of-type {\n",
       "        vertical-align: middle;\n",
       "    }\n",
       "\n",
       "    .dataframe tbody tr th {\n",
       "        vertical-align: top;\n",
       "    }\n",
       "\n",
       "    .dataframe thead th {\n",
       "        text-align: right;\n",
       "    }\n",
       "</style>\n",
       "<table border=\"1\" class=\"dataframe\">\n",
       "  <thead>\n",
       "    <tr style=\"text-align: right;\">\n",
       "      <th></th>\n",
       "      <th>d1000</th>\n",
       "      <th>score</th>\n",
       "      <th>query_id</th>\n",
       "      <th>tfidf</th>\n",
       "      <th>abs09</th>\n",
       "      <th>d1500</th>\n",
       "      <th>bm25</th>\n",
       "      <th>abs01</th>\n",
       "      <th>abs05</th>\n",
       "      <th>d500</th>\n",
       "      <th>lsi</th>\n",
       "      <th>jm01</th>\n",
       "      <th>jm05</th>\n",
       "      <th>jm09</th>\n",
       "      <th>w2vavg</th>\n",
       "      <th>w2vavg_window20</th>\n",
       "      <th>lsi_topics100</th>\n",
       "    </tr>\n",
       "  </thead>\n",
       "  <tbody>\n",
       "    <tr>\n",
       "      <th>790</th>\n",
       "      <td>0.0127</td>\n",
       "      <td>map</td>\n",
       "      <td>197</td>\n",
       "      <td>0.0338</td>\n",
       "      <td>0.0053</td>\n",
       "      <td>0.0119</td>\n",
       "      <td>0.0526</td>\n",
       "      <td>0.0053</td>\n",
       "      <td>0.0053</td>\n",
       "      <td>0.0127</td>\n",
       "      <td>0.0000</td>\n",
       "      <td>0.0330</td>\n",
       "      <td>0.0357</td>\n",
       "      <td>0.0356</td>\n",
       "      <td>0.0123</td>\n",
       "      <td>0.0145</td>\n",
       "      <td>0.0006</td>\n",
       "    </tr>\n",
       "    <tr>\n",
       "      <th>791</th>\n",
       "      <td>0.2000</td>\n",
       "      <td>P_5</td>\n",
       "      <td>197</td>\n",
       "      <td>0.2000</td>\n",
       "      <td>0.0000</td>\n",
       "      <td>0.2000</td>\n",
       "      <td>0.4000</td>\n",
       "      <td>0.0000</td>\n",
       "      <td>0.0000</td>\n",
       "      <td>0.2000</td>\n",
       "      <td>0.0000</td>\n",
       "      <td>0.4000</td>\n",
       "      <td>0.4000</td>\n",
       "      <td>0.4000</td>\n",
       "      <td>0.0000</td>\n",
       "      <td>0.2000</td>\n",
       "      <td>0.0000</td>\n",
       "    </tr>\n",
       "    <tr>\n",
       "      <th>792</th>\n",
       "      <td>0.0180</td>\n",
       "      <td>P_500</td>\n",
       "      <td>197</td>\n",
       "      <td>0.0300</td>\n",
       "      <td>0.0120</td>\n",
       "      <td>0.0180</td>\n",
       "      <td>0.0260</td>\n",
       "      <td>0.0120</td>\n",
       "      <td>0.0120</td>\n",
       "      <td>0.0180</td>\n",
       "      <td>0.0000</td>\n",
       "      <td>0.0220</td>\n",
       "      <td>0.0220</td>\n",
       "      <td>0.0240</td>\n",
       "      <td>0.0300</td>\n",
       "      <td>0.0240</td>\n",
       "      <td>0.0040</td>\n",
       "    </tr>\n",
       "    <tr>\n",
       "      <th>793</th>\n",
       "      <td>0.1429</td>\n",
       "      <td>recall_1000</td>\n",
       "      <td>197</td>\n",
       "      <td>0.2857</td>\n",
       "      <td>0.0952</td>\n",
       "      <td>0.1429</td>\n",
       "      <td>0.2540</td>\n",
       "      <td>0.0952</td>\n",
       "      <td>0.0952</td>\n",
       "      <td>0.1429</td>\n",
       "      <td>0.0159</td>\n",
       "      <td>0.2381</td>\n",
       "      <td>0.2381</td>\n",
       "      <td>0.2381</td>\n",
       "      <td>0.3492</td>\n",
       "      <td>0.2857</td>\n",
       "      <td>0.0476</td>\n",
       "    </tr>\n",
       "    <tr>\n",
       "      <th>794</th>\n",
       "      <td>0.1584</td>\n",
       "      <td>ndcg_cut_10</td>\n",
       "      <td>197</td>\n",
       "      <td>0.2809</td>\n",
       "      <td>0.0734</td>\n",
       "      <td>0.1488</td>\n",
       "      <td>0.4698</td>\n",
       "      <td>0.0734</td>\n",
       "      <td>0.0734</td>\n",
       "      <td>0.1584</td>\n",
       "      <td>0.0000</td>\n",
       "      <td>0.3052</td>\n",
       "      <td>0.3149</td>\n",
       "      <td>0.3149</td>\n",
       "      <td>0.0000</td>\n",
       "      <td>0.1100</td>\n",
       "      <td>0.0000</td>\n",
       "    </tr>\n",
       "    <tr>\n",
       "      <th>795</th>\n",
       "      <td>0.0635</td>\n",
       "      <td>ndcg_cut_100</td>\n",
       "      <td>197</td>\n",
       "      <td>0.1422</td>\n",
       "      <td>0.0478</td>\n",
       "      <td>0.0606</td>\n",
       "      <td>0.1755</td>\n",
       "      <td>0.0478</td>\n",
       "      <td>0.0478</td>\n",
       "      <td>0.0635</td>\n",
       "      <td>0.0000</td>\n",
       "      <td>0.1410</td>\n",
       "      <td>0.1347</td>\n",
       "      <td>0.1344</td>\n",
       "      <td>0.0404</td>\n",
       "      <td>0.0707</td>\n",
       "      <td>0.0123</td>\n",
       "    </tr>\n",
       "    <tr>\n",
       "      <th>796</th>\n",
       "      <td>0.1148</td>\n",
       "      <td>ndcg_cut_1000</td>\n",
       "      <td>197</td>\n",
       "      <td>0.2224</td>\n",
       "      <td>0.0721</td>\n",
       "      <td>0.1119</td>\n",
       "      <td>0.2504</td>\n",
       "      <td>0.0722</td>\n",
       "      <td>0.0722</td>\n",
       "      <td>0.1148</td>\n",
       "      <td>0.0071</td>\n",
       "      <td>0.2107</td>\n",
       "      <td>0.2161</td>\n",
       "      <td>0.2160</td>\n",
       "      <td>0.1889</td>\n",
       "      <td>0.1775</td>\n",
       "      <td>0.0277</td>\n",
       "    </tr>\n",
       "    <tr>\n",
       "      <th>797</th>\n",
       "      <td>0.0127</td>\n",
       "      <td>map_cut_1000</td>\n",
       "      <td>197</td>\n",
       "      <td>0.0338</td>\n",
       "      <td>0.0053</td>\n",
       "      <td>0.0119</td>\n",
       "      <td>0.0526</td>\n",
       "      <td>0.0053</td>\n",
       "      <td>0.0053</td>\n",
       "      <td>0.0127</td>\n",
       "      <td>0.0000</td>\n",
       "      <td>0.0330</td>\n",
       "      <td>0.0357</td>\n",
       "      <td>0.0356</td>\n",
       "      <td>0.0123</td>\n",
       "      <td>0.0145</td>\n",
       "      <td>0.0006</td>\n",
       "    </tr>\n",
       "    <tr>\n",
       "      <th>798</th>\n",
       "      <td>0.2000</td>\n",
       "      <td>relative_P_5</td>\n",
       "      <td>197</td>\n",
       "      <td>0.2000</td>\n",
       "      <td>0.0000</td>\n",
       "      <td>0.2000</td>\n",
       "      <td>0.4000</td>\n",
       "      <td>0.0000</td>\n",
       "      <td>0.0000</td>\n",
       "      <td>0.2000</td>\n",
       "      <td>0.0000</td>\n",
       "      <td>0.4000</td>\n",
       "      <td>0.4000</td>\n",
       "      <td>0.4000</td>\n",
       "      <td>0.0000</td>\n",
       "      <td>0.2000</td>\n",
       "      <td>0.0000</td>\n",
       "    </tr>\n",
       "    <tr>\n",
       "      <th>799</th>\n",
       "      <td>0.1429</td>\n",
       "      <td>relative_P_500</td>\n",
       "      <td>197</td>\n",
       "      <td>0.2381</td>\n",
       "      <td>0.0952</td>\n",
       "      <td>0.1429</td>\n",
       "      <td>0.2063</td>\n",
       "      <td>0.0952</td>\n",
       "      <td>0.0952</td>\n",
       "      <td>0.1429</td>\n",
       "      <td>0.0000</td>\n",
       "      <td>0.1746</td>\n",
       "      <td>0.1746</td>\n",
       "      <td>0.1905</td>\n",
       "      <td>0.2381</td>\n",
       "      <td>0.1905</td>\n",
       "      <td>0.0317</td>\n",
       "    </tr>\n",
       "  </tbody>\n",
       "</table>\n",
       "</div>"
      ],
      "text/plain": [
       "      d1000           score query_id   tfidf   abs09   d1500    bm25   abs01  \\\n",
       "790  0.0127             map      197  0.0338  0.0053  0.0119  0.0526  0.0053   \n",
       "791  0.2000             P_5      197  0.2000  0.0000  0.2000  0.4000  0.0000   \n",
       "792  0.0180           P_500      197  0.0300  0.0120  0.0180  0.0260  0.0120   \n",
       "793  0.1429     recall_1000      197  0.2857  0.0952  0.1429  0.2540  0.0952   \n",
       "794  0.1584     ndcg_cut_10      197  0.2809  0.0734  0.1488  0.4698  0.0734   \n",
       "795  0.0635    ndcg_cut_100      197  0.1422  0.0478  0.0606  0.1755  0.0478   \n",
       "796  0.1148   ndcg_cut_1000      197  0.2224  0.0721  0.1119  0.2504  0.0722   \n",
       "797  0.0127    map_cut_1000      197  0.0338  0.0053  0.0119  0.0526  0.0053   \n",
       "798  0.2000    relative_P_5      197  0.2000  0.0000  0.2000  0.4000  0.0000   \n",
       "799  0.1429  relative_P_500      197  0.2381  0.0952  0.1429  0.2063  0.0952   \n",
       "\n",
       "      abs05    d500     lsi    jm01    jm05    jm09  w2vavg  w2vavg_window20  \\\n",
       "790  0.0053  0.0127  0.0000  0.0330  0.0357  0.0356  0.0123           0.0145   \n",
       "791  0.0000  0.2000  0.0000  0.4000  0.4000  0.4000  0.0000           0.2000   \n",
       "792  0.0120  0.0180  0.0000  0.0220  0.0220  0.0240  0.0300           0.0240   \n",
       "793  0.0952  0.1429  0.0159  0.2381  0.2381  0.2381  0.3492           0.2857   \n",
       "794  0.0734  0.1584  0.0000  0.3052  0.3149  0.3149  0.0000           0.1100   \n",
       "795  0.0478  0.0635  0.0000  0.1410  0.1347  0.1344  0.0404           0.0707   \n",
       "796  0.0722  0.1148  0.0071  0.2107  0.2161  0.2160  0.1889           0.1775   \n",
       "797  0.0053  0.0127  0.0000  0.0330  0.0357  0.0356  0.0123           0.0145   \n",
       "798  0.0000  0.2000  0.0000  0.4000  0.4000  0.4000  0.0000           0.2000   \n",
       "799  0.0952  0.1429  0.0000  0.1746  0.1746  0.1905  0.2381           0.1905   \n",
       "\n",
       "     lsi_topics100  \n",
       "790         0.0006  \n",
       "791         0.0000  \n",
       "792         0.0040  \n",
       "793         0.0476  \n",
       "794         0.0000  \n",
       "795         0.0123  \n",
       "796         0.0277  \n",
       "797         0.0006  \n",
       "798         0.0000  \n",
       "799         0.0317  "
      ]
     },
     "execution_count": 75,
     "metadata": {},
     "output_type": "execute_result"
    }
   ],
   "source": [
    "scores_test_df[scores_test_df['query_id'] == '197']"
   ]
  },
  {
   "cell_type": "code",
   "execution_count": 76,
   "metadata": {
    "collapsed": true
   },
   "outputs": [],
   "source": [
    "def get_all_scores(metric):\n",
    "    df = scores_test_df[(scores_test_df['score'] == metric) &  (scores_test_df['query_id'] == 'all')]\n",
    "    return df"
   ]
  },
  {
   "cell_type": "code",
   "execution_count": 88,
   "metadata": {
    "collapsed": false
   },
   "outputs": [],
   "source": [
    "scoring_metrics = ['ndcg_cut_10', 'map', 'P_5', 'recall_1000']\n",
    "test_metrics_df = pd.DataFrame()\n",
    "\n",
    "def get_avg_score(metric):\n",
    "    df = scores_test_df[(scores_test_df['score'] == metric) &  (scores_test_df['query_id'] == 'all')]\n",
    "    return df\n",
    "\n",
    "for scoring_metric in scoring_metrics:\n",
    "    test_metrics_df = test_metrics_df.append(get_avg_score(scoring_metric), ignore_index=True)\n",
    "    # print(get_avg_score(scoring_metric))\n",
    "    \n",
    "test_metrics_df = test_metrics_df.drop('query_id', axis=1)"
   ]
  },
  {
   "cell_type": "code",
   "execution_count": 89,
   "metadata": {
    "collapsed": false
   },
   "outputs": [
    {
     "data": {
      "text/html": [
       "<div>\n",
       "<style scoped>\n",
       "    .dataframe tbody tr th:only-of-type {\n",
       "        vertical-align: middle;\n",
       "    }\n",
       "\n",
       "    .dataframe tbody tr th {\n",
       "        vertical-align: top;\n",
       "    }\n",
       "\n",
       "    .dataframe thead th {\n",
       "        text-align: right;\n",
       "    }\n",
       "</style>\n",
       "<table border=\"1\" class=\"dataframe\">\n",
       "  <thead>\n",
       "    <tr style=\"text-align: right;\">\n",
       "      <th></th>\n",
       "      <th>d1000</th>\n",
       "      <th>score</th>\n",
       "      <th>tfidf</th>\n",
       "      <th>abs09</th>\n",
       "      <th>d1500</th>\n",
       "      <th>bm25</th>\n",
       "      <th>abs01</th>\n",
       "      <th>abs05</th>\n",
       "      <th>d500</th>\n",
       "      <th>lsi</th>\n",
       "      <th>jm01</th>\n",
       "      <th>jm05</th>\n",
       "      <th>jm09</th>\n",
       "      <th>w2vavg</th>\n",
       "      <th>w2vavg_window20</th>\n",
       "      <th>lsi_topics100</th>\n",
       "    </tr>\n",
       "  </thead>\n",
       "  <tbody>\n",
       "    <tr>\n",
       "      <th>0</th>\n",
       "      <td>0.2469</td>\n",
       "      <td>ndcg_cut_10</td>\n",
       "      <td>0.4000</td>\n",
       "      <td>0.1636</td>\n",
       "      <td>0.2459</td>\n",
       "      <td>0.3907</td>\n",
       "      <td>0.1636</td>\n",
       "      <td>0.1636</td>\n",
       "      <td>0.2479</td>\n",
       "      <td>0.0321</td>\n",
       "      <td>0.3582</td>\n",
       "      <td>0.3587</td>\n",
       "      <td>0.3596</td>\n",
       "      <td>0.2004</td>\n",
       "      <td>0.2123</td>\n",
       "      <td>0.1044</td>\n",
       "    </tr>\n",
       "    <tr>\n",
       "      <th>1</th>\n",
       "      <td>0.1128</td>\n",
       "      <td>map</td>\n",
       "      <td>0.2114</td>\n",
       "      <td>0.0683</td>\n",
       "      <td>0.1125</td>\n",
       "      <td>0.2089</td>\n",
       "      <td>0.0683</td>\n",
       "      <td>0.0683</td>\n",
       "      <td>0.1137</td>\n",
       "      <td>0.0193</td>\n",
       "      <td>0.1790</td>\n",
       "      <td>0.1809</td>\n",
       "      <td>0.1812</td>\n",
       "      <td>0.0898</td>\n",
       "      <td>0.0939</td>\n",
       "      <td>0.0448</td>\n",
       "    </tr>\n",
       "    <tr>\n",
       "      <th>2</th>\n",
       "      <td>0.2450</td>\n",
       "      <td>P_5</td>\n",
       "      <td>0.4083</td>\n",
       "      <td>0.1667</td>\n",
       "      <td>0.2433</td>\n",
       "      <td>0.4017</td>\n",
       "      <td>0.1667</td>\n",
       "      <td>0.1667</td>\n",
       "      <td>0.2450</td>\n",
       "      <td>0.0317</td>\n",
       "      <td>0.3567</td>\n",
       "      <td>0.3600</td>\n",
       "      <td>0.3617</td>\n",
       "      <td>0.2200</td>\n",
       "      <td>0.2333</td>\n",
       "      <td>0.1100</td>\n",
       "    </tr>\n",
       "    <tr>\n",
       "      <th>3</th>\n",
       "      <td>0.4593</td>\n",
       "      <td>recall_1000</td>\n",
       "      <td>0.6432</td>\n",
       "      <td>0.3685</td>\n",
       "      <td>0.4581</td>\n",
       "      <td>0.6365</td>\n",
       "      <td>0.3689</td>\n",
       "      <td>0.3685</td>\n",
       "      <td>0.4617</td>\n",
       "      <td>0.2016</td>\n",
       "      <td>0.5765</td>\n",
       "      <td>0.5854</td>\n",
       "      <td>0.5871</td>\n",
       "      <td>0.4972</td>\n",
       "      <td>0.5108</td>\n",
       "      <td>0.3460</td>\n",
       "    </tr>\n",
       "  </tbody>\n",
       "</table>\n",
       "</div>"
      ],
      "text/plain": [
       "    d1000        score   tfidf   abs09   d1500    bm25   abs01   abs05  \\\n",
       "0  0.2469  ndcg_cut_10  0.4000  0.1636  0.2459  0.3907  0.1636  0.1636   \n",
       "1  0.1128          map  0.2114  0.0683  0.1125  0.2089  0.0683  0.0683   \n",
       "2  0.2450          P_5  0.4083  0.1667  0.2433  0.4017  0.1667  0.1667   \n",
       "3  0.4593  recall_1000  0.6432  0.3685  0.4581  0.6365  0.3689  0.3685   \n",
       "\n",
       "     d500     lsi    jm01    jm05    jm09  w2vavg  w2vavg_window20  \\\n",
       "0  0.2479  0.0321  0.3582  0.3587  0.3596  0.2004           0.2123   \n",
       "1  0.1137  0.0193  0.1790  0.1809  0.1812  0.0898           0.0939   \n",
       "2  0.2450  0.0317  0.3567  0.3600  0.3617  0.2200           0.2333   \n",
       "3  0.4617  0.2016  0.5765  0.5854  0.5871  0.4972           0.5108   \n",
       "\n",
       "   lsi_topics100  \n",
       "0         0.1044  \n",
       "1         0.0448  \n",
       "2         0.1100  \n",
       "3         0.3460  "
      ]
     },
     "execution_count": 89,
     "metadata": {},
     "output_type": "execute_result"
    }
   ],
   "source": [
    "test_metrics_df"
   ]
  },
  {
   "cell_type": "code",
   "execution_count": 90,
   "metadata": {
    "collapsed": false
   },
   "outputs": [],
   "source": [
    "test_metrics_df.rename({'w2vavg': 'w2vavg_window5'}, axis='columns', inplace=True)\n",
    "test_metrics_df.rename({'lsi': 'lsi_topics20'}, axis='columns', inplace=True)"
   ]
  },
  {
   "cell_type": "code",
   "execution_count": 91,
   "metadata": {
    "collapsed": false
   },
   "outputs": [
    {
     "data": {
      "text/plain": [
       "16"
      ]
     },
     "execution_count": 91,
     "metadata": {},
     "output_type": "execute_result"
    }
   ],
   "source": [
    "len(test_metrics_df.columns)"
   ]
  },
  {
   "cell_type": "code",
   "execution_count": 92,
   "metadata": {
    "collapsed": true
   },
   "outputs": [],
   "source": [
    "ndcg_at_10_hp = test_metrics_df[0:1].reset_index()"
   ]
  },
  {
   "cell_type": "code",
   "execution_count": 93,
   "metadata": {
    "collapsed": false
   },
   "outputs": [],
   "source": [
    "test_metrics_df = test_metrics_df[['score', 'tfidf', 'bm25', 'd1500', 'abs05', 'jm09', 'lsi_topics100', 'w2vavg_window20']]"
   ]
  },
  {
   "cell_type": "code",
   "execution_count": 94,
   "metadata": {
    "collapsed": false
   },
   "outputs": [
    {
     "data": {
      "text/html": [
       "<div>\n",
       "<style scoped>\n",
       "    .dataframe tbody tr th:only-of-type {\n",
       "        vertical-align: middle;\n",
       "    }\n",
       "\n",
       "    .dataframe tbody tr th {\n",
       "        vertical-align: top;\n",
       "    }\n",
       "\n",
       "    .dataframe thead th {\n",
       "        text-align: right;\n",
       "    }\n",
       "</style>\n",
       "<table border=\"1\" class=\"dataframe\">\n",
       "  <thead>\n",
       "    <tr style=\"text-align: right;\">\n",
       "      <th></th>\n",
       "      <th>score</th>\n",
       "      <th>tfidf</th>\n",
       "      <th>bm25</th>\n",
       "      <th>d1500</th>\n",
       "      <th>abs05</th>\n",
       "      <th>jm09</th>\n",
       "      <th>lsi_topics100</th>\n",
       "      <th>w2vavg_window20</th>\n",
       "    </tr>\n",
       "  </thead>\n",
       "  <tbody>\n",
       "    <tr>\n",
       "      <th>0</th>\n",
       "      <td>ndcg_cut_10</td>\n",
       "      <td>0.4000</td>\n",
       "      <td>0.3907</td>\n",
       "      <td>0.2459</td>\n",
       "      <td>0.1636</td>\n",
       "      <td>0.3596</td>\n",
       "      <td>0.1044</td>\n",
       "      <td>0.2123</td>\n",
       "    </tr>\n",
       "    <tr>\n",
       "      <th>1</th>\n",
       "      <td>map</td>\n",
       "      <td>0.2114</td>\n",
       "      <td>0.2089</td>\n",
       "      <td>0.1125</td>\n",
       "      <td>0.0683</td>\n",
       "      <td>0.1812</td>\n",
       "      <td>0.0448</td>\n",
       "      <td>0.0939</td>\n",
       "    </tr>\n",
       "    <tr>\n",
       "      <th>2</th>\n",
       "      <td>P_5</td>\n",
       "      <td>0.4083</td>\n",
       "      <td>0.4017</td>\n",
       "      <td>0.2433</td>\n",
       "      <td>0.1667</td>\n",
       "      <td>0.3617</td>\n",
       "      <td>0.1100</td>\n",
       "      <td>0.2333</td>\n",
       "    </tr>\n",
       "    <tr>\n",
       "      <th>3</th>\n",
       "      <td>recall_1000</td>\n",
       "      <td>0.6432</td>\n",
       "      <td>0.6365</td>\n",
       "      <td>0.4581</td>\n",
       "      <td>0.3685</td>\n",
       "      <td>0.5871</td>\n",
       "      <td>0.3460</td>\n",
       "      <td>0.5108</td>\n",
       "    </tr>\n",
       "  </tbody>\n",
       "</table>\n",
       "</div>"
      ],
      "text/plain": [
       "         score   tfidf    bm25   d1500   abs05    jm09  lsi_topics100  \\\n",
       "0  ndcg_cut_10  0.4000  0.3907  0.2459  0.1636  0.3596         0.1044   \n",
       "1          map  0.2114  0.2089  0.1125  0.0683  0.1812         0.0448   \n",
       "2          P_5  0.4083  0.4017  0.2433  0.1667  0.3617         0.1100   \n",
       "3  recall_1000  0.6432  0.6365  0.4581  0.3685  0.5871         0.3460   \n",
       "\n",
       "   w2vavg_window20  \n",
       "0           0.2123  \n",
       "1           0.0939  \n",
       "2           0.2333  \n",
       "3           0.5108  "
      ]
     },
     "execution_count": 94,
     "metadata": {},
     "output_type": "execute_result"
    }
   ],
   "source": [
    "test_metrics_df"
   ]
  },
  {
   "cell_type": "code",
   "execution_count": 95,
   "metadata": {
    "collapsed": false
   },
   "outputs": [],
   "source": [
    "# test_metrics_df_final = test_metrics_df.drop(['abs01', 'abs09', 'jm01', 'jm05', 'd1000', 'd500'], axis=1)\n",
    "# test_metrics_df_final"
   ]
  },
  {
   "cell_type": "code",
   "execution_count": 96,
   "metadata": {
    "collapsed": false
   },
   "outputs": [],
   "source": [
    "def plot_ndcg_at_10_hp(columns, model_name):\n",
    "    ax = ndcg_at_10_hp[columns].plot(kind='bar',\n",
    "                                                ylim=(0,1), \n",
    "                                                figsize=(8,5),\n",
    "                                                title=\"NDCG@10 for \" + model_name + \" with varying parameters\");\n",
    "    \n",
    "    ax.set_xlabel(\"Hyper-parameter\")\n",
    "    ax.set_ylabel(\"NDCG@10\");"
   ]
  },
  {
   "cell_type": "code",
   "execution_count": 97,
   "metadata": {
    "collapsed": false
   },
   "outputs": [
    {
     "data": {
      "image/png": "[encoded data removed]",
      "text/plain": [
       "<matplotlib.figure.Figure at 0x7f377e72c240>"
      ]
     },
     "metadata": {},
     "output_type": "display_data"
    }
   ],
   "source": [
    "plot_ndcg_at_10_hp(['abs01', 'abs05', 'abs09'], \"Absolute discounting\")"
   ]
  },
  {
   "cell_type": "code",
   "execution_count": 98,
   "metadata": {
    "collapsed": false
   },
   "outputs": [
    {
     "data": {
      "image/png": "[encoded data removed]",
      "text/plain": [
       "<matplotlib.figure.Figure at 0x7f377e733748>"
      ]
     },
     "metadata": {},
     "output_type": "display_data"
    }
   ],
   "source": [
    "plot_ndcg_at_10_hp(['d500', 'd1000', 'd1500'], \"Dirichlet Prior\")"
   ]
  },
  {
   "cell_type": "code",
   "execution_count": 99,
   "metadata": {
    "collapsed": false
   },
   "outputs": [
    {
     "data": {
      "image/png": "[encoded data removed]",
      "text/plain": [
       "<matplotlib.figure.Figure at 0x7f377e723ac8>"
      ]
     },
     "metadata": {},
     "output_type": "display_data"
    }
   ],
   "source": [
    "plot_ndcg_at_10_hp(['jm01', 'jm05', 'jm09'], \"Jelinek-Mercer\")"
   ]
  },
  {
   "cell_type": "code",
   "execution_count": 100,
   "metadata": {
    "collapsed": false
   },
   "outputs": [
    {
     "data": {
      "image/png": "[encoded data removed]",
      "text/plain": [
       "<matplotlib.figure.Figure at 0x7f377e6c1fd0>"
      ]
     },
     "metadata": {},
     "output_type": "display_data"
    }
   ],
   "source": [
    "plot_ndcg_at_10_hp(['w2vavg_window5', 'w2vavg_window20'], \"Word2Vec\")"
   ]
  },
  {
   "cell_type": "code",
   "execution_count": 101,
   "metadata": {
    "collapsed": false
   },
   "outputs": [
    {
     "data": {
      "image/png": "[encoded data removed]",
      "text/plain": [
       "<matplotlib.figure.Figure at 0x7f377e676710>"
      ]
     },
     "metadata": {},
     "output_type": "display_data"
    }
   ],
   "source": [
    "plot_ndcg_at_10_hp(['lsi_topics20', 'lsi_topics100'], \"LSI\")"
   ]
  },
  {
   "cell_type": "markdown",
   "metadata": {},
   "source": [
    "### Visualization "
   ]
  },
  {
   "cell_type": "code",
   "execution_count": 102,
   "metadata": {
    "collapsed": true
   },
   "outputs": [],
   "source": [
    "import matplotlib.pyplot as plt\n",
    "\n",
    "plt.style.use('ggplot')"
   ]
  },
  {
   "cell_type": "code",
   "execution_count": 103,
   "metadata": {
    "collapsed": false
   },
   "outputs": [
    {
     "data": {
      "image/png": "[encoded data removed]",
      "text/plain": [
       "<matplotlib.figure.Figure at 0x7f377e6447b8>"
      ]
     },
     "metadata": {},
     "output_type": "display_data"
    }
   ],
   "source": [
    "# TODO: check the average for each of the hyper-parameters per retrival model\n",
    "title_ndcg_all = \"NDCG@10 for all retrieval models\"\n",
    "ax = test_metrics_df[test_metrics_df['score'] == 'ndcg_cut_10'][list(test_metrics_df.columns)[1:]].plot(kind='bar',\n",
    "                                                                                                   ylim=(0,1),\n",
    "                                                                                                   figsize=(8,5),\n",
    "                                                                                                   title=title_ndcg_all);\n",
    "\n",
    "ax.set_xlabel(\"Retrieval model\")\n",
    "ax.set_ylabel(\"NDCG@10\");"
   ]
  },
  {
   "cell_type": "code",
   "execution_count": 104,
   "metadata": {
    "collapsed": false
   },
   "outputs": [
    {
     "data": {
      "text/html": [
       "<div>\n",
       "<style scoped>\n",
       "    .dataframe tbody tr th:only-of-type {\n",
       "        vertical-align: middle;\n",
       "    }\n",
       "\n",
       "    .dataframe tbody tr th {\n",
       "        vertical-align: top;\n",
       "    }\n",
       "\n",
       "    .dataframe thead th {\n",
       "        text-align: right;\n",
       "    }\n",
       "</style>\n",
       "<table border=\"1\" class=\"dataframe\">\n",
       "  <thead>\n",
       "    <tr style=\"text-align: right;\">\n",
       "      <th></th>\n",
       "      <th>d1000</th>\n",
       "      <th>score</th>\n",
       "      <th>query_id</th>\n",
       "      <th>tfidf</th>\n",
       "      <th>abs09</th>\n",
       "      <th>d1500</th>\n",
       "      <th>bm25</th>\n",
       "      <th>abs01</th>\n",
       "      <th>abs05</th>\n",
       "      <th>d500</th>\n",
       "      <th>lsi</th>\n",
       "      <th>jm01</th>\n",
       "      <th>jm05</th>\n",
       "      <th>jm09</th>\n",
       "      <th>w2vavg</th>\n",
       "      <th>w2vavg_window20</th>\n",
       "      <th>lsi_topics100</th>\n",
       "    </tr>\n",
       "  </thead>\n",
       "  <tbody>\n",
       "    <tr>\n",
       "      <th>4</th>\n",
       "      <td>0.1357</td>\n",
       "      <td>ndcg_cut_10</td>\n",
       "      <td>196</td>\n",
       "      <td>0.469</td>\n",
       "      <td>0.0948</td>\n",
       "      <td>0.1357</td>\n",
       "      <td>0.4448</td>\n",
       "      <td>0.0948</td>\n",
       "      <td>0.0948</td>\n",
       "      <td>0.1357</td>\n",
       "      <td>0.0</td>\n",
       "      <td>0.359</td>\n",
       "      <td>0.359</td>\n",
       "      <td>0.359</td>\n",
       "      <td>0.0</td>\n",
       "      <td>0.0</td>\n",
       "      <td>0.0</td>\n",
       "    </tr>\n",
       "  </tbody>\n",
       "</table>\n",
       "</div>"
      ],
      "text/plain": [
       "    d1000        score query_id  tfidf   abs09   d1500    bm25   abs01  \\\n",
       "4  0.1357  ndcg_cut_10      196  0.469  0.0948  0.1357  0.4448  0.0948   \n",
       "\n",
       "    abs05    d500  lsi   jm01   jm05   jm09  w2vavg  w2vavg_window20  \\\n",
       "4  0.0948  0.1357  0.0  0.359  0.359  0.359     0.0              0.0   \n",
       "\n",
       "   lsi_topics100  \n",
       "4            0.0  "
      ]
     },
     "execution_count": 104,
     "metadata": {},
     "output_type": "execute_result"
    }
   ],
   "source": [
    "scores_test_df[scores_test_df['query_id'] == '196'].reset_index(drop=True)[4:5]"
   ]
  },
  {
   "cell_type": "code",
   "execution_count": 105,
   "metadata": {
    "collapsed": false
   },
   "outputs": [
    {
     "data": {
      "text/html": [
       "<div>\n",
       "<style scoped>\n",
       "    .dataframe tbody tr th:only-of-type {\n",
       "        vertical-align: middle;\n",
       "    }\n",
       "\n",
       "    .dataframe tbody tr th {\n",
       "        vertical-align: top;\n",
       "    }\n",
       "\n",
       "    .dataframe thead th {\n",
       "        text-align: right;\n",
       "    }\n",
       "</style>\n",
       "<table border=\"1\" class=\"dataframe\">\n",
       "  <thead>\n",
       "    <tr style=\"text-align: right;\">\n",
       "      <th></th>\n",
       "      <th>d1000</th>\n",
       "      <th>score</th>\n",
       "      <th>query_id</th>\n",
       "      <th>tfidf</th>\n",
       "      <th>abs09</th>\n",
       "      <th>d1500</th>\n",
       "      <th>bm25</th>\n",
       "      <th>abs01</th>\n",
       "      <th>abs05</th>\n",
       "      <th>d500</th>\n",
       "      <th>lsi</th>\n",
       "      <th>jm01</th>\n",
       "      <th>jm05</th>\n",
       "      <th>jm09</th>\n",
       "      <th>w2vavg</th>\n",
       "      <th>w2vavg_window20</th>\n",
       "      <th>lsi_topics100</th>\n",
       "    </tr>\n",
       "  </thead>\n",
       "  <tbody>\n",
       "    <tr>\n",
       "      <th>4</th>\n",
       "      <td>0.1584</td>\n",
       "      <td>ndcg_cut_10</td>\n",
       "      <td>197</td>\n",
       "      <td>0.2809</td>\n",
       "      <td>0.0734</td>\n",
       "      <td>0.1488</td>\n",
       "      <td>0.4698</td>\n",
       "      <td>0.0734</td>\n",
       "      <td>0.0734</td>\n",
       "      <td>0.1584</td>\n",
       "      <td>0.0</td>\n",
       "      <td>0.3052</td>\n",
       "      <td>0.3149</td>\n",
       "      <td>0.3149</td>\n",
       "      <td>0.0</td>\n",
       "      <td>0.11</td>\n",
       "      <td>0.0</td>\n",
       "    </tr>\n",
       "  </tbody>\n",
       "</table>\n",
       "</div>"
      ],
      "text/plain": [
       "    d1000        score query_id   tfidf   abs09   d1500    bm25   abs01  \\\n",
       "4  0.1584  ndcg_cut_10      197  0.2809  0.0734  0.1488  0.4698  0.0734   \n",
       "\n",
       "    abs05    d500  lsi    jm01    jm05    jm09  w2vavg  w2vavg_window20  \\\n",
       "4  0.0734  0.1584  0.0  0.3052  0.3149  0.3149     0.0             0.11   \n",
       "\n",
       "   lsi_topics100  \n",
       "4            0.0  "
      ]
     },
     "execution_count": 105,
     "metadata": {},
     "output_type": "execute_result"
    }
   ],
   "source": [
    "scores_test_df[scores_test_df['query_id'] == '197'].reset_index(drop=True)[4:5]"
   ]
  },
  {
   "cell_type": "markdown",
   "metadata": {
    "deletable": true,
    "editable": true
   },
   "source": [
    "### Task 2: Latent Semantic Models (LSMs) [20 points] ###\n",
    "\n",
    "In this task you will experiment with applying distributional semantics methods ([LSI](http://lsa3.colorado.edu/papers/JASIS.lsi.90.pdf) **[5 points]** and [LDA](https://www.cs.princeton.edu/~blei/papers/BleiNgJordan2003.pdf) **[5 points]**) for retrieval.\n",
    "\n",
    "You do not need to implement LSI or LDA on your own. Instead, you can use [gensim](http://radimrehurek.com/gensim/index.html). An example on how to integrate Pyndri with Gensim for word2vec can be found [here](https://github.com/cvangysel/pyndri/blob/master/examples/word2vec.py). For the remaining latent vector space models, you will need to implement connector classes (such as `IndriSentences`) by yourself.\n",
    "\n",
    "In order to use a latent semantic model for retrieval, you need to:\n",
    "   * build a representation of the query **q**,\n",
    "   * build a representation of the document **d**,\n",
    "   * calculate the similarity between **q** and **d** (e.g., cosine similarity, KL-divergence).\n",
    "     \n",
    "The exact implementation here depends on the latent semantic model you are using. \n",
    "   \n",
    "Each of these LSMs come with various hyperparameters to tune. Make a choice on the parameters, and explicitly mention the reasons that led you to these decisions. You can use the validation set to optimize hyper parameters you see fit; motivate your decisions. In addition, mention clearly how the query/document representations were constructed for each LSM and explain your choices.\n",
    "\n",
    "In this experiment, you will first obtain an initial top-1000 ranking for each query using TF-IDF in **Task 1**, and then re-rank the documents using the LSMs. Use TREC Eval to obtain the results and report on `NDCG@10`, Mean Average Precision (`MAP@1000`), `Precision@5` and `Recall@1000`.\n",
    "\n",
    "Perform significance testing **[5 points]** (similar as in Task 1) in the class of semantic matching methods.\n",
    "\n",
    "Perform analysis **[5 points]**"
   ]
  },
  {
   "cell_type": "code",
   "execution_count": 106,
   "metadata": {
    "collapsed": true
   },
   "outputs": [],
   "source": [
    "import gensim\n",
    "import pyndri.compat\n",
    "from gensim import corpora, models, similarities"
   ]
  },
  {
   "cell_type": "code",
   "execution_count": 107,
   "metadata": {
    "collapsed": false
   },
   "outputs": [],
   "source": [
    "class IndriCorpus(gensim.interfaces.CorpusABC):\n",
    "\n",
    "    def __init__(self, index, dictionary, max_documents=None):\n",
    "        assert isinstance(index, pyndri.Index)\n",
    "\n",
    "        self.index = index\n",
    "        self.dictionary = dictionary\n",
    "\n",
    "        self.max_documents = max_documents\n",
    "\n",
    "    def _maximum_document(self):\n",
    "        if self.max_documents is None:\n",
    "            return self.index.maximum_document()\n",
    "        else:\n",
    "            return min(\n",
    "                self.max_documents + self.index.document_base(),\n",
    "                self.index.maximum_document())\n",
    "\n",
    "    def __iter__(self):\n",
    "        for int_doc_id in range(self.index.document_base(),\n",
    "                                self._maximum_document()):\n",
    "            ext_doc_id, tokens = self.index.document(int_doc_id)\n",
    "\n",
    "            # Compared to IndriSentences, the only difference is the\n",
    "            # switching of tuple(self.dictionary[token_id] ...) by\n",
    "            # sorted(collections.Counter(token_id ...).items()).\n",
    "            yield sorted(collections.Counter(\n",
    "                token_id\n",
    "                for token_id in tokens\n",
    "                if token_id > 0 and token_id in self.dictionary).items())"
   ]
  },
  {
   "cell_type": "code",
   "execution_count": 108,
   "metadata": {
    "collapsed": false
   },
   "outputs": [],
   "source": [
    "# docs 1-1000\n",
    "# index_models = [word_id for word_id in index.document(int(int_document_id))[1] if word_id > 0]\n",
    "index_models = [index.document(int_doc) for int_doc in range(index.document_base(), index.document_base()+1000)]\n",
    "# dictionary_models = pyndri.extract_dictionary(index_models)\n",
    "# corpus_models = IndriCorpus(index_models, dictionary_models)"
   ]
  },
  {
   "cell_type": "code",
   "execution_count": 109,
   "metadata": {
    "collapsed": true
   },
   "outputs": [],
   "source": [
    "corpus = IndriCorpus(index, dictionary)"
   ]
  },
  {
   "cell_type": "markdown",
   "metadata": {},
   "source": [
    "## LSI model"
   ]
  },
  {
   "cell_type": "code",
   "execution_count": 110,
   "metadata": {
    "collapsed": false
   },
   "outputs": [],
   "source": [
    "lsi_model = models.LsiModel(corpus=corpus, id2word=id2token, num_topics=20)\n",
    "lsi_model.save('/tmp/model.lsi')"
   ]
  },
  {
   "cell_type": "code",
   "execution_count": 111,
   "metadata": {
    "collapsed": true
   },
   "outputs": [],
   "source": [
    "lsi_model = models.LsiModel.load('/tmp/model.lsi')"
   ]
  },
  {
   "cell_type": "markdown",
   "metadata": {},
   "source": [
    "## LDA model"
   ]
  },
  {
   "cell_type": "code",
   "execution_count": 92,
   "metadata": {
    "collapsed": false
   },
   "outputs": [],
   "source": [
    "corpora.MmCorpus.serialize('corpus.mm', corpus)"
   ]
  },
  {
   "cell_type": "code",
   "execution_count": 93,
   "metadata": {
    "collapsed": false
   },
   "outputs": [],
   "source": [
    "mm = corpora.MmCorpus('corpus.mm')"
   ]
  },
  {
   "cell_type": "code",
   "execution_count": 112,
   "metadata": {
    "collapsed": false
   },
   "outputs": [],
   "source": [
    "lda_model = gensim.models.ldamodel.LdaModel(corpus=corpus_models, id2word=id2token, num_topics=20, update_every=0, passes=20)\n",
    "lda_model.save('/tmp/model.lda')"
   ]
  },
  {
   "cell_type": "code",
   "execution_count": 113,
   "metadata": {
    "collapsed": false
   },
   "outputs": [],
   "source": [
    "lda_model = models.LsiModel.load('/tmp/model.lda')"
   ]
  },
  {
   "cell_type": "code",
   "execution_count": null,
   "metadata": {
    "collapsed": false
   },
   "outputs": [],
   "source": [
    "\"\"\"\n",
    "texts = []\n",
    "for i in range (index.document_base(),index.maximum_document()):\n",
    "    # texts[i-1] = ([id2token[word_id] for word_id in index.document(i)[1] if word_id > 0])\n",
    "    texts.append([id2token[word_id] for word_id in index.document(i)[1] if word_id > 0])\n",
    "\n",
    "len(texts)\n",
    "\n",
    "# dictionary_corpus = corpora.Dictionary(texts)\n",
    "# type(dictionary_corpus)\n",
    "\n",
    "# get doc bow out of tokenized docs\n",
    "# corpus_docs = [dictionary_corpus.doc2bow(text) for text in texts]\n",
    "\n",
    "\"\"\"\n"
   ]
  },
  {
   "cell_type": "markdown",
   "metadata": {},
   "source": [
    "#### Example LSI"
   ]
  },
  {
   "cell_type": "code",
   "execution_count": 114,
   "metadata": {
    "collapsed": false
   },
   "outputs": [
    {
     "data": {
      "text/plain": [
       "[63065, 3063, 68, 1178]"
      ]
     },
     "execution_count": 114,
     "metadata": {},
     "output_type": "execute_result"
    }
   ],
   "source": [
    "# query\n",
    "tokenized_queries['100']"
   ]
  },
  {
   "cell_type": "code",
   "execution_count": 115,
   "metadata": {
    "collapsed": false
   },
   "outputs": [
    {
     "data": {
      "text/plain": [
       "['controlling', 'transfer', 'high', 'technology']"
      ]
     },
     "execution_count": 115,
     "metadata": {},
     "output_type": "execute_result"
    }
   ],
   "source": [
    "query_tokens = [id2token[word_id] for word_id in tokenized_queries['100'] if word_id > 0]\n",
    "query_tokens"
   ]
  },
  {
   "cell_type": "code",
   "execution_count": 116,
   "metadata": {
    "collapsed": false
   },
   "outputs": [
    {
     "data": {
      "text/plain": [
       "[(68, 1), (1178, 1), (3063, 1), (63065, 1)]"
      ]
     },
     "execution_count": 116,
     "metadata": {},
     "output_type": "execute_result"
    }
   ],
   "source": [
    "query_bow = dictionary.doc2bow(query_tokens)\n",
    "query_bow"
   ]
  },
  {
   "cell_type": "code",
   "execution_count": 118,
   "metadata": {
    "collapsed": false
   },
   "outputs": [],
   "source": [
    "from scipy import spatial\n",
    "\n",
    "def vec_query_lsm(query_id, model):\n",
    "    query_tokens = [id2token[word_id] for word_id in tokenized_queries[str(query_id)] if word_id > 0]\n",
    "    query_bow = dictionary.doc2bow(query_tokens)\n",
    "    # infer topic distributions on new, unseen documents\n",
    "    query_vec = [x[1] for x in model[query_bow]]\n",
    "    return query_vec\n",
    "\n",
    "def vec_doc_lsm(int_document_id, model):\n",
    "    doc_tokens = [word_id for word_id in index.document(int(int_document_id))[1] if word_id > 0]\n",
    "    # infer topic distributions on new, unseen documents\n",
    "    doc_bow = dictionary.doc2bow(doc_tokens)\n",
    "    doc_vec = [x[1] for x in model[doc_bow]]\n",
    "    return doc_vec\n",
    "\n",
    "def lsi(query_id, int_document_id):\n",
    "    result = 1 - spatial.distance.cosine(vec_query_lsm(query_id, lsi_model), vec_doc_lsm(int_document_id, lsi_model))\n",
    "    return result\n",
    "\n",
    "def lda(query_id, int_document_id):\n",
    "    result = 1 - spatial.distance.cosine(vec_query_lsm(query_id, lda_model), vec_doc_lsm(int_document_id, lda_model))\n",
    "    return result"
   ]
  },
  {
   "cell_type": "code",
   "execution_count": 120,
   "metadata": {
    "collapsed": false
   },
   "outputs": [],
   "source": [
    "# lsi('100', 1)"
   ]
  },
  {
   "cell_type": "code",
   "execution_count": 121,
   "metadata": {
    "collapsed": true
   },
   "outputs": [],
   "source": [
    "# lda('100', 1)"
   ]
  },
  {
   "cell_type": "code",
   "execution_count": 123,
   "metadata": {
    "collapsed": false
   },
   "outputs": [],
   "source": [
    "# lsi.print_topics(num_topics=5, num_words=5)"
   ]
  },
  {
   "cell_type": "code",
   "execution_count": 124,
   "metadata": {
    "collapsed": true
   },
   "outputs": [],
   "source": [
    "# Text Analytics - Latent Semantic Analysis - https://www.youtube.com/watch?v=BJ0MnawUpaU\n",
    "# https://radimrehurek.com/gensim/models/lsimodel.html\n",
    "# https://radimrehurek.com/gensim/wiki.html\n",
    "# Latent Semantic Analysis in Python - http://blog.josephwilk.net/projects/latent-semantic-analysis-in-python.html\n",
    "# Building a Vector Space Search Engine in Python - http://blog.josephwilk.net/projects/building-a-vector-space-search-engine-in-python.html\n",
    "# https://github.com/cvangysel/pyndri/blob/master/examples/word2vec.py\n",
    "# integrate gensim and pyndri\n",
    "# https://radimrehurek.com/gensim/tut2.html"
   ]
  },
  {
   "cell_type": "markdown",
   "metadata": {
    "deletable": true,
    "editable": true
   },
   "source": [
    "### Task 3:  Word embeddings for ranking [10 points] ###\n",
    "\n",
    "First create word embeddings on the corpus we provided using [word2vec](http://arxiv.org/abs/1411.2738) -- [gensim implementation](https://radimrehurek.com/gensim/models/word2vec.html). You should extract the indexed documents using pyndri and provide them to gensim for training a model (see example [here](https://github.com/nickvosk/pyndri/blob/master/examples/word2vec.py)).\n",
    "\n",
    "Try one of the following (increasingly complex) methods for building query and document representations:\n",
    "   * Average or sum the word vectors.\n",
    "   * Cluster words in the document using [k-means](http://scikit-learn.org/stable/modules/generated/sklearn.cluster.KMeans.html) and use the centroid of the most important cluster. Experiment with different values of K for k-means.\n",
    "   * Using the [bag-of-word-embeddings representation](https://ciir-publications.cs.umass.edu/pub/web/getpdf.php?id=1248).\n",
    "   \n",
    "Note that since we provide the implementation for training word2vec, you will be graded based on your creativity on combining word embeddings for building query and document representations.\n",
    "\n",
    "Note: If you want to experiment with pre-trained word embeddings on a different corpus, you can use the word embeddings we provide alongside the assignment (./data/reduced_vectors_google.txt). These are the [google word2vec word embeddings](https://code.google.com/archive/p/word2vec/), reduced to only the words that appear in the document collection we use in this assignment."
   ]
  },
  {
   "cell_type": "code",
   "execution_count": 127,
   "metadata": {
    "collapsed": false
   },
   "outputs": [],
   "source": [
    "logging.info('Initializing word2vec.')\n",
    "\n",
    "word2vec_init = gensim.models.Word2Vec(\n",
    "    size=20,  # Embedding size\n",
    "    window=5,  # One-sided window size\n",
    "    sg=True,  # Skip-gram.\n",
    "    min_count=5,  # Minimum word frequency.\n",
    "    sample=1e-3,  # Sub-sample threshold.\n",
    "    hs=False,  # Hierarchical softmax.\n",
    "    negative=10,  # Number of negative examples.\n",
    "    iter=1,  # Number of iterations.\n",
    "    workers=8,  # Number of workers.\n",
    ")\n",
    "with pyndri.open('index/') as index:\n",
    "    logging.info('Loading vocabulary.')\n",
    "    dictionary = pyndri.extract_dictionary(index)\n",
    "    sentences = pyndri.compat.IndriSentences(index, dictionary)\n",
    "\n",
    "    logging.info('Constructing word2vec vocabulary.')\n",
    "\n",
    "    # Build vocab.\n",
    "    word2vec_init.build_vocab(sentences, trim_rule=None)\n",
    "\n",
    "    model = word2vec_init\n",
    "    \n",
    "    model.train(sentences,total_examples=model.corpus_count, epochs=2) \n",
    "\n",
    "    model.save('model_20')\n",
    "\n",
    "logging.info('Trained models: %s', models)"
   ]
  },
  {
   "cell_type": "code",
   "execution_count": 128,
   "metadata": {
    "collapsed": true,
    "deletable": true,
    "editable": true
   },
   "outputs": [],
   "source": [
    "w2v_model = gensim.models.Word2Vec.load('./word2vec_model/model_20')"
   ]
  },
  {
   "cell_type": "code",
   "execution_count": 129,
   "metadata": {
    "collapsed": true
   },
   "outputs": [],
   "source": [
    "def vec_query(query_id):\n",
    "    query_vec = []\n",
    "    for query_term_id in tokenized_queries[query_id]:\n",
    "        term = id2token[query_term_id]\n",
    "        try:\n",
    "            vec = w2v_model[str(term)]\n",
    "            query_vec.append(vec)\n",
    "        except Exception:\n",
    "            pass\n",
    "\n",
    "    query_avg = np.mean(np.array(query_vec), axis = 0)\n",
    "    \n",
    "    return (query_avg)\n",
    "\n",
    "def vec_doc(doc_id):\n",
    "    doc_vec = []\n",
    "    tokens = [id2token[word_id] for word_id in index.document(int(doc_id))[1] if word_id > 0]\n",
    "    for term in tokens:\n",
    "        try:\n",
    "            vecs = w2v_model[str(term)]\n",
    "            doc_vec.append(vecs)\n",
    "        except Exception:\n",
    "            pass\n",
    "\n",
    "    doc_avg = np.mean(np.array(doc_vec), axis = 0)\n",
    "    \n",
    "    return (doc_avg)\n",
    "\n",
    "\n",
    "def word2vec_similarity(query_id, doc_id, mode):\n",
    "    if mode=='avg':\n",
    "        result = 1 - spatial.distance.cosine(vec_query(query_id), vec_doc(doc_id))\n",
    "        return result"
   ]
  },
  {
   "cell_type": "markdown",
   "metadata": {
    "deletable": true,
    "editable": true
   },
   "source": [
    "### Task 4: Learning to rank (LTR) [10 points] ###\n",
    "\n",
    "In this task you will get an introduction into learning to rank for information retrieval, in particular pointwise learning to rank.\n",
    "\n",
    "You will experiment with a pointwise learning to rank method, logistic regression, implemented in [scikit-learn](http://scikit-learn.org/stable/modules/generated/sklearn.linear_model.LogisticRegression.html).\n",
    "Train your LTR model using 10-fold cross validation on the test set.\n",
    "\n",
    "You can explore different ways for devising features for the model. Obviously, you can use the retrieval methods you implemented in Task 1 and Task 2 as features. Think about other features you can use (e.g. query/document length). \n",
    "One idea is to also explore external sources such as Wikipedia entities (?). Creativity on devising new features and providing motivation for them will be taken into account when grading.\n",
    "\n",
    "For every query, first create a document candidate set using the top-1000 documents using TF-IDF, and subsequently compute features given a query and a document. Note that the feature values of different retrieval methods are likely to be distributed differently."
   ]
  },
  {
   "cell_type": "markdown",
   "metadata": {
    "collapsed": false,
    "deletable": true,
    "editable": true
   },
   "source": [
    "how to get top 1000 docs per query?\n",
    "('100, 1)\n",
    "150.000 unique combinations\n",
    "\n",
    "1. get unique combinations in a tuple (query-doc pair)\n",
    "2. extract features from the scores_tuple\n",
    "3. extract the y values?"
   ]
  },
  {
   "cell_type": "code",
   "execution_count": 132,
   "metadata": {
    "collapsed": false
   },
   "outputs": [
    {
     "data": {
      "text/html": [
       "<div>\n",
       "<style scoped>\n",
       "    .dataframe tbody tr th:only-of-type {\n",
       "        vertical-align: middle;\n",
       "    }\n",
       "\n",
       "    .dataframe tbody tr th {\n",
       "        vertical-align: top;\n",
       "    }\n",
       "\n",
       "    .dataframe thead th {\n",
       "        text-align: right;\n",
       "    }\n",
       "</style>\n",
       "<table border=\"1\" class=\"dataframe\">\n",
       "  <thead>\n",
       "    <tr style=\"text-align: right;\">\n",
       "      <th></th>\n",
       "      <th>ext_id</th>\n",
       "      <th>doc_id</th>\n",
       "    </tr>\n",
       "  </thead>\n",
       "  <tbody>\n",
       "    <tr>\n",
       "      <th>0</th>\n",
       "      <td>AP890613-0142</td>\n",
       "      <td>5418</td>\n",
       "    </tr>\n",
       "    <tr>\n",
       "      <th>1</th>\n",
       "      <td>AP890109-0145</td>\n",
       "      <td>75567</td>\n",
       "    </tr>\n",
       "    <tr>\n",
       "      <th>2</th>\n",
       "      <td>AP890711-0026</td>\n",
       "      <td>66602</td>\n",
       "    </tr>\n",
       "    <tr>\n",
       "      <th>3</th>\n",
       "      <td>AP891210-0079</td>\n",
       "      <td>57384</td>\n",
       "    </tr>\n",
       "    <tr>\n",
       "      <th>4</th>\n",
       "      <td>AP880711-0188</td>\n",
       "      <td>153749</td>\n",
       "    </tr>\n",
       "  </tbody>\n",
       "</table>\n",
       "</div>"
      ],
      "text/plain": [
       "          ext_id  doc_id\n",
       "0  AP890613-0142    5418\n",
       "1  AP890109-0145   75567\n",
       "2  AP890711-0026   66602\n",
       "3  AP891210-0079   57384\n",
       "4  AP880711-0188  153749"
      ]
     },
     "execution_count": 132,
     "metadata": {},
     "output_type": "execute_result"
    }
   ],
   "source": [
    "ext_id_mapping = {}\n",
    "\n",
    "\n",
    "for int_doc_id in range(index.document_base(), index.maximum_document()):\n",
    "    ext_doc_id, doc_token_ids = index.document(int_doc_id)\n",
    "    ext_id_mapping[ext_doc_id] = int_doc_id\n",
    "    \n",
    "ext_id_mapping_df = pd.DataFrame.from_dict(list(ext_id_mapping.items()))\n",
    "ext_id_mapping_df.columns = ['ext_id', 'doc_id']\n",
    "ext_id_mapping_df.head()"
   ]
  },
  {
   "cell_type": "code",
   "execution_count": 133,
   "metadata": {
    "collapsed": false
   },
   "outputs": [
    {
     "data": {
      "text/html": [
       "<div>\n",
       "<style scoped>\n",
       "    .dataframe tbody tr th:only-of-type {\n",
       "        vertical-align: middle;\n",
       "    }\n",
       "\n",
       "    .dataframe tbody tr th {\n",
       "        vertical-align: top;\n",
       "    }\n",
       "\n",
       "    .dataframe thead th {\n",
       "        text-align: right;\n",
       "    }\n",
       "</style>\n",
       "<table border=\"1\" class=\"dataframe\">\n",
       "  <thead>\n",
       "    <tr style=\"text-align: right;\">\n",
       "      <th></th>\n",
       "      <th>ext_doc_id</th>\n",
       "      <th>doc_id</th>\n",
       "    </tr>\n",
       "  </thead>\n",
       "  <tbody>\n",
       "    <tr>\n",
       "      <th>0</th>\n",
       "      <td>AP890613-0142</td>\n",
       "      <td>5418</td>\n",
       "    </tr>\n",
       "    <tr>\n",
       "      <th>1</th>\n",
       "      <td>AP890109-0145</td>\n",
       "      <td>75567</td>\n",
       "    </tr>\n",
       "    <tr>\n",
       "      <th>2</th>\n",
       "      <td>AP890711-0026</td>\n",
       "      <td>66602</td>\n",
       "    </tr>\n",
       "    <tr>\n",
       "      <th>3</th>\n",
       "      <td>AP891210-0079</td>\n",
       "      <td>57384</td>\n",
       "    </tr>\n",
       "    <tr>\n",
       "      <th>4</th>\n",
       "      <td>AP880711-0188</td>\n",
       "      <td>153749</td>\n",
       "    </tr>\n",
       "  </tbody>\n",
       "</table>\n",
       "</div>"
      ],
      "text/plain": [
       "      ext_doc_id  doc_id\n",
       "0  AP890613-0142    5418\n",
       "1  AP890109-0145   75567\n",
       "2  AP890711-0026   66602\n",
       "3  AP891210-0079   57384\n",
       "4  AP880711-0188  153749"
      ]
     },
     "execution_count": 133,
     "metadata": {},
     "output_type": "execute_result"
    }
   ],
   "source": [
    "import pandas as pd\n",
    "column_names_w2v = [\"q_id\", \"Q0\", \"ext_doc_id\", \"no\", \"w2vavg\", \"label\"]\n",
    "column_names_lsi = [\"q_id\", \"Q0\", \"ext_doc_id\", \"no\", \"lsi\", \"label\"]\n",
    "ext_id_mapping_df = pd.DataFrame(list(ext_id_mapping.items()))\n",
    "ext_id_mapping_df.columns = ['ext_doc_id', 'doc_id']\n",
    "ext_id_mapping_df.head()"
   ]
  },
  {
   "cell_type": "code",
   "execution_count": 134,
   "metadata": {
    "collapsed": false
   },
   "outputs": [
    {
     "data": {
      "text/html": [
       "<div>\n",
       "<style scoped>\n",
       "    .dataframe tbody tr th:only-of-type {\n",
       "        vertical-align: middle;\n",
       "    }\n",
       "\n",
       "    .dataframe tbody tr th {\n",
       "        vertical-align: top;\n",
       "    }\n",
       "\n",
       "    .dataframe thead th {\n",
       "        text-align: right;\n",
       "    }\n",
       "</style>\n",
       "<table border=\"1\" class=\"dataframe\">\n",
       "  <thead>\n",
       "    <tr style=\"text-align: right;\">\n",
       "      <th></th>\n",
       "      <th>q_id</th>\n",
       "      <th>w2vavg</th>\n",
       "      <th>doc_id</th>\n",
       "    </tr>\n",
       "  </thead>\n",
       "  <tbody>\n",
       "    <tr>\n",
       "      <th>0</th>\n",
       "      <td>135</td>\n",
       "      <td>0.961937</td>\n",
       "      <td>157251</td>\n",
       "    </tr>\n",
       "    <tr>\n",
       "      <th>1</th>\n",
       "      <td>96</td>\n",
       "      <td>0.906553</td>\n",
       "      <td>157251</td>\n",
       "    </tr>\n",
       "    <tr>\n",
       "      <th>2</th>\n",
       "      <td>104</td>\n",
       "      <td>0.803652</td>\n",
       "      <td>157251</td>\n",
       "    </tr>\n",
       "    <tr>\n",
       "      <th>3</th>\n",
       "      <td>196</td>\n",
       "      <td>0.937796</td>\n",
       "      <td>157251</td>\n",
       "    </tr>\n",
       "    <tr>\n",
       "      <th>4</th>\n",
       "      <td>172</td>\n",
       "      <td>0.925975</td>\n",
       "      <td>157251</td>\n",
       "    </tr>\n",
       "  </tbody>\n",
       "</table>\n",
       "</div>"
      ],
      "text/plain": [
       "   q_id    w2vavg  doc_id\n",
       "0   135  0.961937  157251\n",
       "1    96  0.906553  157251\n",
       "2   104  0.803652  157251\n",
       "3   196  0.937796  157251\n",
       "4   172  0.925975  157251"
      ]
     },
     "execution_count": 134,
     "metadata": {},
     "output_type": "execute_result"
    }
   ],
   "source": [
    "w2v_df = pd.read_csv(\"./run_files/w2vavg.run\", sep=\" \", header = None, names = column_names_w2v)\n",
    "w2v_df.drop(['Q0'], axis = 1, inplace = True)\n",
    "w2v_df.drop(['no'], axis = 1, inplace = True)\n",
    "w2v_df.drop(['label'], axis = 1, inplace = True)\n",
    "w2v_df = pd.merge(w2v_df, ext_id_mapping_df, on='ext_doc_id', how='inner')\n",
    "w2v_df.drop(['ext_doc_id'], axis = 1, inplace = True)\n",
    "w2v_df.head()"
   ]
  },
  {
   "cell_type": "code",
   "execution_count": 135,
   "metadata": {
    "collapsed": false
   },
   "outputs": [
    {
     "data": {
      "text/plain": [
       "68056"
      ]
     },
     "execution_count": 135,
     "metadata": {},
     "output_type": "execute_result"
    }
   ],
   "source": [
    "len(w2v_df['doc_id'].unique())"
   ]
  },
  {
   "cell_type": "code",
   "execution_count": 136,
   "metadata": {
    "collapsed": false
   },
   "outputs": [
    {
     "data": {
      "text/plain": [
       "150"
      ]
     },
     "execution_count": 136,
     "metadata": {},
     "output_type": "execute_result"
    }
   ],
   "source": [
    "len(w2v_df['q_id'].unique())"
   ]
  },
  {
   "cell_type": "code",
   "execution_count": 137,
   "metadata": {
    "collapsed": false
   },
   "outputs": [
    {
     "data": {
      "text/html": [
       "<div>\n",
       "<style scoped>\n",
       "    .dataframe tbody tr th:only-of-type {\n",
       "        vertical-align: middle;\n",
       "    }\n",
       "\n",
       "    .dataframe tbody tr th {\n",
       "        vertical-align: top;\n",
       "    }\n",
       "\n",
       "    .dataframe thead th {\n",
       "        text-align: right;\n",
       "    }\n",
       "</style>\n",
       "<table border=\"1\" class=\"dataframe\">\n",
       "  <thead>\n",
       "    <tr style=\"text-align: right;\">\n",
       "      <th></th>\n",
       "      <th>q_id</th>\n",
       "      <th>lsi</th>\n",
       "      <th>doc_id</th>\n",
       "    </tr>\n",
       "  </thead>\n",
       "  <tbody>\n",
       "    <tr>\n",
       "      <th>0</th>\n",
       "      <td>135</td>\n",
       "      <td>0.955262</td>\n",
       "      <td>43209</td>\n",
       "    </tr>\n",
       "    <tr>\n",
       "      <th>1</th>\n",
       "      <td>98</td>\n",
       "      <td>0.672555</td>\n",
       "      <td>43209</td>\n",
       "    </tr>\n",
       "    <tr>\n",
       "      <th>2</th>\n",
       "      <td>109</td>\n",
       "      <td>0.776466</td>\n",
       "      <td>43209</td>\n",
       "    </tr>\n",
       "    <tr>\n",
       "      <th>3</th>\n",
       "      <td>135</td>\n",
       "      <td>0.954215</td>\n",
       "      <td>60543</td>\n",
       "    </tr>\n",
       "    <tr>\n",
       "      <th>4</th>\n",
       "      <td>153</td>\n",
       "      <td>0.861102</td>\n",
       "      <td>60543</td>\n",
       "    </tr>\n",
       "  </tbody>\n",
       "</table>\n",
       "</div>"
      ],
      "text/plain": [
       "   q_id       lsi  doc_id\n",
       "0   135  0.955262   43209\n",
       "1    98  0.672555   43209\n",
       "2   109  0.776466   43209\n",
       "3   135  0.954215   60543\n",
       "4   153  0.861102   60543"
      ]
     },
     "execution_count": 137,
     "metadata": {},
     "output_type": "execute_result"
    }
   ],
   "source": [
    "lsi_df = pd.read_csv(\"./run_files/lsi.run\", sep=\" \", header = None, names = column_names_lsi)\n",
    "lsi_df.drop(['Q0'], axis = 1, inplace = True)\n",
    "lsi_df.drop(['no'], axis = 1, inplace = True)\n",
    "lsi_df.drop(['label'], axis = 1, inplace = True)\n",
    "lsi_df = pd.merge(lsi_df, ext_id_mapping_df, on='ext_doc_id', how='inner')\n",
    "lsi_df.drop(['ext_doc_id'], axis = 1, inplace = True)\n",
    "lsi_df.head()"
   ]
  },
  {
   "cell_type": "code",
   "execution_count": 140,
   "metadata": {
    "collapsed": false
   },
   "outputs": [
    {
     "data": {
      "text/plain": [
       "145681"
      ]
     },
     "execution_count": 140,
     "metadata": {},
     "output_type": "execute_result"
    }
   ],
   "source": [
    "w2v_lsi_df = pd.merge(lsi_df, w2v_df, on=('q_id', 'doc_id'), how='left')\n",
    "len(w2v_lsi_df)"
   ]
  },
  {
   "cell_type": "markdown",
   "metadata": {},
   "source": [
    "### Features"
   ]
  },
  {
   "cell_type": "code",
   "execution_count": 142,
   "metadata": {
    "collapsed": false,
    "scrolled": true
   },
   "outputs": [],
   "source": [
    "X = pd.DataFrame()\n",
    "for feature in [str(key) for key in scores_dict.keys()]:\n",
    "    X[feature] = scores_dict[feature]\n",
    "\n",
    "X['query_id'] = [q_doc_p[0] for q_doc_p in query_doc_pairs]\n",
    "X['doc_id'] = [q_doc_p[1] for q_doc_p in query_doc_pairs]\n",
    "query_doc_pairs = list(scores_tuple.keys())\n",
    "\n",
    "X.head()"
   ]
  },
  {
   "cell_type": "markdown",
   "metadata": {},
   "source": [
    "### Validation target values"
   ]
  },
  {
   "cell_type": "code",
   "execution_count": 143,
   "metadata": {
    "collapsed": false
   },
   "outputs": [],
   "source": [
    "import pandas as pd\n",
    "import csv\n",
    "with open('ap_88_89/qrel_validation', 'r') as inpt:\n",
    "    reader = list(csv.reader(inpt,delimiter=' '))\n",
    "    # print (reader)\n",
    "    \n",
    "y_val = pd.DataFrame(reader)\n",
    "y_val.columns = ['query_id', '0', 'ext_id', 'rel']\n",
    "y_val = y_val.merge(ext_id_mapping_df)\n",
    "y_val.drop(columns=['0', 'ext_id'], inplace=True)\n",
    "y_val.head()"
   ]
  },
  {
   "cell_type": "markdown",
   "metadata": {},
   "source": [
    "### Test target values"
   ]
  },
  {
   "cell_type": "code",
   "execution_count": 144,
   "metadata": {
    "collapsed": false
   },
   "outputs": [],
   "source": [
    "with open('ap_88_89/qrel_test', 'r') as inpt:\n",
    "    reader = list(csv.reader(inpt,delimiter=' '))\n",
    "    # print (reader)\n",
    "    \n",
    "y_test = pd.DataFrame(reader)\n",
    "y_test.columns = ['query_id', '0', 'ext_id', 'rel']\n",
    "y_test = y_test.merge(ext_id_mapping_df)\n",
    "y_test.drop(columns=['0', 'ext_id'], inplace=True)\n",
    "y_test.head()"
   ]
  },
  {
   "cell_type": "code",
   "execution_count": 145,
   "metadata": {
    "collapsed": true
   },
   "outputs": [],
   "source": [
    "# http://nbviewer.jupyter.org/gist/justmarkham/6d5c061ca5aee67c4316471f8c2ae976"
   ]
  },
  {
   "cell_type": "code",
   "execution_count": 146,
   "metadata": {
    "collapsed": false
   },
   "outputs": [],
   "source": [
    "X_updated = pd.merge(X, y_test, left_on=['doc_id', 'query_id'], right_on=['doc_id', 'query_id'], how='left')\n",
    "X_updated['rel'].value_counts()"
   ]
  },
  {
   "cell_type": "code",
   "execution_count": 148,
   "metadata": {
    "collapsed": false
   },
   "outputs": [],
   "source": [
    "X_updated['rel'].value_counts()[1] / (X_updated['rel'].value_counts()[1] + X_updated['rel'].value_counts()[0])\n",
    "X_updated.dropna(inplace=True)"
   ]
  },
  {
   "cell_type": "code",
   "execution_count": 149,
   "metadata": {
    "collapsed": false
   },
   "outputs": [],
   "source": [
    "X_updated['rel'].value_counts()[1] / (X_updated['rel'].value_counts()[1] + X_updated['rel'].value_counts()[0])"
   ]
  },
  {
   "cell_type": "code",
   "execution_count": 150,
   "metadata": {
    "collapsed": false
   },
   "outputs": [],
   "source": [
    "X_updated.reset_index(inplace=True, drop=True)\n",
    "X_updated['rel'].unique()\n",
    "X_updated.drop(['query_id', 'doc_id', 'abs_discounting05', 'abs_discounting09', 'dirichlet1000', 'dirichlet1500'], inplace=True, axis=1)"
   ]
  },
  {
   "cell_type": "code",
   "execution_count": 151,
   "metadata": {
    "collapsed": false
   },
   "outputs": [],
   "source": [
    "X_updated.head()"
   ]
  },
  {
   "cell_type": "code",
   "execution_count": 152,
   "metadata": {
    "collapsed": false
   },
   "outputs": [],
   "source": [
    "X = X_updated.loc[:, X_updated.columns != 'rel']\n",
    "y = X_updated['rel']"
   ]
  },
  {
   "cell_type": "code",
   "execution_count": 153,
   "metadata": {
    "collapsed": true
   },
   "outputs": [],
   "source": [
    "from sklearn.linear_model import LogisticRegression\n",
    "from sklearn.linear_model import LogisticRegressionCV\n",
    "from sklearn.model_selection import KFold"
   ]
  },
  {
   "cell_type": "markdown",
   "metadata": {},
   "source": [
    "## Building the model"
   ]
  },
  {
   "cell_type": "markdown",
   "metadata": {},
   "source": [
    "### Method 1"
   ]
  },
  {
   "cell_type": "code",
   "execution_count": 381,
   "metadata": {
    "collapsed": false
   },
   "outputs": [
    {
     "name": "stdout",
     "output_type": "stream",
     "text": [
      "[ 0.69649908  0.69702553  0.69623585  0.69755199  0.69781521  0.69702553\n",
      "  0.69676231  0.69649908  0.69720906  0.69694576]\n"
     ]
    }
   ],
   "source": [
    "from sklearn import metrics, cross_validation\n",
    "from sklearn.cross_validation import cross_val_score\n",
    "\n",
    "# predicted = cross_validation.cross_val_predict(LogisticRegression(), X, y, cv=10)\n",
    "scores = cross_val_score(LogisticRegression(), X, y, scoring='accuracy', cv=10)\n",
    "print(scores)"
   ]
  },
  {
   "cell_type": "code",
   "execution_count": 388,
   "metadata": {
    "collapsed": false
   },
   "outputs": [
    {
     "data": {
      "text/plain": [
       "0.69695694011103781"
      ]
     },
     "execution_count": 388,
     "metadata": {},
     "output_type": "execute_result"
    }
   ],
   "source": [
    "scores.mean()"
   ]
  },
  {
   "cell_type": "markdown",
   "metadata": {},
   "source": [
    "### Method 2"
   ]
  },
  {
   "cell_type": "code",
   "execution_count": 384,
   "metadata": {
    "collapsed": false
   },
   "outputs": [
    {
     "data": {
      "text/plain": [
       "LogisticRegression(C=1.0, class_weight=None, dual=False, fit_intercept=True,\n",
       "          intercept_scaling=1, max_iter=100, multi_class='ovr', n_jobs=1,\n",
       "          penalty='l2', random_state=None, solver='liblinear', tol=0.0001,\n",
       "          verbose=0, warm_start=False)"
      ]
     },
     "execution_count": 384,
     "metadata": {},
     "output_type": "execute_result"
    }
   ],
   "source": [
    "from sklearn.model_selection import train_test_split\n",
    "\n",
    "\n",
    "X_train, X_test, y_train, y_test = train_test_split(X, y, test_size=0.3, random_state=0)\n",
    "clf = LogisticRegression()\n",
    "clf.fit(X_train, y_train)"
   ]
  },
  {
   "cell_type": "code",
   "execution_count": 385,
   "metadata": {
    "collapsed": true
   },
   "outputs": [],
   "source": [
    "predicted = clf.predict(X_test)"
   ]
  },
  {
   "cell_type": "code",
   "execution_count": 387,
   "metadata": {
    "collapsed": false
   },
   "outputs": [
    {
     "name": "stdout",
     "output_type": "stream",
     "text": [
      "0.700096516627\n"
     ]
    }
   ],
   "source": [
    "print(metrics.accuracy_score(y_test, predicted))"
   ]
  },
  {
   "cell_type": "code",
   "execution_count": 389,
   "metadata": {
    "collapsed": false
   },
   "outputs": [
    {
     "name": "stdout",
     "output_type": "stream",
     "text": [
      "             precision    recall  f1-score   support\n",
      "\n",
      "          0       0.70      1.00      0.82      7978\n",
      "          1       0.53      0.00      0.00      3419\n",
      "\n",
      "avg / total       0.65      0.70      0.58     11397\n",
      "\n"
     ]
    }
   ],
   "source": [
    "print(metrics.classification_report(y_test, predicted))"
   ]
  },
  {
   "cell_type": "code",
   "execution_count": 394,
   "metadata": {
    "collapsed": false
   },
   "outputs": [
    {
     "data": {
      "text/plain": [
       "0    11382\n",
       "1       15\n",
       "dtype: int64"
      ]
     },
     "execution_count": 394,
     "metadata": {},
     "output_type": "execute_result"
    }
   ],
   "source": [
    "pd.Series(predicted).value_counts()"
   ]
  },
  {
   "cell_type": "markdown",
   "metadata": {
    "collapsed": true,
    "deletable": true,
    "editable": true
   },
   "source": [
    "### Task 4: Write a report [20 points; instant FAIL if not provided] ###\n",
    "\n",
    "The report should be a PDF file created using the [sigconf ACM template](https://www.acm.org/publications/proceedings-template) and will determine a significant part of your grade.\n",
    "\n",
    "   * It should explain what you have implemented, motivate your experiments and detail what you expect to learn from them. **[10 points]**\n",
    "   * Lastly, provide a convincing analysis of your results and conclude the report accordingly. **[10 points]**\n",
    "      * Do all methods perform similarly on all queries? Why?\n",
    "      * Is there a single retrieval model that outperforms all other retrieval models (i.e., silver bullet)?\n",
    "      * ...\n",
    "\n",
    "**Hand in the report and your self-contained implementation source files.** Only send us the files that matter, organized in a well-documented zip/tgz file with clear instructions on how to reproduce your results. That is, we want to be able to regenerate all your results with minimal effort. You can assume that the index and ground-truth information is present in the same file structure as the one we have provided.\n"
   ]
  },
  {
   "cell_type": "code",
   "execution_count": null,
   "metadata": {
    "collapsed": true,
    "deletable": true,
    "editable": true
   },
   "outputs": [],
   "source": []
  }
 ],
 "metadata": {
  "anaconda-cloud": {},
  "kernelspec": {
   "display_name": "Python [conda root]",
   "language": "python",
   "name": "conda-root-py"
  },
  "language_info": {
   "codemirror_mode": {
    "name": "ipython",
    "version": 3
   },
   "file_extension": ".py",
   "mimetype": "text/x-python",
   "name": "python",
   "nbconvert_exporter": "python",
   "pygments_lexer": "ipython3",
   "version": "3.5.4"
  }
 },
 "nbformat": 4,
 "nbformat_minor": 0
}
