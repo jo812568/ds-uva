{
 "cells": [
  {
   "cell_type": "code",
   "execution_count": 288,
   "metadata": {
    "collapsed": true
   },
   "outputs": [],
   "source": [
    "import numpy as np\n",
    "import pandas as pd\n",
    "\n",
    "import wikipedia\n",
    "%matplotlib inline"
   ]
  },
  {
   "cell_type": "code",
   "execution_count": 289,
   "metadata": {
    "collapsed": true
   },
   "outputs": [],
   "source": [
    "# https://dumps.wikimedia.org/other/pagecounts-raw/\n",
    "# dataset depreceted since 2016"
   ]
  },
  {
   "cell_type": "markdown",
   "metadata": {},
   "source": [
    "### Wikipedia API"
   ]
  },
  {
   "cell_type": "code",
   "execution_count": 292,
   "metadata": {
    "collapsed": false
   },
   "outputs": [
    {
     "data": {
      "text/plain": [
       "['Computer science',\n",
       " 'Computer graphics (computer science)',\n",
       " 'Bachelor of Computer Science',\n",
       " 'Integer (computer science)',\n",
       " 'Computer Science and Engineering',\n",
       " 'History of computer science',\n",
       " 'Outline of computer science',\n",
       " 'Recursion (computer science)',\n",
       " 'Ontology (information science)',\n",
       " 'AP Computer Science']"
      ]
     },
     "execution_count": 292,
     "metadata": {},
     "output_type": "execute_result"
    }
   ],
   "source": [
    "# top results for the search query on wikipedia\n",
    "wikipedia.search(\"Computer science\")"
   ]
  },
  {
   "cell_type": "code",
   "execution_count": 293,
   "metadata": {
    "collapsed": false
   },
   "outputs": [
    {
     "data": {
      "text/plain": [
       "['Machine learning',\n",
       " 'Active learning (machine learning)',\n",
       " 'Quantum machine learning',\n",
       " 'Outline of machine learning',\n",
       " 'Adversarial machine learning',\n",
       " 'Supervised learning',\n",
       " 'Deep learning',\n",
       " 'List of datasets for machine learning research',\n",
       " 'Online machine learning',\n",
       " 'Weka (machine learning)']"
      ]
     },
     "execution_count": 293,
     "metadata": {},
     "output_type": "execute_result"
    }
   ],
   "source": [
    "wikipedia.search(\"Machine Learning\")"
   ]
  },
  {
   "cell_type": "code",
   "execution_count": 294,
   "metadata": {
    "collapsed": false
   },
   "outputs": [],
   "source": [
    "ml = wikipedia.page(\"machine learning\")"
   ]
  },
  {
   "cell_type": "code",
   "execution_count": 295,
   "metadata": {
    "collapsed": false
   },
   "outputs": [
    {
     "data": {
      "text/plain": [
       "'Machine learning'"
      ]
     },
     "execution_count": 295,
     "metadata": {},
     "output_type": "execute_result"
    }
   ],
   "source": [
    "ml.title"
   ]
  },
  {
   "cell_type": "code",
   "execution_count": 55,
   "metadata": {
    "collapsed": false
   },
   "outputs": [
    {
     "data": {
      "text/plain": [
       "'https://en.wikipedia.org/wiki/Machine_learning'"
      ]
     },
     "execution_count": 55,
     "metadata": {},
     "output_type": "execute_result"
    }
   ],
   "source": [
    "ml.url"
   ]
  },
  {
   "cell_type": "code",
   "execution_count": 287,
   "metadata": {
    "collapsed": false
   },
   "outputs": [
    {
     "data": {
      "text/plain": [
       "'Machine learning is a field of computer science that gives computer systems the ability to \"learn\" ('"
      ]
     },
     "execution_count": 287,
     "metadata": {},
     "output_type": "execute_result"
    }
   ],
   "source": [
    "# extrac the content of the wikipedia page\n",
    "ml.content[0:100]"
   ]
  },
  {
   "cell_type": "markdown",
   "metadata": {},
   "source": [
    "### Pageviewapi"
   ]
  },
  {
   "cell_type": "code",
   "execution_count": 296,
   "metadata": {
    "collapsed": false
   },
   "outputs": [],
   "source": [
    "# https://pypi.python.org/pypi/pageviewapi/0.4.0\n",
    "# Wikimedia Pageview API client\n",
    "import pageviewapi"
   ]
  },
  {
   "cell_type": "code",
   "execution_count": 299,
   "metadata": {
    "collapsed": true
   },
   "outputs": [],
   "source": [
    "# enter a keyword to search for in the wikipedia\n",
    "query = \"deep feature synthesis\""
   ]
  },
  {
   "cell_type": "code",
   "execution_count": 300,
   "metadata": {
    "collapsed": false
   },
   "outputs": [
    {
     "data": {
      "text/plain": [
       "'https://wikimedia.org/api/rest_v1/metrics/pageviews/per-article/en.wikipedia/all-access/all-agents/Feature engineering/monthly/2017010100/2018010100'"
      ]
     },
     "execution_count": 300,
     "metadata": {},
     "output_type": "execute_result"
    }
   ],
   "source": [
    "# get the first search result page on wikipedia\n",
    "article = wikipedia.search(query)[0]\n",
    "\n",
    "# aggreate by month\n",
    "granularity = 'monthly'\n",
    "\n",
    "\n",
    "from_year = '2017'\n",
    "from_month = '01'\n",
    "from_day = '01'\n",
    "from_date = from_year + from_month + from_day + '00'\n",
    "\n",
    "\n",
    "to_year = '2018'\n",
    "to_month = '01'\n",
    "to_day = '01'\n",
    "to_date = to_year + to_month + to_day + '00'\n",
    "\n",
    "\n",
    "api_call = 'https://wikimedia.org/api/rest_v1/metrics/pageviews/per-article/en.wikipedia/all-access/all-agents/' + str(article) + '/' + granularity + '/' + from_date + '/' + to_date\n",
    "api_call"
   ]
  },
  {
   "cell_type": "code",
   "execution_count": 301,
   "metadata": {
    "collapsed": false
   },
   "outputs": [],
   "source": [
    "page_views = pd.read_json(api_call)"
   ]
  },
  {
   "cell_type": "code",
   "execution_count": 302,
   "metadata": {
    "collapsed": false
   },
   "outputs": [
    {
     "data": {
      "text/plain": [
       "0     {'timestamp': '2017010100', 'project': 'en.wik...\n",
       "1     {'timestamp': '2017020100', 'project': 'en.wik...\n",
       "2     {'timestamp': '2017030100', 'project': 'en.wik...\n",
       "3     {'timestamp': '2017040100', 'project': 'en.wik...\n",
       "4     {'timestamp': '2017050100', 'project': 'en.wik...\n",
       "5     {'timestamp': '2017060100', 'project': 'en.wik...\n",
       "6     {'timestamp': '2017070100', 'project': 'en.wik...\n",
       "7     {'timestamp': '2017080100', 'project': 'en.wik...\n",
       "8     {'timestamp': '2017090100', 'project': 'en.wik...\n",
       "9     {'timestamp': '2017100100', 'project': 'en.wik...\n",
       "10    {'timestamp': '2017110100', 'project': 'en.wik...\n",
       "11    {'timestamp': '2017120100', 'project': 'en.wik...\n",
       "Name: items, dtype: object"
      ]
     },
     "execution_count": 302,
     "metadata": {},
     "output_type": "execute_result"
    }
   ],
   "source": [
    "page_views['items']"
   ]
  },
  {
   "cell_type": "code",
   "execution_count": 303,
   "metadata": {
    "collapsed": false
   },
   "outputs": [
    {
     "data": {
      "text/plain": [
       "{'access': 'all-access',\n",
       " 'agent': 'all-agents',\n",
       " 'article': 'Feature_engineering',\n",
       " 'granularity': 'monthly',\n",
       " 'project': 'en.wikipedia',\n",
       " 'timestamp': '2017010100',\n",
       " 'views': 5233}"
      ]
     },
     "execution_count": 303,
     "metadata": {},
     "output_type": "execute_result"
    }
   ],
   "source": [
    "page_views['items'][0]"
   ]
  },
  {
   "cell_type": "code",
   "execution_count": 304,
   "metadata": {
    "collapsed": false
   },
   "outputs": [],
   "source": [
    "monthly_views = pd.DataFrame()\n",
    "monthly_views['months'] = pd.Series([month['timestamp'] for month in page_views['items']])\n",
    "monthly_views['views'] = pd.Series([month['views'] for month in page_views['items']])"
   ]
  },
  {
   "cell_type": "code",
   "execution_count": 305,
   "metadata": {
    "collapsed": false
   },
   "outputs": [
    {
     "data": {
      "text/html": [
       "<div>\n",
       "<style scoped>\n",
       "    .dataframe tbody tr th:only-of-type {\n",
       "        vertical-align: middle;\n",
       "    }\n",
       "\n",
       "    .dataframe tbody tr th {\n",
       "        vertical-align: top;\n",
       "    }\n",
       "\n",
       "    .dataframe thead th {\n",
       "        text-align: right;\n",
       "    }\n",
       "</style>\n",
       "<table border=\"1\" class=\"dataframe\">\n",
       "  <thead>\n",
       "    <tr style=\"text-align: right;\">\n",
       "      <th></th>\n",
       "      <th>views</th>\n",
       "    </tr>\n",
       "    <tr>\n",
       "      <th>months</th>\n",
       "      <th></th>\n",
       "    </tr>\n",
       "  </thead>\n",
       "  <tbody>\n",
       "    <tr>\n",
       "      <th>2017010100</th>\n",
       "      <td>5233</td>\n",
       "    </tr>\n",
       "    <tr>\n",
       "      <th>2017020100</th>\n",
       "      <td>5068</td>\n",
       "    </tr>\n",
       "    <tr>\n",
       "      <th>2017030100</th>\n",
       "      <td>5669</td>\n",
       "    </tr>\n",
       "    <tr>\n",
       "      <th>2017040100</th>\n",
       "      <td>5597</td>\n",
       "    </tr>\n",
       "    <tr>\n",
       "      <th>2017050100</th>\n",
       "      <td>5914</td>\n",
       "    </tr>\n",
       "    <tr>\n",
       "      <th>2017060100</th>\n",
       "      <td>6040</td>\n",
       "    </tr>\n",
       "    <tr>\n",
       "      <th>2017070100</th>\n",
       "      <td>5830</td>\n",
       "    </tr>\n",
       "    <tr>\n",
       "      <th>2017080100</th>\n",
       "      <td>6098</td>\n",
       "    </tr>\n",
       "    <tr>\n",
       "      <th>2017090100</th>\n",
       "      <td>6340</td>\n",
       "    </tr>\n",
       "    <tr>\n",
       "      <th>2017100100</th>\n",
       "      <td>6654</td>\n",
       "    </tr>\n",
       "    <tr>\n",
       "      <th>2017110100</th>\n",
       "      <td>7143</td>\n",
       "    </tr>\n",
       "    <tr>\n",
       "      <th>2017120100</th>\n",
       "      <td>6445</td>\n",
       "    </tr>\n",
       "  </tbody>\n",
       "</table>\n",
       "</div>"
      ],
      "text/plain": [
       "            views\n",
       "months           \n",
       "2017010100   5233\n",
       "2017020100   5068\n",
       "2017030100   5669\n",
       "2017040100   5597\n",
       "2017050100   5914\n",
       "2017060100   6040\n",
       "2017070100   5830\n",
       "2017080100   6098\n",
       "2017090100   6340\n",
       "2017100100   6654\n",
       "2017110100   7143\n",
       "2017120100   6445"
      ]
     },
     "execution_count": 305,
     "metadata": {},
     "output_type": "execute_result"
    }
   ],
   "source": [
    "monthly_views = monthly_views.set_index('months')\n",
    "monthly_views"
   ]
  },
  {
   "cell_type": "code",
   "execution_count": 314,
   "metadata": {
    "collapsed": false,
    "scrolled": true
   },
   "outputs": [
    {
     "data": {
      "image/png": "[encoded data removed]",
      "text/plain": [
       "<matplotlib.figure.Figure at 0x7f5bde5de160>"
      ]
     },
     "metadata": {},
     "output_type": "display_data"
    }
   ],
   "source": [
    "plot = monthly_views.plot(kind='line', ylim=(0,max(monthly_views['views']*1.5)), figsize=(10,6), title=\"Search views per month for the wikipage:\" + page_views['items'][0]['article']);\n",
    "plot;"
   ]
  },
  {
   "cell_type": "code",
   "execution_count": null,
   "metadata": {
    "collapsed": true
   },
   "outputs": [],
   "source": []
  },
  {
   "cell_type": "code",
   "execution_count": null,
   "metadata": {
    "collapsed": true
   },
   "outputs": [],
   "source": []
  }
 ],
 "metadata": {
  "anaconda-cloud": {},
  "kernelspec": {
   "display_name": "Python [conda root]",
   "language": "python",
   "name": "conda-root-py"
  },
  "language_info": {
   "codemirror_mode": {
    "name": "ipython",
    "version": 3
   },
   "file_extension": ".py",
   "mimetype": "text/x-python",
   "name": "python",
   "nbconvert_exporter": "python",
   "pygments_lexer": "ipython3",
   "version": "3.5.4"
  }
 },
 "nbformat": 4,
 "nbformat_minor": 1
}
